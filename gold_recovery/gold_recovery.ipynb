{
 "cells": [
  {
   "cell_type": "markdown",
   "metadata": {
    "toc": true
   },
   "source": [
    "<h1>Содержание<span class=\"tocSkip\"></span></h1>\n",
    "<div class=\"toc\"><ul class=\"toc-item\"><li><span><a href=\"#Подготовка-данных\" data-toc-modified-id=\"Подготовка-данных-1\"><span class=\"toc-item-num\">1&nbsp;&nbsp;</span>Подготовка данных</a></span><ul class=\"toc-item\"><li><span><a href=\"#Расчет-MAE\" data-toc-modified-id=\"Расчет-MAE-1.1\"><span class=\"toc-item-num\">1.1&nbsp;&nbsp;</span>Расчет MAE</a></span></li><li><span><a href=\"#Смена-Dtype\" data-toc-modified-id=\"Смена-Dtype-1.2\"><span class=\"toc-item-num\">1.2&nbsp;&nbsp;</span>Смена Dtype</a></span></li><li><span><a href=\"#Анализ-и-удаление-пропусков\" data-toc-modified-id=\"Анализ-и-удаление-пропусков-1.3\"><span class=\"toc-item-num\">1.3&nbsp;&nbsp;</span>Анализ и удаление пропусков</a></span></li><li><span><a href=\"#Добавление-целевых-признаков\" data-toc-modified-id=\"Добавление-целевых-признаков-1.4\"><span class=\"toc-item-num\">1.4&nbsp;&nbsp;</span>Добавление целевых признаков</a></span></li><li><span><a href=\"#Вывод-этапа\" data-toc-modified-id=\"Вывод-этапа-1.5\"><span class=\"toc-item-num\">1.5&nbsp;&nbsp;</span>Вывод этапа</a></span></li></ul></li><li><span><a href=\"#Анализ-данных\" data-toc-modified-id=\"Анализ-данных-2\"><span class=\"toc-item-num\">2&nbsp;&nbsp;</span>Анализ данных</a></span><ul class=\"toc-item\"><li><span><a href=\"#Концентрация-металлов-на-степенях-отчистки\" data-toc-modified-id=\"Концентрация-металлов-на-степенях-отчистки-2.1\"><span class=\"toc-item-num\">2.1&nbsp;&nbsp;</span>Концентрация металлов на степенях отчистки</a></span></li><li><span><a href=\"#Подсчитаем-суммарную-концентрацию-веществ-на-разных-стадиях-отчистки\" data-toc-modified-id=\"Подсчитаем-суммарную-концентрацию-веществ-на-разных-стадиях-отчистки-2.2\"><span class=\"toc-item-num\">2.2&nbsp;&nbsp;</span>Подсчитаем суммарную концентрацию веществ на разных стадиях отчистки</a></span><ul class=\"toc-item\"><li><span><a href=\"#Cуммарная-концентрация-всех-веществ\" data-toc-modified-id=\"Cуммарная-концентрация-всех-веществ-2.2.1\"><span class=\"toc-item-num\">2.2.1&nbsp;&nbsp;</span>Cуммарная концентрация всех веществ</a></span></li></ul></li><li><span><a href=\"#Удаление-выбросов\" data-toc-modified-id=\"Удаление-выбросов-2.3\"><span class=\"toc-item-num\">2.3&nbsp;&nbsp;</span>Удаление выбросов</a></span></li><li><span><a href=\"#Очистка-тренировочной,-тестовой-выборки-от-околонулевых-выбросов,-добавление-целевых-параметров\" data-toc-modified-id=\"Очистка-тренировочной,-тестовой-выборки-от-околонулевых-выбросов,-добавление-целевых-параметров-2.4\"><span class=\"toc-item-num\">2.4&nbsp;&nbsp;</span>Очистка тренировочной, тестовой выборки от околонулевых выбросов, добавление целевых параметров</a></span></li></ul></li><li><span><a href=\"#Модель\" data-toc-modified-id=\"Модель-3\"><span class=\"toc-item-num\">3&nbsp;&nbsp;</span>Модель</a></span><ul class=\"toc-item\"><li><span><a href=\"#Features-&amp;-target\" data-toc-modified-id=\"Features-&amp;-target-3.1\"><span class=\"toc-item-num\">3.1&nbsp;&nbsp;</span>Features &amp; target</a></span></li><li><span><a href=\"#Smape\" data-toc-modified-id=\"Smape-3.2\"><span class=\"toc-item-num\">3.2&nbsp;&nbsp;</span>Smape</a></span></li><li><span><a href=\"#LinearRegression\" data-toc-modified-id=\"LinearRegression-3.3\"><span class=\"toc-item-num\">3.3&nbsp;&nbsp;</span>LinearRegression</a></span></li><li><span><a href=\"#DecisionTreeRegressor\" data-toc-modified-id=\"DecisionTreeRegressor-3.4\"><span class=\"toc-item-num\">3.4&nbsp;&nbsp;</span>DecisionTreeRegressor</a></span></li><li><span><a href=\"#RandomForestRegresso\" data-toc-modified-id=\"RandomForestRegresso-3.5\"><span class=\"toc-item-num\">3.5&nbsp;&nbsp;</span>RandomForestRegresso</a></span></li><li><span><a href=\"#Проверка-лучшей-модели-на-тестовой-сборке\" data-toc-modified-id=\"Проверка-лучшей-модели-на-тестовой-сборке-3.6\"><span class=\"toc-item-num\">3.6&nbsp;&nbsp;</span>Проверка лучшей модели на тестовой сборке</a></span></li><li><span><a href=\"#Dummy-model\" data-toc-modified-id=\"Dummy-model-3.7\"><span class=\"toc-item-num\">3.7&nbsp;&nbsp;</span>Dummy model</a></span></li></ul></li><li><span><a href=\"#Чек-лист-готовности-проекта\" data-toc-modified-id=\"Чек-лист-готовности-проекта-4\"><span class=\"toc-item-num\">4&nbsp;&nbsp;</span>Чек-лист готовности проекта</a></span></li></ul></div>"
   ]
  },
  {
   "cell_type": "markdown",
   "metadata": {},
   "source": [
    "# Восстановление золота из руды"
   ]
  },
  {
   "cell_type": "markdown",
   "metadata": {},
   "source": [
    "Подготовьте прототип модели машинного обучения для «Цифры». Компания разрабатывает решения для эффективной работы промышленных предприятий.\n",
    "\n",
    "Модель должна предсказать коэффициент восстановления золота из золотосодержащей руды. Используйте данные с параметрами добычи и очистки. \n",
    "\n",
    "Модель поможет оптимизировать производство, чтобы не запускать предприятие с убыточными характеристиками.\n",
    "\n",
    "Вам нужно:\n",
    "\n",
    "1. Подготовить данные;\n",
    "2. Провести исследовательский анализ данных;\n",
    "3. Построить и обучить модель.\n",
    "\n",
    "Чтобы выполнить проект, обращайтесь к библиотекам *pandas*, *matplotlib* и *sklearn.* Вам поможет их документация."
   ]
  },
  {
   "cell_type": "markdown",
   "metadata": {},
   "source": [
    "## Подготовка данных"
   ]
  },
  {
   "cell_type": "code",
   "execution_count": 2,
   "metadata": {},
   "outputs": [],
   "source": [
    "import pandas as pd \n",
    "import numpy as np\n",
    "import seaborn as sns\n",
    "from sklearn.linear_model import LinearRegression\n",
    "from sklearn.model_selection import train_test_split\n",
    "from sklearn.metrics import mean_squared_error\n",
    "from numpy.random import RandomState\n",
    "import matplotlib.pyplot as plt\n",
    "from scipy.stats import skewnorm\n",
    "from sklearn.metrics import mean_absolute_error\n",
    "from sklearn.linear_model import LogisticRegression\n",
    "from sklearn.ensemble import RandomForestRegressor\n",
    "from sklearn.model_selection import GridSearchCV\n",
    "from sklearn.tree import DecisionTreeRegressor\n",
    "from sklearn.preprocessing import StandardScaler\n",
    "import warnings\n",
    "warnings.filterwarnings('ignore')\n",
    "from tqdm.notebook import tqdm\n",
    "from sklearn.metrics import fbeta_score, make_scorer\n",
    "from sklearn.model_selection import cross_val_score\n",
    "from sklearn.dummy import DummyRegressor\n",
    "from sklearn.model_selection import cross_val_score"
   ]
  },
  {
   "cell_type": "code",
   "execution_count": 3,
   "metadata": {},
   "outputs": [],
   "source": [
    "data_train = pd.read_csv('/datasets/gold_recovery_train_new.csv')\n",
    "data_test = pd.read_csv('/datasets/gold_recovery_test_new.csv')\n",
    "data_full = pd.read_csv('/datasets/gold_recovery_full_new.csv')"
   ]
  },
  {
   "cell_type": "code",
   "execution_count": 4,
   "metadata": {},
   "outputs": [
    {
     "data": {
      "text/plain": [
       "Index(['date', 'primary_cleaner.input.sulfate',\n",
       "       'primary_cleaner.input.depressant', 'primary_cleaner.input.feed_size',\n",
       "       'primary_cleaner.input.xanthate',\n",
       "       'primary_cleaner.state.floatbank8_a_air',\n",
       "       'primary_cleaner.state.floatbank8_a_level',\n",
       "       'primary_cleaner.state.floatbank8_b_air',\n",
       "       'primary_cleaner.state.floatbank8_b_level',\n",
       "       'primary_cleaner.state.floatbank8_c_air',\n",
       "       'primary_cleaner.state.floatbank8_c_level',\n",
       "       'primary_cleaner.state.floatbank8_d_air',\n",
       "       'primary_cleaner.state.floatbank8_d_level', 'rougher.input.feed_ag',\n",
       "       'rougher.input.feed_pb', 'rougher.input.feed_rate',\n",
       "       'rougher.input.feed_size', 'rougher.input.feed_sol',\n",
       "       'rougher.input.feed_au', 'rougher.input.floatbank10_sulfate',\n",
       "       'rougher.input.floatbank10_xanthate',\n",
       "       'rougher.input.floatbank11_sulfate',\n",
       "       'rougher.input.floatbank11_xanthate', 'rougher.state.floatbank10_a_air',\n",
       "       'rougher.state.floatbank10_a_level', 'rougher.state.floatbank10_b_air',\n",
       "       'rougher.state.floatbank10_b_level', 'rougher.state.floatbank10_c_air',\n",
       "       'rougher.state.floatbank10_c_level', 'rougher.state.floatbank10_d_air',\n",
       "       'rougher.state.floatbank10_d_level', 'rougher.state.floatbank10_e_air',\n",
       "       'rougher.state.floatbank10_e_level', 'rougher.state.floatbank10_f_air',\n",
       "       'rougher.state.floatbank10_f_level',\n",
       "       'secondary_cleaner.state.floatbank2_a_air',\n",
       "       'secondary_cleaner.state.floatbank2_a_level',\n",
       "       'secondary_cleaner.state.floatbank2_b_air',\n",
       "       'secondary_cleaner.state.floatbank2_b_level',\n",
       "       'secondary_cleaner.state.floatbank3_a_air',\n",
       "       'secondary_cleaner.state.floatbank3_a_level',\n",
       "       'secondary_cleaner.state.floatbank3_b_air',\n",
       "       'secondary_cleaner.state.floatbank3_b_level',\n",
       "       'secondary_cleaner.state.floatbank4_a_air',\n",
       "       'secondary_cleaner.state.floatbank4_a_level',\n",
       "       'secondary_cleaner.state.floatbank4_b_air',\n",
       "       'secondary_cleaner.state.floatbank4_b_level',\n",
       "       'secondary_cleaner.state.floatbank5_a_air',\n",
       "       'secondary_cleaner.state.floatbank5_a_level',\n",
       "       'secondary_cleaner.state.floatbank5_b_air',\n",
       "       'secondary_cleaner.state.floatbank5_b_level',\n",
       "       'secondary_cleaner.state.floatbank6_a_air',\n",
       "       'secondary_cleaner.state.floatbank6_a_level'],\n",
       "      dtype='object')"
      ]
     },
     "execution_count": 4,
     "metadata": {},
     "output_type": "execute_result"
    }
   ],
   "source": [
    "data_test.columns"
   ]
  },
  {
   "cell_type": "markdown",
   "metadata": {},
   "source": [
    "### Расчет MAE"
   ]
  },
  {
   "cell_type": "code",
   "execution_count": 5,
   "metadata": {},
   "outputs": [],
   "source": [
    "data_train_drop = data_train.dropna(subset = ['rougher.output.concentrate_au', 'rougher.input.feed_au', 'rougher.output.tail_au', 'rougher.output.recovery'], inplace = False)\n"
   ]
  },
  {
   "cell_type": "code",
   "execution_count": 6,
   "metadata": {},
   "outputs": [],
   "source": [
    "C = data_train_drop['rougher.output.concentrate_au']\n",
    "F = data_train_drop['rougher.input.feed_au']\n",
    "T = data_train_drop['rougher.output.tail_au']"
   ]
  },
  {
   "cell_type": "code",
   "execution_count": 7,
   "metadata": {},
   "outputs": [],
   "source": [
    "data_train_drop['rougher.output.recovery_check'] = ((C * (F - T)) / (F * (C - T))) * 100     "
   ]
  },
  {
   "cell_type": "code",
   "execution_count": 8,
   "metadata": {
    "scrolled": true
   },
   "outputs": [
    {
     "name": "stdout",
     "output_type": "stream",
     "text": [
      "MAE_recovery: 0.000\n"
     ]
    }
   ],
   "source": [
    "MAE_recovery = mean_absolute_error(data_train_drop['rougher.output.recovery'], data_train_drop['rougher.output.recovery_check'])\n",
    "print('MAE_recovery: %.3f' % (MAE_recovery))"
   ]
  },
  {
   "cell_type": "code",
   "execution_count": 9,
   "metadata": {},
   "outputs": [
    {
     "data": {
      "text/plain": [
       "9.73512347450521e-15"
      ]
     },
     "execution_count": 9,
     "metadata": {},
     "output_type": "execute_result"
    }
   ],
   "source": [
    "# КОД РЕВЬЮЕРА\n",
    "MAE_recovery"
   ]
  },
  {
   "cell_type": "code",
   "execution_count": 11,
   "metadata": {
    "scrolled": true
   },
   "outputs": [
    {
     "data": {
      "text/plain": [
       "0                           final.output.concentrate_ag\n",
       "1                           final.output.concentrate_pb\n",
       "2                          final.output.concentrate_sol\n",
       "3                           final.output.concentrate_au\n",
       "4                                 final.output.recovery\n",
       "5                                  final.output.tail_ag\n",
       "6                                  final.output.tail_pb\n",
       "7                                 final.output.tail_sol\n",
       "8                                  final.output.tail_au\n",
       "9                 primary_cleaner.output.concentrate_ag\n",
       "10                primary_cleaner.output.concentrate_pb\n",
       "11               primary_cleaner.output.concentrate_sol\n",
       "12                primary_cleaner.output.concentrate_au\n",
       "13                       primary_cleaner.output.tail_ag\n",
       "14                       primary_cleaner.output.tail_pb\n",
       "15                      primary_cleaner.output.tail_sol\n",
       "16                       primary_cleaner.output.tail_au\n",
       "17        rougher.calculation.sulfate_to_au_concentrate\n",
       "18    rougher.calculation.floatbank10_sulfate_to_au_...\n",
       "19    rougher.calculation.floatbank11_sulfate_to_au_...\n",
       "20                      rougher.calculation.au_pb_ratio\n",
       "21                        rougher.output.concentrate_ag\n",
       "22                        rougher.output.concentrate_pb\n",
       "23                       rougher.output.concentrate_sol\n",
       "24                        rougher.output.concentrate_au\n",
       "25                              rougher.output.recovery\n",
       "26                               rougher.output.tail_ag\n",
       "27                               rougher.output.tail_pb\n",
       "28                              rougher.output.tail_sol\n",
       "29                               rougher.output.tail_au\n",
       "30                     secondary_cleaner.output.tail_ag\n",
       "31                     secondary_cleaner.output.tail_pb\n",
       "32                    secondary_cleaner.output.tail_sol\n",
       "33                     secondary_cleaner.output.tail_au\n",
       "dtype: object"
      ]
     },
     "execution_count": 11,
     "metadata": {},
     "output_type": "execute_result"
    }
   ],
   "source": [
    "# Создаем два списка данных\n",
    "list1 = data_train.columns.tolist() \n",
    "list2 = data_test.columns.tolist()\n",
    "\n",
    "# Находим элементы, присутствующие только в первом списке\n",
    "only_in_list1 = [item for item in list1 if item not in list2]\n",
    "\n",
    "pd.Series(only_in_list1)"
   ]
  },
  {
   "cell_type": "markdown",
   "metadata": {},
   "source": [
    "Это показатели, которые содержат хвосты после очистки, часть других показателей рассчитывается из базовых.\n",
    "Так же полностью отсутствуют целевые признаки.\n",
    "Все эти показатели не используются при работе модели => можно удалить\n"
   ]
  },
  {
   "cell_type": "code",
   "execution_count": 12,
   "metadata": {
    "scrolled": true
   },
   "outputs": [
    {
     "name": "stdout",
     "output_type": "stream",
     "text": [
      "<class 'pandas.core.frame.DataFrame'>\n",
      "RangeIndex: 14149 entries, 0 to 14148\n",
      "Data columns (total 87 columns):\n",
      " #   Column                                              Non-Null Count  Dtype  \n",
      "---  ------                                              --------------  -----  \n",
      " 0   date                                                14149 non-null  object \n",
      " 1   final.output.concentrate_ag                         14148 non-null  float64\n",
      " 2   final.output.concentrate_pb                         14148 non-null  float64\n",
      " 3   final.output.concentrate_sol                        13938 non-null  float64\n",
      " 4   final.output.concentrate_au                         14149 non-null  float64\n",
      " 5   final.output.recovery                               14149 non-null  float64\n",
      " 6   final.output.tail_ag                                14149 non-null  float64\n",
      " 7   final.output.tail_pb                                14049 non-null  float64\n",
      " 8   final.output.tail_sol                               14144 non-null  float64\n",
      " 9   final.output.tail_au                                14149 non-null  float64\n",
      " 10  primary_cleaner.input.sulfate                       14129 non-null  float64\n",
      " 11  primary_cleaner.input.depressant                    14117 non-null  float64\n",
      " 12  primary_cleaner.input.feed_size                     14149 non-null  float64\n",
      " 13  primary_cleaner.input.xanthate                      14049 non-null  float64\n",
      " 14  primary_cleaner.output.concentrate_ag               14149 non-null  float64\n",
      " 15  primary_cleaner.output.concentrate_pb               14063 non-null  float64\n",
      " 16  primary_cleaner.output.concentrate_sol              13863 non-null  float64\n",
      " 17  primary_cleaner.output.concentrate_au               14149 non-null  float64\n",
      " 18  primary_cleaner.output.tail_ag                      14148 non-null  float64\n",
      " 19  primary_cleaner.output.tail_pb                      14134 non-null  float64\n",
      " 20  primary_cleaner.output.tail_sol                     14103 non-null  float64\n",
      " 21  primary_cleaner.output.tail_au                      14149 non-null  float64\n",
      " 22  primary_cleaner.state.floatbank8_a_air              14145 non-null  float64\n",
      " 23  primary_cleaner.state.floatbank8_a_level            14148 non-null  float64\n",
      " 24  primary_cleaner.state.floatbank8_b_air              14145 non-null  float64\n",
      " 25  primary_cleaner.state.floatbank8_b_level            14148 non-null  float64\n",
      " 26  primary_cleaner.state.floatbank8_c_air              14147 non-null  float64\n",
      " 27  primary_cleaner.state.floatbank8_c_level            14148 non-null  float64\n",
      " 28  primary_cleaner.state.floatbank8_d_air              14146 non-null  float64\n",
      " 29  primary_cleaner.state.floatbank8_d_level            14148 non-null  float64\n",
      " 30  rougher.calculation.sulfate_to_au_concentrate       14148 non-null  float64\n",
      " 31  rougher.calculation.floatbank10_sulfate_to_au_feed  14148 non-null  float64\n",
      " 32  rougher.calculation.floatbank11_sulfate_to_au_feed  14148 non-null  float64\n",
      " 33  rougher.calculation.au_pb_ratio                     14149 non-null  float64\n",
      " 34  rougher.input.feed_ag                               14149 non-null  float64\n",
      " 35  rougher.input.feed_pb                               14049 non-null  float64\n",
      " 36  rougher.input.feed_rate                             14141 non-null  float64\n",
      " 37  rougher.input.feed_size                             14005 non-null  float64\n",
      " 38  rougher.input.feed_sol                              14071 non-null  float64\n",
      " 39  rougher.input.feed_au                               14149 non-null  float64\n",
      " 40  rougher.input.floatbank10_sulfate                   14120 non-null  float64\n",
      " 41  rougher.input.floatbank10_xanthate                  14141 non-null  float64\n",
      " 42  rougher.input.floatbank11_sulfate                   14113 non-null  float64\n",
      " 43  rougher.input.floatbank11_xanthate                  13721 non-null  float64\n",
      " 44  rougher.output.concentrate_ag                       14149 non-null  float64\n",
      " 45  rougher.output.concentrate_pb                       14149 non-null  float64\n",
      " 46  rougher.output.concentrate_sol                      14127 non-null  float64\n",
      " 47  rougher.output.concentrate_au                       14149 non-null  float64\n",
      " 48  rougher.output.recovery                             14149 non-null  float64\n",
      " 49  rougher.output.tail_ag                              14148 non-null  float64\n",
      " 50  rougher.output.tail_pb                              14149 non-null  float64\n",
      " 51  rougher.output.tail_sol                             14149 non-null  float64\n",
      " 52  rougher.output.tail_au                              14149 non-null  float64\n",
      " 53  rougher.state.floatbank10_a_air                     14148 non-null  float64\n",
      " 54  rougher.state.floatbank10_a_level                   14148 non-null  float64\n",
      " 55  rougher.state.floatbank10_b_air                     14148 non-null  float64\n",
      " 56  rougher.state.floatbank10_b_level                   14148 non-null  float64\n",
      " 57  rougher.state.floatbank10_c_air                     14148 non-null  float64\n",
      " 58  rougher.state.floatbank10_c_level                   14148 non-null  float64\n",
      " 59  rougher.state.floatbank10_d_air                     14149 non-null  float64\n",
      " 60  rougher.state.floatbank10_d_level                   14149 non-null  float64\n",
      " 61  rougher.state.floatbank10_e_air                     13713 non-null  float64\n",
      " 62  rougher.state.floatbank10_e_level                   14149 non-null  float64\n",
      " 63  rougher.state.floatbank10_f_air                     14149 non-null  float64\n",
      " 64  rougher.state.floatbank10_f_level                   14149 non-null  float64\n",
      " 65  secondary_cleaner.output.tail_ag                    14147 non-null  float64\n",
      " 66  secondary_cleaner.output.tail_pb                    14139 non-null  float64\n",
      " 67  secondary_cleaner.output.tail_sol                   12544 non-null  float64\n",
      " 68  secondary_cleaner.output.tail_au                    14149 non-null  float64\n",
      " 69  secondary_cleaner.state.floatbank2_a_air            13932 non-null  float64\n",
      " 70  secondary_cleaner.state.floatbank2_a_level          14148 non-null  float64\n",
      " 71  secondary_cleaner.state.floatbank2_b_air            14128 non-null  float64\n",
      " 72  secondary_cleaner.state.floatbank2_b_level          14148 non-null  float64\n",
      " 73  secondary_cleaner.state.floatbank3_a_air            14145 non-null  float64\n",
      " 74  secondary_cleaner.state.floatbank3_a_level          14148 non-null  float64\n",
      " 75  secondary_cleaner.state.floatbank3_b_air            14148 non-null  float64\n",
      " 76  secondary_cleaner.state.floatbank3_b_level          14148 non-null  float64\n",
      " 77  secondary_cleaner.state.floatbank4_a_air            14143 non-null  float64\n",
      " 78  secondary_cleaner.state.floatbank4_a_level          14148 non-null  float64\n",
      " 79  secondary_cleaner.state.floatbank4_b_air            14148 non-null  float64\n",
      " 80  secondary_cleaner.state.floatbank4_b_level          14148 non-null  float64\n",
      " 81  secondary_cleaner.state.floatbank5_a_air            14148 non-null  float64\n",
      " 82  secondary_cleaner.state.floatbank5_a_level          14148 non-null  float64\n",
      " 83  secondary_cleaner.state.floatbank5_b_air            14148 non-null  float64\n",
      " 84  secondary_cleaner.state.floatbank5_b_level          14148 non-null  float64\n",
      " 85  secondary_cleaner.state.floatbank6_a_air            14147 non-null  float64\n",
      " 86  secondary_cleaner.state.floatbank6_a_level          14148 non-null  float64\n",
      "dtypes: float64(86), object(1)\n",
      "memory usage: 9.4+ MB\n",
      "<class 'pandas.core.frame.DataFrame'>\n",
      "RangeIndex: 5290 entries, 0 to 5289\n",
      "Data columns (total 53 columns):\n",
      " #   Column                                      Non-Null Count  Dtype  \n",
      "---  ------                                      --------------  -----  \n",
      " 0   date                                        5290 non-null   object \n",
      " 1   primary_cleaner.input.sulfate               5286 non-null   float64\n",
      " 2   primary_cleaner.input.depressant            5285 non-null   float64\n",
      " 3   primary_cleaner.input.feed_size             5290 non-null   float64\n",
      " 4   primary_cleaner.input.xanthate              5286 non-null   float64\n",
      " 5   primary_cleaner.state.floatbank8_a_air      5290 non-null   float64\n",
      " 6   primary_cleaner.state.floatbank8_a_level    5290 non-null   float64\n",
      " 7   primary_cleaner.state.floatbank8_b_air      5290 non-null   float64\n",
      " 8   primary_cleaner.state.floatbank8_b_level    5290 non-null   float64\n",
      " 9   primary_cleaner.state.floatbank8_c_air      5290 non-null   float64\n",
      " 10  primary_cleaner.state.floatbank8_c_level    5290 non-null   float64\n",
      " 11  primary_cleaner.state.floatbank8_d_air      5290 non-null   float64\n",
      " 12  primary_cleaner.state.floatbank8_d_level    5290 non-null   float64\n",
      " 13  rougher.input.feed_ag                       5290 non-null   float64\n",
      " 14  rougher.input.feed_pb                       5290 non-null   float64\n",
      " 15  rougher.input.feed_rate                     5287 non-null   float64\n",
      " 16  rougher.input.feed_size                     5289 non-null   float64\n",
      " 17  rougher.input.feed_sol                      5269 non-null   float64\n",
      " 18  rougher.input.feed_au                       5290 non-null   float64\n",
      " 19  rougher.input.floatbank10_sulfate           5285 non-null   float64\n",
      " 20  rougher.input.floatbank10_xanthate          5290 non-null   float64\n",
      " 21  rougher.input.floatbank11_sulfate           5282 non-null   float64\n",
      " 22  rougher.input.floatbank11_xanthate          5265 non-null   float64\n",
      " 23  rougher.state.floatbank10_a_air             5290 non-null   float64\n",
      " 24  rougher.state.floatbank10_a_level           5290 non-null   float64\n",
      " 25  rougher.state.floatbank10_b_air             5290 non-null   float64\n",
      " 26  rougher.state.floatbank10_b_level           5290 non-null   float64\n",
      " 27  rougher.state.floatbank10_c_air             5290 non-null   float64\n",
      " 28  rougher.state.floatbank10_c_level           5290 non-null   float64\n",
      " 29  rougher.state.floatbank10_d_air             5290 non-null   float64\n",
      " 30  rougher.state.floatbank10_d_level           5290 non-null   float64\n",
      " 31  rougher.state.floatbank10_e_air             5290 non-null   float64\n",
      " 32  rougher.state.floatbank10_e_level           5290 non-null   float64\n",
      " 33  rougher.state.floatbank10_f_air             5290 non-null   float64\n",
      " 34  rougher.state.floatbank10_f_level           5290 non-null   float64\n",
      " 35  secondary_cleaner.state.floatbank2_a_air    5287 non-null   float64\n",
      " 36  secondary_cleaner.state.floatbank2_a_level  5290 non-null   float64\n",
      " 37  secondary_cleaner.state.floatbank2_b_air    5288 non-null   float64\n",
      " 38  secondary_cleaner.state.floatbank2_b_level  5290 non-null   float64\n",
      " 39  secondary_cleaner.state.floatbank3_a_air    5281 non-null   float64\n",
      " 40  secondary_cleaner.state.floatbank3_a_level  5290 non-null   float64\n",
      " 41  secondary_cleaner.state.floatbank3_b_air    5290 non-null   float64\n",
      " 42  secondary_cleaner.state.floatbank3_b_level  5290 non-null   float64\n",
      " 43  secondary_cleaner.state.floatbank4_a_air    5290 non-null   float64\n",
      " 44  secondary_cleaner.state.floatbank4_a_level  5290 non-null   float64\n",
      " 45  secondary_cleaner.state.floatbank4_b_air    5290 non-null   float64\n",
      " 46  secondary_cleaner.state.floatbank4_b_level  5290 non-null   float64\n",
      " 47  secondary_cleaner.state.floatbank5_a_air    5290 non-null   float64\n",
      " 48  secondary_cleaner.state.floatbank5_a_level  5290 non-null   float64\n",
      " 49  secondary_cleaner.state.floatbank5_b_air    5290 non-null   float64\n",
      " 50  secondary_cleaner.state.floatbank5_b_level  5290 non-null   float64\n",
      " 51  secondary_cleaner.state.floatbank6_a_air    5290 non-null   float64\n",
      " 52  secondary_cleaner.state.floatbank6_a_level  5290 non-null   float64\n",
      "dtypes: float64(52), object(1)\n",
      "memory usage: 2.1+ MB\n",
      "<class 'pandas.core.frame.DataFrame'>\n",
      "RangeIndex: 19439 entries, 0 to 19438\n",
      "Data columns (total 87 columns):\n",
      " #   Column                                              Non-Null Count  Dtype  \n",
      "---  ------                                              --------------  -----  \n",
      " 0   date                                                19439 non-null  object \n",
      " 1   final.output.concentrate_ag                         19438 non-null  float64\n",
      " 2   final.output.concentrate_pb                         19438 non-null  float64\n",
      " 3   final.output.concentrate_sol                        19228 non-null  float64\n",
      " 4   final.output.concentrate_au                         19439 non-null  float64\n",
      " 5   final.output.recovery                               19439 non-null  float64\n",
      " 6   final.output.tail_ag                                19438 non-null  float64\n",
      " 7   final.output.tail_pb                                19338 non-null  float64\n",
      " 8   final.output.tail_sol                               19433 non-null  float64\n",
      " 9   final.output.tail_au                                19439 non-null  float64\n",
      " 10  primary_cleaner.input.sulfate                       19415 non-null  float64\n",
      " 11  primary_cleaner.input.depressant                    19402 non-null  float64\n",
      " 12  primary_cleaner.input.feed_size                     19439 non-null  float64\n",
      " 13  primary_cleaner.input.xanthate                      19335 non-null  float64\n",
      " 14  primary_cleaner.output.concentrate_ag               19439 non-null  float64\n",
      " 15  primary_cleaner.output.concentrate_pb               19323 non-null  float64\n",
      " 16  primary_cleaner.output.concentrate_sol              19069 non-null  float64\n",
      " 17  primary_cleaner.output.concentrate_au               19439 non-null  float64\n",
      " 18  primary_cleaner.output.tail_ag                      19435 non-null  float64\n",
      " 19  primary_cleaner.output.tail_pb                      19418 non-null  float64\n",
      " 20  primary_cleaner.output.tail_sol                     19377 non-null  float64\n",
      " 21  primary_cleaner.output.tail_au                      19439 non-null  float64\n",
      " 22  primary_cleaner.state.floatbank8_a_air              19435 non-null  float64\n",
      " 23  primary_cleaner.state.floatbank8_a_level            19438 non-null  float64\n",
      " 24  primary_cleaner.state.floatbank8_b_air              19435 non-null  float64\n",
      " 25  primary_cleaner.state.floatbank8_b_level            19438 non-null  float64\n",
      " 26  primary_cleaner.state.floatbank8_c_air              19437 non-null  float64\n",
      " 27  primary_cleaner.state.floatbank8_c_level            19438 non-null  float64\n",
      " 28  primary_cleaner.state.floatbank8_d_air              19436 non-null  float64\n",
      " 29  primary_cleaner.state.floatbank8_d_level            19438 non-null  float64\n",
      " 30  rougher.calculation.sulfate_to_au_concentrate       19437 non-null  float64\n",
      " 31  rougher.calculation.floatbank10_sulfate_to_au_feed  19437 non-null  float64\n",
      " 32  rougher.calculation.floatbank11_sulfate_to_au_feed  19437 non-null  float64\n",
      " 33  rougher.calculation.au_pb_ratio                     19439 non-null  float64\n",
      " 34  rougher.input.feed_ag                               19439 non-null  float64\n",
      " 35  rougher.input.feed_pb                               19339 non-null  float64\n",
      " 36  rougher.input.feed_rate                             19428 non-null  float64\n",
      " 37  rougher.input.feed_size                             19294 non-null  float64\n",
      " 38  rougher.input.feed_sol                              19340 non-null  float64\n",
      " 39  rougher.input.feed_au                               19439 non-null  float64\n",
      " 40  rougher.input.floatbank10_sulfate                   19405 non-null  float64\n",
      " 41  rougher.input.floatbank10_xanthate                  19431 non-null  float64\n",
      " 42  rougher.input.floatbank11_sulfate                   19395 non-null  float64\n",
      " 43  rougher.input.floatbank11_xanthate                  18986 non-null  float64\n",
      " 44  rougher.output.concentrate_ag                       19439 non-null  float64\n",
      " 45  rougher.output.concentrate_pb                       19439 non-null  float64\n",
      " 46  rougher.output.concentrate_sol                      19416 non-null  float64\n",
      " 47  rougher.output.concentrate_au                       19439 non-null  float64\n",
      " 48  rougher.output.recovery                             19439 non-null  float64\n",
      " 49  rougher.output.tail_ag                              19438 non-null  float64\n",
      " 50  rougher.output.tail_pb                              19439 non-null  float64\n",
      " 51  rougher.output.tail_sol                             19439 non-null  float64\n",
      " 52  rougher.output.tail_au                              19439 non-null  float64\n",
      " 53  rougher.state.floatbank10_a_air                     19438 non-null  float64\n",
      " 54  rougher.state.floatbank10_a_level                   19438 non-null  float64\n",
      " 55  rougher.state.floatbank10_b_air                     19438 non-null  float64\n",
      " 56  rougher.state.floatbank10_b_level                   19438 non-null  float64\n",
      " 57  rougher.state.floatbank10_c_air                     19438 non-null  float64\n",
      " 58  rougher.state.floatbank10_c_level                   19438 non-null  float64\n",
      " 59  rougher.state.floatbank10_d_air                     19439 non-null  float64\n",
      " 60  rougher.state.floatbank10_d_level                   19439 non-null  float64\n",
      " 61  rougher.state.floatbank10_e_air                     19003 non-null  float64\n",
      " 62  rougher.state.floatbank10_e_level                   19439 non-null  float64\n",
      " 63  rougher.state.floatbank10_f_air                     19439 non-null  float64\n",
      " 64  rougher.state.floatbank10_f_level                   19439 non-null  float64\n",
      " 65  secondary_cleaner.output.tail_ag                    19437 non-null  float64\n",
      " 66  secondary_cleaner.output.tail_pb                    19427 non-null  float64\n",
      " 67  secondary_cleaner.output.tail_sol                   17691 non-null  float64\n",
      " 68  secondary_cleaner.output.tail_au                    19439 non-null  float64\n",
      " 69  secondary_cleaner.state.floatbank2_a_air            19219 non-null  float64\n",
      " 70  secondary_cleaner.state.floatbank2_a_level          19438 non-null  float64\n",
      " 71  secondary_cleaner.state.floatbank2_b_air            19416 non-null  float64\n",
      " 72  secondary_cleaner.state.floatbank2_b_level          19438 non-null  float64\n",
      " 73  secondary_cleaner.state.floatbank3_a_air            19426 non-null  float64\n",
      " 74  secondary_cleaner.state.floatbank3_a_level          19438 non-null  float64\n",
      " 75  secondary_cleaner.state.floatbank3_b_air            19438 non-null  float64\n",
      " 76  secondary_cleaner.state.floatbank3_b_level          19438 non-null  float64\n",
      " 77  secondary_cleaner.state.floatbank4_a_air            19433 non-null  float64\n",
      " 78  secondary_cleaner.state.floatbank4_a_level          19438 non-null  float64\n",
      " 79  secondary_cleaner.state.floatbank4_b_air            19438 non-null  float64\n",
      " 80  secondary_cleaner.state.floatbank4_b_level          19438 non-null  float64\n",
      " 81  secondary_cleaner.state.floatbank5_a_air            19438 non-null  float64\n",
      " 82  secondary_cleaner.state.floatbank5_a_level          19438 non-null  float64\n",
      " 83  secondary_cleaner.state.floatbank5_b_air            19438 non-null  float64\n",
      " 84  secondary_cleaner.state.floatbank5_b_level          19438 non-null  float64\n",
      " 85  secondary_cleaner.state.floatbank6_a_air            19437 non-null  float64\n",
      " 86  secondary_cleaner.state.floatbank6_a_level          19438 non-null  float64\n",
      "dtypes: float64(86), object(1)\n",
      "memory usage: 12.9+ MB\n"
     ]
    }
   ],
   "source": [
    "data_train.info()\n",
    "data_test.info()\n",
    "data_full.info()"
   ]
  },
  {
   "cell_type": "markdown",
   "metadata": {},
   "source": [
    "### Смена Dtype"
   ]
  },
  {
   "cell_type": "markdown",
   "metadata": {},
   "source": [
    "Все столбцы кроме Date числовые, имеется небольшое количество нулевых значений.\n",
    "Необходимо поменять тип Date и решить, что делать с нулевыми значениями"
   ]
  },
  {
   "cell_type": "code",
   "execution_count": 13,
   "metadata": {},
   "outputs": [],
   "source": [
    "data_train['date'] = pd.to_datetime(data_train['date'], format='%Y-%m-%dT%H:%M:%S')"
   ]
  },
  {
   "cell_type": "code",
   "execution_count": 14,
   "metadata": {},
   "outputs": [],
   "source": [
    "data_test['date'] = pd.to_datetime(data_test['date'], format='%Y-%m-%dT%H:%M:%S')"
   ]
  },
  {
   "cell_type": "code",
   "execution_count": 15,
   "metadata": {},
   "outputs": [],
   "source": [
    "data_full['date'] = pd.to_datetime(data_full['date'], format='%Y-%m-%dT%H:%M:%S')"
   ]
  },
  {
   "cell_type": "markdown",
   "metadata": {},
   "source": [
    "###  Анализ и удаление пропусков"
   ]
  },
  {
   "cell_type": "code",
   "execution_count": 16,
   "metadata": {
    "scrolled": false
   },
   "outputs": [
    {
     "data": {
      "text/plain": [
       "count    87.000000\n",
       "mean      0.333073\n",
       "std       1.320239\n",
       "min       0.000000\n",
       "25%       0.000000\n",
       "50%       0.007068\n",
       "75%       0.056541\n",
       "max      11.343558\n",
       "Name: Процент NaN, dtype: float64"
      ]
     },
     "execution_count": 16,
     "metadata": {},
     "output_type": "execute_result"
    }
   ],
   "source": [
    "pd.set_option('display.max_rows', None)\n",
    "nan_count = data_train.isna().sum()\n",
    "nan_percentage = (nan_count / len(data_train)) * 100\n",
    "nan_info = pd.DataFrame({\n",
    "    'Количество NaN': nan_count,\n",
    "    'Процент NaN': nan_percentage\n",
    "})\n",
    "\n",
    "nan_info['Процент NaN'].describe()\n",
    "#pd.reset_option('display.max_rows') раскомментировать после шага!!!"
   ]
  },
  {
   "cell_type": "code",
   "execution_count": 17,
   "metadata": {
    "scrolled": true
   },
   "outputs": [
    {
     "data": {
      "text/html": [
       "<div>\n",
       "<style scoped>\n",
       "    .dataframe tbody tr th:only-of-type {\n",
       "        vertical-align: middle;\n",
       "    }\n",
       "\n",
       "    .dataframe tbody tr th {\n",
       "        vertical-align: top;\n",
       "    }\n",
       "\n",
       "    .dataframe thead th {\n",
       "        text-align: right;\n",
       "    }\n",
       "</style>\n",
       "<table border=\"1\" class=\"dataframe\">\n",
       "  <thead>\n",
       "    <tr style=\"text-align: right;\">\n",
       "      <th></th>\n",
       "      <th>Количество NaN</th>\n",
       "      <th>Процент NaN</th>\n",
       "    </tr>\n",
       "  </thead>\n",
       "  <tbody>\n",
       "    <tr>\n",
       "      <th>date</th>\n",
       "      <td>0</td>\n",
       "      <td>0.000000</td>\n",
       "    </tr>\n",
       "    <tr>\n",
       "      <th>final.output.concentrate_ag</th>\n",
       "      <td>1</td>\n",
       "      <td>0.007068</td>\n",
       "    </tr>\n",
       "    <tr>\n",
       "      <th>final.output.concentrate_pb</th>\n",
       "      <td>1</td>\n",
       "      <td>0.007068</td>\n",
       "    </tr>\n",
       "    <tr>\n",
       "      <th>final.output.concentrate_sol</th>\n",
       "      <td>211</td>\n",
       "      <td>1.491271</td>\n",
       "    </tr>\n",
       "    <tr>\n",
       "      <th>final.output.concentrate_au</th>\n",
       "      <td>0</td>\n",
       "      <td>0.000000</td>\n",
       "    </tr>\n",
       "    <tr>\n",
       "      <th>final.output.recovery</th>\n",
       "      <td>0</td>\n",
       "      <td>0.000000</td>\n",
       "    </tr>\n",
       "    <tr>\n",
       "      <th>final.output.tail_ag</th>\n",
       "      <td>0</td>\n",
       "      <td>0.000000</td>\n",
       "    </tr>\n",
       "    <tr>\n",
       "      <th>final.output.tail_pb</th>\n",
       "      <td>100</td>\n",
       "      <td>0.706764</td>\n",
       "    </tr>\n",
       "    <tr>\n",
       "      <th>final.output.tail_sol</th>\n",
       "      <td>5</td>\n",
       "      <td>0.035338</td>\n",
       "    </tr>\n",
       "    <tr>\n",
       "      <th>final.output.tail_au</th>\n",
       "      <td>0</td>\n",
       "      <td>0.000000</td>\n",
       "    </tr>\n",
       "    <tr>\n",
       "      <th>primary_cleaner.input.sulfate</th>\n",
       "      <td>20</td>\n",
       "      <td>0.141353</td>\n",
       "    </tr>\n",
       "    <tr>\n",
       "      <th>primary_cleaner.input.depressant</th>\n",
       "      <td>32</td>\n",
       "      <td>0.226164</td>\n",
       "    </tr>\n",
       "    <tr>\n",
       "      <th>primary_cleaner.input.feed_size</th>\n",
       "      <td>0</td>\n",
       "      <td>0.000000</td>\n",
       "    </tr>\n",
       "    <tr>\n",
       "      <th>primary_cleaner.input.xanthate</th>\n",
       "      <td>100</td>\n",
       "      <td>0.706764</td>\n",
       "    </tr>\n",
       "    <tr>\n",
       "      <th>primary_cleaner.output.concentrate_ag</th>\n",
       "      <td>0</td>\n",
       "      <td>0.000000</td>\n",
       "    </tr>\n",
       "    <tr>\n",
       "      <th>primary_cleaner.output.concentrate_pb</th>\n",
       "      <td>86</td>\n",
       "      <td>0.607817</td>\n",
       "    </tr>\n",
       "    <tr>\n",
       "      <th>primary_cleaner.output.concentrate_sol</th>\n",
       "      <td>286</td>\n",
       "      <td>2.021344</td>\n",
       "    </tr>\n",
       "    <tr>\n",
       "      <th>primary_cleaner.output.concentrate_au</th>\n",
       "      <td>0</td>\n",
       "      <td>0.000000</td>\n",
       "    </tr>\n",
       "    <tr>\n",
       "      <th>primary_cleaner.output.tail_ag</th>\n",
       "      <td>1</td>\n",
       "      <td>0.007068</td>\n",
       "    </tr>\n",
       "    <tr>\n",
       "      <th>primary_cleaner.output.tail_pb</th>\n",
       "      <td>15</td>\n",
       "      <td>0.106015</td>\n",
       "    </tr>\n",
       "    <tr>\n",
       "      <th>primary_cleaner.output.tail_sol</th>\n",
       "      <td>46</td>\n",
       "      <td>0.325111</td>\n",
       "    </tr>\n",
       "    <tr>\n",
       "      <th>primary_cleaner.output.tail_au</th>\n",
       "      <td>0</td>\n",
       "      <td>0.000000</td>\n",
       "    </tr>\n",
       "    <tr>\n",
       "      <th>primary_cleaner.state.floatbank8_a_air</th>\n",
       "      <td>4</td>\n",
       "      <td>0.028271</td>\n",
       "    </tr>\n",
       "    <tr>\n",
       "      <th>primary_cleaner.state.floatbank8_a_level</th>\n",
       "      <td>1</td>\n",
       "      <td>0.007068</td>\n",
       "    </tr>\n",
       "    <tr>\n",
       "      <th>primary_cleaner.state.floatbank8_b_air</th>\n",
       "      <td>4</td>\n",
       "      <td>0.028271</td>\n",
       "    </tr>\n",
       "    <tr>\n",
       "      <th>primary_cleaner.state.floatbank8_b_level</th>\n",
       "      <td>1</td>\n",
       "      <td>0.007068</td>\n",
       "    </tr>\n",
       "    <tr>\n",
       "      <th>primary_cleaner.state.floatbank8_c_air</th>\n",
       "      <td>2</td>\n",
       "      <td>0.014135</td>\n",
       "    </tr>\n",
       "    <tr>\n",
       "      <th>primary_cleaner.state.floatbank8_c_level</th>\n",
       "      <td>1</td>\n",
       "      <td>0.007068</td>\n",
       "    </tr>\n",
       "    <tr>\n",
       "      <th>primary_cleaner.state.floatbank8_d_air</th>\n",
       "      <td>3</td>\n",
       "      <td>0.021203</td>\n",
       "    </tr>\n",
       "    <tr>\n",
       "      <th>primary_cleaner.state.floatbank8_d_level</th>\n",
       "      <td>1</td>\n",
       "      <td>0.007068</td>\n",
       "    </tr>\n",
       "    <tr>\n",
       "      <th>rougher.calculation.sulfate_to_au_concentrate</th>\n",
       "      <td>1</td>\n",
       "      <td>0.007068</td>\n",
       "    </tr>\n",
       "    <tr>\n",
       "      <th>rougher.calculation.floatbank10_sulfate_to_au_feed</th>\n",
       "      <td>1</td>\n",
       "      <td>0.007068</td>\n",
       "    </tr>\n",
       "    <tr>\n",
       "      <th>rougher.calculation.floatbank11_sulfate_to_au_feed</th>\n",
       "      <td>1</td>\n",
       "      <td>0.007068</td>\n",
       "    </tr>\n",
       "    <tr>\n",
       "      <th>rougher.calculation.au_pb_ratio</th>\n",
       "      <td>0</td>\n",
       "      <td>0.000000</td>\n",
       "    </tr>\n",
       "    <tr>\n",
       "      <th>rougher.input.feed_ag</th>\n",
       "      <td>0</td>\n",
       "      <td>0.000000</td>\n",
       "    </tr>\n",
       "    <tr>\n",
       "      <th>rougher.input.feed_pb</th>\n",
       "      <td>100</td>\n",
       "      <td>0.706764</td>\n",
       "    </tr>\n",
       "    <tr>\n",
       "      <th>rougher.input.feed_rate</th>\n",
       "      <td>8</td>\n",
       "      <td>0.056541</td>\n",
       "    </tr>\n",
       "    <tr>\n",
       "      <th>rougher.input.feed_size</th>\n",
       "      <td>144</td>\n",
       "      <td>1.017740</td>\n",
       "    </tr>\n",
       "    <tr>\n",
       "      <th>rougher.input.feed_sol</th>\n",
       "      <td>78</td>\n",
       "      <td>0.551276</td>\n",
       "    </tr>\n",
       "    <tr>\n",
       "      <th>rougher.input.feed_au</th>\n",
       "      <td>0</td>\n",
       "      <td>0.000000</td>\n",
       "    </tr>\n",
       "    <tr>\n",
       "      <th>rougher.input.floatbank10_sulfate</th>\n",
       "      <td>29</td>\n",
       "      <td>0.204961</td>\n",
       "    </tr>\n",
       "    <tr>\n",
       "      <th>rougher.input.floatbank10_xanthate</th>\n",
       "      <td>8</td>\n",
       "      <td>0.056541</td>\n",
       "    </tr>\n",
       "    <tr>\n",
       "      <th>rougher.input.floatbank11_sulfate</th>\n",
       "      <td>36</td>\n",
       "      <td>0.254435</td>\n",
       "    </tr>\n",
       "    <tr>\n",
       "      <th>rougher.input.floatbank11_xanthate</th>\n",
       "      <td>428</td>\n",
       "      <td>3.024949</td>\n",
       "    </tr>\n",
       "    <tr>\n",
       "      <th>rougher.output.concentrate_ag</th>\n",
       "      <td>0</td>\n",
       "      <td>0.000000</td>\n",
       "    </tr>\n",
       "    <tr>\n",
       "      <th>rougher.output.concentrate_pb</th>\n",
       "      <td>0</td>\n",
       "      <td>0.000000</td>\n",
       "    </tr>\n",
       "    <tr>\n",
       "      <th>rougher.output.concentrate_sol</th>\n",
       "      <td>22</td>\n",
       "      <td>0.155488</td>\n",
       "    </tr>\n",
       "    <tr>\n",
       "      <th>rougher.output.concentrate_au</th>\n",
       "      <td>0</td>\n",
       "      <td>0.000000</td>\n",
       "    </tr>\n",
       "    <tr>\n",
       "      <th>rougher.output.recovery</th>\n",
       "      <td>0</td>\n",
       "      <td>0.000000</td>\n",
       "    </tr>\n",
       "    <tr>\n",
       "      <th>rougher.output.tail_ag</th>\n",
       "      <td>1</td>\n",
       "      <td>0.007068</td>\n",
       "    </tr>\n",
       "    <tr>\n",
       "      <th>rougher.output.tail_pb</th>\n",
       "      <td>0</td>\n",
       "      <td>0.000000</td>\n",
       "    </tr>\n",
       "    <tr>\n",
       "      <th>rougher.output.tail_sol</th>\n",
       "      <td>0</td>\n",
       "      <td>0.000000</td>\n",
       "    </tr>\n",
       "    <tr>\n",
       "      <th>rougher.output.tail_au</th>\n",
       "      <td>0</td>\n",
       "      <td>0.000000</td>\n",
       "    </tr>\n",
       "    <tr>\n",
       "      <th>rougher.state.floatbank10_a_air</th>\n",
       "      <td>1</td>\n",
       "      <td>0.007068</td>\n",
       "    </tr>\n",
       "    <tr>\n",
       "      <th>rougher.state.floatbank10_a_level</th>\n",
       "      <td>1</td>\n",
       "      <td>0.007068</td>\n",
       "    </tr>\n",
       "    <tr>\n",
       "      <th>rougher.state.floatbank10_b_air</th>\n",
       "      <td>1</td>\n",
       "      <td>0.007068</td>\n",
       "    </tr>\n",
       "    <tr>\n",
       "      <th>rougher.state.floatbank10_b_level</th>\n",
       "      <td>1</td>\n",
       "      <td>0.007068</td>\n",
       "    </tr>\n",
       "    <tr>\n",
       "      <th>rougher.state.floatbank10_c_air</th>\n",
       "      <td>1</td>\n",
       "      <td>0.007068</td>\n",
       "    </tr>\n",
       "    <tr>\n",
       "      <th>rougher.state.floatbank10_c_level</th>\n",
       "      <td>1</td>\n",
       "      <td>0.007068</td>\n",
       "    </tr>\n",
       "    <tr>\n",
       "      <th>rougher.state.floatbank10_d_air</th>\n",
       "      <td>0</td>\n",
       "      <td>0.000000</td>\n",
       "    </tr>\n",
       "    <tr>\n",
       "      <th>rougher.state.floatbank10_d_level</th>\n",
       "      <td>0</td>\n",
       "      <td>0.000000</td>\n",
       "    </tr>\n",
       "    <tr>\n",
       "      <th>rougher.state.floatbank10_e_air</th>\n",
       "      <td>436</td>\n",
       "      <td>3.081490</td>\n",
       "    </tr>\n",
       "    <tr>\n",
       "      <th>rougher.state.floatbank10_e_level</th>\n",
       "      <td>0</td>\n",
       "      <td>0.000000</td>\n",
       "    </tr>\n",
       "    <tr>\n",
       "      <th>rougher.state.floatbank10_f_air</th>\n",
       "      <td>0</td>\n",
       "      <td>0.000000</td>\n",
       "    </tr>\n",
       "    <tr>\n",
       "      <th>rougher.state.floatbank10_f_level</th>\n",
       "      <td>0</td>\n",
       "      <td>0.000000</td>\n",
       "    </tr>\n",
       "    <tr>\n",
       "      <th>secondary_cleaner.output.tail_ag</th>\n",
       "      <td>2</td>\n",
       "      <td>0.014135</td>\n",
       "    </tr>\n",
       "    <tr>\n",
       "      <th>secondary_cleaner.output.tail_pb</th>\n",
       "      <td>10</td>\n",
       "      <td>0.070676</td>\n",
       "    </tr>\n",
       "    <tr>\n",
       "      <th>secondary_cleaner.output.tail_sol</th>\n",
       "      <td>1605</td>\n",
       "      <td>11.343558</td>\n",
       "    </tr>\n",
       "    <tr>\n",
       "      <th>secondary_cleaner.output.tail_au</th>\n",
       "      <td>0</td>\n",
       "      <td>0.000000</td>\n",
       "    </tr>\n",
       "    <tr>\n",
       "      <th>secondary_cleaner.state.floatbank2_a_air</th>\n",
       "      <td>217</td>\n",
       "      <td>1.533677</td>\n",
       "    </tr>\n",
       "    <tr>\n",
       "      <th>secondary_cleaner.state.floatbank2_a_level</th>\n",
       "      <td>1</td>\n",
       "      <td>0.007068</td>\n",
       "    </tr>\n",
       "    <tr>\n",
       "      <th>secondary_cleaner.state.floatbank2_b_air</th>\n",
       "      <td>21</td>\n",
       "      <td>0.148420</td>\n",
       "    </tr>\n",
       "    <tr>\n",
       "      <th>secondary_cleaner.state.floatbank2_b_level</th>\n",
       "      <td>1</td>\n",
       "      <td>0.007068</td>\n",
       "    </tr>\n",
       "    <tr>\n",
       "      <th>secondary_cleaner.state.floatbank3_a_air</th>\n",
       "      <td>4</td>\n",
       "      <td>0.028271</td>\n",
       "    </tr>\n",
       "    <tr>\n",
       "      <th>secondary_cleaner.state.floatbank3_a_level</th>\n",
       "      <td>1</td>\n",
       "      <td>0.007068</td>\n",
       "    </tr>\n",
       "    <tr>\n",
       "      <th>secondary_cleaner.state.floatbank3_b_air</th>\n",
       "      <td>1</td>\n",
       "      <td>0.007068</td>\n",
       "    </tr>\n",
       "    <tr>\n",
       "      <th>secondary_cleaner.state.floatbank3_b_level</th>\n",
       "      <td>1</td>\n",
       "      <td>0.007068</td>\n",
       "    </tr>\n",
       "    <tr>\n",
       "      <th>secondary_cleaner.state.floatbank4_a_air</th>\n",
       "      <td>6</td>\n",
       "      <td>0.042406</td>\n",
       "    </tr>\n",
       "    <tr>\n",
       "      <th>secondary_cleaner.state.floatbank4_a_level</th>\n",
       "      <td>1</td>\n",
       "      <td>0.007068</td>\n",
       "    </tr>\n",
       "    <tr>\n",
       "      <th>secondary_cleaner.state.floatbank4_b_air</th>\n",
       "      <td>1</td>\n",
       "      <td>0.007068</td>\n",
       "    </tr>\n",
       "    <tr>\n",
       "      <th>secondary_cleaner.state.floatbank4_b_level</th>\n",
       "      <td>1</td>\n",
       "      <td>0.007068</td>\n",
       "    </tr>\n",
       "    <tr>\n",
       "      <th>secondary_cleaner.state.floatbank5_a_air</th>\n",
       "      <td>1</td>\n",
       "      <td>0.007068</td>\n",
       "    </tr>\n",
       "    <tr>\n",
       "      <th>secondary_cleaner.state.floatbank5_a_level</th>\n",
       "      <td>1</td>\n",
       "      <td>0.007068</td>\n",
       "    </tr>\n",
       "    <tr>\n",
       "      <th>secondary_cleaner.state.floatbank5_b_air</th>\n",
       "      <td>1</td>\n",
       "      <td>0.007068</td>\n",
       "    </tr>\n",
       "    <tr>\n",
       "      <th>secondary_cleaner.state.floatbank5_b_level</th>\n",
       "      <td>1</td>\n",
       "      <td>0.007068</td>\n",
       "    </tr>\n",
       "    <tr>\n",
       "      <th>secondary_cleaner.state.floatbank6_a_air</th>\n",
       "      <td>2</td>\n",
       "      <td>0.014135</td>\n",
       "    </tr>\n",
       "    <tr>\n",
       "      <th>secondary_cleaner.state.floatbank6_a_level</th>\n",
       "      <td>1</td>\n",
       "      <td>0.007068</td>\n",
       "    </tr>\n",
       "  </tbody>\n",
       "</table>\n",
       "</div>"
      ],
      "text/plain": [
       "                                                    Количество NaN  \\\n",
       "date                                                             0   \n",
       "final.output.concentrate_ag                                      1   \n",
       "final.output.concentrate_pb                                      1   \n",
       "final.output.concentrate_sol                                   211   \n",
       "final.output.concentrate_au                                      0   \n",
       "final.output.recovery                                            0   \n",
       "final.output.tail_ag                                             0   \n",
       "final.output.tail_pb                                           100   \n",
       "final.output.tail_sol                                            5   \n",
       "final.output.tail_au                                             0   \n",
       "primary_cleaner.input.sulfate                                   20   \n",
       "primary_cleaner.input.depressant                                32   \n",
       "primary_cleaner.input.feed_size                                  0   \n",
       "primary_cleaner.input.xanthate                                 100   \n",
       "primary_cleaner.output.concentrate_ag                            0   \n",
       "primary_cleaner.output.concentrate_pb                           86   \n",
       "primary_cleaner.output.concentrate_sol                         286   \n",
       "primary_cleaner.output.concentrate_au                            0   \n",
       "primary_cleaner.output.tail_ag                                   1   \n",
       "primary_cleaner.output.tail_pb                                  15   \n",
       "primary_cleaner.output.tail_sol                                 46   \n",
       "primary_cleaner.output.tail_au                                   0   \n",
       "primary_cleaner.state.floatbank8_a_air                           4   \n",
       "primary_cleaner.state.floatbank8_a_level                         1   \n",
       "primary_cleaner.state.floatbank8_b_air                           4   \n",
       "primary_cleaner.state.floatbank8_b_level                         1   \n",
       "primary_cleaner.state.floatbank8_c_air                           2   \n",
       "primary_cleaner.state.floatbank8_c_level                         1   \n",
       "primary_cleaner.state.floatbank8_d_air                           3   \n",
       "primary_cleaner.state.floatbank8_d_level                         1   \n",
       "rougher.calculation.sulfate_to_au_concentrate                    1   \n",
       "rougher.calculation.floatbank10_sulfate_to_au_feed               1   \n",
       "rougher.calculation.floatbank11_sulfate_to_au_feed               1   \n",
       "rougher.calculation.au_pb_ratio                                  0   \n",
       "rougher.input.feed_ag                                            0   \n",
       "rougher.input.feed_pb                                          100   \n",
       "rougher.input.feed_rate                                          8   \n",
       "rougher.input.feed_size                                        144   \n",
       "rougher.input.feed_sol                                          78   \n",
       "rougher.input.feed_au                                            0   \n",
       "rougher.input.floatbank10_sulfate                               29   \n",
       "rougher.input.floatbank10_xanthate                               8   \n",
       "rougher.input.floatbank11_sulfate                               36   \n",
       "rougher.input.floatbank11_xanthate                             428   \n",
       "rougher.output.concentrate_ag                                    0   \n",
       "rougher.output.concentrate_pb                                    0   \n",
       "rougher.output.concentrate_sol                                  22   \n",
       "rougher.output.concentrate_au                                    0   \n",
       "rougher.output.recovery                                          0   \n",
       "rougher.output.tail_ag                                           1   \n",
       "rougher.output.tail_pb                                           0   \n",
       "rougher.output.tail_sol                                          0   \n",
       "rougher.output.tail_au                                           0   \n",
       "rougher.state.floatbank10_a_air                                  1   \n",
       "rougher.state.floatbank10_a_level                                1   \n",
       "rougher.state.floatbank10_b_air                                  1   \n",
       "rougher.state.floatbank10_b_level                                1   \n",
       "rougher.state.floatbank10_c_air                                  1   \n",
       "rougher.state.floatbank10_c_level                                1   \n",
       "rougher.state.floatbank10_d_air                                  0   \n",
       "rougher.state.floatbank10_d_level                                0   \n",
       "rougher.state.floatbank10_e_air                                436   \n",
       "rougher.state.floatbank10_e_level                                0   \n",
       "rougher.state.floatbank10_f_air                                  0   \n",
       "rougher.state.floatbank10_f_level                                0   \n",
       "secondary_cleaner.output.tail_ag                                 2   \n",
       "secondary_cleaner.output.tail_pb                                10   \n",
       "secondary_cleaner.output.tail_sol                             1605   \n",
       "secondary_cleaner.output.tail_au                                 0   \n",
       "secondary_cleaner.state.floatbank2_a_air                       217   \n",
       "secondary_cleaner.state.floatbank2_a_level                       1   \n",
       "secondary_cleaner.state.floatbank2_b_air                        21   \n",
       "secondary_cleaner.state.floatbank2_b_level                       1   \n",
       "secondary_cleaner.state.floatbank3_a_air                         4   \n",
       "secondary_cleaner.state.floatbank3_a_level                       1   \n",
       "secondary_cleaner.state.floatbank3_b_air                         1   \n",
       "secondary_cleaner.state.floatbank3_b_level                       1   \n",
       "secondary_cleaner.state.floatbank4_a_air                         6   \n",
       "secondary_cleaner.state.floatbank4_a_level                       1   \n",
       "secondary_cleaner.state.floatbank4_b_air                         1   \n",
       "secondary_cleaner.state.floatbank4_b_level                       1   \n",
       "secondary_cleaner.state.floatbank5_a_air                         1   \n",
       "secondary_cleaner.state.floatbank5_a_level                       1   \n",
       "secondary_cleaner.state.floatbank5_b_air                         1   \n",
       "secondary_cleaner.state.floatbank5_b_level                       1   \n",
       "secondary_cleaner.state.floatbank6_a_air                         2   \n",
       "secondary_cleaner.state.floatbank6_a_level                       1   \n",
       "\n",
       "                                                    Процент NaN  \n",
       "date                                                   0.000000  \n",
       "final.output.concentrate_ag                            0.007068  \n",
       "final.output.concentrate_pb                            0.007068  \n",
       "final.output.concentrate_sol                           1.491271  \n",
       "final.output.concentrate_au                            0.000000  \n",
       "final.output.recovery                                  0.000000  \n",
       "final.output.tail_ag                                   0.000000  \n",
       "final.output.tail_pb                                   0.706764  \n",
       "final.output.tail_sol                                  0.035338  \n",
       "final.output.tail_au                                   0.000000  \n",
       "primary_cleaner.input.sulfate                          0.141353  \n",
       "primary_cleaner.input.depressant                       0.226164  \n",
       "primary_cleaner.input.feed_size                        0.000000  \n",
       "primary_cleaner.input.xanthate                         0.706764  \n",
       "primary_cleaner.output.concentrate_ag                  0.000000  \n",
       "primary_cleaner.output.concentrate_pb                  0.607817  \n",
       "primary_cleaner.output.concentrate_sol                 2.021344  \n",
       "primary_cleaner.output.concentrate_au                  0.000000  \n",
       "primary_cleaner.output.tail_ag                         0.007068  \n",
       "primary_cleaner.output.tail_pb                         0.106015  \n",
       "primary_cleaner.output.tail_sol                        0.325111  \n",
       "primary_cleaner.output.tail_au                         0.000000  \n",
       "primary_cleaner.state.floatbank8_a_air                 0.028271  \n",
       "primary_cleaner.state.floatbank8_a_level               0.007068  \n",
       "primary_cleaner.state.floatbank8_b_air                 0.028271  \n",
       "primary_cleaner.state.floatbank8_b_level               0.007068  \n",
       "primary_cleaner.state.floatbank8_c_air                 0.014135  \n",
       "primary_cleaner.state.floatbank8_c_level               0.007068  \n",
       "primary_cleaner.state.floatbank8_d_air                 0.021203  \n",
       "primary_cleaner.state.floatbank8_d_level               0.007068  \n",
       "rougher.calculation.sulfate_to_au_concentrate          0.007068  \n",
       "rougher.calculation.floatbank10_sulfate_to_au_feed     0.007068  \n",
       "rougher.calculation.floatbank11_sulfate_to_au_feed     0.007068  \n",
       "rougher.calculation.au_pb_ratio                        0.000000  \n",
       "rougher.input.feed_ag                                  0.000000  \n",
       "rougher.input.feed_pb                                  0.706764  \n",
       "rougher.input.feed_rate                                0.056541  \n",
       "rougher.input.feed_size                                1.017740  \n",
       "rougher.input.feed_sol                                 0.551276  \n",
       "rougher.input.feed_au                                  0.000000  \n",
       "rougher.input.floatbank10_sulfate                      0.204961  \n",
       "rougher.input.floatbank10_xanthate                     0.056541  \n",
       "rougher.input.floatbank11_sulfate                      0.254435  \n",
       "rougher.input.floatbank11_xanthate                     3.024949  \n",
       "rougher.output.concentrate_ag                          0.000000  \n",
       "rougher.output.concentrate_pb                          0.000000  \n",
       "rougher.output.concentrate_sol                         0.155488  \n",
       "rougher.output.concentrate_au                          0.000000  \n",
       "rougher.output.recovery                                0.000000  \n",
       "rougher.output.tail_ag                                 0.007068  \n",
       "rougher.output.tail_pb                                 0.000000  \n",
       "rougher.output.tail_sol                                0.000000  \n",
       "rougher.output.tail_au                                 0.000000  \n",
       "rougher.state.floatbank10_a_air                        0.007068  \n",
       "rougher.state.floatbank10_a_level                      0.007068  \n",
       "rougher.state.floatbank10_b_air                        0.007068  \n",
       "rougher.state.floatbank10_b_level                      0.007068  \n",
       "rougher.state.floatbank10_c_air                        0.007068  \n",
       "rougher.state.floatbank10_c_level                      0.007068  \n",
       "rougher.state.floatbank10_d_air                        0.000000  \n",
       "rougher.state.floatbank10_d_level                      0.000000  \n",
       "rougher.state.floatbank10_e_air                        3.081490  \n",
       "rougher.state.floatbank10_e_level                      0.000000  \n",
       "rougher.state.floatbank10_f_air                        0.000000  \n",
       "rougher.state.floatbank10_f_level                      0.000000  \n",
       "secondary_cleaner.output.tail_ag                       0.014135  \n",
       "secondary_cleaner.output.tail_pb                       0.070676  \n",
       "secondary_cleaner.output.tail_sol                     11.343558  \n",
       "secondary_cleaner.output.tail_au                       0.000000  \n",
       "secondary_cleaner.state.floatbank2_a_air               1.533677  \n",
       "secondary_cleaner.state.floatbank2_a_level             0.007068  \n",
       "secondary_cleaner.state.floatbank2_b_air               0.148420  \n",
       "secondary_cleaner.state.floatbank2_b_level             0.007068  \n",
       "secondary_cleaner.state.floatbank3_a_air               0.028271  \n",
       "secondary_cleaner.state.floatbank3_a_level             0.007068  \n",
       "secondary_cleaner.state.floatbank3_b_air               0.007068  \n",
       "secondary_cleaner.state.floatbank3_b_level             0.007068  \n",
       "secondary_cleaner.state.floatbank4_a_air               0.042406  \n",
       "secondary_cleaner.state.floatbank4_a_level             0.007068  \n",
       "secondary_cleaner.state.floatbank4_b_air               0.007068  \n",
       "secondary_cleaner.state.floatbank4_b_level             0.007068  \n",
       "secondary_cleaner.state.floatbank5_a_air               0.007068  \n",
       "secondary_cleaner.state.floatbank5_a_level             0.007068  \n",
       "secondary_cleaner.state.floatbank5_b_air               0.007068  \n",
       "secondary_cleaner.state.floatbank5_b_level             0.007068  \n",
       "secondary_cleaner.state.floatbank6_a_air               0.014135  \n",
       "secondary_cleaner.state.floatbank6_a_level             0.007068  "
      ]
     },
     "execution_count": 17,
     "metadata": {},
     "output_type": "execute_result"
    }
   ],
   "source": [
    "nan_info"
   ]
  },
  {
   "cell_type": "markdown",
   "metadata": {},
   "source": [
    "Учитывая, что столбец с 11% пропусков всё равно удалим из сета, можно спокойно использовать fillna() и избавиться от 3% пропусков"
   ]
  },
  {
   "cell_type": "code",
   "execution_count": 18,
   "metadata": {},
   "outputs": [],
   "source": [
    "data_test=data_test.fillna(method='ffill')"
   ]
  },
  {
   "cell_type": "code",
   "execution_count": 19,
   "metadata": {},
   "outputs": [],
   "source": [
    "data_train=data_train.fillna(method='ffill')"
   ]
  },
  {
   "cell_type": "code",
   "execution_count": 20,
   "metadata": {},
   "outputs": [],
   "source": [
    "data_full=data_full.fillna(method='ffill')"
   ]
  },
  {
   "cell_type": "code",
   "execution_count": 21,
   "metadata": {},
   "outputs": [
    {
     "data": {
      "text/plain": [
       "count    87.000000\n",
       "mean      0.333073\n",
       "std       1.320239\n",
       "min       0.000000\n",
       "25%       0.000000\n",
       "50%       0.007068\n",
       "75%       0.056541\n",
       "max      11.343558\n",
       "Name: Процент NaN, dtype: float64"
      ]
     },
     "execution_count": 21,
     "metadata": {},
     "output_type": "execute_result"
    }
   ],
   "source": [
    "nan_info['Процент NaN'].describe()"
   ]
  },
  {
   "cell_type": "markdown",
   "metadata": {},
   "source": [
    "### Добавление целевых признаков"
   ]
  },
  {
   "cell_type": "markdown",
   "metadata": {},
   "source": [
    "Добавим Целевые признаки с полного датасета"
   ]
  },
  {
   "cell_type": "code",
   "execution_count": 22,
   "metadata": {},
   "outputs": [],
   "source": [
    "Switch_dt_from_full = data_full[['date','rougher.output.recovery','final.output.recovery']]"
   ]
  },
  {
   "cell_type": "code",
   "execution_count": 23,
   "metadata": {},
   "outputs": [],
   "source": [
    "data_test = data_test.merge(Switch_dt_from_full, on='date', how='left')\n"
   ]
  },
  {
   "cell_type": "markdown",
   "metadata": {},
   "source": [
    "Удалим все отсутствующие столбцы в тестовом сете "
   ]
  },
  {
   "cell_type": "code",
   "execution_count": 24,
   "metadata": {},
   "outputs": [],
   "source": [
    "#data_train=data_train[data_test.columns]"
   ]
  },
  {
   "cell_type": "code",
   "execution_count": 25,
   "metadata": {},
   "outputs": [
    {
     "data": {
      "text/plain": [
       "count    87.0\n",
       "mean      0.0\n",
       "std       0.0\n",
       "min       0.0\n",
       "25%       0.0\n",
       "50%       0.0\n",
       "75%       0.0\n",
       "max       0.0\n",
       "Name: Процент NaN, dtype: float64"
      ]
     },
     "execution_count": 25,
     "metadata": {},
     "output_type": "execute_result"
    }
   ],
   "source": [
    "pd.set_option('display.max_rows', None)\n",
    "nan_count = data_train.isna().sum()\n",
    "nan_percentage = (nan_count / len(data_train)) * 100\n",
    "nan_info = pd.DataFrame({\n",
    "    'Количество NaN': nan_count,\n",
    "    'Процент NaN': nan_percentage\n",
    "})\n",
    "\n",
    "nan_info['Процент NaN'].describe()\n",
    "#pd.reset_option('display.max_rows') раскомментировать после шага!!!"
   ]
  },
  {
   "cell_type": "code",
   "execution_count": 26,
   "metadata": {},
   "outputs": [
    {
     "data": {
      "text/plain": [
       "count    87.0\n",
       "mean      0.0\n",
       "std       0.0\n",
       "min       0.0\n",
       "25%       0.0\n",
       "50%       0.0\n",
       "75%       0.0\n",
       "max       0.0\n",
       "Name: Процент NaN, dtype: float64"
      ]
     },
     "execution_count": 26,
     "metadata": {},
     "output_type": "execute_result"
    }
   ],
   "source": [
    "nan_info['Процент NaN'].describe()"
   ]
  },
  {
   "cell_type": "code",
   "execution_count": 27,
   "metadata": {},
   "outputs": [
    {
     "name": "stdout",
     "output_type": "stream",
     "text": [
      "(14149, 87)\n",
      "(5290, 55)\n",
      "(19439, 87)\n"
     ]
    }
   ],
   "source": [
    "print(data_train.shape)\n",
    "print(data_test.shape)\n",
    "print(data_full.shape)\n"
   ]
  },
  {
   "cell_type": "markdown",
   "metadata": {},
   "source": [
    "### Вывод этапа"
   ]
  },
  {
   "cell_type": "markdown",
   "metadata": {},
   "source": [
    " - Оценили степень очистки чернового минерала с помощью Recovery Расчёт эффективности\n",
    "\n",
    " - Исключили все пробелы и вычислили среднюю арифметическую ошибку (МАЕ).\n",
    "\n",
    " - Подтвердили точность вычислений, поскольку наш результат идентичен предоставленному, так как МАЕ равняется нулю.\n",
    " - Были обнаружены пропуски в полных/обучающих/тестовых таблицах, которые были заполнены с использованием метода fillna из-за их небольшого количества.\n",
    "\n",
    " - Для оценки эффективности обогащения и сравнения полученных значений с реальными была создана отдельная таблица. Согласно полученным результатам, среднее абсолютное отклонение (MAE) составило 0, что указывает на то, что расчетные данные практически не отличаются от реальных.\n",
    " - Тренировочный и тестовый сеты были приведены к одному количеству соответствующих колонок, так же были добавлены целевые признаки из полного датасета"
   ]
  },
  {
   "cell_type": "markdown",
   "metadata": {},
   "source": [
    "## Анализ данных"
   ]
  },
  {
   "cell_type": "code",
   "execution_count": 28,
   "metadata": {
    "scrolled": true
   },
   "outputs": [
    {
     "data": {
      "text/plain": [
       "Index(['date', 'final.output.concentrate_ag', 'final.output.concentrate_pb',\n",
       "       'final.output.concentrate_sol', 'final.output.concentrate_au',\n",
       "       'final.output.recovery', 'final.output.tail_ag', 'final.output.tail_pb',\n",
       "       'final.output.tail_sol', 'final.output.tail_au',\n",
       "       'primary_cleaner.input.sulfate', 'primary_cleaner.input.depressant',\n",
       "       'primary_cleaner.input.feed_size', 'primary_cleaner.input.xanthate',\n",
       "       'primary_cleaner.output.concentrate_ag',\n",
       "       'primary_cleaner.output.concentrate_pb',\n",
       "       'primary_cleaner.output.concentrate_sol',\n",
       "       'primary_cleaner.output.concentrate_au',\n",
       "       'primary_cleaner.output.tail_ag', 'primary_cleaner.output.tail_pb',\n",
       "       'primary_cleaner.output.tail_sol', 'primary_cleaner.output.tail_au',\n",
       "       'primary_cleaner.state.floatbank8_a_air',\n",
       "       'primary_cleaner.state.floatbank8_a_level',\n",
       "       'primary_cleaner.state.floatbank8_b_air',\n",
       "       'primary_cleaner.state.floatbank8_b_level',\n",
       "       'primary_cleaner.state.floatbank8_c_air',\n",
       "       'primary_cleaner.state.floatbank8_c_level',\n",
       "       'primary_cleaner.state.floatbank8_d_air',\n",
       "       'primary_cleaner.state.floatbank8_d_level',\n",
       "       'rougher.calculation.sulfate_to_au_concentrate',\n",
       "       'rougher.calculation.floatbank10_sulfate_to_au_feed',\n",
       "       'rougher.calculation.floatbank11_sulfate_to_au_feed',\n",
       "       'rougher.calculation.au_pb_ratio', 'rougher.input.feed_ag',\n",
       "       'rougher.input.feed_pb', 'rougher.input.feed_rate',\n",
       "       'rougher.input.feed_size', 'rougher.input.feed_sol',\n",
       "       'rougher.input.feed_au', 'rougher.input.floatbank10_sulfate',\n",
       "       'rougher.input.floatbank10_xanthate',\n",
       "       'rougher.input.floatbank11_sulfate',\n",
       "       'rougher.input.floatbank11_xanthate', 'rougher.output.concentrate_ag',\n",
       "       'rougher.output.concentrate_pb', 'rougher.output.concentrate_sol',\n",
       "       'rougher.output.concentrate_au', 'rougher.output.recovery',\n",
       "       'rougher.output.tail_ag', 'rougher.output.tail_pb',\n",
       "       'rougher.output.tail_sol', 'rougher.output.tail_au',\n",
       "       'rougher.state.floatbank10_a_air', 'rougher.state.floatbank10_a_level',\n",
       "       'rougher.state.floatbank10_b_air', 'rougher.state.floatbank10_b_level',\n",
       "       'rougher.state.floatbank10_c_air', 'rougher.state.floatbank10_c_level',\n",
       "       'rougher.state.floatbank10_d_air', 'rougher.state.floatbank10_d_level',\n",
       "       'rougher.state.floatbank10_e_air', 'rougher.state.floatbank10_e_level',\n",
       "       'rougher.state.floatbank10_f_air', 'rougher.state.floatbank10_f_level',\n",
       "       'secondary_cleaner.output.tail_ag', 'secondary_cleaner.output.tail_pb',\n",
       "       'secondary_cleaner.output.tail_sol', 'secondary_cleaner.output.tail_au',\n",
       "       'secondary_cleaner.state.floatbank2_a_air',\n",
       "       'secondary_cleaner.state.floatbank2_a_level',\n",
       "       'secondary_cleaner.state.floatbank2_b_air',\n",
       "       'secondary_cleaner.state.floatbank2_b_level',\n",
       "       'secondary_cleaner.state.floatbank3_a_air',\n",
       "       'secondary_cleaner.state.floatbank3_a_level',\n",
       "       'secondary_cleaner.state.floatbank3_b_air',\n",
       "       'secondary_cleaner.state.floatbank3_b_level',\n",
       "       'secondary_cleaner.state.floatbank4_a_air',\n",
       "       'secondary_cleaner.state.floatbank4_a_level',\n",
       "       'secondary_cleaner.state.floatbank4_b_air',\n",
       "       'secondary_cleaner.state.floatbank4_b_level',\n",
       "       'secondary_cleaner.state.floatbank5_a_air',\n",
       "       'secondary_cleaner.state.floatbank5_a_level',\n",
       "       'secondary_cleaner.state.floatbank5_b_air',\n",
       "       'secondary_cleaner.state.floatbank5_b_level',\n",
       "       'secondary_cleaner.state.floatbank6_a_air',\n",
       "       'secondary_cleaner.state.floatbank6_a_level'],\n",
       "      dtype='object')"
      ]
     },
     "execution_count": 28,
     "metadata": {},
     "output_type": "execute_result"
    }
   ],
   "source": [
    "data_full.columns"
   ]
  },
  {
   "cell_type": "markdown",
   "metadata": {},
   "source": [
    "### Концентрация металлов на степенях отчистки"
   ]
  },
  {
   "cell_type": "code",
   "execution_count": 29,
   "metadata": {},
   "outputs": [
    {
     "data": {
      "image/png": "[encoded data removed]",
      "text/plain": [
       "<Figure size 1008x432 with 1 Axes>"
      ]
     },
     "metadata": {
      "needs_background": "light"
     },
     "output_type": "display_data"
    }
   ],
   "source": [
    "plt.figure(figsize=(14,6))\n",
    "data_full['rougher.input.feed_au'].plot.hist(bins=200, alpha=0.7)\n",
    "data_full['rougher.output.concentrate_au'].plot.hist(bins=200, alpha=0.7)\n",
    "data_full['primary_cleaner.output.concentrate_au'].plot.hist(bins=200, alpha=0.7)\n",
    "data_full['final.output.concentrate_au'].plot.hist(bins=200)\n",
    "plt.legend(['r.i.f.au', 'r.o.c.au', 'p.c.o.au','f.i.c.au'])\n",
    "plt.title('Концентрация золота на степенях отчистки')\n",
    "plt.xlabel('Концентрация')\n",
    "plt.grid(True)\n",
    "plt.show()"
   ]
  },
  {
   "cell_type": "code",
   "execution_count": 30,
   "metadata": {
    "scrolled": false
   },
   "outputs": [
    {
     "data": {
      "image/png": "[encoded data removed]",
      "text/plain": [
       "<Figure size 1008x432 with 1 Axes>"
      ]
     },
     "metadata": {
      "needs_background": "light"
     },
     "output_type": "display_data"
    }
   ],
   "source": [
    "plt.figure(figsize=(14,6))\n",
    "data_full['rougher.input.feed_ag'].plot.hist(bins=200, alpha=0.6)\n",
    "data_full['rougher.output.concentrate_ag'].plot.hist(bins=200, alpha=0.7)\n",
    "data_full['primary_cleaner.output.concentrate_ag'].plot.hist(bins=200, alpha=0.8)\n",
    "data_full['final.output.concentrate_ag'].plot.hist(bins=200,alpha=0.9)\n",
    "plt.legend(['r.i.f.ag', 'r.o.c.ag', 'p.c.o.ag','f.i.c.ag'])\n",
    "plt.title('Концентрация серебра на степенях отчистки')\n",
    "plt.xlabel('Концентрация')\n",
    "plt.grid(True)\n",
    "plt.show()"
   ]
  },
  {
   "cell_type": "code",
   "execution_count": 31,
   "metadata": {},
   "outputs": [
    {
     "data": {
      "image/png": "[encoded data removed]",
      "text/plain": [
       "<Figure size 1008x432 with 1 Axes>"
      ]
     },
     "metadata": {
      "needs_background": "light"
     },
     "output_type": "display_data"
    }
   ],
   "source": [
    "plt.figure(figsize=(14,6))\n",
    "data_full['rougher.input.feed_pb'].plot.hist(bins=200, alpha=0.6)\n",
    "data_full['rougher.output.concentrate_pb'].plot.hist(bins=200, alpha=0.7)\n",
    "data_full['primary_cleaner.output.concentrate_pb'].plot.hist(bins=200, alpha=0.8)\n",
    "data_full['final.output.concentrate_ag'].plot.hist(bins=200,alpha=0.9)\n",
    "plt.legend(['r.i.f.pb', 'r.o.c.pb', 'p.c.o.pbg','f.i.c.pb'])\n",
    "plt.title('Концентрация свинца на степенях отчистки')\n",
    "plt.xlabel('Концентрация')\n",
    "plt.grid(True)\n",
    "plt.show()"
   ]
  },
  {
   "cell_type": "markdown",
   "metadata": {},
   "source": [
    "На каждом последующем этапе обработки сырья уменьшается концентрация серебра и свинца, в то время как концентрация золота увеличивается."
   ]
  },
  {
   "cell_type": "code",
   "execution_count": 32,
   "metadata": {},
   "outputs": [
    {
     "data": {
      "image/png": "[encoded data removed]",
      "text/plain": [
       "<Figure size 1008x432 with 1 Axes>"
      ]
     },
     "metadata": {
      "needs_background": "light"
     },
     "output_type": "display_data"
    }
   ],
   "source": [
    "plt.figure(figsize=(14,6))\n",
    "data_train['rougher.input.feed_size'].plot.kde()\n",
    "data_test['rougher.input.feed_size'].plot.kde()\n",
    "plt.legend(['Тренировочная выборка','Тестовая выборка'])\n",
    "plt.title('Распределение размеров гранул на обучающей и тестовой выборках')\n",
    "plt.xlabel('Размер гранул')\n",
    "plt.grid(True)\n",
    "plt.show()"
   ]
  },
  {
   "cell_type": "markdown",
   "metadata": {},
   "source": [
    "Сравнили распределение размеров гранул сырья на обучающей и тестовой выборках. Распределение не отличаются друг от друга, оценка модели будет правильной."
   ]
  },
  {
   "cell_type": "markdown",
   "metadata": {},
   "source": [
    "### Подсчитаем суммарную концентрацию веществ на разных стадиях отчистки "
   ]
  },
  {
   "cell_type": "markdown",
   "metadata": {},
   "source": [
    "#### Cуммарная концентрация всех веществ "
   ]
  },
  {
   "cell_type": "code",
   "execution_count": 33,
   "metadata": {},
   "outputs": [
    {
     "data": {
      "image/png": "[encoded data removed]",
      "text/plain": [
       "<Figure size 1008x432 with 1 Axes>"
      ]
     },
     "metadata": {
      "needs_background": "light"
     },
     "output_type": "display_data"
    },
    {
     "data": {
      "image/png": "[encoded data removed]",
      "text/plain": [
       "<Figure size 432x288 with 1 Axes>"
      ]
     },
     "metadata": {
      "needs_background": "light"
     },
     "output_type": "display_data"
    }
   ],
   "source": [
    "Sum_concentration1 =  data_full['rougher.input.feed_ag'] + data_full['rougher.input.feed_au'] + data_full['rougher.input.feed_pb']\n",
    "Sum_concentration2 =  data_full['rougher.output.concentrate_ag'] + data_full['rougher.output.concentrate_au'] + data_full['rougher.output.concentrate_pb']\n",
    "Sum_concentration3 =  data_full['final.output.concentrate_ag'] + data_full['final.output.concentrate_au'] + data_full['final.output.concentrate_pb']\n",
    "\n",
    "plt.figure(figsize=(14,6))\n",
    "Sum_concentration1.plot.hist(bins=200)\n",
    "Sum_concentration2.plot.hist(bins=200)\n",
    "Sum_concentration3.plot.hist(bins=200)\n",
    "\n",
    "plt.title('Cуммарная концентрация всех веществ на стадиях фильтрации')\n",
    "plt.xlabel('Значение концентрации')\n",
    "plt.ylabel('Количество значений')\n",
    "plt.legend(['rougher.input', 'rougher.output', 'final.output'])\n",
    "plt.grid(True)\n",
    "plt.show();\n",
    "sns.boxplot(Sum_concentration1+Sum_concentration2+Sum_concentration3);\n"
   ]
  },
  {
   "cell_type": "code",
   "execution_count": 34,
   "metadata": {},
   "outputs": [
    {
     "data": {
      "text/plain": [
       "count    19439.000000\n",
       "mean        20.646120\n",
       "std          4.480027\n",
       "min          0.030000\n",
       "25%         17.252879\n",
       "50%         20.141216\n",
       "75%         23.797381\n",
       "max         33.498784\n",
       "dtype: float64"
      ]
     },
     "execution_count": 34,
     "metadata": {},
     "output_type": "execute_result"
    }
   ],
   "source": [
    "Sum_concentration1.describe()"
   ]
  },
  {
   "cell_type": "markdown",
   "metadata": {},
   "source": [
    "Заметно, что возникает пик около нулевого значения. Этот пик настолько сильно выделяется из общего распределения, что этот выброс стоит удалить.\n",
    "\n",
    "Аномалии в большинстве случаев присутствуют на этапе предварительной очистки, особенно около нулевого значения. При обработке первичного материала они почти не наблюдаются"
   ]
  },
  {
   "cell_type": "markdown",
   "metadata": {},
   "source": [
    "###  Удаление выбросов"
   ]
  },
  {
   "cell_type": "code",
   "execution_count": 35,
   "metadata": {},
   "outputs": [
    {
     "data": {
      "image/png": "[encoded data removed]",
      "text/plain": [
       "<Figure size 1008x432 with 1 Axes>"
      ]
     },
     "metadata": {
      "needs_background": "light"
     },
     "output_type": "display_data"
    },
    {
     "data": {
      "image/png": "[encoded data removed]",
      "text/plain": [
       "<Figure size 432x288 with 1 Axes>"
      ]
     },
     "metadata": {
      "needs_background": "light"
     },
     "output_type": "display_data"
    }
   ],
   "source": [
    "sum_concentration = (data_full['rougher.output.concentrate_ag'] +\n",
    "data_full['rougher.output.concentrate_au'] + \n",
    "data_full['rougher.output.concentrate_pb'])\n",
    "\n",
    "# Фильтрация суммарной концентрации\n",
    "filtered_sum_concentration = sum_concentration[sum_concentration>0]\n",
    "plt.figure(figsize=(14,6))\n",
    "filtered_sum_concentration.plot.hist(bins=200)\n",
    "plt.title('Cуммарная концентрация всех веществ в черновом концентаре')\n",
    "plt.xlabel('Значение концентрации')\n",
    "plt.ylabel('Количество значений')\n",
    "plt.grid(True)\n",
    "plt.show()\n",
    "sns.boxplot(filtered_sum_concentration);"
   ]
  },
  {
   "cell_type": "code",
   "execution_count": 36,
   "metadata": {},
   "outputs": [
    {
     "data": {
      "text/plain": [
       "count    19439.000000\n",
       "mean        39.373032\n",
       "std          6.863389\n",
       "min          0.000000\n",
       "25%         38.394639\n",
       "50%         40.312648\n",
       "75%         42.365102\n",
       "max         55.568687\n",
       "dtype: float64"
      ]
     },
     "execution_count": 36,
     "metadata": {},
     "output_type": "execute_result"
    }
   ],
   "source": [
    "sum_concentration.describe()"
   ]
  },
  {
   "cell_type": "code",
   "execution_count": 37,
   "metadata": {},
   "outputs": [
    {
     "data": {
      "image/png": "[encoded data removed]",
      "text/plain": [
       "<Figure size 1008x432 with 1 Axes>"
      ]
     },
     "metadata": {
      "needs_background": "light"
     },
     "output_type": "display_data"
    },
    {
     "data": {
      "image/png": "[encoded data removed]",
      "text/plain": [
       "<Figure size 432x288 with 1 Axes>"
      ]
     },
     "metadata": {
      "needs_background": "light"
     },
     "output_type": "display_data"
    }
   ],
   "source": [
    "sum_concentration =  (data_full['final.output.concentrate_ag'] +\n",
    "data_full['final.output.concentrate_au'] +\n",
    "data_full['final.output.concentrate_pb'])\n",
    "\n",
    " \n",
    "\n",
    "# Фильтрация суммарной концентрации\n",
    "filtered_sum_concentration = sum_concentration[(sum_concentration > 1) ]\n",
    "plt.figure(figsize=(14,6))\n",
    "filtered_sum_concentration.plot.hist(bins=200)\n",
    "plt.title('Cуммарная концентрация всех веществ на финальном этапе')\n",
    "plt.xlabel('Значение концентрации')\n",
    "plt.ylabel('Количество значений')\n",
    "plt.grid(True)\n",
    "plt.show()\n",
    "sns.boxplot(filtered_sum_concentration);"
   ]
  },
  {
   "cell_type": "markdown",
   "metadata": {},
   "source": [
    "Фильтрация data_full от околонулевых выбросов"
   ]
  },
  {
   "cell_type": "code",
   "execution_count": 38,
   "metadata": {},
   "outputs": [
    {
     "data": {
      "text/plain": [
       "(19439, 87)"
      ]
     },
     "execution_count": 38,
     "metadata": {},
     "output_type": "execute_result"
    }
   ],
   "source": [
    "data_full.shape"
   ]
  },
  {
   "cell_type": "code",
   "execution_count": 39,
   "metadata": {},
   "outputs": [
    {
     "data": {
      "text/plain": [
       "(14149, 87)"
      ]
     },
     "execution_count": 39,
     "metadata": {},
     "output_type": "execute_result"
    }
   ],
   "source": [
    "data_train.shape"
   ]
  },
  {
   "cell_type": "code",
   "execution_count": 40,
   "metadata": {},
   "outputs": [
    {
     "data": {
      "text/plain": [
       "(5290, 55)"
      ]
     },
     "execution_count": 40,
     "metadata": {},
     "output_type": "execute_result"
    }
   ],
   "source": [
    "data_test.shape"
   ]
  },
  {
   "cell_type": "code",
   "execution_count": 41,
   "metadata": {},
   "outputs": [],
   "source": [
    "data_full = data_full[\n",
    "    (data_full['rougher.input.feed_ag'] > 1) & \n",
    "    (data_full['rougher.input.feed_au'] > 1) & \n",
    "    (data_full['rougher.input.feed_pb'] > 1)\n",
    "]\n",
    "\n",
    "data_full = data_full[\n",
    "    (data_full['rougher.output.concentrate_ag'] > 1) & \n",
    "    (data_full['rougher.output.concentrate_au'] > 1) & \n",
    "    (data_full['rougher.output.concentrate_pb'] > 1)\n",
    "]\n",
    "\n",
    "data_full = data_full[\n",
    "    (data_full['final.output.concentrate_ag'] > 1) & \n",
    "    (data_full['final.output.concentrate_au'] > 1) & \n",
    "    (data_full['final.output.concentrate_pb'] > 1)\n",
    "]\n",
    " \n",
    "\n",
    "    "
   ]
  },
  {
   "cell_type": "code",
   "execution_count": 42,
   "metadata": {
    "scrolled": false
   },
   "outputs": [
    {
     "data": {
      "image/png": "[encoded data removed]",
      "text/plain": [
       "<Figure size 1008x432 with 1 Axes>"
      ]
     },
     "metadata": {
      "needs_background": "light"
     },
     "output_type": "display_data"
    },
    {
     "data": {
      "image/png": "[encoded data removed]",
      "text/plain": [
       "<Figure size 432x288 with 1 Axes>"
      ]
     },
     "metadata": {
      "needs_background": "light"
     },
     "output_type": "display_data"
    }
   ],
   "source": [
    "sum_concentration = (data_full['rougher.output.concentrate_ag'] +\n",
    "data_full['rougher.output.concentrate_au'] + \n",
    "data_full['rougher.output.concentrate_pb'])\n",
    "\n",
    "# Фильтрация суммарной концентрации\n",
    "filtered_sum_concentration = sum_concentration[sum_concentration>0]\n",
    "plt.figure(figsize=(14,6))\n",
    "filtered_sum_concentration.plot.hist(bins=200)\n",
    "plt.title('Cуммарная концентрация всех веществ в черновом концентаре')\n",
    "plt.xlabel('Значение концентрации')\n",
    "plt.ylabel('Количество значений')\n",
    "plt.grid(True)\n",
    "plt.show()\n",
    "sns.boxplot(filtered_sum_concentration);"
   ]
  },
  {
   "cell_type": "markdown",
   "metadata": {},
   "source": [
    "Очистка прошла успешно"
   ]
  },
  {
   "cell_type": "markdown",
   "metadata": {},
   "source": [
    "### Очистка тренировочной, тестовой выборки от околонулевых выбросов, добавление целевых параметров"
   ]
  },
  {
   "cell_type": "code",
   "execution_count": 43,
   "metadata": {},
   "outputs": [],
   "source": [
    "data_train = data_train.merge(data_full['date'], on='date', how='inner')"
   ]
  },
  {
   "cell_type": "code",
   "execution_count": 44,
   "metadata": {},
   "outputs": [],
   "source": [
    "data_test = data_test.merge(data_full['date'], on='date', how='inner')"
   ]
  },
  {
   "cell_type": "code",
   "execution_count": 45,
   "metadata": {},
   "outputs": [],
   "source": [
    "data_train=data_train[data_test.columns]"
   ]
  },
  {
   "cell_type": "code",
   "execution_count": 46,
   "metadata": {},
   "outputs": [
    {
     "data": {
      "text/plain": [
       "(18776, 87)"
      ]
     },
     "execution_count": 46,
     "metadata": {},
     "output_type": "execute_result"
    }
   ],
   "source": [
    "data_full.shape"
   ]
  },
  {
   "cell_type": "code",
   "execution_count": 47,
   "metadata": {},
   "outputs": [
    {
     "data": {
      "text/plain": [
       "(13638, 55)"
      ]
     },
     "execution_count": 47,
     "metadata": {},
     "output_type": "execute_result"
    }
   ],
   "source": [
    "data_train.shape"
   ]
  },
  {
   "cell_type": "code",
   "execution_count": 48,
   "metadata": {},
   "outputs": [
    {
     "data": {
      "text/plain": [
       "(5138, 55)"
      ]
     },
     "execution_count": 48,
     "metadata": {},
     "output_type": "execute_result"
    }
   ],
   "source": [
    "data_test.shape"
   ]
  },
  {
   "cell_type": "markdown",
   "metadata": {},
   "source": [
    "## Модель"
   ]
  },
  {
   "cell_type": "markdown",
   "metadata": {},
   "source": [
    "### Features & target"
   ]
  },
  {
   "cell_type": "code",
   "execution_count": 49,
   "metadata": {},
   "outputs": [],
   "source": [
    "data_train=data_train.drop('date',axis=1)"
   ]
  },
  {
   "cell_type": "code",
   "execution_count": 50,
   "metadata": {},
   "outputs": [],
   "source": [
    "dt_train_features = data_train.drop(['rougher.output.recovery','final.output.recovery'], axis=1)\n",
    "dt_train_target_r = data_train['rougher.output.recovery']\n",
    "dt_train_target_f = data_train['final.output.recovery']"
   ]
  },
  {
   "cell_type": "code",
   "execution_count": 51,
   "metadata": {},
   "outputs": [],
   "source": [
    "data_test=data_test.drop('date',axis=1)"
   ]
  },
  {
   "cell_type": "code",
   "execution_count": 52,
   "metadata": {},
   "outputs": [],
   "source": [
    "dt_test_features = data_test.drop(['rougher.output.recovery','final.output.recovery'], axis=1)\n",
    "dt_test_target_r = data_test['rougher.output.recovery']\n",
    "dt_test_target_f = data_test['final.output.recovery']"
   ]
  },
  {
   "cell_type": "markdown",
   "metadata": {},
   "source": [
    "### Smape"
   ]
  },
  {
   "cell_type": "code",
   "execution_count": 53,
   "metadata": {},
   "outputs": [],
   "source": [
    "def sMAPE(y, y_pred):\n",
    "    results = abs(y - y_pred) / ((abs(y) + abs(y_pred)) / 2)\n",
    "    return ((results.sum() / len(results)) * 100).round(2)\n"
   ]
  },
  {
   "cell_type": "code",
   "execution_count": 54,
   "metadata": {},
   "outputs": [],
   "source": [
    "def fin_smape2(rougher,final):\n",
    "    fin_smape = (0.25*rougher)+(0.75*final)\n",
    "    return fin_smape.round(2)"
   ]
  },
  {
   "cell_type": "code",
   "execution_count": 55,
   "metadata": {},
   "outputs": [],
   "source": [
    "smape_scorer = make_scorer(sMAPE, greater_is_better=False)\n",
    "\n",
    "\n",
    "rfr_params = {\n",
    "    'n_estimators': range(10,120,5),\n",
    "    'max_depth': range(1,15)\n",
    "}\n",
    "\n",
    "\n",
    "dtr_params = {\n",
    "    'max_depth': range(1, 25)\n",
    "}"
   ]
  },
  {
   "cell_type": "markdown",
   "metadata": {},
   "source": [
    "###   LinearRegression"
   ]
  },
  {
   "cell_type": "code",
   "execution_count": 78,
   "metadata": {},
   "outputs": [
    {
     "name": "stdout",
     "output_type": "stream",
     "text": [
      "Лучшее значение метрики для rougher: 7.134\n"
     ]
    }
   ],
   "source": [
    "model = LinearRegression()\n",
    "cross = cross_val_score(model, dt_train_features, \n",
    "                        dt_train_target_r, cv=5,\n",
    "                        scoring=smape_scorer)\n",
    "result1 = cross.sum()/len(cross)*(-1)\n",
    "print('Лучшее значение метрики для rougher:', result1)"
   ]
  },
  {
   "cell_type": "code",
   "execution_count": 79,
   "metadata": {
    "scrolled": true
   },
   "outputs": [
    {
     "name": "stdout",
     "output_type": "stream",
     "text": [
      "Лучшее значение метрики для final: 10.803999999999998\n"
     ]
    }
   ],
   "source": [
    "model = LinearRegression()\n",
    "cross = cross_val_score(model, dt_train_features, \n",
    "                        dt_train_target_f, cv=5,\n",
    "                        scoring=smape_scorer)\n",
    "result11 = cross.sum()/len(cross)*(-1)\n",
    "print('Лучшее значение метрики для final:', result11)"
   ]
  },
  {
   "cell_type": "markdown",
   "metadata": {},
   "source": [
    "###   DecisionTreeRegressor"
   ]
  },
  {
   "cell_type": "code",
   "execution_count": 62,
   "metadata": {},
   "outputs": [
    {
     "name": "stdout",
     "output_type": "stream",
     "text": [
      "Лучшее значение гиперпараметров {'max_depth': 4}\n",
      "Лучшее значение метрики для rougher: -7.016\n",
      "DecisionTreeRegressor(max_depth=4, random_state=12345)\n",
      "CPU times: user 57.4 s, sys: 11.4 ms, total: 57.4 s\n",
      "Wall time: 57.5 s\n"
     ]
    }
   ],
   "source": [
    "%%time\n",
    "dtr_grid = GridSearchCV(\n",
    "DecisionTreeRegressor(random_state=12345),\n",
    "                        dtr_params,\n",
    "                        cv=5,\n",
    "                        scoring=smape_scorer\n",
    ")\n",
    "dtr_grid.fit(dt_train_features,  dt_train_target_r)\n",
    "print ('Лучшее значение гиперпараметров', dtr_grid.best_params_)\n",
    "print ('Лучшее значение метрики для rougher:',dtr_grid.best_score_)\n",
    "print (dtr_grid.best_estimator_)\n",
    "DTR_rougher_estimator = dtr_grid.best_estimator_\n",
    "DTR_rougher_score = dtr_grid.best_score_"
   ]
  },
  {
   "cell_type": "code",
   "execution_count": 63,
   "metadata": {
    "scrolled": true
   },
   "outputs": [
    {
     "name": "stdout",
     "output_type": "stream",
     "text": [
      "Лучшее значение гиперпараметров {'max_depth': 2}\n",
      "Лучшее значение метрики для rougher: -9.207999999999998\n",
      "DecisionTreeRegressor(max_depth=2, random_state=12345)\n",
      "CPU times: user 1min, sys: 30.6 ms, total: 1min\n",
      "Wall time: 1min 2s\n"
     ]
    }
   ],
   "source": [
    "%%time\n",
    "dtr_grid = GridSearchCV(\n",
    "DecisionTreeRegressor(random_state=12345),\n",
    "                        dtr_params,\n",
    "                        cv=5,\n",
    "                        scoring=smape_scorer\n",
    ")\n",
    "dtr_grid.fit( dt_train_features,  dt_train_target_f)\n",
    "print ('Лучшее значение гиперпараметров', dtr_grid.best_params_)\n",
    "print ('Лучшее значение метрики для rougher:', dtr_grid.best_score_)\n",
    "print (dtr_grid.best_estimator_)\n",
    "DTR_final_estimator = dtr_grid.best_estimator_\n",
    "DTR_final_score = dtr_grid.best_score_"
   ]
  },
  {
   "cell_type": "markdown",
   "metadata": {},
   "source": [
    "###   RandomForestRegresso"
   ]
  },
  {
   "cell_type": "code",
   "execution_count": 85,
   "metadata": {},
   "outputs": [
    {
     "name": "stdout",
     "output_type": "stream",
     "text": [
      "Лучшее значение гиперпараметров {'max_depth': 6, 'n_estimators': 40}\n",
      "Лучшее значение метрики для rougher: -6.348\n",
      "RandomForestRegressor(max_depth=6, n_estimators=40, random_state=12345)\n",
      "CPU times: user 11min 18s, sys: 448 ms, total: 11min 18s\n",
      "Wall time: 11min 19s\n"
     ]
    }
   ],
   "source": [
    "%%time\n",
    "rfr_grid = GridSearchCV(\n",
    "    RandomForestRegressor(random_state=12345),\n",
    "                        rfr_params,\n",
    "                        cv=5,\n",
    "                        scoring=smape_scorer,\n",
    "                        n_jobs=-1\n",
    ")\n",
    "\n",
    "rfr_grid.fit(dt_train_features,  dt_train_target_r)\n",
    "    \n",
    "\n",
    "print ('Лучшее значение гиперпараметров', rfr_grid.best_params_)\n",
    "print ('Лучшее значение метрики для rougher:',rfr_grid.best_score_)\n",
    "print (rfr_grid.best_estimator_)\n",
    "\n",
    "RFR_rougher_estimator = rfr_grid.best_estimator_\n",
    "RFR_rougher_score = rfr_grid.best_score_"
   ]
  },
  {
   "cell_type": "code",
   "execution_count": 86,
   "metadata": {},
   "outputs": [
    {
     "name": "stdout",
     "output_type": "stream",
     "text": [
      "Лучшее значение гиперпараметров {'max_depth': 4, 'n_estimators': 40}\n",
      "Лучшее значение метрики для rougher: -8.838\n",
      "RandomForestRegressor(max_depth=4, n_estimators=40, random_state=12345)\n"
     ]
    }
   ],
   "source": [
    "%%time\n",
    "rfr_grid = GridSearchCV(\n",
    "    RandomForestRegressor(random_state=12345),\n",
    "                        rfr_params,\n",
    "                        cv=5,\n",
    "                        scoring=smape_scorer)\n",
    "\n",
    "rfr_grid.fit(dt_train_features,  dt_train_target_f)\n",
    "\n",
    "print ('Лучшее значение гиперпараметров', rfr_grid.best_params_)\n",
    "print ('Лучшее значение метрики для rougher:',rfr_grid.best_score_)\n",
    "print (rfr_grid.best_estimator_)\n",
    "\n",
    "RFR_final_estimator = rfr_grid.best_estimator_\n",
    "RFR_final_score = rfr_grid.best_score_"
   ]
  },
  {
   "cell_type": "code",
   "execution_count": 101,
   "metadata": {},
   "outputs": [],
   "source": [
    "mframe = pd.DataFrame(\n",
    "    index=['Линейная регрессия','Дерево решений','Случайный лес'],\n",
    "    columns=pd.MultiIndex.from_product([['Тренировочный df', 'Тестовый df'], ['Rougher', 'Final']])\n",
    ")\n",
    "\n",
    "\n",
    "data = [\n",
    "    [result1, round(result11,3), '', ''],  # LR\n",
    "    [-1*DTR_rougher_score, round(-1*DTR_final_score,3),  '',  ''],  # DTR\n",
    "    [round(-1*RFR_rougher_score,3),round(-1 *RFR_final_score,3), '',  '']   # RTR\n",
    "]\n",
    " \n",
    "mframe[:] = data\n",
    " "
   ]
  },
  {
   "cell_type": "code",
   "execution_count": 102,
   "metadata": {},
   "outputs": [
    {
     "data": {
      "text/html": [
       "<div>\n",
       "<style scoped>\n",
       "    .dataframe tbody tr th:only-of-type {\n",
       "        vertical-align: middle;\n",
       "    }\n",
       "\n",
       "    .dataframe tbody tr th {\n",
       "        vertical-align: top;\n",
       "    }\n",
       "\n",
       "    .dataframe thead tr th {\n",
       "        text-align: left;\n",
       "    }\n",
       "</style>\n",
       "<table border=\"1\" class=\"dataframe\">\n",
       "  <thead>\n",
       "    <tr>\n",
       "      <th></th>\n",
       "      <th colspan=\"2\" halign=\"left\">Тренировочный df</th>\n",
       "      <th colspan=\"2\" halign=\"left\">Тестовый df</th>\n",
       "    </tr>\n",
       "    <tr>\n",
       "      <th></th>\n",
       "      <th>Rougher</th>\n",
       "      <th>Final</th>\n",
       "      <th>Rougher</th>\n",
       "      <th>Final</th>\n",
       "    </tr>\n",
       "  </thead>\n",
       "  <tbody>\n",
       "    <tr>\n",
       "      <th>Линейная регрессия</th>\n",
       "      <td>7.134</td>\n",
       "      <td>10.804</td>\n",
       "      <td></td>\n",
       "      <td></td>\n",
       "    </tr>\n",
       "    <tr>\n",
       "      <th>Дерево решений</th>\n",
       "      <td>7.016</td>\n",
       "      <td>9.208</td>\n",
       "      <td></td>\n",
       "      <td></td>\n",
       "    </tr>\n",
       "    <tr>\n",
       "      <th>Случайный лес</th>\n",
       "      <td>6.348</td>\n",
       "      <td>8.838</td>\n",
       "      <td></td>\n",
       "      <td></td>\n",
       "    </tr>\n",
       "  </tbody>\n",
       "</table>\n",
       "</div>"
      ],
      "text/plain": [
       "                   Тренировочный df         Тестовый df      \n",
       "                            Rougher   Final     Rougher Final\n",
       "Линейная регрессия            7.134  10.804                  \n",
       "Дерево решений                7.016   9.208                  \n",
       "Случайный лес                 6.348   8.838                  "
      ]
     },
     "execution_count": 102,
     "metadata": {},
     "output_type": "execute_result"
    }
   ],
   "source": [
    "mframe"
   ]
  },
  {
   "cell_type": "code",
   "execution_count": 89,
   "metadata": {},
   "outputs": [
    {
     "name": "stdout",
     "output_type": "stream",
     "text": [
      "Итоговое значение sMAPE для train:  8.41\n"
     ]
    }
   ],
   "source": [
    "fin_score_dtf1 = fin_smape2(result1,round(-1 *RFR_final_score,3))\n",
    "print('Итоговое значение sMAPE для train: ', fin_score_dtf1 )"
   ]
  },
  {
   "cell_type": "markdown",
   "metadata": {},
   "source": [
    "Лучше всего справляются Линейная регрессия и Дерево решений. Для тестовой сборки возьмем их\n"
   ]
  },
  {
   "cell_type": "markdown",
   "metadata": {},
   "source": [
    "### Проверка лучшей модели на тестовой сборке"
   ]
  },
  {
   "cell_type": "code",
   "execution_count": 75,
   "metadata": {},
   "outputs": [
    {
     "name": "stdout",
     "output_type": "stream",
     "text": [
      "Лучшее значение метрики для rougher: 4.74\n"
     ]
    }
   ],
   "source": [
    "model = LinearRegression()\n",
    "\n",
    "model.fit(dt_train_features, dt_train_target_r)\n",
    "\n",
    "test_pred = model.predict(dt_test_features)\n",
    "\n",
    "print('Лучшее значение метрики для rougher:', sMAPE(dt_test_target_r, test_pred))"
   ]
  },
  {
   "cell_type": "code",
   "execution_count": 65,
   "metadata": {
    "scrolled": true
   },
   "outputs": [
    {
     "name": "stdout",
     "output_type": "stream",
     "text": [
      "Выбранная модель: DecisionTreeRegressor(max_depth=2, random_state=12345)\n",
      "Лучшее значение метрики для test_final: 7.642\n"
     ]
    }
   ],
   "source": [
    "DTR_final_estimator\n",
    "dtr_grid.fit( dt_test_features,  dt_test_target_f)\n",
    "\n",
    "print('Выбранная модель:', DTR_final_estimator)\n",
    "print('Лучшее значение метрики для test_final:', round(-1*dtr_grid.best_score_,3))\n"
   ]
  },
  {
   "cell_type": "code",
   "execution_count": 103,
   "metadata": {},
   "outputs": [
    {
     "data": {
      "text/plain": [
       "7.642"
      ]
     },
     "execution_count": 103,
     "metadata": {},
     "output_type": "execute_result"
    }
   ],
   "source": [
    "round(-1*dtr_grid.best_score_,3)"
   ]
  },
  {
   "cell_type": "code",
   "execution_count": 76,
   "metadata": {},
   "outputs": [
    {
     "name": "stdout",
     "output_type": "stream",
     "text": [
      "Итоговое значение sMAPE для test:  6.92\n"
     ]
    }
   ],
   "source": [
    "fin_score_dtf2 = fin_smape2(sMAPE(dt_test_target_r, test_pred), round(-1*dtr_grid.best_score_,3))\n",
    "print('Итоговое значение sMAPE для test: ', fin_score_dtf2 )"
   ]
  },
  {
   "cell_type": "markdown",
   "metadata": {},
   "source": [
    " ### Dummy model"
   ]
  },
  {
   "cell_type": "code",
   "execution_count": 135,
   "metadata": {},
   "outputs": [
    {
     "name": "stdout",
     "output_type": "stream",
     "text": [
      "sMAPE для rougher:  7.19\n"
     ]
    }
   ],
   "source": [
    "dummy_r = DummyRegressor(strategy=\"median\")\n",
    "dummy_r.fit(dt_train_features, dt_train_target_r)\n",
    "predict_r = dummy_r.predict(dt_train_features)\n",
    "smape_r = sMAPE(dt_train_target_r, predict_r)\n",
    "print(\"sMAPE для rougher: \", smape_r)\n"
   ]
  },
  {
   "cell_type": "code",
   "execution_count": 136,
   "metadata": {},
   "outputs": [
    {
     "name": "stdout",
     "output_type": "stream",
     "text": [
      "sMAPE для final:  10.03\n"
     ]
    }
   ],
   "source": [
    "dummy_f = DummyRegressor(strategy=\"median\")\n",
    "dummy_f.fit(dt_train_features, dt_train_target_f)\n",
    "predict_f = dummy_f.predict(dt_train_features)\n",
    "smape_f = sMAPE(dt_train_target_f, predict_f)\n",
    "print(\"sMAPE для final: \", smape_f)"
   ]
  },
  {
   "cell_type": "code",
   "execution_count": 137,
   "metadata": {},
   "outputs": [
    {
     "name": "stdout",
     "output_type": "stream",
     "text": [
      "Final sMAPE:  9.319999999999999\n"
     ]
    }
   ],
   "source": [
    "final_smape = 0.25 * smape_r + 0.75 * smape_f\n",
    "print(\"Final sMAPE: \", final_smape)"
   ]
  },
  {
   "cell_type": "markdown",
   "metadata": {},
   "source": [
    "sMAPE выглядит адекватным, соответственно изначальная дата была приемлемой"
   ]
  },
  {
   "cell_type": "markdown",
   "metadata": {},
   "source": [
    "#  Вывод\n",
    "- Согласно проверке, целевые признаки, полученные на практике, практически не отличаются от вычисленных.\n",
    "\n",
    "\n",
    "- Созданы отдельные таблицы для обучения/теста, согласно их индексу, на основании очищенных данных основной таблицы.\n",
    "\n",
    "\n",
    "- Была проведена  работа по обработке и анализу данных. Пропуски удалены, столбцы приведены к нужному типу, проведена \n",
    "\n",
    "  аналитическая работа по выявлению суммарной концентарции.\n",
    "    \n",
    "Анализ данных:\n",
    "\n",
    " - По результату прохождения этапов обработки суммарная концентрация веществ увеличивается\n",
    " \n",
    " \n",
    " - Медиана смещается вправо\n",
    " \n",
    " \n",
    " - Удалены выбросы\n",
    " \n",
    "\n",
    "\n",
    "Построение моделей:\n",
    "\n",
    "\n",
    " - Написана функция для вычисления итоговой sMAPE.\n",
    " \n",
    " \n",
    " - Обучены разные модели и проведена их проверка\n",
    " \n",
    " \n",
    "\n",
    " \n",
    " "
   ]
  },
  {
   "cell_type": "markdown",
   "metadata": {},
   "source": [
    "## Чек-лист готовности проекта"
   ]
  },
  {
   "cell_type": "markdown",
   "metadata": {},
   "source": [
    "- [x]  Jupyter Notebook открыт\n",
    "- [x]  Весь код выполняется без ошибок\n",
    "- [x]  Ячейки с кодом расположены в порядке выполнения\n",
    "- [x]  Выполнен шаг 1: данные подготовлены\n",
    "    - [x]  Проверена формула вычисления эффективности обогащения\n",
    "    - [x]  Проанализированы признаки, недоступные в тестовой выборке\n",
    "    - [x]  Проведена предобработка данных\n",
    "- [ ]  Выполнен шаг 2: данные проанализированы\n",
    "    - [x]  Исследовано изменение концентрации элементов на каждом этапе\n",
    "    - [x]  Проанализированы распределения размеров гранул на обучающей и тестовой выборках\n",
    "    - [x]  Исследованы суммарные концентрации\n",
    "- [x]  Выполнен шаг 3: построена модель прогнозирования\n",
    "    - [x]  Написана функция для вычисления итогового *sMAPE*\n",
    "    - [x]  Обучено и проверено несколько моделей\n",
    "    - [x]  Выбрана лучшая модель, её качество проверено на тестовой выборке"
   ]
  }
 ],
 "metadata": {
  "ExecuteTimeLog": [
   {
    "duration": 419,
    "start_time": "2023-11-13T08:39:29.855Z"
   },
   {
    "duration": 103,
    "start_time": "2023-11-13T08:39:49.797Z"
   },
   {
    "duration": 792,
    "start_time": "2023-11-13T08:39:58.190Z"
   },
   {
    "duration": 35,
    "start_time": "2023-11-13T08:40:03.910Z"
   },
   {
    "duration": 270,
    "start_time": "2023-11-13T08:40:19.728Z"
   },
   {
    "duration": 266,
    "start_time": "2023-11-13T08:41:31.119Z"
   },
   {
    "duration": 83,
    "start_time": "2023-11-13T08:42:01.993Z"
   },
   {
    "duration": 1845,
    "start_time": "2023-11-13T08:42:14.007Z"
   },
   {
    "duration": 369,
    "start_time": "2023-11-13T08:42:15.853Z"
   },
   {
    "duration": 32,
    "start_time": "2023-11-13T08:42:49.513Z"
   },
   {
    "duration": 26,
    "start_time": "2023-11-13T08:42:52.002Z"
   },
   {
    "duration": 1188,
    "start_time": "2023-11-13T09:38:30.961Z"
   },
   {
    "duration": 2084,
    "start_time": "2023-11-13T09:38:54.249Z"
   },
   {
    "duration": 695,
    "start_time": "2023-11-13T09:41:30.276Z"
   },
   {
    "duration": 11,
    "start_time": "2023-11-13T09:43:08.129Z"
   },
   {
    "duration": 4,
    "start_time": "2023-11-13T09:43:15.452Z"
   },
   {
    "duration": 5,
    "start_time": "2023-11-13T09:43:23.670Z"
   },
   {
    "duration": 5,
    "start_time": "2023-11-13T09:43:37.533Z"
   },
   {
    "duration": 9,
    "start_time": "2023-11-13T09:44:08.476Z"
   },
   {
    "duration": 11,
    "start_time": "2023-11-13T09:44:16.403Z"
   },
   {
    "duration": 4,
    "start_time": "2023-11-13T09:44:20.748Z"
   },
   {
    "duration": 12,
    "start_time": "2023-11-13T10:12:16.557Z"
   },
   {
    "duration": 5,
    "start_time": "2023-11-13T10:12:18.597Z"
   },
   {
    "duration": 8,
    "start_time": "2023-11-13T10:12:20.977Z"
   },
   {
    "duration": 4,
    "start_time": "2023-11-13T10:12:22.331Z"
   },
   {
    "duration": 8,
    "start_time": "2023-11-13T10:12:36.251Z"
   },
   {
    "duration": 4,
    "start_time": "2023-11-13T10:12:38.257Z"
   },
   {
    "duration": 30,
    "start_time": "2023-11-13T10:15:38.588Z"
   },
   {
    "duration": 5,
    "start_time": "2023-11-13T10:21:01.152Z"
   },
   {
    "duration": 8,
    "start_time": "2023-11-13T10:21:07.080Z"
   },
   {
    "duration": 8,
    "start_time": "2023-11-13T10:21:10.815Z"
   },
   {
    "duration": 5,
    "start_time": "2023-11-13T10:21:42.594Z"
   },
   {
    "duration": 5,
    "start_time": "2023-11-13T10:22:38.881Z"
   },
   {
    "duration": 5,
    "start_time": "2023-11-13T10:26:31.606Z"
   },
   {
    "duration": 11,
    "start_time": "2023-11-13T10:32:15.703Z"
   },
   {
    "duration": 77,
    "start_time": "2023-11-13T10:32:19.423Z"
   },
   {
    "duration": 6,
    "start_time": "2023-11-13T10:32:24.623Z"
   },
   {
    "duration": 15,
    "start_time": "2023-11-13T10:32:31.144Z"
   },
   {
    "duration": 11,
    "start_time": "2023-11-13T10:32:43.960Z"
   },
   {
    "duration": 295,
    "start_time": "2023-11-13T10:32:47.631Z"
   },
   {
    "duration": 5,
    "start_time": "2023-11-13T10:32:58.743Z"
   },
   {
    "duration": 11,
    "start_time": "2023-11-13T10:34:04.929Z"
   },
   {
    "duration": 4,
    "start_time": "2023-11-13T10:35:22.865Z"
   },
   {
    "duration": 5,
    "start_time": "2023-11-13T10:38:13.363Z"
   },
   {
    "duration": 5,
    "start_time": "2023-11-13T10:47:47.659Z"
   },
   {
    "duration": 23,
    "start_time": "2023-11-13T10:47:51.578Z"
   },
   {
    "duration": 5,
    "start_time": "2023-11-13T11:37:47.912Z"
   },
   {
    "duration": 1504,
    "start_time": "2023-11-14T05:30:13.259Z"
   },
   {
    "duration": 111,
    "start_time": "2023-11-14T05:30:18.891Z"
   },
   {
    "duration": 4,
    "start_time": "2023-11-14T05:30:23.553Z"
   },
   {
    "duration": 2931,
    "start_time": "2023-11-14T05:30:24.561Z"
   },
   {
    "duration": 31,
    "start_time": "2023-11-14T05:30:27.494Z"
   },
   {
    "duration": 2,
    "start_time": "2023-11-14T05:30:27.527Z"
   },
   {
    "duration": 9,
    "start_time": "2023-11-14T05:30:27.531Z"
   },
   {
    "duration": 8,
    "start_time": "2023-11-14T05:30:27.542Z"
   },
   {
    "duration": 11,
    "start_time": "2023-11-14T05:30:45.243Z"
   },
   {
    "duration": 5,
    "start_time": "2023-11-14T05:31:08.805Z"
   },
   {
    "duration": 5,
    "start_time": "2023-11-14T05:31:17.891Z"
   },
   {
    "duration": 91,
    "start_time": "2023-11-14T05:31:49.620Z"
   },
   {
    "duration": 6,
    "start_time": "2023-11-14T05:31:57.467Z"
   },
   {
    "duration": 6,
    "start_time": "2023-11-14T05:31:59.459Z"
   },
   {
    "duration": 4,
    "start_time": "2023-11-14T05:33:23.700Z"
   },
   {
    "duration": 9,
    "start_time": "2023-11-14T05:34:35.797Z"
   },
   {
    "duration": 7,
    "start_time": "2023-11-14T05:34:48.236Z"
   },
   {
    "duration": 283,
    "start_time": "2023-11-14T05:36:33.749Z"
   },
   {
    "duration": 6,
    "start_time": "2023-11-14T05:36:37.526Z"
   },
   {
    "duration": 6,
    "start_time": "2023-11-14T05:39:01.792Z"
   },
   {
    "duration": 40,
    "start_time": "2023-11-14T05:41:19.736Z"
   },
   {
    "duration": 8,
    "start_time": "2023-11-14T05:43:04.187Z"
   },
   {
    "duration": 6,
    "start_time": "2023-11-14T05:43:12.361Z"
   },
   {
    "duration": 8,
    "start_time": "2023-11-14T05:43:19.897Z"
   },
   {
    "duration": 17,
    "start_time": "2023-11-14T05:43:21.441Z"
   },
   {
    "duration": 8,
    "start_time": "2023-11-14T05:45:47.315Z"
   },
   {
    "duration": 8,
    "start_time": "2023-11-14T05:46:06.379Z"
   },
   {
    "duration": 12,
    "start_time": "2023-11-14T05:46:09.268Z"
   },
   {
    "duration": 13,
    "start_time": "2023-11-14T05:46:30.747Z"
   },
   {
    "duration": 7,
    "start_time": "2023-11-14T05:46:39.804Z"
   },
   {
    "duration": 16,
    "start_time": "2023-11-14T05:46:44.187Z"
   },
   {
    "duration": 17,
    "start_time": "2023-11-14T05:47:09.748Z"
   },
   {
    "duration": 9,
    "start_time": "2023-11-14T05:49:38.256Z"
   },
   {
    "duration": 7,
    "start_time": "2023-11-14T05:49:43.360Z"
   },
   {
    "duration": 16,
    "start_time": "2023-11-14T05:49:49.551Z"
   },
   {
    "duration": 18,
    "start_time": "2023-11-14T05:53:20.600Z"
   },
   {
    "duration": 15,
    "start_time": "2023-11-14T05:53:22.758Z"
   },
   {
    "duration": 13,
    "start_time": "2023-11-14T05:53:34.711Z"
   },
   {
    "duration": 17,
    "start_time": "2023-11-14T05:53:40.039Z"
   },
   {
    "duration": 11,
    "start_time": "2023-11-14T05:53:47.824Z"
   },
   {
    "duration": 14,
    "start_time": "2023-11-14T05:53:50.607Z"
   },
   {
    "duration": 14,
    "start_time": "2023-11-14T05:53:59.863Z"
   },
   {
    "duration": 17,
    "start_time": "2023-11-14T05:54:01.943Z"
   },
   {
    "duration": 17,
    "start_time": "2023-11-14T05:54:48.833Z"
   },
   {
    "duration": 12,
    "start_time": "2023-11-14T05:55:20.992Z"
   },
   {
    "duration": 13,
    "start_time": "2023-11-14T05:55:55.152Z"
   },
   {
    "duration": 15,
    "start_time": "2023-11-14T05:56:04.041Z"
   },
   {
    "duration": 6,
    "start_time": "2023-11-14T05:57:21.817Z"
   },
   {
    "duration": 10,
    "start_time": "2023-11-14T05:57:29.715Z"
   },
   {
    "duration": 11,
    "start_time": "2023-11-14T05:59:30.990Z"
   },
   {
    "duration": 5,
    "start_time": "2023-11-14T06:00:36.990Z"
   },
   {
    "duration": 4,
    "start_time": "2023-11-14T06:00:52.368Z"
   },
   {
    "duration": 9,
    "start_time": "2023-11-14T06:01:11.854Z"
   },
   {
    "duration": 14,
    "start_time": "2023-11-14T06:01:19.238Z"
   },
   {
    "duration": 12,
    "start_time": "2023-11-14T06:01:34.462Z"
   },
   {
    "duration": 10,
    "start_time": "2023-11-14T06:01:36.032Z"
   },
   {
    "duration": 13,
    "start_time": "2023-11-14T06:01:37.520Z"
   },
   {
    "duration": 14,
    "start_time": "2023-11-14T06:01:41.912Z"
   },
   {
    "duration": 3,
    "start_time": "2023-11-14T06:02:05.966Z"
   },
   {
    "duration": 4,
    "start_time": "2023-11-14T06:02:18.111Z"
   },
   {
    "duration": 4,
    "start_time": "2023-11-14T06:02:35.840Z"
   },
   {
    "duration": 4,
    "start_time": "2023-11-14T06:02:43.224Z"
   },
   {
    "duration": 3,
    "start_time": "2023-11-14T06:07:28.693Z"
   },
   {
    "duration": 4,
    "start_time": "2023-11-14T06:14:02.442Z"
   },
   {
    "duration": 729,
    "start_time": "2023-11-14T06:14:03.334Z"
   },
   {
    "duration": 11,
    "start_time": "2023-11-14T06:14:04.065Z"
   },
   {
    "duration": 15,
    "start_time": "2023-11-14T06:14:04.078Z"
   },
   {
    "duration": 6,
    "start_time": "2023-11-14T06:14:04.231Z"
   },
   {
    "duration": 5,
    "start_time": "2023-11-14T06:14:04.606Z"
   },
   {
    "duration": 6418,
    "start_time": "2023-11-14T06:14:09.992Z"
   },
   {
    "duration": 6323,
    "start_time": "2023-11-14T06:14:38.524Z"
   },
   {
    "duration": 145,
    "start_time": "2023-11-14T06:16:45.919Z"
   },
   {
    "duration": 12,
    "start_time": "2023-11-14T06:17:38.675Z"
   },
   {
    "duration": 164,
    "start_time": "2023-11-14T06:17:43.323Z"
   },
   {
    "duration": 2751,
    "start_time": "2023-11-14T06:19:29.483Z"
   },
   {
    "duration": 4,
    "start_time": "2023-11-14T06:27:29.631Z"
   },
   {
    "duration": 711,
    "start_time": "2023-11-14T06:27:30.294Z"
   },
   {
    "duration": 8,
    "start_time": "2023-11-14T06:27:31.007Z"
   },
   {
    "duration": 55,
    "start_time": "2023-11-14T06:27:31.017Z"
   },
   {
    "duration": 5,
    "start_time": "2023-11-14T06:27:31.334Z"
   },
   {
    "duration": 5,
    "start_time": "2023-11-14T06:27:31.686Z"
   },
   {
    "duration": 6,
    "start_time": "2023-11-14T06:27:34.057Z"
   },
   {
    "duration": 41,
    "start_time": "2023-11-14T06:27:35.510Z"
   },
   {
    "duration": 6,
    "start_time": "2023-11-14T06:27:36.663Z"
   },
   {
    "duration": 5,
    "start_time": "2023-11-14T06:27:36.918Z"
   },
   {
    "duration": 7,
    "start_time": "2023-11-14T06:27:37.206Z"
   },
   {
    "duration": 13,
    "start_time": "2023-11-14T06:27:37.751Z"
   },
   {
    "duration": 10,
    "start_time": "2023-11-14T06:27:39.007Z"
   },
   {
    "duration": 12,
    "start_time": "2023-11-14T06:27:39.439Z"
   },
   {
    "duration": 5,
    "start_time": "2023-11-14T06:27:40.678Z"
   },
   {
    "duration": 12,
    "start_time": "2023-11-14T06:27:41.062Z"
   },
   {
    "duration": 4,
    "start_time": "2023-11-14T06:27:41.758Z"
   },
   {
    "duration": 5,
    "start_time": "2023-11-14T06:27:41.983Z"
   },
   {
    "duration": 11,
    "start_time": "2023-11-14T06:27:42.191Z"
   },
   {
    "duration": 4,
    "start_time": "2023-11-14T06:27:42.414Z"
   },
   {
    "duration": 3,
    "start_time": "2023-11-14T06:27:43.657Z"
   },
   {
    "duration": 4,
    "start_time": "2023-11-14T06:28:51.519Z"
   },
   {
    "duration": 26,
    "start_time": "2023-11-14T06:29:10.384Z"
   },
   {
    "duration": 8,
    "start_time": "2023-11-14T06:29:18.052Z"
   },
   {
    "duration": 6,
    "start_time": "2023-11-14T06:29:53.794Z"
   },
   {
    "duration": 4,
    "start_time": "2023-11-14T06:30:19.929Z"
   },
   {
    "duration": 708,
    "start_time": "2023-11-14T06:30:20.469Z"
   },
   {
    "duration": 9,
    "start_time": "2023-11-14T06:30:21.179Z"
   },
   {
    "duration": 9,
    "start_time": "2023-11-14T06:30:21.189Z"
   },
   {
    "duration": 34,
    "start_time": "2023-11-14T06:30:21.200Z"
   },
   {
    "duration": 5,
    "start_time": "2023-11-14T06:30:21.236Z"
   },
   {
    "duration": 44,
    "start_time": "2023-11-14T06:30:21.243Z"
   },
   {
    "duration": 49,
    "start_time": "2023-11-14T06:30:21.288Z"
   },
   {
    "duration": 6,
    "start_time": "2023-11-14T06:30:21.339Z"
   },
   {
    "duration": 5,
    "start_time": "2023-11-14T06:30:22.640Z"
   },
   {
    "duration": 7,
    "start_time": "2023-11-14T06:30:23.137Z"
   },
   {
    "duration": 12,
    "start_time": "2023-11-14T06:30:23.450Z"
   },
   {
    "duration": 11,
    "start_time": "2023-11-14T06:30:24.328Z"
   },
   {
    "duration": 13,
    "start_time": "2023-11-14T06:30:24.544Z"
   },
   {
    "duration": 5,
    "start_time": "2023-11-14T06:30:25.641Z"
   },
   {
    "duration": 12,
    "start_time": "2023-11-14T06:30:25.999Z"
   },
   {
    "duration": 4,
    "start_time": "2023-11-14T06:30:27.832Z"
   },
   {
    "duration": 6,
    "start_time": "2023-11-14T06:30:28.144Z"
   },
   {
    "duration": 11,
    "start_time": "2023-11-14T06:30:28.359Z"
   },
   {
    "duration": 3,
    "start_time": "2023-11-14T06:30:28.552Z"
   },
   {
    "duration": 3,
    "start_time": "2023-11-14T06:30:29.354Z"
   },
   {
    "duration": 4,
    "start_time": "2023-11-14T06:30:31.560Z"
   },
   {
    "duration": 10,
    "start_time": "2023-11-14T06:30:33.610Z"
   },
   {
    "duration": 3,
    "start_time": "2023-11-14T06:30:36.041Z"
   },
   {
    "duration": 4,
    "start_time": "2023-11-14T06:31:23.555Z"
   },
   {
    "duration": 714,
    "start_time": "2023-11-14T06:31:24.106Z"
   },
   {
    "duration": 8,
    "start_time": "2023-11-14T06:31:24.822Z"
   },
   {
    "duration": 13,
    "start_time": "2023-11-14T06:31:24.831Z"
   },
   {
    "duration": 5,
    "start_time": "2023-11-14T06:31:24.846Z"
   },
   {
    "duration": 5,
    "start_time": "2023-11-14T06:31:24.852Z"
   },
   {
    "duration": 7,
    "start_time": "2023-11-14T06:31:24.858Z"
   },
   {
    "duration": 41,
    "start_time": "2023-11-14T06:31:24.866Z"
   },
   {
    "duration": 34,
    "start_time": "2023-11-14T06:31:24.908Z"
   },
   {
    "duration": 7,
    "start_time": "2023-11-14T06:31:24.944Z"
   },
   {
    "duration": 8,
    "start_time": "2023-11-14T06:31:24.953Z"
   },
   {
    "duration": 15,
    "start_time": "2023-11-14T06:31:24.962Z"
   },
   {
    "duration": 10,
    "start_time": "2023-11-14T06:31:24.978Z"
   },
   {
    "duration": 12,
    "start_time": "2023-11-14T06:31:24.989Z"
   },
   {
    "duration": 44,
    "start_time": "2023-11-14T06:31:25.002Z"
   },
   {
    "duration": 3,
    "start_time": "2023-11-14T06:31:25.048Z"
   },
   {
    "duration": 10,
    "start_time": "2023-11-14T06:31:25.053Z"
   },
   {
    "duration": 10,
    "start_time": "2023-11-14T06:31:25.065Z"
   },
   {
    "duration": 4,
    "start_time": "2023-11-14T06:31:25.077Z"
   },
   {
    "duration": 4,
    "start_time": "2023-11-14T06:31:25.082Z"
   },
   {
    "duration": 7,
    "start_time": "2023-11-14T06:31:25.088Z"
   },
   {
    "duration": 7,
    "start_time": "2023-11-14T06:31:25.105Z"
   },
   {
    "duration": 5,
    "start_time": "2023-11-14T06:31:38.699Z"
   },
   {
    "duration": 3,
    "start_time": "2023-11-14T06:31:39.778Z"
   },
   {
    "duration": 3,
    "start_time": "2023-11-14T06:31:54.634Z"
   },
   {
    "duration": 4,
    "start_time": "2023-11-14T06:32:19.252Z"
   },
   {
    "duration": 701,
    "start_time": "2023-11-14T06:32:19.805Z"
   },
   {
    "duration": 7,
    "start_time": "2023-11-14T06:32:20.508Z"
   },
   {
    "duration": 8,
    "start_time": "2023-11-14T06:32:20.517Z"
   },
   {
    "duration": 19,
    "start_time": "2023-11-14T06:32:20.526Z"
   },
   {
    "duration": 14,
    "start_time": "2023-11-14T06:32:20.547Z"
   },
   {
    "duration": 13,
    "start_time": "2023-11-14T06:32:20.562Z"
   },
   {
    "duration": 40,
    "start_time": "2023-11-14T06:32:20.577Z"
   },
   {
    "duration": 6,
    "start_time": "2023-11-14T06:32:20.618Z"
   },
   {
    "duration": 20,
    "start_time": "2023-11-14T06:32:20.625Z"
   },
   {
    "duration": 37,
    "start_time": "2023-11-14T06:32:20.647Z"
   },
   {
    "duration": 14,
    "start_time": "2023-11-14T06:32:20.685Z"
   },
   {
    "duration": 10,
    "start_time": "2023-11-14T06:32:20.700Z"
   },
   {
    "duration": 11,
    "start_time": "2023-11-14T06:32:20.712Z"
   },
   {
    "duration": 15,
    "start_time": "2023-11-14T06:32:20.724Z"
   },
   {
    "duration": 3,
    "start_time": "2023-11-14T06:32:20.741Z"
   },
   {
    "duration": 28,
    "start_time": "2023-11-14T06:32:20.746Z"
   },
   {
    "duration": 28,
    "start_time": "2023-11-14T06:32:20.776Z"
   },
   {
    "duration": 22,
    "start_time": "2023-11-14T06:32:20.807Z"
   },
   {
    "duration": 46,
    "start_time": "2023-11-14T06:32:20.830Z"
   },
   {
    "duration": 17,
    "start_time": "2023-11-14T06:32:20.878Z"
   },
   {
    "duration": 6,
    "start_time": "2023-11-14T06:32:20.897Z"
   },
   {
    "duration": 4,
    "start_time": "2023-11-14T06:39:31.157Z"
   },
   {
    "duration": 705,
    "start_time": "2023-11-14T06:39:31.707Z"
   },
   {
    "duration": 7,
    "start_time": "2023-11-14T06:39:32.414Z"
   },
   {
    "duration": 4,
    "start_time": "2023-11-14T06:39:32.423Z"
   },
   {
    "duration": 17,
    "start_time": "2023-11-14T06:39:32.428Z"
   },
   {
    "duration": 5,
    "start_time": "2023-11-14T06:39:32.446Z"
   },
   {
    "duration": 6,
    "start_time": "2023-11-14T06:39:32.452Z"
   },
   {
    "duration": 40,
    "start_time": "2023-11-14T06:39:32.459Z"
   },
   {
    "duration": 7,
    "start_time": "2023-11-14T06:39:32.500Z"
   },
   {
    "duration": 7,
    "start_time": "2023-11-14T06:39:32.924Z"
   },
   {
    "duration": 7,
    "start_time": "2023-11-14T06:39:33.156Z"
   },
   {
    "duration": 13,
    "start_time": "2023-11-14T06:39:33.339Z"
   },
   {
    "duration": 11,
    "start_time": "2023-11-14T06:39:33.853Z"
   },
   {
    "duration": 13,
    "start_time": "2023-11-14T06:39:33.888Z"
   },
   {
    "duration": 13,
    "start_time": "2023-11-14T06:39:33.965Z"
   },
   {
    "duration": 4,
    "start_time": "2023-11-14T06:39:34.035Z"
   },
   {
    "duration": 7,
    "start_time": "2023-11-14T06:39:34.627Z"
   },
   {
    "duration": 11,
    "start_time": "2023-11-14T06:39:34.852Z"
   },
   {
    "duration": 4,
    "start_time": "2023-11-14T06:39:35.236Z"
   },
   {
    "duration": 8,
    "start_time": "2023-11-14T06:39:35.847Z"
   },
   {
    "duration": 5,
    "start_time": "2023-11-14T06:39:36.259Z"
   },
   {
    "duration": 4,
    "start_time": "2023-11-14T06:39:36.483Z"
   },
   {
    "duration": 5,
    "start_time": "2023-11-14T06:43:59.479Z"
   },
   {
    "duration": 759,
    "start_time": "2023-11-14T06:43:59.989Z"
   },
   {
    "duration": 9,
    "start_time": "2023-11-14T06:44:00.750Z"
   },
   {
    "duration": 78,
    "start_time": "2023-11-14T06:44:00.760Z"
   },
   {
    "duration": 61,
    "start_time": "2023-11-14T06:44:00.839Z"
   },
   {
    "duration": 42,
    "start_time": "2023-11-14T06:44:00.902Z"
   },
   {
    "duration": 49,
    "start_time": "2023-11-14T06:44:00.945Z"
   },
   {
    "duration": 64,
    "start_time": "2023-11-14T06:44:00.996Z"
   },
   {
    "duration": 7,
    "start_time": "2023-11-14T06:44:01.061Z"
   },
   {
    "duration": 48,
    "start_time": "2023-11-14T06:44:01.069Z"
   },
   {
    "duration": 31,
    "start_time": "2023-11-14T06:44:01.119Z"
   },
   {
    "duration": 49,
    "start_time": "2023-11-14T06:44:01.152Z"
   },
   {
    "duration": 48,
    "start_time": "2023-11-14T06:44:01.203Z"
   },
   {
    "duration": 23,
    "start_time": "2023-11-14T06:44:01.253Z"
   },
   {
    "duration": 38,
    "start_time": "2023-11-14T06:44:01.278Z"
   },
   {
    "duration": 9,
    "start_time": "2023-11-14T06:44:01.318Z"
   },
   {
    "duration": 16,
    "start_time": "2023-11-14T06:44:01.329Z"
   },
   {
    "duration": 37,
    "start_time": "2023-11-14T06:44:01.347Z"
   },
   {
    "duration": 34,
    "start_time": "2023-11-14T06:44:01.385Z"
   },
   {
    "duration": 33,
    "start_time": "2023-11-14T06:44:01.420Z"
   },
   {
    "duration": 35,
    "start_time": "2023-11-14T06:44:01.455Z"
   },
   {
    "duration": 16,
    "start_time": "2023-11-14T06:44:01.491Z"
   },
   {
    "duration": 1816,
    "start_time": "2023-11-14T13:21:16.496Z"
   },
   {
    "duration": 3149,
    "start_time": "2023-11-14T13:21:18.315Z"
   },
   {
    "duration": 17,
    "start_time": "2023-11-14T13:21:21.466Z"
   },
   {
    "duration": 4,
    "start_time": "2023-11-14T13:21:21.485Z"
   },
   {
    "duration": 7,
    "start_time": "2023-11-14T13:21:21.491Z"
   },
   {
    "duration": 14,
    "start_time": "2023-11-14T13:21:21.499Z"
   },
   {
    "duration": 10,
    "start_time": "2023-11-14T13:21:21.515Z"
   },
   {
    "duration": 43,
    "start_time": "2023-11-14T13:21:21.527Z"
   },
   {
    "duration": 8,
    "start_time": "2023-11-14T13:21:21.572Z"
   },
   {
    "duration": 35,
    "start_time": "2023-11-14T13:21:21.583Z"
   },
   {
    "duration": 15,
    "start_time": "2023-11-14T13:21:21.620Z"
   },
   {
    "duration": 15,
    "start_time": "2023-11-14T13:21:21.639Z"
   },
   {
    "duration": 12,
    "start_time": "2023-11-14T13:21:21.656Z"
   },
   {
    "duration": 13,
    "start_time": "2023-11-14T13:21:21.669Z"
   },
   {
    "duration": 37,
    "start_time": "2023-11-14T13:21:21.684Z"
   },
   {
    "duration": 13,
    "start_time": "2023-11-14T13:21:21.723Z"
   },
   {
    "duration": 10,
    "start_time": "2023-11-14T13:21:21.738Z"
   },
   {
    "duration": 14,
    "start_time": "2023-11-14T13:21:21.750Z"
   },
   {
    "duration": 4,
    "start_time": "2023-11-14T13:21:21.765Z"
   },
   {
    "duration": 10,
    "start_time": "2023-11-14T13:21:21.771Z"
   },
   {
    "duration": 32,
    "start_time": "2023-11-14T13:21:21.783Z"
   },
   {
    "duration": 14,
    "start_time": "2023-11-14T13:21:21.816Z"
   },
   {
    "duration": 117,
    "start_time": "2023-11-14T13:21:30.308Z"
   },
   {
    "duration": 24,
    "start_time": "2023-11-14T13:21:44.128Z"
   },
   {
    "duration": 13,
    "start_time": "2023-11-14T13:22:01.365Z"
   },
   {
    "duration": 5,
    "start_time": "2023-11-14T13:22:06.389Z"
   },
   {
    "duration": 528,
    "start_time": "2023-11-14T13:25:47.856Z"
   },
   {
    "duration": 1404,
    "start_time": "2023-11-14T13:26:34.541Z"
   },
   {
    "duration": 1693,
    "start_time": "2023-11-14T13:27:02.663Z"
   },
   {
    "duration": 562,
    "start_time": "2023-11-14T13:27:28.433Z"
   },
   {
    "duration": 1758,
    "start_time": "2023-11-14T13:28:02.495Z"
   },
   {
    "duration": 523,
    "start_time": "2023-11-14T13:28:52.000Z"
   },
   {
    "duration": 432,
    "start_time": "2023-11-14T13:33:36.466Z"
   },
   {
    "duration": 563,
    "start_time": "2023-11-14T13:36:38.235Z"
   },
   {
    "duration": 442,
    "start_time": "2023-11-14T13:37:12.252Z"
   },
   {
    "duration": 80,
    "start_time": "2023-11-14T13:45:00.321Z"
   },
   {
    "duration": 448,
    "start_time": "2023-11-14T13:45:03.273Z"
   },
   {
    "duration": 509,
    "start_time": "2023-11-14T13:45:37.280Z"
   },
   {
    "duration": 657,
    "start_time": "2023-11-14T13:45:38.088Z"
   },
   {
    "duration": 523,
    "start_time": "2023-11-14T13:45:38.746Z"
   },
   {
    "duration": 453,
    "start_time": "2023-11-14T13:45:57.441Z"
   },
   {
    "duration": 613,
    "start_time": "2023-11-14T13:46:07.433Z"
   },
   {
    "duration": 445,
    "start_time": "2023-11-14T13:46:13.578Z"
   },
   {
    "duration": 467,
    "start_time": "2023-11-14T13:46:22.946Z"
   },
   {
    "duration": 436,
    "start_time": "2023-11-14T13:46:29.289Z"
   },
   {
    "duration": 613,
    "start_time": "2023-11-14T13:46:46.329Z"
   },
   {
    "duration": 492,
    "start_time": "2023-11-14T13:46:56.138Z"
   },
   {
    "duration": 441,
    "start_time": "2023-11-14T13:47:26.546Z"
   },
   {
    "duration": 488,
    "start_time": "2023-11-14T13:48:41.708Z"
   },
   {
    "duration": 604,
    "start_time": "2023-11-14T13:48:42.234Z"
   },
   {
    "duration": 514,
    "start_time": "2023-11-14T13:48:42.841Z"
   },
   {
    "duration": 512,
    "start_time": "2023-11-14T13:48:43.356Z"
   },
   {
    "duration": 536,
    "start_time": "2023-11-14T13:51:09.677Z"
   },
   {
    "duration": 485,
    "start_time": "2023-11-14T13:51:10.216Z"
   },
   {
    "duration": 498,
    "start_time": "2023-11-14T13:51:10.703Z"
   },
   {
    "duration": 494,
    "start_time": "2023-11-14T13:51:11.203Z"
   },
   {
    "duration": 544,
    "start_time": "2023-11-14T13:51:24.028Z"
   },
   {
    "duration": 486,
    "start_time": "2023-11-14T13:51:45.094Z"
   },
   {
    "duration": 523,
    "start_time": "2023-11-14T13:51:48.349Z"
   },
   {
    "duration": 505,
    "start_time": "2023-11-14T13:51:48.874Z"
   },
   {
    "duration": 608,
    "start_time": "2023-11-14T13:51:49.381Z"
   },
   {
    "duration": 480,
    "start_time": "2023-11-14T13:57:04.057Z"
   },
   {
    "duration": 497,
    "start_time": "2023-11-14T13:57:16.522Z"
   },
   {
    "duration": 619,
    "start_time": "2023-11-14T13:57:21.881Z"
   },
   {
    "duration": 91,
    "start_time": "2023-11-14T14:00:35.021Z"
   },
   {
    "duration": 5,
    "start_time": "2023-11-14T14:00:49.717Z"
   },
   {
    "duration": 797,
    "start_time": "2023-11-14T14:00:53.260Z"
   },
   {
    "duration": 159,
    "start_time": "2023-11-14T14:01:37.509Z"
   },
   {
    "duration": 159,
    "start_time": "2023-11-14T14:01:42.047Z"
   },
   {
    "duration": 672,
    "start_time": "2023-11-14T14:01:51.907Z"
   },
   {
    "duration": 408,
    "start_time": "2023-11-14T14:20:20.794Z"
   },
   {
    "duration": 407,
    "start_time": "2023-11-14T14:20:28.706Z"
   },
   {
    "duration": 379,
    "start_time": "2023-11-14T14:21:18.515Z"
   },
   {
    "duration": 289,
    "start_time": "2023-11-14T14:21:51.017Z"
   },
   {
    "duration": 301,
    "start_time": "2023-11-14T14:25:15.198Z"
   },
   {
    "duration": 292,
    "start_time": "2023-11-14T14:26:02.653Z"
   },
   {
    "duration": 316,
    "start_time": "2023-11-14T14:26:48.506Z"
   },
   {
    "duration": 395,
    "start_time": "2023-11-14T14:26:53.762Z"
   },
   {
    "duration": 297,
    "start_time": "2023-11-14T14:27:10.650Z"
   },
   {
    "duration": 297,
    "start_time": "2023-11-14T14:28:20.163Z"
   },
   {
    "duration": 258,
    "start_time": "2023-11-14T14:28:37.102Z"
   },
   {
    "duration": 252,
    "start_time": "2023-11-14T14:28:42.835Z"
   },
   {
    "duration": 266,
    "start_time": "2023-11-14T14:28:47.619Z"
   },
   {
    "duration": 359,
    "start_time": "2023-11-14T14:28:55.796Z"
   },
   {
    "duration": 284,
    "start_time": "2023-11-14T14:29:25.094Z"
   },
   {
    "duration": 242,
    "start_time": "2023-11-14T14:29:26.971Z"
   },
   {
    "duration": 257,
    "start_time": "2023-11-14T14:29:32.980Z"
   },
   {
    "duration": 274,
    "start_time": "2023-11-14T14:32:04.830Z"
   },
   {
    "duration": 376,
    "start_time": "2023-11-14T14:34:59.554Z"
   },
   {
    "duration": 80,
    "start_time": "2023-11-14T14:35:42.496Z"
   },
   {
    "duration": 371,
    "start_time": "2023-11-14T14:35:50.352Z"
   },
   {
    "duration": 354,
    "start_time": "2023-11-14T14:35:58.015Z"
   },
   {
    "duration": 369,
    "start_time": "2023-11-14T14:36:01.224Z"
   },
   {
    "duration": 450,
    "start_time": "2023-11-14T14:36:25.536Z"
   },
   {
    "duration": 92,
    "start_time": "2023-11-14T14:37:20.425Z"
   },
   {
    "duration": 370,
    "start_time": "2023-11-14T14:37:25.064Z"
   },
   {
    "duration": 356,
    "start_time": "2023-11-14T14:37:35.961Z"
   },
   {
    "duration": 69,
    "start_time": "2023-11-14T14:41:14.487Z"
   },
   {
    "duration": 291,
    "start_time": "2023-11-14T14:41:24.430Z"
   },
   {
    "duration": 4,
    "start_time": "2023-11-14T14:42:04.520Z"
   },
   {
    "duration": 395,
    "start_time": "2023-11-14T14:44:04.784Z"
   },
   {
    "duration": 400,
    "start_time": "2023-11-14T14:44:11.337Z"
   },
   {
    "duration": 390,
    "start_time": "2023-11-14T14:44:23.457Z"
   },
   {
    "duration": 515,
    "start_time": "2023-11-14T14:44:28.841Z"
   },
   {
    "duration": 494,
    "start_time": "2023-11-14T14:44:39.060Z"
   },
   {
    "duration": 383,
    "start_time": "2023-11-14T14:44:43.905Z"
   },
   {
    "duration": 413,
    "start_time": "2023-11-14T14:44:48.305Z"
   },
   {
    "duration": 450,
    "start_time": "2023-11-14T14:45:05.169Z"
   },
   {
    "duration": 8,
    "start_time": "2023-11-14T14:45:52.094Z"
   },
   {
    "duration": 33,
    "start_time": "2023-11-14T14:46:09.246Z"
   },
   {
    "duration": 9,
    "start_time": "2023-11-14T14:46:19.512Z"
   },
   {
    "duration": 358,
    "start_time": "2023-11-14T14:46:25.214Z"
   },
   {
    "duration": 9,
    "start_time": "2023-11-14T14:46:37.310Z"
   },
   {
    "duration": 397,
    "start_time": "2023-11-14T14:47:49.318Z"
   },
   {
    "duration": 1763,
    "start_time": "2023-11-15T19:39:34.054Z"
   },
   {
    "duration": 2973,
    "start_time": "2023-11-15T19:39:35.819Z"
   },
   {
    "duration": 15,
    "start_time": "2023-11-15T19:39:38.794Z"
   },
   {
    "duration": 2,
    "start_time": "2023-11-15T19:39:38.812Z"
   },
   {
    "duration": 6,
    "start_time": "2023-11-15T19:39:38.816Z"
   },
   {
    "duration": 6,
    "start_time": "2023-11-15T19:39:38.823Z"
   },
   {
    "duration": 10,
    "start_time": "2023-11-15T19:39:38.830Z"
   },
   {
    "duration": 76,
    "start_time": "2023-11-15T19:39:38.842Z"
   },
   {
    "duration": 12,
    "start_time": "2023-11-15T19:39:38.921Z"
   },
   {
    "duration": 8,
    "start_time": "2023-11-15T19:39:38.937Z"
   },
   {
    "duration": 12,
    "start_time": "2023-11-15T19:39:38.967Z"
   },
   {
    "duration": 14,
    "start_time": "2023-11-15T19:39:38.987Z"
   },
   {
    "duration": 11,
    "start_time": "2023-11-15T19:39:39.003Z"
   },
   {
    "duration": 15,
    "start_time": "2023-11-15T19:39:39.017Z"
   },
   {
    "duration": 14,
    "start_time": "2023-11-15T19:39:39.065Z"
   },
   {
    "duration": 5,
    "start_time": "2023-11-15T19:39:39.081Z"
   },
   {
    "duration": 15,
    "start_time": "2023-11-15T19:39:39.087Z"
   },
   {
    "duration": 13,
    "start_time": "2023-11-15T19:39:39.105Z"
   },
   {
    "duration": 5,
    "start_time": "2023-11-15T19:39:39.119Z"
   },
   {
    "duration": 45,
    "start_time": "2023-11-15T19:39:39.126Z"
   },
   {
    "duration": 7,
    "start_time": "2023-11-15T19:39:39.173Z"
   },
   {
    "duration": 5,
    "start_time": "2023-11-15T19:39:39.182Z"
   },
   {
    "duration": 7,
    "start_time": "2023-11-15T19:39:39.189Z"
   },
   {
    "duration": 551,
    "start_time": "2023-11-15T19:39:39.199Z"
   },
   {
    "duration": 586,
    "start_time": "2023-11-15T19:39:39.753Z"
   },
   {
    "duration": 501,
    "start_time": "2023-11-15T19:39:40.341Z"
   },
   {
    "duration": 495,
    "start_time": "2023-11-15T19:39:40.843Z"
   },
   {
    "duration": 694,
    "start_time": "2023-11-15T19:39:41.342Z"
   },
   {
    "duration": 490,
    "start_time": "2023-11-15T19:39:42.038Z"
   },
   {
    "duration": 8,
    "start_time": "2023-11-15T19:39:42.529Z"
   },
   {
    "duration": 335,
    "start_time": "2023-11-15T19:39:42.538Z"
   },
   {
    "duration": 10,
    "start_time": "2023-11-15T19:39:42.875Z"
   },
   {
    "duration": 392,
    "start_time": "2023-11-15T19:39:42.887Z"
   },
   {
    "duration": 9,
    "start_time": "2023-11-15T19:39:43.281Z"
   },
   {
    "duration": 139,
    "start_time": "2023-11-15T19:40:34.719Z"
   },
   {
    "duration": 8,
    "start_time": "2023-11-15T19:40:40.942Z"
   },
   {
    "duration": 376,
    "start_time": "2023-11-15T19:40:49.032Z"
   },
   {
    "duration": 8,
    "start_time": "2023-11-15T19:40:55.813Z"
   },
   {
    "duration": 428,
    "start_time": "2023-11-15T19:41:04.175Z"
   },
   {
    "duration": 423,
    "start_time": "2023-11-15T19:52:15.604Z"
   },
   {
    "duration": 336,
    "start_time": "2023-11-15T19:52:21.475Z"
   },
   {
    "duration": 341,
    "start_time": "2023-11-15T19:52:25.290Z"
   },
   {
    "duration": 1236,
    "start_time": "2023-11-15T19:54:25.925Z"
   },
   {
    "duration": 1162,
    "start_time": "2023-11-15T19:54:53.133Z"
   },
   {
    "duration": 1233,
    "start_time": "2023-11-15T19:55:22.206Z"
   },
   {
    "duration": 1295,
    "start_time": "2023-11-15T19:56:15.512Z"
   },
   {
    "duration": 1297,
    "start_time": "2023-11-15T19:57:28.848Z"
   },
   {
    "duration": 1201,
    "start_time": "2023-11-15T19:57:33.174Z"
   },
   {
    "duration": 1279,
    "start_time": "2023-11-15T19:58:14.754Z"
   },
   {
    "duration": 112,
    "start_time": "2023-11-15T19:58:51.963Z"
   },
   {
    "duration": 16,
    "start_time": "2023-11-15T20:02:15.100Z"
   },
   {
    "duration": 280,
    "start_time": "2023-11-15T20:02:38.828Z"
   },
   {
    "duration": 174,
    "start_time": "2023-11-15T20:03:11.584Z"
   },
   {
    "duration": 171,
    "start_time": "2023-11-15T20:03:39.835Z"
   },
   {
    "duration": 180,
    "start_time": "2023-11-15T20:03:55.307Z"
   },
   {
    "duration": 5,
    "start_time": "2023-11-15T20:04:30.577Z"
   },
   {
    "duration": 820,
    "start_time": "2023-11-15T20:04:31.083Z"
   },
   {
    "duration": 12,
    "start_time": "2023-11-15T20:04:31.905Z"
   },
   {
    "duration": 7,
    "start_time": "2023-11-15T20:04:31.918Z"
   },
   {
    "duration": 15,
    "start_time": "2023-11-15T20:04:31.927Z"
   },
   {
    "duration": 25,
    "start_time": "2023-11-15T20:04:31.943Z"
   },
   {
    "duration": 13,
    "start_time": "2023-11-15T20:04:31.970Z"
   },
   {
    "duration": 58,
    "start_time": "2023-11-15T20:04:31.985Z"
   },
   {
    "duration": 7,
    "start_time": "2023-11-15T20:04:32.045Z"
   },
   {
    "duration": 21,
    "start_time": "2023-11-15T20:04:32.054Z"
   },
   {
    "duration": 20,
    "start_time": "2023-11-15T20:04:32.078Z"
   },
   {
    "duration": 17,
    "start_time": "2023-11-15T20:04:32.100Z"
   },
   {
    "duration": 12,
    "start_time": "2023-11-15T20:04:32.120Z"
   },
   {
    "duration": 16,
    "start_time": "2023-11-15T20:04:32.134Z"
   },
   {
    "duration": 23,
    "start_time": "2023-11-15T20:04:32.152Z"
   },
   {
    "duration": 7,
    "start_time": "2023-11-15T20:04:32.177Z"
   },
   {
    "duration": 8,
    "start_time": "2023-11-15T20:04:32.186Z"
   },
   {
    "duration": 15,
    "start_time": "2023-11-15T20:04:32.196Z"
   },
   {
    "duration": 5,
    "start_time": "2023-11-15T20:04:32.213Z"
   },
   {
    "duration": 50,
    "start_time": "2023-11-15T20:04:32.221Z"
   },
   {
    "duration": 5,
    "start_time": "2023-11-15T20:04:32.273Z"
   },
   {
    "duration": 15,
    "start_time": "2023-11-15T20:04:32.280Z"
   },
   {
    "duration": 5,
    "start_time": "2023-11-15T20:04:32.376Z"
   },
   {
    "duration": 491,
    "start_time": "2023-11-15T20:04:32.432Z"
   },
   {
    "duration": 495,
    "start_time": "2023-11-15T20:04:32.925Z"
   },
   {
    "duration": 602,
    "start_time": "2023-11-15T20:04:33.421Z"
   },
   {
    "duration": 485,
    "start_time": "2023-11-15T20:04:34.026Z"
   },
   {
    "duration": 605,
    "start_time": "2023-11-15T20:04:34.513Z"
   },
   {
    "duration": 334,
    "start_time": "2023-11-15T20:04:35.119Z"
   },
   {
    "duration": 16,
    "start_time": "2023-11-15T20:04:35.455Z"
   },
   {
    "duration": 436,
    "start_time": "2023-11-15T20:04:35.472Z"
   },
   {
    "duration": 8,
    "start_time": "2023-11-15T20:04:35.910Z"
   },
   {
    "duration": 401,
    "start_time": "2023-11-15T20:04:35.920Z"
   },
   {
    "duration": 8,
    "start_time": "2023-11-15T20:04:36.323Z"
   },
   {
    "duration": 182,
    "start_time": "2023-11-15T20:04:36.332Z"
   },
   {
    "duration": 14,
    "start_time": "2023-11-15T20:04:36.515Z"
   },
   {
    "duration": 17,
    "start_time": "2023-11-15T20:04:46.197Z"
   },
   {
    "duration": 14,
    "start_time": "2023-11-15T20:06:25.461Z"
   },
   {
    "duration": 14691,
    "start_time": "2023-11-15T20:06:41.295Z"
   },
   {
    "duration": 15576,
    "start_time": "2023-11-15T20:07:13.972Z"
   },
   {
    "duration": 16195,
    "start_time": "2023-11-15T20:07:42.671Z"
   },
   {
    "duration": 74,
    "start_time": "2023-11-15T20:08:20.799Z"
   },
   {
    "duration": 68,
    "start_time": "2023-11-15T20:08:30.551Z"
   },
   {
    "duration": 1249,
    "start_time": "2023-11-15T20:08:42.087Z"
   },
   {
    "duration": 1181,
    "start_time": "2023-11-15T20:09:04.802Z"
   },
   {
    "duration": 1202,
    "start_time": "2023-11-15T20:09:46.347Z"
   },
   {
    "duration": 115,
    "start_time": "2023-11-15T20:11:00.008Z"
   },
   {
    "duration": 22,
    "start_time": "2023-11-15T20:11:05.624Z"
   },
   {
    "duration": 82,
    "start_time": "2023-11-15T20:11:23.690Z"
   },
   {
    "duration": 98,
    "start_time": "2023-11-15T20:11:35.081Z"
   },
   {
    "duration": 15,
    "start_time": "2023-11-15T20:11:45.113Z"
   },
   {
    "duration": 16,
    "start_time": "2023-11-15T20:12:07.346Z"
   },
   {
    "duration": 249,
    "start_time": "2023-11-15T20:12:39.891Z"
   },
   {
    "duration": 173,
    "start_time": "2023-11-15T20:13:28.002Z"
   },
   {
    "duration": 197,
    "start_time": "2023-11-15T20:13:37.114Z"
   },
   {
    "duration": 207,
    "start_time": "2023-11-15T20:13:54.907Z"
   },
   {
    "duration": 212,
    "start_time": "2023-11-15T20:14:12.747Z"
   },
   {
    "duration": 304,
    "start_time": "2023-11-15T20:14:18.003Z"
   },
   {
    "duration": 1382,
    "start_time": "2023-11-15T20:14:25.660Z"
   },
   {
    "duration": 293,
    "start_time": "2023-11-15T20:14:36.427Z"
   },
   {
    "duration": 270,
    "start_time": "2023-11-15T20:14:45.910Z"
   },
   {
    "duration": 9,
    "start_time": "2023-11-15T20:15:36.748Z"
   },
   {
    "duration": 252,
    "start_time": "2023-11-15T20:15:48.436Z"
   },
   {
    "duration": 7,
    "start_time": "2023-11-15T20:15:50.572Z"
   },
   {
    "duration": 238,
    "start_time": "2023-11-15T20:16:01.549Z"
   },
   {
    "duration": 115,
    "start_time": "2023-11-15T20:17:11.894Z"
   },
   {
    "duration": 968,
    "start_time": "2023-11-15T20:17:16.279Z"
   },
   {
    "duration": 753,
    "start_time": "2023-11-15T20:17:26.031Z"
   },
   {
    "duration": 7,
    "start_time": "2023-11-15T20:17:28.748Z"
   },
   {
    "duration": 8,
    "start_time": "2023-11-15T20:17:29.908Z"
   },
   {
    "duration": 292,
    "start_time": "2023-11-15T20:17:41.213Z"
   },
   {
    "duration": 11,
    "start_time": "2023-11-15T20:17:44.933Z"
   },
   {
    "duration": 292,
    "start_time": "2023-11-15T20:17:57.780Z"
   },
   {
    "duration": 300,
    "start_time": "2023-11-15T20:18:06.457Z"
   },
   {
    "duration": 10,
    "start_time": "2023-11-15T20:18:16.301Z"
   },
   {
    "duration": 197,
    "start_time": "2023-11-15T20:18:18.005Z"
   },
   {
    "duration": 5,
    "start_time": "2023-11-15T20:20:00.031Z"
   },
   {
    "duration": 11,
    "start_time": "2023-11-15T20:20:19.079Z"
   },
   {
    "duration": 13,
    "start_time": "2023-11-15T20:20:26.448Z"
   },
   {
    "duration": 11,
    "start_time": "2023-11-15T20:20:31.535Z"
   },
   {
    "duration": 5,
    "start_time": "2023-11-15T20:20:40.670Z"
   },
   {
    "duration": 783,
    "start_time": "2023-11-15T20:20:41.177Z"
   },
   {
    "duration": 11,
    "start_time": "2023-11-15T20:20:41.965Z"
   },
   {
    "duration": 4,
    "start_time": "2023-11-15T20:20:41.978Z"
   },
   {
    "duration": 7,
    "start_time": "2023-11-15T20:20:41.985Z"
   },
   {
    "duration": 6,
    "start_time": "2023-11-15T20:20:41.993Z"
   },
   {
    "duration": 9,
    "start_time": "2023-11-15T20:20:42.001Z"
   },
   {
    "duration": 181,
    "start_time": "2023-11-15T20:20:42.011Z"
   },
   {
    "duration": 7,
    "start_time": "2023-11-15T20:20:42.194Z"
   },
   {
    "duration": 7,
    "start_time": "2023-11-15T20:20:42.203Z"
   },
   {
    "duration": 9,
    "start_time": "2023-11-15T20:20:42.212Z"
   },
   {
    "duration": 34,
    "start_time": "2023-11-15T20:20:42.223Z"
   },
   {
    "duration": 12,
    "start_time": "2023-11-15T20:20:42.266Z"
   },
   {
    "duration": 19,
    "start_time": "2023-11-15T20:20:42.281Z"
   },
   {
    "duration": 18,
    "start_time": "2023-11-15T20:20:42.302Z"
   },
   {
    "duration": 5,
    "start_time": "2023-11-15T20:20:42.322Z"
   },
   {
    "duration": 44,
    "start_time": "2023-11-15T20:20:42.329Z"
   },
   {
    "duration": 14,
    "start_time": "2023-11-15T20:20:42.376Z"
   },
   {
    "duration": 7,
    "start_time": "2023-11-15T20:20:42.393Z"
   },
   {
    "duration": 14,
    "start_time": "2023-11-15T20:20:42.402Z"
   },
   {
    "duration": 6,
    "start_time": "2023-11-15T20:20:42.419Z"
   },
   {
    "duration": 40,
    "start_time": "2023-11-15T20:20:42.427Z"
   },
   {
    "duration": 5,
    "start_time": "2023-11-15T20:20:42.469Z"
   },
   {
    "duration": 517,
    "start_time": "2023-11-15T20:20:42.502Z"
   },
   {
    "duration": 520,
    "start_time": "2023-11-15T20:20:43.022Z"
   },
   {
    "duration": 541,
    "start_time": "2023-11-15T20:20:43.543Z"
   },
   {
    "duration": 611,
    "start_time": "2023-11-15T20:20:44.087Z"
   },
   {
    "duration": 683,
    "start_time": "2023-11-15T20:20:44.700Z"
   },
   {
    "duration": 372,
    "start_time": "2023-11-15T20:20:45.385Z"
   },
   {
    "duration": 10,
    "start_time": "2023-11-15T20:20:45.765Z"
   },
   {
    "duration": 391,
    "start_time": "2023-11-15T20:20:45.777Z"
   },
   {
    "duration": 9,
    "start_time": "2023-11-15T20:20:46.170Z"
   },
   {
    "duration": 432,
    "start_time": "2023-11-15T20:20:46.181Z"
   },
   {
    "duration": 11,
    "start_time": "2023-11-15T20:20:46.614Z"
   },
   {
    "duration": 16,
    "start_time": "2023-11-15T20:20:46.627Z"
   },
   {
    "duration": 0,
    "start_time": "2023-11-15T20:20:46.644Z"
   },
   {
    "duration": 0,
    "start_time": "2023-11-15T20:20:46.665Z"
   },
   {
    "duration": 162,
    "start_time": "2023-11-15T20:21:41.024Z"
   },
   {
    "duration": 42,
    "start_time": "2023-11-15T20:23:06.451Z"
   },
   {
    "duration": 69,
    "start_time": "2023-11-15T20:23:22.363Z"
   },
   {
    "duration": 42,
    "start_time": "2023-11-15T20:23:41.915Z"
   },
   {
    "duration": 45,
    "start_time": "2023-11-15T20:23:48.199Z"
   },
   {
    "duration": 39,
    "start_time": "2023-11-15T20:23:56.009Z"
   },
   {
    "duration": 58,
    "start_time": "2023-11-15T20:24:09.467Z"
   },
   {
    "duration": 257,
    "start_time": "2023-11-15T20:25:17.132Z"
   },
   {
    "duration": 255,
    "start_time": "2023-11-15T20:27:07.822Z"
   },
   {
    "duration": 273,
    "start_time": "2023-11-15T20:27:19.195Z"
   },
   {
    "duration": 27,
    "start_time": "2023-11-15T20:27:35.077Z"
   },
   {
    "duration": 275,
    "start_time": "2023-11-15T20:27:48.964Z"
   },
   {
    "duration": 667,
    "start_time": "2023-11-15T20:28:26.851Z"
   },
   {
    "duration": 774,
    "start_time": "2023-11-15T20:28:44.629Z"
   },
   {
    "duration": 677,
    "start_time": "2023-11-15T20:28:57.964Z"
   },
   {
    "duration": 281,
    "start_time": "2023-11-15T20:29:22.360Z"
   },
   {
    "duration": 5,
    "start_time": "2023-11-15T20:29:35.500Z"
   },
   {
    "duration": 772,
    "start_time": "2023-11-15T20:29:36.014Z"
   },
   {
    "duration": 12,
    "start_time": "2023-11-15T20:29:36.788Z"
   },
   {
    "duration": 3,
    "start_time": "2023-11-15T20:29:36.802Z"
   },
   {
    "duration": 21,
    "start_time": "2023-11-15T20:29:36.807Z"
   },
   {
    "duration": 5,
    "start_time": "2023-11-15T20:29:36.830Z"
   },
   {
    "duration": 6,
    "start_time": "2023-11-15T20:29:36.837Z"
   },
   {
    "duration": 40,
    "start_time": "2023-11-15T20:29:36.865Z"
   },
   {
    "duration": 6,
    "start_time": "2023-11-15T20:29:36.907Z"
   },
   {
    "duration": 7,
    "start_time": "2023-11-15T20:29:36.915Z"
   },
   {
    "duration": 9,
    "start_time": "2023-11-15T20:29:36.924Z"
   },
   {
    "duration": 42,
    "start_time": "2023-11-15T20:29:36.934Z"
   },
   {
    "duration": 10,
    "start_time": "2023-11-15T20:29:36.978Z"
   },
   {
    "duration": 13,
    "start_time": "2023-11-15T20:29:36.990Z"
   },
   {
    "duration": 12,
    "start_time": "2023-11-15T20:29:37.005Z"
   },
   {
    "duration": 46,
    "start_time": "2023-11-15T20:29:37.019Z"
   },
   {
    "duration": 10,
    "start_time": "2023-11-15T20:29:37.066Z"
   },
   {
    "duration": 13,
    "start_time": "2023-11-15T20:29:37.077Z"
   },
   {
    "duration": 16,
    "start_time": "2023-11-15T20:29:37.092Z"
   },
   {
    "duration": 23,
    "start_time": "2023-11-15T20:29:37.109Z"
   },
   {
    "duration": 5,
    "start_time": "2023-11-15T20:29:37.140Z"
   },
   {
    "duration": 4,
    "start_time": "2023-11-15T20:29:37.184Z"
   },
   {
    "duration": 5,
    "start_time": "2023-11-15T20:29:37.327Z"
   },
   {
    "duration": 617,
    "start_time": "2023-11-15T20:29:37.367Z"
   },
   {
    "duration": 496,
    "start_time": "2023-11-15T20:29:37.986Z"
   },
   {
    "duration": 551,
    "start_time": "2023-11-15T20:29:38.483Z"
   },
   {
    "duration": 511,
    "start_time": "2023-11-15T20:29:39.037Z"
   },
   {
    "duration": 898,
    "start_time": "2023-11-15T20:29:39.549Z"
   },
   {
    "duration": 369,
    "start_time": "2023-11-15T20:29:40.449Z"
   },
   {
    "duration": 9,
    "start_time": "2023-11-15T20:29:40.820Z"
   },
   {
    "duration": 351,
    "start_time": "2023-11-15T20:29:40.830Z"
   },
   {
    "duration": 9,
    "start_time": "2023-11-15T20:29:41.183Z"
   },
   {
    "duration": 429,
    "start_time": "2023-11-15T20:29:41.195Z"
   },
   {
    "duration": 10,
    "start_time": "2023-11-15T20:29:42.491Z"
   },
   {
    "duration": 340,
    "start_time": "2023-11-15T20:29:43.774Z"
   },
   {
    "duration": 258,
    "start_time": "2023-11-15T20:30:03.223Z"
   },
   {
    "duration": 271,
    "start_time": "2023-11-15T20:31:18.029Z"
   },
   {
    "duration": 279,
    "start_time": "2023-11-15T20:31:29.757Z"
   },
   {
    "duration": 354,
    "start_time": "2023-11-15T20:31:36.790Z"
   },
   {
    "duration": 457,
    "start_time": "2023-11-15T20:31:46.327Z"
   },
   {
    "duration": 391,
    "start_time": "2023-11-15T20:31:56.726Z"
   },
   {
    "duration": 326,
    "start_time": "2023-11-15T20:32:02.582Z"
   },
   {
    "duration": 403,
    "start_time": "2023-11-15T20:32:04.462Z"
   },
   {
    "duration": 505,
    "start_time": "2023-11-15T20:32:17.463Z"
   },
   {
    "duration": 359,
    "start_time": "2023-11-15T20:32:53.967Z"
   },
   {
    "duration": 5,
    "start_time": "2023-11-15T20:33:06.807Z"
   },
   {
    "duration": 405,
    "start_time": "2023-11-15T20:33:20.679Z"
   },
   {
    "duration": 13,
    "start_time": "2023-11-15T20:33:48.607Z"
   },
   {
    "duration": 13,
    "start_time": "2023-11-15T20:34:02.311Z"
   },
   {
    "duration": 14,
    "start_time": "2023-11-15T20:34:15.376Z"
   },
   {
    "duration": 447,
    "start_time": "2023-11-15T20:35:14.457Z"
   },
   {
    "duration": 614,
    "start_time": "2023-11-15T20:35:38.832Z"
   },
   {
    "duration": 72,
    "start_time": "2023-11-15T20:35:47.160Z"
   },
   {
    "duration": 382,
    "start_time": "2023-11-15T20:35:50.162Z"
   },
   {
    "duration": 395,
    "start_time": "2023-11-15T20:35:59.243Z"
   },
   {
    "duration": 389,
    "start_time": "2023-11-15T20:36:11.802Z"
   },
   {
    "duration": 484,
    "start_time": "2023-11-15T20:36:24.792Z"
   },
   {
    "duration": 385,
    "start_time": "2023-11-15T20:36:36.984Z"
   },
   {
    "duration": 366,
    "start_time": "2023-11-15T20:36:53.985Z"
   },
   {
    "duration": 437,
    "start_time": "2023-11-15T20:36:58.624Z"
   },
   {
    "duration": 488,
    "start_time": "2023-11-15T20:37:04.705Z"
   },
   {
    "duration": 11,
    "start_time": "2023-11-15T20:37:07.664Z"
   },
   {
    "duration": 436,
    "start_time": "2023-11-15T20:37:15.490Z"
   },
   {
    "duration": 9,
    "start_time": "2023-11-15T20:37:18.049Z"
   },
   {
    "duration": 403,
    "start_time": "2023-11-15T20:37:30.636Z"
   },
   {
    "duration": 9,
    "start_time": "2023-11-15T20:37:33.257Z"
   },
   {
    "duration": 468,
    "start_time": "2023-11-15T20:37:43.745Z"
   },
   {
    "duration": 9,
    "start_time": "2023-11-15T20:37:47.089Z"
   },
   {
    "duration": 394,
    "start_time": "2023-11-15T20:40:04.179Z"
   },
   {
    "duration": 99,
    "start_time": "2023-11-15T20:40:24.066Z"
   },
   {
    "duration": 146,
    "start_time": "2023-11-15T20:40:38.731Z"
   },
   {
    "duration": 5298,
    "start_time": "2023-11-15T20:40:57.892Z"
   },
   {
    "duration": 141,
    "start_time": "2023-11-15T20:41:52.758Z"
   },
   {
    "duration": 192,
    "start_time": "2023-11-15T20:42:06.740Z"
   },
   {
    "duration": 174,
    "start_time": "2023-11-15T20:42:30.653Z"
   },
   {
    "duration": 5,
    "start_time": "2023-11-15T20:42:51.861Z"
   },
   {
    "duration": 731,
    "start_time": "2023-11-15T20:42:52.367Z"
   },
   {
    "duration": 8,
    "start_time": "2023-11-15T20:42:53.101Z"
   },
   {
    "duration": 11,
    "start_time": "2023-11-15T20:42:53.110Z"
   },
   {
    "duration": 16,
    "start_time": "2023-11-15T20:42:53.124Z"
   },
   {
    "duration": 9,
    "start_time": "2023-11-15T20:42:53.141Z"
   },
   {
    "duration": 13,
    "start_time": "2023-11-15T20:42:53.151Z"
   },
   {
    "duration": 40,
    "start_time": "2023-11-15T20:42:53.166Z"
   },
   {
    "duration": 8,
    "start_time": "2023-11-15T20:42:53.208Z"
   },
   {
    "duration": 6,
    "start_time": "2023-11-15T20:42:53.218Z"
   },
   {
    "duration": 8,
    "start_time": "2023-11-15T20:42:53.226Z"
   },
   {
    "duration": 42,
    "start_time": "2023-11-15T20:42:53.236Z"
   },
   {
    "duration": 12,
    "start_time": "2023-11-15T20:42:53.280Z"
   },
   {
    "duration": 15,
    "start_time": "2023-11-15T20:42:53.293Z"
   },
   {
    "duration": 15,
    "start_time": "2023-11-15T20:42:53.310Z"
   },
   {
    "duration": 38,
    "start_time": "2023-11-15T20:42:53.328Z"
   },
   {
    "duration": 11,
    "start_time": "2023-11-15T20:42:53.369Z"
   },
   {
    "duration": 12,
    "start_time": "2023-11-15T20:42:53.383Z"
   },
   {
    "duration": 6,
    "start_time": "2023-11-15T20:42:53.397Z"
   },
   {
    "duration": 9,
    "start_time": "2023-11-15T20:42:53.441Z"
   },
   {
    "duration": 5,
    "start_time": "2023-11-15T20:42:53.510Z"
   },
   {
    "duration": 5,
    "start_time": "2023-11-15T20:42:53.545Z"
   },
   {
    "duration": 6,
    "start_time": "2023-11-15T20:42:53.696Z"
   },
   {
    "duration": 518,
    "start_time": "2023-11-15T20:42:53.760Z"
   },
   {
    "duration": 522,
    "start_time": "2023-11-15T20:42:54.280Z"
   },
   {
    "duration": 521,
    "start_time": "2023-11-15T20:42:54.804Z"
   },
   {
    "duration": 848,
    "start_time": "2023-11-15T20:42:55.327Z"
   },
   {
    "duration": 653,
    "start_time": "2023-11-15T20:42:56.177Z"
   },
   {
    "duration": 365,
    "start_time": "2023-11-15T20:42:56.833Z"
   },
   {
    "duration": 9,
    "start_time": "2023-11-15T20:42:57.200Z"
   },
   {
    "duration": 357,
    "start_time": "2023-11-15T20:42:57.587Z"
   },
   {
    "duration": 17,
    "start_time": "2023-11-15T20:42:57.949Z"
   },
   {
    "duration": 410,
    "start_time": "2023-11-15T20:42:59.182Z"
   },
   {
    "duration": 11,
    "start_time": "2023-11-15T20:43:00.140Z"
   },
   {
    "duration": 205,
    "start_time": "2023-11-15T20:43:19.862Z"
   },
   {
    "duration": 190,
    "start_time": "2023-11-15T20:43:26.328Z"
   },
   {
    "duration": 5,
    "start_time": "2023-11-15T20:43:44.493Z"
   },
   {
    "duration": 679,
    "start_time": "2023-11-15T20:43:45.003Z"
   },
   {
    "duration": 10,
    "start_time": "2023-11-15T20:43:45.684Z"
   },
   {
    "duration": 8,
    "start_time": "2023-11-15T20:43:45.696Z"
   },
   {
    "duration": 6,
    "start_time": "2023-11-15T20:43:45.707Z"
   },
   {
    "duration": 6,
    "start_time": "2023-11-15T20:43:45.715Z"
   },
   {
    "duration": 7,
    "start_time": "2023-11-15T20:43:45.723Z"
   },
   {
    "duration": 80,
    "start_time": "2023-11-15T20:43:45.732Z"
   },
   {
    "duration": 11,
    "start_time": "2023-11-15T20:43:45.814Z"
   },
   {
    "duration": 8,
    "start_time": "2023-11-15T20:43:45.827Z"
   },
   {
    "duration": 28,
    "start_time": "2023-11-15T20:43:45.838Z"
   },
   {
    "duration": 14,
    "start_time": "2023-11-15T20:43:45.868Z"
   },
   {
    "duration": 12,
    "start_time": "2023-11-15T20:43:45.884Z"
   },
   {
    "duration": 30,
    "start_time": "2023-11-15T20:43:45.898Z"
   },
   {
    "duration": 14,
    "start_time": "2023-11-15T20:43:45.930Z"
   },
   {
    "duration": 23,
    "start_time": "2023-11-15T20:43:45.945Z"
   },
   {
    "duration": 17,
    "start_time": "2023-11-15T20:43:45.970Z"
   },
   {
    "duration": 9,
    "start_time": "2023-11-15T20:43:45.988Z"
   },
   {
    "duration": 4,
    "start_time": "2023-11-15T20:43:46.041Z"
   },
   {
    "duration": 13,
    "start_time": "2023-11-15T20:43:46.093Z"
   },
   {
    "duration": 6,
    "start_time": "2023-11-15T20:43:46.165Z"
   },
   {
    "duration": 5,
    "start_time": "2023-11-15T20:43:46.202Z"
   },
   {
    "duration": 5,
    "start_time": "2023-11-15T20:43:46.345Z"
   },
   {
    "duration": 511,
    "start_time": "2023-11-15T20:43:46.396Z"
   },
   {
    "duration": 516,
    "start_time": "2023-11-15T20:43:46.909Z"
   },
   {
    "duration": 590,
    "start_time": "2023-11-15T20:43:47.428Z"
   },
   {
    "duration": 518,
    "start_time": "2023-11-15T20:43:48.020Z"
   },
   {
    "duration": 752,
    "start_time": "2023-11-15T20:43:48.540Z"
   },
   {
    "duration": 371,
    "start_time": "2023-11-15T20:43:49.294Z"
   },
   {
    "duration": 10,
    "start_time": "2023-11-15T20:43:49.667Z"
   },
   {
    "duration": 372,
    "start_time": "2023-11-15T20:43:49.679Z"
   },
   {
    "duration": 14,
    "start_time": "2023-11-15T20:43:50.053Z"
   },
   {
    "duration": 414,
    "start_time": "2023-11-15T20:43:50.557Z"
   },
   {
    "duration": 9,
    "start_time": "2023-11-15T20:43:53.140Z"
   },
   {
    "duration": 149,
    "start_time": "2023-11-15T20:44:16.046Z"
   },
   {
    "duration": 342,
    "start_time": "2023-11-15T20:44:22.327Z"
   },
   {
    "duration": 358,
    "start_time": "2023-11-15T20:45:48.983Z"
   },
   {
    "duration": 1196,
    "start_time": "2023-11-15T20:46:06.686Z"
   },
   {
    "duration": 4447,
    "start_time": "2023-11-15T20:46:18.566Z"
   },
   {
    "duration": 225,
    "start_time": "2023-11-15T20:46:38.830Z"
   },
   {
    "duration": 796,
    "start_time": "2023-11-15T20:46:51.439Z"
   },
   {
    "duration": 23,
    "start_time": "2023-11-15T20:47:09.149Z"
   },
   {
    "duration": 980,
    "start_time": "2023-11-15T20:47:22.660Z"
   },
   {
    "duration": 976,
    "start_time": "2023-11-15T20:47:32.194Z"
   },
   {
    "duration": 21,
    "start_time": "2023-11-15T20:47:45.116Z"
   },
   {
    "duration": 983,
    "start_time": "2023-11-15T20:47:46.865Z"
   },
   {
    "duration": 553,
    "start_time": "2023-11-15T20:48:45.788Z"
   },
   {
    "duration": 355,
    "start_time": "2023-11-15T20:48:57.964Z"
   },
   {
    "duration": 323,
    "start_time": "2023-11-15T20:49:31.756Z"
   },
   {
    "duration": 318,
    "start_time": "2023-11-15T20:49:45.365Z"
   },
   {
    "duration": 386,
    "start_time": "2023-11-15T20:50:02.030Z"
   },
   {
    "duration": 243,
    "start_time": "2023-11-15T20:51:48.989Z"
   },
   {
    "duration": 254,
    "start_time": "2023-11-15T20:51:54.788Z"
   },
   {
    "duration": 331,
    "start_time": "2023-11-15T20:52:14.562Z"
   },
   {
    "duration": 381,
    "start_time": "2023-11-15T20:52:24.066Z"
   },
   {
    "duration": 342,
    "start_time": "2023-11-15T20:53:01.691Z"
   },
   {
    "duration": 349,
    "start_time": "2023-11-15T20:54:07.652Z"
   },
   {
    "duration": 333,
    "start_time": "2023-11-15T20:54:16.643Z"
   },
   {
    "duration": 330,
    "start_time": "2023-11-15T20:54:26.819Z"
   },
   {
    "duration": 10,
    "start_time": "2023-11-15T20:54:49.387Z"
   },
   {
    "duration": 193,
    "start_time": "2023-11-15T20:54:52.163Z"
   },
   {
    "duration": 8,
    "start_time": "2023-11-15T20:54:55.596Z"
   },
   {
    "duration": 371,
    "start_time": "2023-11-15T20:55:25.364Z"
   },
   {
    "duration": 10,
    "start_time": "2023-11-15T20:55:49.587Z"
   },
   {
    "duration": 14,
    "start_time": "2023-11-15T20:58:02.144Z"
   },
   {
    "duration": 337,
    "start_time": "2023-11-15T20:58:39.230Z"
   },
   {
    "duration": 938,
    "start_time": "2023-11-15T20:58:53.087Z"
   },
   {
    "duration": 8,
    "start_time": "2023-11-15T20:58:59.903Z"
   },
   {
    "duration": 12,
    "start_time": "2023-11-15T20:59:10.457Z"
   },
   {
    "duration": 198,
    "start_time": "2023-11-15T20:59:24.886Z"
   },
   {
    "duration": 6,
    "start_time": "2023-11-15T21:01:14.303Z"
   },
   {
    "duration": 5,
    "start_time": "2023-11-15T21:01:16.120Z"
   },
   {
    "duration": 5,
    "start_time": "2023-11-15T21:01:30.560Z"
   },
   {
    "duration": 5,
    "start_time": "2023-11-15T21:01:38.078Z"
   },
   {
    "duration": 155,
    "start_time": "2023-11-15T21:01:54.846Z"
   },
   {
    "duration": 3,
    "start_time": "2023-11-15T21:02:27.359Z"
   },
   {
    "duration": 10,
    "start_time": "2023-11-15T21:02:39.403Z"
   },
   {
    "duration": 11,
    "start_time": "2023-11-15T21:04:11.832Z"
   },
   {
    "duration": 10,
    "start_time": "2023-11-15T21:04:29.129Z"
   },
   {
    "duration": 23523,
    "start_time": "2023-11-15T21:04:32.764Z"
   },
   {
    "duration": 23092,
    "start_time": "2023-11-15T21:06:11.442Z"
   },
   {
    "duration": 4,
    "start_time": "2023-11-15T21:06:56.275Z"
   },
   {
    "duration": 3,
    "start_time": "2023-11-15T21:07:08.027Z"
   },
   {
    "duration": 158460,
    "start_time": "2023-11-15T21:07:49.860Z"
   },
   {
    "duration": 157022,
    "start_time": "2023-11-15T21:10:28.322Z"
   },
   {
    "duration": 4,
    "start_time": "2023-11-15T21:13:05.346Z"
   },
   {
    "duration": 705,
    "start_time": "2023-11-15T21:13:05.364Z"
   },
   {
    "duration": 3039,
    "start_time": "2023-11-15T21:17:18.438Z"
   },
   {
    "duration": 3142,
    "start_time": "2023-11-15T21:20:26.637Z"
   },
   {
    "duration": 2962,
    "start_time": "2023-11-15T21:20:37.809Z"
   },
   {
    "duration": 3,
    "start_time": "2023-11-15T21:20:44.478Z"
   },
   {
    "duration": 16,
    "start_time": "2023-11-15T21:21:50.544Z"
   },
   {
    "duration": 12,
    "start_time": "2023-11-15T21:22:03.168Z"
   },
   {
    "duration": 83,
    "start_time": "2023-11-15T21:23:05.592Z"
   },
   {
    "duration": 5,
    "start_time": "2023-11-15T21:23:09.415Z"
   },
   {
    "duration": 10,
    "start_time": "2023-11-15T21:23:15.294Z"
   },
   {
    "duration": 18,
    "start_time": "2023-11-15T21:23:25.870Z"
   },
   {
    "duration": 11,
    "start_time": "2023-11-15T21:23:51.821Z"
   },
   {
    "duration": 10,
    "start_time": "2023-11-15T21:24:01.710Z"
   },
   {
    "duration": 4,
    "start_time": "2023-11-15T21:24:05.999Z"
   },
   {
    "duration": 3,
    "start_time": "2023-11-15T21:24:33.414Z"
   },
   {
    "duration": 11,
    "start_time": "2023-11-15T21:25:20.134Z"
   },
   {
    "duration": 12,
    "start_time": "2023-11-15T21:27:45.744Z"
   },
   {
    "duration": 21,
    "start_time": "2023-11-15T21:28:13.698Z"
   },
   {
    "duration": 11,
    "start_time": "2023-11-15T21:28:19.969Z"
   },
   {
    "duration": 11,
    "start_time": "2023-11-15T21:28:38.562Z"
   },
   {
    "duration": 70,
    "start_time": "2023-11-15T21:31:17.346Z"
   },
   {
    "duration": 10,
    "start_time": "2023-11-15T21:31:24.611Z"
   },
   {
    "duration": 76,
    "start_time": "2023-11-15T21:31:28.546Z"
   },
   {
    "duration": 80,
    "start_time": "2023-11-15T21:32:52.901Z"
   },
   {
    "duration": 80,
    "start_time": "2023-11-15T21:32:55.061Z"
   },
   {
    "duration": 70,
    "start_time": "2023-11-15T21:33:02.613Z"
   },
   {
    "duration": 79,
    "start_time": "2023-11-15T21:33:15.710Z"
   },
   {
    "duration": 73,
    "start_time": "2023-11-15T21:33:17.814Z"
   },
   {
    "duration": 4,
    "start_time": "2023-11-15T21:33:29.155Z"
   },
   {
    "duration": 85,
    "start_time": "2023-11-15T21:33:44.908Z"
   },
   {
    "duration": 88,
    "start_time": "2023-11-15T21:34:06.372Z"
   },
   {
    "duration": 92,
    "start_time": "2023-11-15T21:34:39.437Z"
   },
   {
    "duration": 134,
    "start_time": "2023-11-15T21:34:43.940Z"
   },
   {
    "duration": 6,
    "start_time": "2023-11-15T21:34:57.396Z"
   },
   {
    "duration": 9,
    "start_time": "2023-11-15T21:35:07.532Z"
   },
   {
    "duration": 95,
    "start_time": "2023-11-15T21:35:15.477Z"
   },
   {
    "duration": 9,
    "start_time": "2023-11-15T21:35:35.382Z"
   },
   {
    "duration": 9,
    "start_time": "2023-11-15T21:36:05.141Z"
   },
   {
    "duration": 21717,
    "start_time": "2023-11-15T21:36:50.003Z"
   },
   {
    "duration": 21558,
    "start_time": "2023-11-15T21:37:11.722Z"
   },
   {
    "duration": 3,
    "start_time": "2023-11-15T21:37:33.282Z"
   },
   {
    "duration": 9,
    "start_time": "2023-11-15T21:37:40.486Z"
   },
   {
    "duration": 239,
    "start_time": "2023-11-15T21:41:18.618Z"
   },
   {
    "duration": 218,
    "start_time": "2023-11-15T21:41:42.147Z"
   },
   {
    "duration": 201,
    "start_time": "2023-11-15T21:41:55.970Z"
   },
   {
    "duration": 3,
    "start_time": "2023-11-15T21:42:06.090Z"
   },
   {
    "duration": 1433,
    "start_time": "2023-11-15T21:44:12.846Z"
   },
   {
    "duration": 763,
    "start_time": "2023-11-15T21:44:14.280Z"
   },
   {
    "duration": 17,
    "start_time": "2023-11-15T21:44:15.048Z"
   },
   {
    "duration": 15,
    "start_time": "2023-11-15T21:44:15.067Z"
   },
   {
    "duration": 19,
    "start_time": "2023-11-15T21:44:15.084Z"
   },
   {
    "duration": 18,
    "start_time": "2023-11-15T21:44:15.104Z"
   },
   {
    "duration": 28,
    "start_time": "2023-11-15T21:44:15.123Z"
   },
   {
    "duration": 59,
    "start_time": "2023-11-15T21:44:15.153Z"
   },
   {
    "duration": 7,
    "start_time": "2023-11-15T21:44:15.215Z"
   },
   {
    "duration": 24,
    "start_time": "2023-11-15T21:44:15.223Z"
   },
   {
    "duration": 14,
    "start_time": "2023-11-15T21:44:15.249Z"
   },
   {
    "duration": 26,
    "start_time": "2023-11-15T21:44:15.265Z"
   },
   {
    "duration": 10,
    "start_time": "2023-11-15T21:44:15.293Z"
   },
   {
    "duration": 31,
    "start_time": "2023-11-15T21:44:15.305Z"
   },
   {
    "duration": 27,
    "start_time": "2023-11-15T21:44:15.337Z"
   },
   {
    "duration": 4,
    "start_time": "2023-11-15T21:44:15.365Z"
   },
   {
    "duration": 30,
    "start_time": "2023-11-15T21:44:15.370Z"
   },
   {
    "duration": 17,
    "start_time": "2023-11-15T21:44:15.402Z"
   },
   {
    "duration": 3,
    "start_time": "2023-11-15T21:44:15.421Z"
   },
   {
    "duration": 36,
    "start_time": "2023-11-15T21:44:15.426Z"
   },
   {
    "duration": 21,
    "start_time": "2023-11-15T21:44:15.464Z"
   },
   {
    "duration": 15,
    "start_time": "2023-11-15T21:44:15.487Z"
   },
   {
    "duration": 5,
    "start_time": "2023-11-15T21:44:15.503Z"
   },
   {
    "duration": 532,
    "start_time": "2023-11-15T21:44:15.510Z"
   },
   {
    "duration": 551,
    "start_time": "2023-11-15T21:44:16.043Z"
   },
   {
    "duration": 483,
    "start_time": "2023-11-15T21:44:16.596Z"
   },
   {
    "duration": 475,
    "start_time": "2023-11-15T21:44:17.083Z"
   },
   {
    "duration": 668,
    "start_time": "2023-11-15T21:44:17.560Z"
   },
   {
    "duration": 465,
    "start_time": "2023-11-15T21:44:18.229Z"
   },
   {
    "duration": 7,
    "start_time": "2023-11-15T21:44:18.696Z"
   },
   {
    "duration": 371,
    "start_time": "2023-11-15T21:44:18.705Z"
   },
   {
    "duration": 9,
    "start_time": "2023-11-15T21:44:19.077Z"
   },
   {
    "duration": 437,
    "start_time": "2023-11-15T21:44:19.088Z"
   },
   {
    "duration": 8,
    "start_time": "2023-11-15T21:44:19.526Z"
   },
   {
    "duration": 402,
    "start_time": "2023-11-15T21:44:19.536Z"
   },
   {
    "duration": 7,
    "start_time": "2023-11-15T21:44:19.940Z"
   },
   {
    "duration": 123,
    "start_time": "2023-11-15T21:44:19.949Z"
   },
   {
    "duration": 0,
    "start_time": "2023-11-15T21:44:20.073Z"
   },
   {
    "duration": 0,
    "start_time": "2023-11-15T21:44:20.075Z"
   },
   {
    "duration": 0,
    "start_time": "2023-11-15T21:44:20.076Z"
   },
   {
    "duration": 0,
    "start_time": "2023-11-15T21:44:20.077Z"
   },
   {
    "duration": 0,
    "start_time": "2023-11-15T21:44:20.079Z"
   },
   {
    "duration": 0,
    "start_time": "2023-11-15T21:44:20.080Z"
   },
   {
    "duration": 0,
    "start_time": "2023-11-15T21:44:20.081Z"
   },
   {
    "duration": 0,
    "start_time": "2023-11-15T21:44:20.082Z"
   },
   {
    "duration": 0,
    "start_time": "2023-11-15T21:44:20.084Z"
   },
   {
    "duration": 0,
    "start_time": "2023-11-15T21:44:20.085Z"
   },
   {
    "duration": 0,
    "start_time": "2023-11-15T21:44:20.086Z"
   },
   {
    "duration": 0,
    "start_time": "2023-11-15T21:44:20.088Z"
   },
   {
    "duration": 0,
    "start_time": "2023-11-15T21:44:20.088Z"
   },
   {
    "duration": 0,
    "start_time": "2023-11-15T21:44:20.090Z"
   },
   {
    "duration": 0,
    "start_time": "2023-11-15T21:44:20.091Z"
   },
   {
    "duration": 0,
    "start_time": "2023-11-15T21:44:20.093Z"
   },
   {
    "duration": 0,
    "start_time": "2023-11-15T21:44:20.094Z"
   },
   {
    "duration": 0,
    "start_time": "2023-11-15T21:44:20.095Z"
   },
   {
    "duration": 0,
    "start_time": "2023-11-15T21:44:20.096Z"
   },
   {
    "duration": 0,
    "start_time": "2023-11-15T21:44:20.097Z"
   },
   {
    "duration": 8,
    "start_time": "2023-11-15T21:44:42.061Z"
   },
   {
    "duration": 6,
    "start_time": "2023-11-15T21:44:44.151Z"
   },
   {
    "duration": 7,
    "start_time": "2023-11-15T21:44:44.218Z"
   },
   {
    "duration": 8,
    "start_time": "2023-11-15T21:44:44.288Z"
   },
   {
    "duration": 5,
    "start_time": "2023-11-15T21:44:44.369Z"
   },
   {
    "duration": 4,
    "start_time": "2023-11-15T21:44:44.464Z"
   },
   {
    "duration": 3,
    "start_time": "2023-11-15T21:44:44.522Z"
   },
   {
    "duration": 21674,
    "start_time": "2023-11-15T21:44:44.622Z"
   },
   {
    "duration": 21814,
    "start_time": "2023-11-15T21:45:06.299Z"
   },
   {
    "duration": 4,
    "start_time": "2023-11-15T21:45:28.115Z"
   },
   {
    "duration": 153800,
    "start_time": "2023-11-15T21:45:28.122Z"
   },
   {
    "duration": 151172,
    "start_time": "2023-11-15T21:48:01.924Z"
   },
   {
    "duration": 3,
    "start_time": "2023-11-15T21:50:33.097Z"
   },
   {
    "duration": 3070,
    "start_time": "2023-11-15T21:50:33.102Z"
   },
   {
    "duration": 3498,
    "start_time": "2023-11-15T21:50:36.174Z"
   },
   {
    "duration": 93,
    "start_time": "2023-11-15T21:50:39.674Z"
   },
   {
    "duration": 99,
    "start_time": "2023-11-15T21:50:39.771Z"
   },
   {
    "duration": 199,
    "start_time": "2023-11-15T21:50:39.872Z"
   },
   {
    "duration": 398,
    "start_time": "2023-11-15T21:50:40.073Z"
   },
   {
    "duration": 6,
    "start_time": "2023-11-15T21:50:40.473Z"
   },
   {
    "duration": 1636,
    "start_time": "2023-11-16T11:23:07.226Z"
   },
   {
    "duration": 1899,
    "start_time": "2023-11-16T11:23:08.864Z"
   },
   {
    "duration": 14,
    "start_time": "2023-11-16T11:23:10.764Z"
   },
   {
    "duration": 4,
    "start_time": "2023-11-16T11:23:10.781Z"
   },
   {
    "duration": 7,
    "start_time": "2023-11-16T11:23:10.786Z"
   },
   {
    "duration": 19,
    "start_time": "2023-11-16T11:23:10.795Z"
   },
   {
    "duration": 9,
    "start_time": "2023-11-16T11:23:10.816Z"
   },
   {
    "duration": 55,
    "start_time": "2023-11-16T11:23:10.827Z"
   },
   {
    "duration": 6,
    "start_time": "2023-11-16T11:23:10.883Z"
   },
   {
    "duration": 7,
    "start_time": "2023-11-16T11:23:10.892Z"
   },
   {
    "duration": 8,
    "start_time": "2023-11-16T11:23:10.900Z"
   },
   {
    "duration": 18,
    "start_time": "2023-11-16T11:23:10.909Z"
   },
   {
    "duration": 9,
    "start_time": "2023-11-16T11:23:10.928Z"
   },
   {
    "duration": 31,
    "start_time": "2023-11-16T11:23:10.938Z"
   },
   {
    "duration": 13,
    "start_time": "2023-11-16T11:23:10.970Z"
   },
   {
    "duration": 24,
    "start_time": "2023-11-16T11:23:10.985Z"
   },
   {
    "duration": 10,
    "start_time": "2023-11-16T11:23:11.011Z"
   },
   {
    "duration": 14,
    "start_time": "2023-11-16T11:23:11.023Z"
   },
   {
    "duration": 4,
    "start_time": "2023-11-16T11:23:11.038Z"
   },
   {
    "duration": 21,
    "start_time": "2023-11-16T11:23:11.044Z"
   },
   {
    "duration": 5,
    "start_time": "2023-11-16T11:23:11.068Z"
   },
   {
    "duration": 4,
    "start_time": "2023-11-16T11:23:11.076Z"
   },
   {
    "duration": 6,
    "start_time": "2023-11-16T11:23:11.460Z"
   },
   {
    "duration": 459,
    "start_time": "2023-11-16T11:23:11.564Z"
   },
   {
    "duration": 512,
    "start_time": "2023-11-16T11:23:12.025Z"
   },
   {
    "duration": 462,
    "start_time": "2023-11-16T11:23:12.538Z"
   },
   {
    "duration": 437,
    "start_time": "2023-11-16T11:23:13.002Z"
   },
   {
    "duration": 676,
    "start_time": "2023-11-16T11:23:13.440Z"
   },
   {
    "duration": 428,
    "start_time": "2023-11-16T11:23:14.117Z"
   },
   {
    "duration": 24,
    "start_time": "2023-11-16T11:23:14.547Z"
   },
   {
    "duration": 319,
    "start_time": "2023-11-16T11:23:14.573Z"
   },
   {
    "duration": 8,
    "start_time": "2023-11-16T11:23:14.893Z"
   },
   {
    "duration": 364,
    "start_time": "2023-11-16T11:23:14.903Z"
   },
   {
    "duration": 9,
    "start_time": "2023-11-16T11:23:15.268Z"
   },
   {
    "duration": 379,
    "start_time": "2023-11-16T11:23:15.279Z"
   },
   {
    "duration": 7,
    "start_time": "2023-11-16T11:23:15.668Z"
   },
   {
    "duration": 119,
    "start_time": "2023-11-16T11:23:15.677Z"
   },
   {
    "duration": 0,
    "start_time": "2023-11-16T11:23:15.798Z"
   },
   {
    "duration": 0,
    "start_time": "2023-11-16T11:23:15.799Z"
   },
   {
    "duration": 0,
    "start_time": "2023-11-16T11:23:15.800Z"
   },
   {
    "duration": 0,
    "start_time": "2023-11-16T11:23:15.801Z"
   },
   {
    "duration": 0,
    "start_time": "2023-11-16T11:23:15.801Z"
   },
   {
    "duration": 0,
    "start_time": "2023-11-16T11:23:15.802Z"
   },
   {
    "duration": 0,
    "start_time": "2023-11-16T11:23:15.803Z"
   },
   {
    "duration": 0,
    "start_time": "2023-11-16T11:23:15.804Z"
   },
   {
    "duration": 0,
    "start_time": "2023-11-16T11:23:15.805Z"
   },
   {
    "duration": 0,
    "start_time": "2023-11-16T11:23:15.806Z"
   },
   {
    "duration": 0,
    "start_time": "2023-11-16T11:23:15.807Z"
   },
   {
    "duration": 0,
    "start_time": "2023-11-16T11:23:15.808Z"
   },
   {
    "duration": 0,
    "start_time": "2023-11-16T11:23:15.809Z"
   },
   {
    "duration": 0,
    "start_time": "2023-11-16T11:23:15.810Z"
   },
   {
    "duration": 44,
    "start_time": "2023-11-16T11:23:15.825Z"
   },
   {
    "duration": 8,
    "start_time": "2023-11-16T11:23:15.917Z"
   },
   {
    "duration": 8,
    "start_time": "2023-11-16T11:23:16.137Z"
   },
   {
    "duration": 9,
    "start_time": "2023-11-16T11:23:16.368Z"
   },
   {
    "duration": 9,
    "start_time": "2023-11-16T11:23:16.486Z"
   },
   {
    "duration": 8,
    "start_time": "2023-11-16T11:23:16.583Z"
   },
   {
    "duration": 7,
    "start_time": "2023-11-16T11:24:22.047Z"
   },
   {
    "duration": 759,
    "start_time": "2023-11-16T11:24:22.408Z"
   },
   {
    "duration": 12,
    "start_time": "2023-11-16T11:24:23.468Z"
   },
   {
    "duration": 4,
    "start_time": "2023-11-16T11:24:23.779Z"
   },
   {
    "duration": 7,
    "start_time": "2023-11-16T11:24:24.292Z"
   },
   {
    "duration": 5,
    "start_time": "2023-11-16T11:24:24.336Z"
   },
   {
    "duration": 5,
    "start_time": "2023-11-16T11:24:24.404Z"
   },
   {
    "duration": 51,
    "start_time": "2023-11-16T11:24:24.453Z"
   },
   {
    "duration": 9,
    "start_time": "2023-11-16T11:24:25.252Z"
   },
   {
    "duration": 6,
    "start_time": "2023-11-16T11:24:25.754Z"
   },
   {
    "duration": 8,
    "start_time": "2023-11-16T11:24:25.804Z"
   },
   {
    "duration": 11,
    "start_time": "2023-11-16T11:24:25.908Z"
   },
   {
    "duration": 11,
    "start_time": "2023-11-16T11:24:25.962Z"
   },
   {
    "duration": 17,
    "start_time": "2023-11-16T11:24:26.027Z"
   },
   {
    "duration": 15,
    "start_time": "2023-11-16T11:24:26.134Z"
   },
   {
    "duration": 5,
    "start_time": "2023-11-16T11:24:26.242Z"
   },
   {
    "duration": 8,
    "start_time": "2023-11-16T11:24:26.284Z"
   },
   {
    "duration": 10,
    "start_time": "2023-11-16T11:24:26.327Z"
   },
   {
    "duration": 4,
    "start_time": "2023-11-16T11:24:26.443Z"
   },
   {
    "duration": 9,
    "start_time": "2023-11-16T11:24:26.486Z"
   },
   {
    "duration": 6,
    "start_time": "2023-11-16T11:24:26.567Z"
   },
   {
    "duration": 4,
    "start_time": "2023-11-16T11:24:26.610Z"
   },
   {
    "duration": 4,
    "start_time": "2023-11-16T11:24:26.809Z"
   },
   {
    "duration": 567,
    "start_time": "2023-11-16T11:24:26.857Z"
   },
   {
    "duration": 476,
    "start_time": "2023-11-16T11:24:27.425Z"
   },
   {
    "duration": 446,
    "start_time": "2023-11-16T11:24:27.903Z"
   },
   {
    "duration": 445,
    "start_time": "2023-11-16T11:24:28.351Z"
   },
   {
    "duration": 699,
    "start_time": "2023-11-16T11:24:28.797Z"
   },
   {
    "duration": 336,
    "start_time": "2023-11-16T11:24:29.498Z"
   },
   {
    "duration": 9,
    "start_time": "2023-11-16T11:24:29.836Z"
   },
   {
    "duration": 324,
    "start_time": "2023-11-16T11:24:29.856Z"
   },
   {
    "duration": 8,
    "start_time": "2023-11-16T11:24:30.182Z"
   },
   {
    "duration": 429,
    "start_time": "2023-11-16T11:24:30.193Z"
   },
   {
    "duration": 7,
    "start_time": "2023-11-16T11:24:30.624Z"
   },
   {
    "duration": 469,
    "start_time": "2023-11-16T11:24:30.632Z"
   },
   {
    "duration": 8,
    "start_time": "2023-11-16T11:24:31.103Z"
   },
   {
    "duration": 55,
    "start_time": "2023-11-16T11:24:31.113Z"
   },
   {
    "duration": 0,
    "start_time": "2023-11-16T11:24:31.169Z"
   },
   {
    "duration": 0,
    "start_time": "2023-11-16T11:24:31.170Z"
   },
   {
    "duration": 0,
    "start_time": "2023-11-16T11:24:31.171Z"
   },
   {
    "duration": 0,
    "start_time": "2023-11-16T11:24:31.172Z"
   },
   {
    "duration": 0,
    "start_time": "2023-11-16T11:24:31.173Z"
   },
   {
    "duration": 0,
    "start_time": "2023-11-16T11:24:31.174Z"
   },
   {
    "duration": 0,
    "start_time": "2023-11-16T11:24:31.176Z"
   },
   {
    "duration": 0,
    "start_time": "2023-11-16T11:24:31.178Z"
   },
   {
    "duration": 0,
    "start_time": "2023-11-16T11:24:31.180Z"
   },
   {
    "duration": 0,
    "start_time": "2023-11-16T11:24:31.186Z"
   },
   {
    "duration": 0,
    "start_time": "2023-11-16T11:24:31.188Z"
   },
   {
    "duration": 0,
    "start_time": "2023-11-16T11:24:31.189Z"
   },
   {
    "duration": 0,
    "start_time": "2023-11-16T11:24:31.190Z"
   },
   {
    "duration": 0,
    "start_time": "2023-11-16T11:24:31.191Z"
   },
   {
    "duration": 57,
    "start_time": "2023-11-16T11:24:31.201Z"
   },
   {
    "duration": 0,
    "start_time": "2023-11-16T11:24:31.259Z"
   },
   {
    "duration": 10,
    "start_time": "2023-11-16T11:24:31.343Z"
   },
   {
    "duration": 10,
    "start_time": "2023-11-16T11:24:31.424Z"
   },
   {
    "duration": 9,
    "start_time": "2023-11-16T11:24:31.513Z"
   },
   {
    "duration": 0,
    "start_time": "2023-11-16T11:24:31.524Z"
   },
   {
    "duration": 311,
    "start_time": "2023-11-16T11:25:20.589Z"
   },
   {
    "duration": 8,
    "start_time": "2023-11-16T11:25:23.108Z"
   },
   {
    "duration": 4,
    "start_time": "2023-11-16T11:25:24.475Z"
   },
   {
    "duration": 5,
    "start_time": "2023-11-16T11:25:24.523Z"
   },
   {
    "duration": 6,
    "start_time": "2023-11-16T11:25:24.572Z"
   },
   {
    "duration": 6,
    "start_time": "2023-11-16T11:25:24.628Z"
   },
   {
    "duration": 4,
    "start_time": "2023-11-16T11:25:24.716Z"
   },
   {
    "duration": 4,
    "start_time": "2023-11-16T11:25:24.762Z"
   },
   {
    "duration": 20097,
    "start_time": "2023-11-16T11:25:24.860Z"
   },
   {
    "duration": 19789,
    "start_time": "2023-11-16T11:25:44.958Z"
   },
   {
    "duration": 8,
    "start_time": "2023-11-16T11:26:04.748Z"
   },
   {
    "duration": 34233,
    "start_time": "2023-11-16T11:26:04.757Z"
   },
   {
    "duration": 0,
    "start_time": "2023-11-16T11:26:38.991Z"
   },
   {
    "duration": 0,
    "start_time": "2023-11-16T11:26:38.992Z"
   },
   {
    "duration": 0,
    "start_time": "2023-11-16T11:26:38.993Z"
   },
   {
    "duration": 0,
    "start_time": "2023-11-16T11:26:38.994Z"
   },
   {
    "duration": 0,
    "start_time": "2023-11-16T11:26:38.995Z"
   },
   {
    "duration": 0,
    "start_time": "2023-11-16T11:26:38.996Z"
   },
   {
    "duration": 0,
    "start_time": "2023-11-16T11:26:38.997Z"
   },
   {
    "duration": 0,
    "start_time": "2023-11-16T11:26:38.998Z"
   },
   {
    "duration": 0,
    "start_time": "2023-11-16T11:26:38.999Z"
   },
   {
    "duration": 0,
    "start_time": "2023-11-16T11:26:39.000Z"
   },
   {
    "duration": 39,
    "start_time": "2023-11-16T11:26:42.093Z"
   },
   {
    "duration": 42,
    "start_time": "2023-11-16T11:26:53.823Z"
   },
   {
    "duration": 363,
    "start_time": "2023-11-16T11:27:04.998Z"
   },
   {
    "duration": 27,
    "start_time": "2023-11-16T11:27:48.944Z"
   },
   {
    "duration": 20092,
    "start_time": "2023-11-16T11:28:01.982Z"
   },
   {
    "duration": 32,
    "start_time": "2023-11-16T11:31:25.986Z"
   },
   {
    "duration": 35,
    "start_time": "2023-11-16T11:31:51.460Z"
   },
   {
    "duration": 41,
    "start_time": "2023-11-16T11:32:08.091Z"
   },
   {
    "duration": 5142,
    "start_time": "2023-11-16T11:33:49.148Z"
   },
   {
    "duration": 5035,
    "start_time": "2023-11-16T11:39:05.231Z"
   },
   {
    "duration": 3,
    "start_time": "2023-11-16T11:39:14.006Z"
   },
   {
    "duration": 5080,
    "start_time": "2023-11-16T11:40:08.975Z"
   },
   {
    "duration": 4,
    "start_time": "2023-11-16T11:40:17.077Z"
   },
   {
    "duration": 0,
    "start_time": "2023-11-16T11:45:45.197Z"
   },
   {
    "duration": 0,
    "start_time": "2023-11-16T11:45:45.198Z"
   },
   {
    "duration": 5061,
    "start_time": "2023-11-16T11:45:46.394Z"
   },
   {
    "duration": 5042,
    "start_time": "2023-11-16T11:45:53.530Z"
   },
   {
    "duration": 304114,
    "start_time": "2023-11-16T11:46:01.658Z"
   },
   {
    "duration": 299982,
    "start_time": "2023-11-16T11:51:05.773Z"
   },
   {
    "duration": 4000,
    "start_time": "2023-11-16T11:56:05.757Z"
   },
   {
    "duration": 4096,
    "start_time": "2023-11-16T11:56:09.759Z"
   },
   {
    "duration": 3,
    "start_time": "2023-11-16T11:56:13.857Z"
   },
   {
    "duration": 26,
    "start_time": "2023-11-16T11:56:13.862Z"
   },
   {
    "duration": 0,
    "start_time": "2023-11-16T11:56:13.890Z"
   },
   {
    "duration": 7,
    "start_time": "2023-11-16T11:56:24.770Z"
   },
   {
    "duration": 3,
    "start_time": "2023-11-16T11:57:07.082Z"
   },
   {
    "duration": 10,
    "start_time": "2023-11-16T11:57:09.946Z"
   },
   {
    "duration": 252,
    "start_time": "2023-11-16T12:03:08.828Z"
   },
   {
    "duration": 251,
    "start_time": "2023-11-16T12:03:26.196Z"
   },
   {
    "duration": 11,
    "start_time": "2023-11-16T12:03:27.123Z"
   },
   {
    "duration": 13,
    "start_time": "2023-11-16T12:03:43.117Z"
   },
   {
    "duration": 282,
    "start_time": "2023-11-16T12:03:45.415Z"
   },
   {
    "duration": 253,
    "start_time": "2023-11-16T12:03:45.979Z"
   },
   {
    "duration": 3,
    "start_time": "2023-11-16T12:03:46.387Z"
   },
   {
    "duration": 267,
    "start_time": "2023-11-16T12:04:22.636Z"
   },
   {
    "duration": 266,
    "start_time": "2023-11-16T12:04:23.267Z"
   },
   {
    "duration": 3,
    "start_time": "2023-11-16T12:04:23.587Z"
   },
   {
    "duration": 5,
    "start_time": "2023-11-16T12:13:51.938Z"
   },
   {
    "duration": 4,
    "start_time": "2023-11-16T12:13:54.083Z"
   },
   {
    "duration": 685,
    "start_time": "2023-11-16T12:13:54.590Z"
   },
   {
    "duration": 8,
    "start_time": "2023-11-16T12:13:55.276Z"
   },
   {
    "duration": 4,
    "start_time": "2023-11-16T12:13:55.285Z"
   },
   {
    "duration": 18,
    "start_time": "2023-11-16T12:13:55.291Z"
   },
   {
    "duration": 14,
    "start_time": "2023-11-16T12:13:55.310Z"
   },
   {
    "duration": 6,
    "start_time": "2023-11-16T12:13:55.325Z"
   },
   {
    "duration": 42,
    "start_time": "2023-11-16T12:13:55.332Z"
   },
   {
    "duration": 6,
    "start_time": "2023-11-16T12:13:55.375Z"
   },
   {
    "duration": 19,
    "start_time": "2023-11-16T12:13:55.382Z"
   },
   {
    "duration": 9,
    "start_time": "2023-11-16T12:13:55.403Z"
   },
   {
    "duration": 11,
    "start_time": "2023-11-16T12:13:55.414Z"
   },
   {
    "duration": 9,
    "start_time": "2023-11-16T12:13:55.427Z"
   },
   {
    "duration": 20,
    "start_time": "2023-11-16T12:13:55.437Z"
   },
   {
    "duration": 11,
    "start_time": "2023-11-16T12:13:55.459Z"
   },
   {
    "duration": 4,
    "start_time": "2023-11-16T12:13:55.472Z"
   },
   {
    "duration": 7,
    "start_time": "2023-11-16T12:13:55.493Z"
   },
   {
    "duration": 13,
    "start_time": "2023-11-16T12:13:55.534Z"
   },
   {
    "duration": 4,
    "start_time": "2023-11-16T12:13:55.664Z"
   },
   {
    "duration": 8,
    "start_time": "2023-11-16T12:13:55.705Z"
   },
   {
    "duration": 5,
    "start_time": "2023-11-16T12:13:55.775Z"
   },
   {
    "duration": 3,
    "start_time": "2023-11-16T12:13:55.817Z"
   },
   {
    "duration": 5,
    "start_time": "2023-11-16T12:13:55.946Z"
   },
   {
    "duration": 411,
    "start_time": "2023-11-16T12:13:55.992Z"
   },
   {
    "duration": 508,
    "start_time": "2023-11-16T12:13:56.405Z"
   },
   {
    "duration": 445,
    "start_time": "2023-11-16T12:13:56.914Z"
   },
   {
    "duration": 427,
    "start_time": "2023-11-16T12:13:57.361Z"
   },
   {
    "duration": 580,
    "start_time": "2023-11-16T12:13:57.790Z"
   },
   {
    "duration": 404,
    "start_time": "2023-11-16T12:13:58.372Z"
   },
   {
    "duration": 8,
    "start_time": "2023-11-16T12:13:58.778Z"
   },
   {
    "duration": 288,
    "start_time": "2023-11-16T12:13:58.788Z"
   },
   {
    "duration": 8,
    "start_time": "2023-11-16T12:13:59.078Z"
   },
   {
    "duration": 347,
    "start_time": "2023-11-16T12:13:59.088Z"
   },
   {
    "duration": 9,
    "start_time": "2023-11-16T12:13:59.437Z"
   },
   {
    "duration": 330,
    "start_time": "2023-11-16T12:13:59.455Z"
   },
   {
    "duration": 7,
    "start_time": "2023-11-16T12:13:59.786Z"
   },
   {
    "duration": 401,
    "start_time": "2023-11-16T12:13:59.794Z"
   },
   {
    "duration": 11,
    "start_time": "2023-11-16T12:14:00.196Z"
   },
   {
    "duration": 14,
    "start_time": "2023-11-16T12:14:00.209Z"
   },
   {
    "duration": 35,
    "start_time": "2023-11-16T12:14:00.224Z"
   },
   {
    "duration": 24,
    "start_time": "2023-11-16T12:14:00.260Z"
   },
   {
    "duration": 25,
    "start_time": "2023-11-16T12:14:00.286Z"
   },
   {
    "duration": 20,
    "start_time": "2023-11-16T12:14:00.312Z"
   },
   {
    "duration": 42,
    "start_time": "2023-11-16T12:14:00.333Z"
   },
   {
    "duration": 5154,
    "start_time": "2023-11-16T12:14:00.377Z"
   },
   {
    "duration": 5005,
    "start_time": "2023-11-16T12:14:05.532Z"
   },
   {
    "duration": 3,
    "start_time": "2023-11-16T12:14:10.539Z"
   },
   {
    "duration": 309824,
    "start_time": "2023-11-16T12:14:10.543Z"
   },
   {
    "duration": 322881,
    "start_time": "2023-11-16T12:19:20.369Z"
   },
   {
    "duration": 11,
    "start_time": "2023-11-16T12:24:43.251Z"
   },
   {
    "duration": 7709,
    "start_time": "2023-11-16T12:24:43.265Z"
   },
   {
    "duration": 4714,
    "start_time": "2023-11-16T12:24:51.056Z"
   },
   {
    "duration": 4,
    "start_time": "2023-11-16T12:24:55.773Z"
   },
   {
    "duration": 100,
    "start_time": "2023-11-16T12:24:55.780Z"
   },
   {
    "duration": 372,
    "start_time": "2023-11-16T12:24:55.881Z"
   },
   {
    "duration": 288,
    "start_time": "2023-11-16T12:24:56.255Z"
   },
   {
    "duration": 3,
    "start_time": "2023-11-16T12:24:56.544Z"
   },
   {
    "duration": 3,
    "start_time": "2023-11-16T12:28:29.716Z"
   },
   {
    "duration": 13,
    "start_time": "2023-11-16T12:29:40.340Z"
   },
   {
    "duration": 16,
    "start_time": "2023-11-16T12:29:48.195Z"
   },
   {
    "duration": 4,
    "start_time": "2023-11-16T12:30:16.564Z"
   },
   {
    "duration": 619,
    "start_time": "2023-11-16T12:30:17.064Z"
   },
   {
    "duration": 7,
    "start_time": "2023-11-16T12:30:17.685Z"
   },
   {
    "duration": 8,
    "start_time": "2023-11-16T12:30:17.693Z"
   },
   {
    "duration": 39,
    "start_time": "2023-11-16T12:30:17.703Z"
   },
   {
    "duration": 10,
    "start_time": "2023-11-16T12:30:17.744Z"
   },
   {
    "duration": 7,
    "start_time": "2023-11-16T12:30:17.755Z"
   },
   {
    "duration": 39,
    "start_time": "2023-11-16T12:30:17.763Z"
   },
   {
    "duration": 6,
    "start_time": "2023-11-16T12:30:17.804Z"
   },
   {
    "duration": 13,
    "start_time": "2023-11-16T12:30:17.812Z"
   },
   {
    "duration": 11,
    "start_time": "2023-11-16T12:30:17.828Z"
   },
   {
    "duration": 21,
    "start_time": "2023-11-16T12:30:17.840Z"
   },
   {
    "duration": 9,
    "start_time": "2023-11-16T12:30:17.863Z"
   },
   {
    "duration": 11,
    "start_time": "2023-11-16T12:30:17.874Z"
   },
   {
    "duration": 11,
    "start_time": "2023-11-16T12:30:17.888Z"
   },
   {
    "duration": 12,
    "start_time": "2023-11-16T12:30:17.942Z"
   },
   {
    "duration": 3,
    "start_time": "2023-11-16T12:31:46.166Z"
   },
   {
    "duration": 11,
    "start_time": "2023-11-16T12:32:08.399Z"
   },
   {
    "duration": 6,
    "start_time": "2023-11-16T12:32:24.750Z"
   },
   {
    "duration": 4,
    "start_time": "2023-11-16T12:33:38.551Z"
   },
   {
    "duration": 682,
    "start_time": "2023-11-16T12:33:39.063Z"
   },
   {
    "duration": 13,
    "start_time": "2023-11-16T12:33:39.747Z"
   },
   {
    "duration": 11,
    "start_time": "2023-11-16T12:33:39.761Z"
   },
   {
    "duration": 7,
    "start_time": "2023-11-16T12:33:39.774Z"
   },
   {
    "duration": 8,
    "start_time": "2023-11-16T12:33:39.782Z"
   },
   {
    "duration": 11,
    "start_time": "2023-11-16T12:33:39.791Z"
   },
   {
    "duration": 43,
    "start_time": "2023-11-16T12:33:39.803Z"
   },
   {
    "duration": 7,
    "start_time": "2023-11-16T12:33:39.848Z"
   },
   {
    "duration": 6,
    "start_time": "2023-11-16T12:33:39.857Z"
   },
   {
    "duration": 12,
    "start_time": "2023-11-16T12:33:39.865Z"
   },
   {
    "duration": 20,
    "start_time": "2023-11-16T12:33:39.879Z"
   },
   {
    "duration": 14,
    "start_time": "2023-11-16T12:33:39.900Z"
   },
   {
    "duration": 19,
    "start_time": "2023-11-16T12:33:39.915Z"
   },
   {
    "duration": 8,
    "start_time": "2023-11-16T12:33:39.935Z"
   },
   {
    "duration": 11,
    "start_time": "2023-11-16T12:33:39.945Z"
   },
   {
    "duration": 7,
    "start_time": "2023-11-16T12:33:39.958Z"
   },
   {
    "duration": 4,
    "start_time": "2023-11-16T12:33:40.052Z"
   },
   {
    "duration": 9,
    "start_time": "2023-11-16T12:33:40.118Z"
   },
   {
    "duration": 5,
    "start_time": "2023-11-16T12:33:40.198Z"
   },
   {
    "duration": 3,
    "start_time": "2023-11-16T12:33:40.239Z"
   },
   {
    "duration": 4,
    "start_time": "2023-11-16T12:34:03.558Z"
   },
   {
    "duration": 622,
    "start_time": "2023-11-16T12:34:04.058Z"
   },
   {
    "duration": 7,
    "start_time": "2023-11-16T12:34:04.682Z"
   },
   {
    "duration": 8,
    "start_time": "2023-11-16T12:34:04.691Z"
   },
   {
    "duration": 28,
    "start_time": "2023-11-16T12:34:04.700Z"
   },
   {
    "duration": 23,
    "start_time": "2023-11-16T12:34:04.730Z"
   },
   {
    "duration": 19,
    "start_time": "2023-11-16T12:34:04.754Z"
   },
   {
    "duration": 51,
    "start_time": "2023-11-16T12:34:04.774Z"
   },
   {
    "duration": 6,
    "start_time": "2023-11-16T12:34:04.827Z"
   },
   {
    "duration": 14,
    "start_time": "2023-11-16T12:34:04.835Z"
   },
   {
    "duration": 32,
    "start_time": "2023-11-16T12:34:04.853Z"
   },
   {
    "duration": 39,
    "start_time": "2023-11-16T12:34:04.887Z"
   },
   {
    "duration": 14,
    "start_time": "2023-11-16T12:34:04.927Z"
   },
   {
    "duration": 26,
    "start_time": "2023-11-16T12:34:04.942Z"
   },
   {
    "duration": 75,
    "start_time": "2023-11-16T12:34:04.970Z"
   },
   {
    "duration": 25,
    "start_time": "2023-11-16T12:34:05.046Z"
   },
   {
    "duration": 13,
    "start_time": "2023-11-16T12:34:05.073Z"
   },
   {
    "duration": 17,
    "start_time": "2023-11-16T12:34:05.088Z"
   },
   {
    "duration": 44,
    "start_time": "2023-11-16T12:34:05.107Z"
   },
   {
    "duration": 5,
    "start_time": "2023-11-16T12:34:05.195Z"
   },
   {
    "duration": 3,
    "start_time": "2023-11-16T12:34:05.241Z"
   },
   {
    "duration": 4,
    "start_time": "2023-11-16T12:34:05.382Z"
   },
   {
    "duration": 435,
    "start_time": "2023-11-16T12:34:05.430Z"
   },
   {
    "duration": 424,
    "start_time": "2023-11-16T12:34:05.867Z"
   },
   {
    "duration": 530,
    "start_time": "2023-11-16T12:34:06.293Z"
   },
   {
    "duration": 442,
    "start_time": "2023-11-16T12:34:06.826Z"
   },
   {
    "duration": 599,
    "start_time": "2023-11-16T12:34:07.270Z"
   },
   {
    "duration": 308,
    "start_time": "2023-11-16T12:34:07.871Z"
   },
   {
    "duration": 7,
    "start_time": "2023-11-16T12:34:08.181Z"
   },
   {
    "duration": 402,
    "start_time": "2023-11-16T12:34:08.189Z"
   },
   {
    "duration": 7,
    "start_time": "2023-11-16T12:34:08.592Z"
   },
   {
    "duration": 358,
    "start_time": "2023-11-16T12:34:08.601Z"
   },
   {
    "duration": 7,
    "start_time": "2023-11-16T12:34:08.961Z"
   },
   {
    "duration": 344,
    "start_time": "2023-11-16T12:34:08.970Z"
   },
   {
    "duration": 6,
    "start_time": "2023-11-16T12:34:09.316Z"
   },
   {
    "duration": 313,
    "start_time": "2023-11-16T12:34:09.324Z"
   },
   {
    "duration": 8,
    "start_time": "2023-11-16T12:34:09.638Z"
   },
   {
    "duration": 11,
    "start_time": "2023-11-16T12:34:09.647Z"
   },
   {
    "duration": 8,
    "start_time": "2023-11-16T12:34:09.660Z"
   },
   {
    "duration": 8,
    "start_time": "2023-11-16T12:34:09.670Z"
   },
   {
    "duration": 14,
    "start_time": "2023-11-16T12:34:09.680Z"
   },
   {
    "duration": 4,
    "start_time": "2023-11-16T12:34:09.695Z"
   },
   {
    "duration": 24,
    "start_time": "2023-11-16T12:34:09.700Z"
   },
   {
    "duration": 5157,
    "start_time": "2023-11-16T12:34:09.725Z"
   },
   {
    "duration": 5032,
    "start_time": "2023-11-16T12:34:14.883Z"
   },
   {
    "duration": 4,
    "start_time": "2023-11-16T12:34:19.917Z"
   },
   {
    "duration": 308187,
    "start_time": "2023-11-16T12:34:19.922Z"
   },
   {
    "duration": 297990,
    "start_time": "2023-11-16T12:39:28.110Z"
   },
   {
    "duration": 3,
    "start_time": "2023-11-16T12:44:26.102Z"
   },
   {
    "duration": 3854,
    "start_time": "2023-11-16T12:44:26.109Z"
   },
   {
    "duration": 3712,
    "start_time": "2023-11-16T12:44:30.055Z"
   },
   {
    "duration": 8,
    "start_time": "2023-11-16T12:44:33.856Z"
   },
   {
    "duration": 90,
    "start_time": "2023-11-16T12:44:33.866Z"
   },
   {
    "duration": 272,
    "start_time": "2023-11-16T12:44:33.958Z"
   },
   {
    "duration": 259,
    "start_time": "2023-11-16T12:44:34.232Z"
   },
   {
    "duration": 3,
    "start_time": "2023-11-16T12:44:34.493Z"
   },
   {
    "duration": 11,
    "start_time": "2023-11-16T12:44:34.497Z"
   },
   {
    "duration": 4,
    "start_time": "2023-11-16T12:44:44.236Z"
   },
   {
    "duration": 15,
    "start_time": "2023-11-16T12:44:44.476Z"
   },
   {
    "duration": 1419,
    "start_time": "2023-11-16T12:45:00.932Z"
   },
   {
    "duration": 1344,
    "start_time": "2023-11-16T12:45:06.500Z"
   },
   {
    "duration": 692,
    "start_time": "2023-11-16T12:45:07.845Z"
   },
   {
    "duration": 11,
    "start_time": "2023-11-16T12:45:08.538Z"
   },
   {
    "duration": 3,
    "start_time": "2023-11-16T12:45:08.555Z"
   },
   {
    "duration": 16,
    "start_time": "2023-11-16T12:45:08.559Z"
   },
   {
    "duration": 10,
    "start_time": "2023-11-16T12:45:08.576Z"
   },
   {
    "duration": 10,
    "start_time": "2023-11-16T12:45:08.588Z"
   },
   {
    "duration": 47,
    "start_time": "2023-11-16T12:45:08.599Z"
   },
   {
    "duration": 9,
    "start_time": "2023-11-16T12:45:08.648Z"
   },
   {
    "duration": 16,
    "start_time": "2023-11-16T12:45:08.660Z"
   },
   {
    "duration": 8,
    "start_time": "2023-11-16T12:45:08.678Z"
   },
   {
    "duration": 17,
    "start_time": "2023-11-16T12:45:08.687Z"
   },
   {
    "duration": 11,
    "start_time": "2023-11-16T12:45:08.706Z"
   },
   {
    "duration": 5,
    "start_time": "2023-11-16T12:45:08.719Z"
   },
   {
    "duration": 10,
    "start_time": "2023-11-16T12:45:08.726Z"
   },
   {
    "duration": 20,
    "start_time": "2023-11-16T12:45:08.737Z"
   },
   {
    "duration": 6,
    "start_time": "2023-11-16T12:45:08.759Z"
   },
   {
    "duration": 8,
    "start_time": "2023-11-16T12:45:08.766Z"
   },
   {
    "duration": 11,
    "start_time": "2023-11-16T12:45:08.775Z"
   },
   {
    "duration": 25,
    "start_time": "2023-11-16T12:45:08.787Z"
   },
   {
    "duration": 19,
    "start_time": "2023-11-16T12:45:08.814Z"
   },
   {
    "duration": 5,
    "start_time": "2023-11-16T12:45:08.834Z"
   },
   {
    "duration": 36,
    "start_time": "2023-11-16T12:45:08.840Z"
   },
   {
    "duration": 425,
    "start_time": "2023-11-16T12:45:08.878Z"
   },
   {
    "duration": 477,
    "start_time": "2023-11-16T12:45:09.305Z"
   },
   {
    "duration": 413,
    "start_time": "2023-11-16T12:45:09.783Z"
   },
   {
    "duration": 438,
    "start_time": "2023-11-16T12:45:10.197Z"
   },
   {
    "duration": 627,
    "start_time": "2023-11-16T12:45:10.639Z"
   },
   {
    "duration": 389,
    "start_time": "2023-11-16T12:45:11.267Z"
   },
   {
    "duration": 7,
    "start_time": "2023-11-16T12:45:11.658Z"
   },
   {
    "duration": 293,
    "start_time": "2023-11-16T12:45:11.666Z"
   },
   {
    "duration": 8,
    "start_time": "2023-11-16T12:45:11.961Z"
   },
   {
    "duration": 374,
    "start_time": "2023-11-16T12:45:11.971Z"
   },
   {
    "duration": 14,
    "start_time": "2023-11-16T12:45:12.346Z"
   },
   {
    "duration": 332,
    "start_time": "2023-11-16T12:45:12.361Z"
   },
   {
    "duration": 7,
    "start_time": "2023-11-16T12:45:12.694Z"
   },
   {
    "duration": 368,
    "start_time": "2023-11-16T12:45:12.703Z"
   },
   {
    "duration": 7,
    "start_time": "2023-11-16T12:45:13.073Z"
   },
   {
    "duration": 6,
    "start_time": "2023-11-16T12:45:13.081Z"
   },
   {
    "duration": 8,
    "start_time": "2023-11-16T12:45:13.088Z"
   },
   {
    "duration": 16,
    "start_time": "2023-11-16T12:45:13.097Z"
   },
   {
    "duration": 8,
    "start_time": "2023-11-16T12:45:13.114Z"
   },
   {
    "duration": 8,
    "start_time": "2023-11-16T12:45:13.123Z"
   },
   {
    "duration": 20,
    "start_time": "2023-11-16T12:45:13.132Z"
   },
   {
    "duration": 5781,
    "start_time": "2023-11-16T12:45:13.153Z"
   },
   {
    "duration": 5007,
    "start_time": "2023-11-16T12:45:18.935Z"
   },
   {
    "duration": 113,
    "start_time": "2023-11-16T12:45:23.943Z"
   },
   {
    "duration": 0,
    "start_time": "2023-11-16T12:45:24.057Z"
   },
   {
    "duration": 0,
    "start_time": "2023-11-16T12:45:24.059Z"
   },
   {
    "duration": 0,
    "start_time": "2023-11-16T12:45:24.060Z"
   },
   {
    "duration": 0,
    "start_time": "2023-11-16T12:45:24.061Z"
   },
   {
    "duration": 0,
    "start_time": "2023-11-16T12:45:24.062Z"
   },
   {
    "duration": 0,
    "start_time": "2023-11-16T12:45:24.063Z"
   },
   {
    "duration": 0,
    "start_time": "2023-11-16T12:45:24.064Z"
   },
   {
    "duration": 0,
    "start_time": "2023-11-16T12:45:24.065Z"
   },
   {
    "duration": 0,
    "start_time": "2023-11-16T12:45:24.066Z"
   },
   {
    "duration": 0,
    "start_time": "2023-11-16T12:45:24.067Z"
   },
   {
    "duration": 4,
    "start_time": "2023-11-16T12:47:01.640Z"
   },
   {
    "duration": 704,
    "start_time": "2023-11-16T12:47:01.959Z"
   },
   {
    "duration": 13,
    "start_time": "2023-11-16T12:47:02.665Z"
   },
   {
    "duration": 3,
    "start_time": "2023-11-16T12:47:03.318Z"
   },
   {
    "duration": 5,
    "start_time": "2023-11-16T12:47:03.541Z"
   },
   {
    "duration": 4,
    "start_time": "2023-11-16T12:47:03.750Z"
   },
   {
    "duration": 9,
    "start_time": "2023-11-16T12:47:03.974Z"
   },
   {
    "duration": 37,
    "start_time": "2023-11-16T12:47:04.278Z"
   },
   {
    "duration": 7,
    "start_time": "2023-11-16T12:47:05.813Z"
   },
   {
    "duration": 5,
    "start_time": "2023-11-16T12:47:06.061Z"
   },
   {
    "duration": 7,
    "start_time": "2023-11-16T12:47:06.334Z"
   },
   {
    "duration": 11,
    "start_time": "2023-11-16T12:47:07.407Z"
   },
   {
    "duration": 10,
    "start_time": "2023-11-16T12:47:09.039Z"
   },
   {
    "duration": 5,
    "start_time": "2023-11-16T12:47:11.775Z"
   },
   {
    "duration": 6,
    "start_time": "2023-11-16T12:47:12.102Z"
   },
   {
    "duration": 15,
    "start_time": "2023-11-16T12:47:12.646Z"
   },
   {
    "duration": 7,
    "start_time": "2023-11-16T12:47:15.422Z"
   },
   {
    "duration": 4,
    "start_time": "2023-11-16T12:47:18.943Z"
   },
   {
    "duration": 8,
    "start_time": "2023-11-16T12:47:20.335Z"
   },
   {
    "duration": 5,
    "start_time": "2023-11-16T12:47:21.414Z"
   },
   {
    "duration": 7,
    "start_time": "2023-11-16T12:47:21.934Z"
   },
   {
    "duration": 5,
    "start_time": "2023-11-16T12:47:23.919Z"
   },
   {
    "duration": 8,
    "start_time": "2023-11-16T12:47:24.694Z"
   },
   {
    "duration": 3,
    "start_time": "2023-11-16T12:47:26.223Z"
   },
   {
    "duration": 11,
    "start_time": "2023-11-16T12:47:30.343Z"
   },
   {
    "duration": 11,
    "start_time": "2023-11-16T12:48:01.472Z"
   },
   {
    "duration": 12,
    "start_time": "2023-11-16T12:48:21.623Z"
   },
   {
    "duration": 7,
    "start_time": "2023-11-16T12:48:23.008Z"
   },
   {
    "duration": 1443,
    "start_time": "2023-11-16T12:48:50.360Z"
   },
   {
    "duration": 731,
    "start_time": "2023-11-16T12:48:51.805Z"
   },
   {
    "duration": 12,
    "start_time": "2023-11-16T12:48:52.538Z"
   },
   {
    "duration": 3,
    "start_time": "2023-11-16T12:48:52.552Z"
   },
   {
    "duration": 23,
    "start_time": "2023-11-16T12:48:52.557Z"
   },
   {
    "duration": 17,
    "start_time": "2023-11-16T12:48:52.582Z"
   },
   {
    "duration": 26,
    "start_time": "2023-11-16T12:48:52.600Z"
   },
   {
    "duration": 62,
    "start_time": "2023-11-16T12:48:52.628Z"
   },
   {
    "duration": 6,
    "start_time": "2023-11-16T12:48:52.692Z"
   },
   {
    "duration": 71,
    "start_time": "2023-11-16T12:48:52.700Z"
   },
   {
    "duration": 18,
    "start_time": "2023-11-16T12:48:52.773Z"
   },
   {
    "duration": 18,
    "start_time": "2023-11-16T12:48:52.792Z"
   },
   {
    "duration": 11,
    "start_time": "2023-11-16T12:48:52.812Z"
   },
   {
    "duration": 32,
    "start_time": "2023-11-16T12:48:52.824Z"
   },
   {
    "duration": 14,
    "start_time": "2023-11-16T12:48:52.858Z"
   },
   {
    "duration": 11,
    "start_time": "2023-11-16T12:48:52.874Z"
   },
   {
    "duration": 6,
    "start_time": "2023-11-16T12:48:52.887Z"
   },
   {
    "duration": 19,
    "start_time": "2023-11-16T12:48:52.895Z"
   },
   {
    "duration": 10,
    "start_time": "2023-11-16T12:48:52.915Z"
   },
   {
    "duration": 6,
    "start_time": "2023-11-16T12:48:52.927Z"
   },
   {
    "duration": 29,
    "start_time": "2023-11-16T12:48:52.935Z"
   },
   {
    "duration": 11,
    "start_time": "2023-11-16T12:48:52.966Z"
   },
   {
    "duration": 8,
    "start_time": "2023-11-16T12:48:52.979Z"
   },
   {
    "duration": 20,
    "start_time": "2023-11-16T12:48:52.988Z"
   },
   {
    "duration": 478,
    "start_time": "2023-11-16T12:48:53.009Z"
   },
   {
    "duration": 516,
    "start_time": "2023-11-16T12:48:53.488Z"
   },
   {
    "duration": 463,
    "start_time": "2023-11-16T12:48:54.006Z"
   },
   {
    "duration": 441,
    "start_time": "2023-11-16T12:48:54.472Z"
   },
   {
    "duration": 608,
    "start_time": "2023-11-16T12:48:54.914Z"
   },
   {
    "duration": 418,
    "start_time": "2023-11-16T12:48:55.524Z"
   },
   {
    "duration": 12,
    "start_time": "2023-11-16T12:48:55.944Z"
   },
   {
    "duration": 307,
    "start_time": "2023-11-16T12:48:55.958Z"
   },
   {
    "duration": 9,
    "start_time": "2023-11-16T12:48:56.267Z"
   },
   {
    "duration": 367,
    "start_time": "2023-11-16T12:48:56.277Z"
   },
   {
    "duration": 17,
    "start_time": "2023-11-16T12:48:56.646Z"
   },
   {
    "duration": 338,
    "start_time": "2023-11-16T12:48:56.665Z"
   },
   {
    "duration": 7,
    "start_time": "2023-11-16T12:48:57.004Z"
   },
   {
    "duration": 403,
    "start_time": "2023-11-16T12:48:57.012Z"
   },
   {
    "duration": 7,
    "start_time": "2023-11-16T12:48:57.417Z"
   },
   {
    "duration": 6,
    "start_time": "2023-11-16T12:48:57.425Z"
   },
   {
    "duration": 24,
    "start_time": "2023-11-16T12:48:57.432Z"
   },
   {
    "duration": 22,
    "start_time": "2023-11-16T12:48:57.458Z"
   },
   {
    "duration": 5,
    "start_time": "2023-11-16T12:48:57.482Z"
   },
   {
    "duration": 4,
    "start_time": "2023-11-16T12:48:57.488Z"
   },
   {
    "duration": 10,
    "start_time": "2023-11-16T12:48:57.493Z"
   },
   {
    "duration": 5376,
    "start_time": "2023-11-16T12:48:57.504Z"
   },
   {
    "duration": 5086,
    "start_time": "2023-11-16T12:49:02.881Z"
   },
   {
    "duration": 107,
    "start_time": "2023-11-16T12:49:07.968Z"
   },
   {
    "duration": 0,
    "start_time": "2023-11-16T12:49:08.080Z"
   },
   {
    "duration": 0,
    "start_time": "2023-11-16T12:49:08.081Z"
   },
   {
    "duration": 0,
    "start_time": "2023-11-16T12:49:08.082Z"
   },
   {
    "duration": 0,
    "start_time": "2023-11-16T12:49:08.083Z"
   },
   {
    "duration": 0,
    "start_time": "2023-11-16T12:49:08.084Z"
   },
   {
    "duration": 0,
    "start_time": "2023-11-16T12:49:08.085Z"
   },
   {
    "duration": 0,
    "start_time": "2023-11-16T12:49:08.086Z"
   },
   {
    "duration": 0,
    "start_time": "2023-11-16T12:49:08.088Z"
   },
   {
    "duration": 0,
    "start_time": "2023-11-16T12:49:08.089Z"
   },
   {
    "duration": 0,
    "start_time": "2023-11-16T12:49:08.090Z"
   },
   {
    "duration": 5211,
    "start_time": "2023-11-16T12:49:35.778Z"
   },
   {
    "duration": 5210,
    "start_time": "2023-11-16T12:49:40.990Z"
   },
   {
    "duration": 5146,
    "start_time": "2023-11-16T12:50:05.009Z"
   },
   {
    "duration": 5162,
    "start_time": "2023-11-16T12:50:14.841Z"
   },
   {
    "duration": 3,
    "start_time": "2023-11-16T12:50:24.032Z"
   },
   {
    "duration": 1434,
    "start_time": "2023-11-16T12:51:33.514Z"
   },
   {
    "duration": 712,
    "start_time": "2023-11-16T12:51:34.950Z"
   },
   {
    "duration": 12,
    "start_time": "2023-11-16T12:51:35.668Z"
   },
   {
    "duration": 12,
    "start_time": "2023-11-16T12:51:35.682Z"
   },
   {
    "duration": 21,
    "start_time": "2023-11-16T12:51:35.696Z"
   },
   {
    "duration": 23,
    "start_time": "2023-11-16T12:51:35.719Z"
   },
   {
    "duration": 22,
    "start_time": "2023-11-16T12:51:35.744Z"
   },
   {
    "duration": 94,
    "start_time": "2023-11-16T12:51:35.769Z"
   },
   {
    "duration": 9,
    "start_time": "2023-11-16T12:51:35.868Z"
   },
   {
    "duration": 12,
    "start_time": "2023-11-16T12:51:35.880Z"
   },
   {
    "duration": 15,
    "start_time": "2023-11-16T12:51:35.894Z"
   },
   {
    "duration": 15,
    "start_time": "2023-11-16T12:51:35.956Z"
   },
   {
    "duration": 19,
    "start_time": "2023-11-16T12:51:35.973Z"
   },
   {
    "duration": 5,
    "start_time": "2023-11-16T12:51:35.993Z"
   },
   {
    "duration": 58,
    "start_time": "2023-11-16T12:51:35.999Z"
   },
   {
    "duration": 16,
    "start_time": "2023-11-16T12:51:36.059Z"
   },
   {
    "duration": 6,
    "start_time": "2023-11-16T12:51:36.077Z"
   },
   {
    "duration": 8,
    "start_time": "2023-11-16T12:51:36.084Z"
   },
   {
    "duration": 11,
    "start_time": "2023-11-16T12:51:36.093Z"
   },
   {
    "duration": 52,
    "start_time": "2023-11-16T12:51:36.105Z"
   },
   {
    "duration": 17,
    "start_time": "2023-11-16T12:51:36.159Z"
   },
   {
    "duration": 6,
    "start_time": "2023-11-16T12:51:36.178Z"
   },
   {
    "duration": 12,
    "start_time": "2023-11-16T12:51:36.186Z"
   },
   {
    "duration": 68,
    "start_time": "2023-11-16T12:51:36.199Z"
   },
   {
    "duration": 965,
    "start_time": "2023-11-16T12:51:36.269Z"
   },
   {
    "duration": 529,
    "start_time": "2023-11-16T12:51:37.236Z"
   },
   {
    "duration": 440,
    "start_time": "2023-11-16T12:51:37.772Z"
   },
   {
    "duration": 456,
    "start_time": "2023-11-16T12:51:38.215Z"
   },
   {
    "duration": 623,
    "start_time": "2023-11-16T12:51:38.673Z"
   },
   {
    "duration": 424,
    "start_time": "2023-11-16T12:51:39.298Z"
   },
   {
    "duration": 7,
    "start_time": "2023-11-16T12:51:39.723Z"
   },
   {
    "duration": 310,
    "start_time": "2023-11-16T12:51:39.732Z"
   },
   {
    "duration": 23,
    "start_time": "2023-11-16T12:51:40.043Z"
   },
   {
    "duration": 364,
    "start_time": "2023-11-16T12:51:40.069Z"
   },
   {
    "duration": 8,
    "start_time": "2023-11-16T12:51:40.434Z"
   },
   {
    "duration": 360,
    "start_time": "2023-11-16T12:51:40.443Z"
   },
   {
    "duration": 7,
    "start_time": "2023-11-16T12:51:40.805Z"
   },
   {
    "duration": 395,
    "start_time": "2023-11-16T12:51:40.814Z"
   },
   {
    "duration": 9,
    "start_time": "2023-11-16T12:51:41.210Z"
   },
   {
    "duration": 4,
    "start_time": "2023-11-16T12:51:41.221Z"
   },
   {
    "duration": 17,
    "start_time": "2023-11-16T12:51:41.227Z"
   },
   {
    "duration": 23,
    "start_time": "2023-11-16T12:51:41.245Z"
   },
   {
    "duration": 6,
    "start_time": "2023-11-16T12:51:41.270Z"
   },
   {
    "duration": 14,
    "start_time": "2023-11-16T12:51:41.277Z"
   },
   {
    "duration": 13,
    "start_time": "2023-11-16T12:51:41.292Z"
   },
   {
    "duration": 6027,
    "start_time": "2023-11-16T12:51:41.307Z"
   },
   {
    "duration": 5186,
    "start_time": "2023-11-16T12:51:47.335Z"
   },
   {
    "duration": 3,
    "start_time": "2023-11-16T12:51:52.522Z"
   },
   {
    "duration": 1356,
    "start_time": "2023-11-16T12:52:23.786Z"
   },
   {
    "duration": 695,
    "start_time": "2023-11-16T12:52:25.144Z"
   },
   {
    "duration": 19,
    "start_time": "2023-11-16T12:52:25.840Z"
   },
   {
    "duration": 3,
    "start_time": "2023-11-16T12:52:25.869Z"
   },
   {
    "duration": 10,
    "start_time": "2023-11-16T12:52:25.874Z"
   },
   {
    "duration": 30,
    "start_time": "2023-11-16T12:52:25.886Z"
   },
   {
    "duration": 28,
    "start_time": "2023-11-16T12:52:25.917Z"
   },
   {
    "duration": 45,
    "start_time": "2023-11-16T12:52:25.946Z"
   },
   {
    "duration": 6,
    "start_time": "2023-11-16T12:52:25.993Z"
   },
   {
    "duration": 16,
    "start_time": "2023-11-16T12:52:26.001Z"
   },
   {
    "duration": 34,
    "start_time": "2023-11-16T12:52:26.018Z"
   },
   {
    "duration": 25,
    "start_time": "2023-11-16T12:52:26.053Z"
   },
   {
    "duration": 12,
    "start_time": "2023-11-16T12:52:26.079Z"
   },
   {
    "duration": 4,
    "start_time": "2023-11-16T12:52:26.092Z"
   },
   {
    "duration": 25,
    "start_time": "2023-11-16T12:52:26.097Z"
   },
   {
    "duration": 12,
    "start_time": "2023-11-16T12:52:26.123Z"
   },
   {
    "duration": 8,
    "start_time": "2023-11-16T12:52:26.137Z"
   },
   {
    "duration": 10,
    "start_time": "2023-11-16T12:52:26.147Z"
   },
   {
    "duration": 21,
    "start_time": "2023-11-16T12:52:26.163Z"
   },
   {
    "duration": 14,
    "start_time": "2023-11-16T12:52:26.185Z"
   },
   {
    "duration": 19,
    "start_time": "2023-11-16T12:52:26.201Z"
   },
   {
    "duration": 12,
    "start_time": "2023-11-16T12:52:26.221Z"
   },
   {
    "duration": 6,
    "start_time": "2023-11-16T12:52:26.234Z"
   },
   {
    "duration": 11,
    "start_time": "2023-11-16T12:52:26.241Z"
   },
   {
    "duration": 444,
    "start_time": "2023-11-16T12:52:26.254Z"
   },
   {
    "duration": 519,
    "start_time": "2023-11-16T12:52:26.699Z"
   },
   {
    "duration": 459,
    "start_time": "2023-11-16T12:52:27.220Z"
   },
   {
    "duration": 988,
    "start_time": "2023-11-16T12:52:27.683Z"
   },
   {
    "duration": 930,
    "start_time": "2023-11-16T12:52:28.672Z"
   },
   {
    "duration": 392,
    "start_time": "2023-11-16T12:52:29.603Z"
   },
   {
    "duration": 8,
    "start_time": "2023-11-16T12:52:29.997Z"
   },
   {
    "duration": 368,
    "start_time": "2023-11-16T12:52:30.007Z"
   },
   {
    "duration": 8,
    "start_time": "2023-11-16T12:52:30.376Z"
   },
   {
    "duration": 386,
    "start_time": "2023-11-16T12:52:30.385Z"
   },
   {
    "duration": 8,
    "start_time": "2023-11-16T12:52:30.773Z"
   },
   {
    "duration": 414,
    "start_time": "2023-11-16T12:52:30.782Z"
   },
   {
    "duration": 10,
    "start_time": "2023-11-16T12:52:31.198Z"
   },
   {
    "duration": 466,
    "start_time": "2023-11-16T12:52:31.210Z"
   },
   {
    "duration": 7,
    "start_time": "2023-11-16T12:52:31.677Z"
   },
   {
    "duration": 14,
    "start_time": "2023-11-16T12:52:31.686Z"
   },
   {
    "duration": 16,
    "start_time": "2023-11-16T12:52:31.701Z"
   },
   {
    "duration": 15,
    "start_time": "2023-11-16T12:52:31.718Z"
   },
   {
    "duration": 8,
    "start_time": "2023-11-16T12:52:31.734Z"
   },
   {
    "duration": 24,
    "start_time": "2023-11-16T12:52:31.743Z"
   },
   {
    "duration": 10,
    "start_time": "2023-11-16T12:52:31.769Z"
   },
   {
    "duration": 5261,
    "start_time": "2023-11-16T12:52:31.780Z"
   },
   {
    "duration": 5199,
    "start_time": "2023-11-16T12:52:37.042Z"
   },
   {
    "duration": 4,
    "start_time": "2023-11-16T12:52:42.243Z"
   },
   {
    "duration": 311210,
    "start_time": "2023-11-16T12:52:42.263Z"
   },
   {
    "duration": 308827,
    "start_time": "2023-11-16T12:57:53.475Z"
   },
   {
    "duration": 4,
    "start_time": "2023-11-16T13:03:02.304Z"
   },
   {
    "duration": 4962,
    "start_time": "2023-11-16T13:03:02.310Z"
   },
   {
    "duration": 4886,
    "start_time": "2023-11-16T13:03:07.274Z"
   },
   {
    "duration": 94,
    "start_time": "2023-11-16T13:03:12.163Z"
   },
   {
    "duration": 13,
    "start_time": "2023-11-16T13:03:12.259Z"
   },
   {
    "duration": 274,
    "start_time": "2023-11-16T13:03:12.274Z"
   },
   {
    "duration": 265,
    "start_time": "2023-11-16T13:03:12.549Z"
   },
   {
    "duration": 3,
    "start_time": "2023-11-16T13:03:12.815Z"
   },
   {
    "duration": 50,
    "start_time": "2023-11-16T18:40:50.323Z"
   },
   {
    "duration": 1820,
    "start_time": "2023-11-16T18:40:56.124Z"
   },
   {
    "duration": 3070,
    "start_time": "2023-11-16T18:40:57.946Z"
   },
   {
    "duration": 14,
    "start_time": "2023-11-16T18:41:25.696Z"
   },
   {
    "duration": 3,
    "start_time": "2023-11-16T18:41:26.059Z"
   },
   {
    "duration": 5,
    "start_time": "2023-11-16T18:41:26.464Z"
   },
   {
    "duration": 5,
    "start_time": "2023-11-16T18:41:27.023Z"
   },
   {
    "duration": 6,
    "start_time": "2023-11-16T18:41:34.232Z"
   },
   {
    "duration": 3,
    "start_time": "2023-11-16T18:43:34.590Z"
   },
   {
    "duration": 7,
    "start_time": "2023-11-16T18:43:51.433Z"
   },
   {
    "duration": 40,
    "start_time": "2023-11-16T18:43:54.554Z"
   },
   {
    "duration": 34,
    "start_time": "2023-11-16T18:45:13.549Z"
   },
   {
    "duration": 7,
    "start_time": "2023-11-16T18:45:18.168Z"
   },
   {
    "duration": 5,
    "start_time": "2023-11-16T18:45:18.510Z"
   },
   {
    "duration": 7,
    "start_time": "2023-11-16T18:45:18.718Z"
   },
   {
    "duration": 14,
    "start_time": "2023-11-16T18:45:21.842Z"
   },
   {
    "duration": 15,
    "start_time": "2023-11-16T18:45:22.186Z"
   },
   {
    "duration": 5,
    "start_time": "2023-11-16T18:45:24.097Z"
   },
   {
    "duration": 10,
    "start_time": "2023-11-16T18:45:24.286Z"
   },
   {
    "duration": 13,
    "start_time": "2023-11-16T18:45:24.454Z"
   },
   {
    "duration": 9,
    "start_time": "2023-11-16T18:45:49.210Z"
   },
   {
    "duration": 4,
    "start_time": "2023-11-16T18:45:58.123Z"
   },
   {
    "duration": 9,
    "start_time": "2023-11-16T18:46:00.507Z"
   },
   {
    "duration": 7,
    "start_time": "2023-11-16T18:47:37.237Z"
   },
   {
    "duration": 12,
    "start_time": "2023-11-16T18:47:38.331Z"
   },
   {
    "duration": 7,
    "start_time": "2023-11-16T18:47:38.767Z"
   },
   {
    "duration": 3,
    "start_time": "2023-11-16T18:47:39.396Z"
   },
   {
    "duration": 4,
    "start_time": "2023-11-16T18:47:43.187Z"
   },
   {
    "duration": 746,
    "start_time": "2023-11-16T18:49:15.968Z"
   },
   {
    "duration": 1727,
    "start_time": "2023-11-17T09:16:57.143Z"
   },
   {
    "duration": 2034,
    "start_time": "2023-11-17T09:16:58.872Z"
   },
   {
    "duration": 36,
    "start_time": "2023-11-17T09:17:00.915Z"
   },
   {
    "duration": 33,
    "start_time": "2023-11-17T09:17:00.952Z"
   },
   {
    "duration": 63,
    "start_time": "2023-11-17T09:17:00.987Z"
   },
   {
    "duration": 8,
    "start_time": "2023-11-17T09:17:04.524Z"
   },
   {
    "duration": 7,
    "start_time": "2023-11-17T09:17:05.681Z"
   },
   {
    "duration": 7,
    "start_time": "2023-11-17T09:27:46.924Z"
   },
   {
    "duration": 829,
    "start_time": "2023-11-17T09:27:47.473Z"
   },
   {
    "duration": 13,
    "start_time": "2023-11-17T09:27:48.305Z"
   },
   {
    "duration": 4,
    "start_time": "2023-11-17T09:27:48.320Z"
   },
   {
    "duration": 13,
    "start_time": "2023-11-17T09:27:48.326Z"
   },
   {
    "duration": 4,
    "start_time": "2023-11-17T09:27:48.341Z"
   },
   {
    "duration": 10,
    "start_time": "2023-11-17T09:27:48.347Z"
   },
   {
    "duration": 4,
    "start_time": "2023-11-17T09:27:48.633Z"
   },
   {
    "duration": 6,
    "start_time": "2023-11-17T09:27:48.749Z"
   },
   {
    "duration": 55,
    "start_time": "2023-11-17T09:27:48.907Z"
   },
   {
    "duration": 10,
    "start_time": "2023-11-17T09:27:49.093Z"
   },
   {
    "duration": 5,
    "start_time": "2023-11-17T09:27:49.157Z"
   },
   {
    "duration": 8,
    "start_time": "2023-11-17T09:27:49.215Z"
   },
   {
    "duration": 14,
    "start_time": "2023-11-17T09:27:50.241Z"
   },
   {
    "duration": 13,
    "start_time": "2023-11-17T09:27:50.569Z"
   },
   {
    "duration": 4,
    "start_time": "2023-11-17T09:27:51.479Z"
   },
   {
    "duration": 9,
    "start_time": "2023-11-17T09:27:52.151Z"
   },
   {
    "duration": 19,
    "start_time": "2023-11-17T09:27:52.394Z"
   },
   {
    "duration": 9,
    "start_time": "2023-11-17T09:27:54.435Z"
   },
   {
    "duration": 4,
    "start_time": "2023-11-17T09:27:55.951Z"
   },
   {
    "duration": 10,
    "start_time": "2023-11-17T09:27:56.432Z"
   },
   {
    "duration": 5,
    "start_time": "2023-11-17T09:27:57.839Z"
   },
   {
    "duration": 12,
    "start_time": "2023-11-17T09:27:58.065Z"
   },
   {
    "duration": 13,
    "start_time": "2023-11-17T09:27:58.897Z"
   },
   {
    "duration": 3,
    "start_time": "2023-11-17T09:27:59.137Z"
   },
   {
    "duration": 12,
    "start_time": "2023-11-17T09:28:01.504Z"
   },
   {
    "duration": 503,
    "start_time": "2023-11-17T09:28:02.216Z"
   },
   {
    "duration": 77,
    "start_time": "2023-11-17T09:31:06.521Z"
   },
   {
    "duration": 1204,
    "start_time": "2023-11-17T09:31:11.515Z"
   },
   {
    "duration": 535,
    "start_time": "2023-11-17T09:31:18.814Z"
   },
   {
    "duration": 634,
    "start_time": "2023-11-17T09:31:34.505Z"
   },
   {
    "duration": 479,
    "start_time": "2023-11-17T09:31:36.788Z"
   },
   {
    "duration": 615,
    "start_time": "2023-11-17T09:32:36.636Z"
   },
   {
    "duration": 752,
    "start_time": "2023-11-17T09:33:19.284Z"
   },
   {
    "duration": 652,
    "start_time": "2023-11-17T09:34:13.371Z"
   },
   {
    "duration": 642,
    "start_time": "2023-11-17T09:34:53.587Z"
   },
   {
    "duration": 755,
    "start_time": "2023-11-17T09:35:00.915Z"
   },
   {
    "duration": 637,
    "start_time": "2023-11-17T09:35:19.030Z"
   },
   {
    "duration": 624,
    "start_time": "2023-11-17T09:35:22.091Z"
   },
   {
    "duration": 891,
    "start_time": "2023-11-17T09:35:44.720Z"
   },
   {
    "duration": 635,
    "start_time": "2023-11-17T09:36:06.716Z"
   },
   {
    "duration": 741,
    "start_time": "2023-11-17T09:36:30.986Z"
   },
   {
    "duration": 626,
    "start_time": "2023-11-17T09:36:41.543Z"
   },
   {
    "duration": 655,
    "start_time": "2023-11-17T09:37:47.628Z"
   },
   {
    "duration": 753,
    "start_time": "2023-11-17T09:38:01.993Z"
   },
   {
    "duration": 614,
    "start_time": "2023-11-17T09:38:26.972Z"
   },
   {
    "duration": 620,
    "start_time": "2023-11-17T09:38:47.822Z"
   },
   {
    "duration": 1050,
    "start_time": "2023-11-17T09:39:23.197Z"
   },
   {
    "duration": 947,
    "start_time": "2023-11-17T09:39:38.087Z"
   },
   {
    "duration": 1556,
    "start_time": "2023-11-17T09:39:52.978Z"
   },
   {
    "duration": 1342,
    "start_time": "2023-11-17T09:40:02.840Z"
   },
   {
    "duration": 1254,
    "start_time": "2023-11-17T09:40:13.808Z"
   },
   {
    "duration": 1062,
    "start_time": "2023-11-17T09:40:22.923Z"
   },
   {
    "duration": 1170,
    "start_time": "2023-11-17T09:40:35.882Z"
   },
   {
    "duration": 1841,
    "start_time": "2023-11-17T09:40:52.508Z"
   },
   {
    "duration": 2246,
    "start_time": "2023-11-17T09:41:19.911Z"
   },
   {
    "duration": 1829,
    "start_time": "2023-11-17T09:41:39.786Z"
   },
   {
    "duration": 134,
    "start_time": "2023-11-17T09:42:21.407Z"
   },
   {
    "duration": 421,
    "start_time": "2023-11-17T09:42:26.459Z"
   },
   {
    "duration": 421,
    "start_time": "2023-11-17T09:42:51.052Z"
   },
   {
    "duration": 757,
    "start_time": "2023-11-17T09:42:56.956Z"
   },
   {
    "duration": 569,
    "start_time": "2023-11-17T09:43:08.354Z"
   },
   {
    "duration": 711,
    "start_time": "2023-11-17T09:43:18.346Z"
   },
   {
    "duration": 1115,
    "start_time": "2023-11-17T09:44:52.380Z"
   },
   {
    "duration": 1442,
    "start_time": "2023-11-17T09:45:41.271Z"
   },
   {
    "duration": 1438,
    "start_time": "2023-11-17T09:46:03.229Z"
   },
   {
    "duration": 1401,
    "start_time": "2023-11-17T09:47:16.071Z"
   },
   {
    "duration": 1448,
    "start_time": "2023-11-17T09:47:30.391Z"
   },
   {
    "duration": 1380,
    "start_time": "2023-11-17T09:47:38.974Z"
   },
   {
    "duration": 69,
    "start_time": "2023-11-17T09:49:24.977Z"
   },
   {
    "duration": 67,
    "start_time": "2023-11-17T09:49:31.208Z"
   },
   {
    "duration": 69,
    "start_time": "2023-11-17T09:49:35.038Z"
   },
   {
    "duration": 54,
    "start_time": "2023-11-17T09:49:51.778Z"
   },
   {
    "duration": 73,
    "start_time": "2023-11-17T09:49:59.830Z"
   },
   {
    "duration": 78,
    "start_time": "2023-11-17T09:50:06.759Z"
   },
   {
    "duration": 1361,
    "start_time": "2023-11-17T09:50:11.453Z"
   },
   {
    "duration": 1479,
    "start_time": "2023-11-17T09:50:51.056Z"
   },
   {
    "duration": 397,
    "start_time": "2023-11-17T09:51:56.900Z"
   },
   {
    "duration": 334,
    "start_time": "2023-11-17T09:54:02.049Z"
   },
   {
    "duration": 43,
    "start_time": "2023-11-17T09:54:21.778Z"
   },
   {
    "duration": 479,
    "start_time": "2023-11-17T09:54:35.553Z"
   },
   {
    "duration": 335,
    "start_time": "2023-11-17T09:54:46.232Z"
   },
   {
    "duration": 8,
    "start_time": "2023-11-17T09:54:57.168Z"
   },
   {
    "duration": 347,
    "start_time": "2023-11-17T09:55:11.042Z"
   },
   {
    "duration": 9,
    "start_time": "2023-11-17T09:55:14.671Z"
   },
   {
    "duration": 443,
    "start_time": "2023-11-17T09:56:37.538Z"
   },
   {
    "duration": 66,
    "start_time": "2023-11-17T10:01:32.827Z"
   },
   {
    "duration": 1642,
    "start_time": "2023-11-17T10:01:49.083Z"
   },
   {
    "duration": 11,
    "start_time": "2023-11-17T10:02:16.123Z"
   },
   {
    "duration": 1488,
    "start_time": "2023-11-17T10:02:58.381Z"
   },
   {
    "duration": 1699,
    "start_time": "2023-11-17T10:03:25.676Z"
   },
   {
    "duration": 24,
    "start_time": "2023-11-17T10:03:51.406Z"
   },
   {
    "duration": 22,
    "start_time": "2023-11-17T10:04:10.051Z"
   },
   {
    "duration": 221,
    "start_time": "2023-11-17T10:04:26.644Z"
   },
   {
    "duration": 892,
    "start_time": "2023-11-17T10:09:37.487Z"
   },
   {
    "duration": 1051,
    "start_time": "2023-11-17T10:09:53.415Z"
   },
   {
    "duration": 21,
    "start_time": "2023-11-17T10:10:07.994Z"
   },
   {
    "duration": 1181,
    "start_time": "2023-11-17T10:10:19.535Z"
   },
   {
    "duration": 22,
    "start_time": "2023-11-17T10:10:57.584Z"
   },
   {
    "duration": 783,
    "start_time": "2023-11-17T10:11:10.712Z"
   },
   {
    "duration": 4,
    "start_time": "2023-11-17T10:11:17.960Z"
   },
   {
    "duration": 747,
    "start_time": "2023-11-17T10:11:18.513Z"
   },
   {
    "duration": 9,
    "start_time": "2023-11-17T10:11:19.262Z"
   },
   {
    "duration": 6,
    "start_time": "2023-11-17T10:11:19.273Z"
   },
   {
    "duration": 29,
    "start_time": "2023-11-17T10:11:19.281Z"
   },
   {
    "duration": 6,
    "start_time": "2023-11-17T10:11:19.313Z"
   },
   {
    "duration": 10,
    "start_time": "2023-11-17T10:11:19.320Z"
   },
   {
    "duration": 30,
    "start_time": "2023-11-17T10:11:19.332Z"
   },
   {
    "duration": 106,
    "start_time": "2023-11-17T10:11:19.364Z"
   },
   {
    "duration": 59,
    "start_time": "2023-11-17T10:11:19.472Z"
   },
   {
    "duration": 6,
    "start_time": "2023-11-17T10:11:19.533Z"
   },
   {
    "duration": 15,
    "start_time": "2023-11-17T10:11:19.541Z"
   },
   {
    "duration": 22,
    "start_time": "2023-11-17T10:11:19.558Z"
   },
   {
    "duration": 12,
    "start_time": "2023-11-17T10:11:19.629Z"
   },
   {
    "duration": 22,
    "start_time": "2023-11-17T10:11:19.692Z"
   },
   {
    "duration": 3,
    "start_time": "2023-11-17T10:11:19.788Z"
   },
   {
    "duration": 12,
    "start_time": "2023-11-17T10:11:19.839Z"
   },
   {
    "duration": 9,
    "start_time": "2023-11-17T10:11:19.935Z"
   },
   {
    "duration": 11,
    "start_time": "2023-11-17T10:11:20.109Z"
   },
   {
    "duration": 5,
    "start_time": "2023-11-17T10:11:20.230Z"
   },
   {
    "duration": 11,
    "start_time": "2023-11-17T10:11:20.279Z"
   },
   {
    "duration": 5,
    "start_time": "2023-11-17T10:11:20.410Z"
   },
   {
    "duration": 13,
    "start_time": "2023-11-17T10:11:20.458Z"
   },
   {
    "duration": 9,
    "start_time": "2023-11-17T10:11:20.508Z"
   },
   {
    "duration": 4,
    "start_time": "2023-11-17T10:11:20.556Z"
   },
   {
    "duration": 4,
    "start_time": "2023-11-17T10:11:20.717Z"
   },
   {
    "duration": 1645,
    "start_time": "2023-11-17T10:11:20.813Z"
   },
   {
    "duration": 1706,
    "start_time": "2023-11-17T10:11:22.460Z"
   },
   {
    "duration": 1791,
    "start_time": "2023-11-17T10:11:24.167Z"
   },
   {
    "duration": 715,
    "start_time": "2023-11-17T10:11:25.960Z"
   },
   {
    "duration": 1504,
    "start_time": "2023-11-17T10:11:28.991Z"
   },
   {
    "duration": 11,
    "start_time": "2023-11-17T10:11:30.502Z"
   },
   {
    "duration": 345,
    "start_time": "2023-11-17T10:11:32.831Z"
   },
   {
    "duration": 10,
    "start_time": "2023-11-17T10:11:33.179Z"
   },
   {
    "duration": 381,
    "start_time": "2023-11-17T10:11:33.401Z"
   },
   {
    "duration": 8,
    "start_time": "2023-11-17T10:11:35.816Z"
   },
   {
    "duration": 15,
    "start_time": "2023-11-17T10:11:38.551Z"
   },
   {
    "duration": 18,
    "start_time": "2023-11-17T10:16:12.540Z"
   },
   {
    "duration": 270,
    "start_time": "2023-11-17T10:16:47.810Z"
   },
   {
    "duration": 16,
    "start_time": "2023-11-17T10:18:54.032Z"
   },
   {
    "duration": 1706,
    "start_time": "2023-11-17T10:18:54.464Z"
   },
   {
    "duration": 0,
    "start_time": "2023-11-17T10:18:56.173Z"
   },
   {
    "duration": 1443,
    "start_time": "2023-11-17T10:19:08.952Z"
   },
   {
    "duration": 21,
    "start_time": "2023-11-17T10:19:36.855Z"
   },
   {
    "duration": 10,
    "start_time": "2023-11-17T10:22:06.747Z"
   },
   {
    "duration": 5,
    "start_time": "2023-11-17T10:22:09.348Z"
   },
   {
    "duration": 381,
    "start_time": "2023-11-17T10:25:14.635Z"
   },
   {
    "duration": 697,
    "start_time": "2023-11-17T10:26:12.435Z"
   },
   {
    "duration": 7,
    "start_time": "2023-11-17T10:27:05.362Z"
   },
   {
    "duration": 8,
    "start_time": "2023-11-17T10:27:16.035Z"
   },
   {
    "duration": 5,
    "start_time": "2023-11-17T10:27:21.025Z"
   },
   {
    "duration": 4,
    "start_time": "2023-11-17T10:27:28.892Z"
   },
   {
    "duration": 4,
    "start_time": "2023-11-17T10:27:35.146Z"
   },
   {
    "duration": 4,
    "start_time": "2023-11-17T10:27:41.433Z"
   },
   {
    "duration": 4,
    "start_time": "2023-11-17T10:27:52.947Z"
   },
   {
    "duration": 6,
    "start_time": "2023-11-17T10:37:38.969Z"
   },
   {
    "duration": 759,
    "start_time": "2023-11-17T10:37:39.714Z"
   },
   {
    "duration": 10,
    "start_time": "2023-11-17T10:37:40.475Z"
   },
   {
    "duration": 49,
    "start_time": "2023-11-17T10:37:40.487Z"
   },
   {
    "duration": 24,
    "start_time": "2023-11-17T10:37:40.539Z"
   },
   {
    "duration": 13,
    "start_time": "2023-11-17T10:37:40.565Z"
   },
   {
    "duration": 35,
    "start_time": "2023-11-17T10:37:40.580Z"
   },
   {
    "duration": 6,
    "start_time": "2023-11-17T10:37:40.617Z"
   },
   {
    "duration": 26,
    "start_time": "2023-11-17T10:37:40.624Z"
   },
   {
    "duration": 69,
    "start_time": "2023-11-17T10:37:40.651Z"
   },
   {
    "duration": 7,
    "start_time": "2023-11-17T10:37:40.722Z"
   },
   {
    "duration": 46,
    "start_time": "2023-11-17T10:37:40.730Z"
   },
   {
    "duration": 18,
    "start_time": "2023-11-17T10:37:40.779Z"
   },
   {
    "duration": 12,
    "start_time": "2023-11-17T10:37:40.862Z"
   },
   {
    "duration": 11,
    "start_time": "2023-11-17T10:37:40.929Z"
   },
   {
    "duration": 9,
    "start_time": "2023-11-17T10:37:41.018Z"
   },
   {
    "duration": 8,
    "start_time": "2023-11-17T10:37:41.071Z"
   },
   {
    "duration": 10,
    "start_time": "2023-11-17T10:37:41.122Z"
   },
   {
    "duration": 8,
    "start_time": "2023-11-17T10:37:41.212Z"
   },
   {
    "duration": 3,
    "start_time": "2023-11-17T10:37:41.333Z"
   },
   {
    "duration": 2,
    "start_time": "2023-11-17T10:37:41.382Z"
   },
   {
    "duration": 7,
    "start_time": "2023-11-17T10:37:41.511Z"
   },
   {
    "duration": 12,
    "start_time": "2023-11-17T10:37:41.568Z"
   },
   {
    "duration": 9,
    "start_time": "2023-11-17T10:37:41.617Z"
   },
   {
    "duration": 4,
    "start_time": "2023-11-17T10:37:41.670Z"
   },
   {
    "duration": 5,
    "start_time": "2023-11-17T10:37:43.423Z"
   },
   {
    "duration": 1649,
    "start_time": "2023-11-17T10:37:43.906Z"
   },
   {
    "duration": 1725,
    "start_time": "2023-11-17T10:37:45.556Z"
   },
   {
    "duration": 1862,
    "start_time": "2023-11-17T10:37:47.283Z"
   },
   {
    "duration": 848,
    "start_time": "2023-11-17T10:37:49.147Z"
   },
   {
    "duration": 1633,
    "start_time": "2023-11-17T10:37:50.003Z"
   },
   {
    "duration": 8,
    "start_time": "2023-11-17T10:37:51.637Z"
   },
   {
    "duration": 351,
    "start_time": "2023-11-17T10:37:51.647Z"
   },
   {
    "duration": 14,
    "start_time": "2023-11-17T10:37:52.006Z"
   },
   {
    "duration": 357,
    "start_time": "2023-11-17T10:37:52.263Z"
   },
   {
    "duration": 23,
    "start_time": "2023-11-17T10:37:54.726Z"
   },
   {
    "duration": 23,
    "start_time": "2023-11-17T10:37:55.601Z"
   },
   {
    "duration": 23,
    "start_time": "2023-11-17T10:37:56.191Z"
   },
   {
    "duration": 17,
    "start_time": "2023-11-17T10:37:57.621Z"
   },
   {
    "duration": 5,
    "start_time": "2023-11-17T10:38:01.772Z"
   },
   {
    "duration": 4,
    "start_time": "2023-11-17T10:38:49.880Z"
   },
   {
    "duration": 9,
    "start_time": "2023-11-17T10:38:50.626Z"
   },
   {
    "duration": 8,
    "start_time": "2023-11-17T10:38:51.505Z"
   },
   {
    "duration": 744,
    "start_time": "2023-11-17T10:38:52.791Z"
   },
   {
    "duration": 7,
    "start_time": "2023-11-17T10:39:03.615Z"
   },
   {
    "duration": 713,
    "start_time": "2023-11-17T10:39:04.217Z"
   },
   {
    "duration": 8,
    "start_time": "2023-11-17T10:39:04.932Z"
   },
   {
    "duration": 3,
    "start_time": "2023-11-17T10:39:04.965Z"
   },
   {
    "duration": 6,
    "start_time": "2023-11-17T10:39:05.027Z"
   },
   {
    "duration": 5,
    "start_time": "2023-11-17T10:39:05.083Z"
   },
   {
    "duration": 5,
    "start_time": "2023-11-17T10:39:05.132Z"
   },
   {
    "duration": 5,
    "start_time": "2023-11-17T10:39:05.363Z"
   },
   {
    "duration": 6,
    "start_time": "2023-11-17T10:39:05.457Z"
   },
   {
    "duration": 48,
    "start_time": "2023-11-17T10:39:05.592Z"
   },
   {
    "duration": 9,
    "start_time": "2023-11-17T10:39:05.718Z"
   },
   {
    "duration": 6,
    "start_time": "2023-11-17T10:39:05.768Z"
   },
   {
    "duration": 9,
    "start_time": "2023-11-17T10:39:05.820Z"
   },
   {
    "duration": 17,
    "start_time": "2023-11-17T10:39:05.919Z"
   },
   {
    "duration": 13,
    "start_time": "2023-11-17T10:39:05.964Z"
   },
   {
    "duration": 4,
    "start_time": "2023-11-17T10:39:06.069Z"
   },
   {
    "duration": 7,
    "start_time": "2023-11-17T10:39:06.146Z"
   },
   {
    "duration": 11,
    "start_time": "2023-11-17T10:39:06.205Z"
   },
   {
    "duration": 8,
    "start_time": "2023-11-17T10:39:06.290Z"
   },
   {
    "duration": 2,
    "start_time": "2023-11-17T10:39:06.421Z"
   },
   {
    "duration": 2,
    "start_time": "2023-11-17T10:39:06.473Z"
   },
   {
    "duration": 5,
    "start_time": "2023-11-17T10:39:06.612Z"
   },
   {
    "duration": 12,
    "start_time": "2023-11-17T10:39:06.659Z"
   },
   {
    "duration": 9,
    "start_time": "2023-11-17T10:39:06.712Z"
   },
   {
    "duration": 4,
    "start_time": "2023-11-17T10:39:06.783Z"
   },
   {
    "duration": 5,
    "start_time": "2023-11-17T10:39:06.970Z"
   },
   {
    "duration": 1674,
    "start_time": "2023-11-17T10:39:07.066Z"
   },
   {
    "duration": 1715,
    "start_time": "2023-11-17T10:39:08.742Z"
   },
   {
    "duration": 1724,
    "start_time": "2023-11-17T10:39:10.459Z"
   },
   {
    "duration": 745,
    "start_time": "2023-11-17T10:39:12.185Z"
   },
   {
    "duration": 1538,
    "start_time": "2023-11-17T10:39:12.932Z"
   },
   {
    "duration": 8,
    "start_time": "2023-11-17T10:39:14.472Z"
   },
   {
    "duration": 385,
    "start_time": "2023-11-17T10:39:14.482Z"
   },
   {
    "duration": 9,
    "start_time": "2023-11-17T10:39:14.868Z"
   },
   {
    "duration": 386,
    "start_time": "2023-11-17T10:39:14.879Z"
   },
   {
    "duration": 33,
    "start_time": "2023-11-17T10:39:15.267Z"
   },
   {
    "duration": 651,
    "start_time": "2023-11-17T10:39:45.717Z"
   },
   {
    "duration": 535,
    "start_time": "2023-11-17T10:39:53.760Z"
   },
   {
    "duration": 651,
    "start_time": "2023-11-17T10:40:37.035Z"
   },
   {
    "duration": 4,
    "start_time": "2023-11-17T10:41:50.714Z"
   },
   {
    "duration": 5,
    "start_time": "2023-11-17T10:41:52.111Z"
   },
   {
    "duration": 4,
    "start_time": "2023-11-17T10:42:02.169Z"
   },
   {
    "duration": 4,
    "start_time": "2023-11-17T10:42:03.868Z"
   },
   {
    "duration": 4,
    "start_time": "2023-11-17T10:42:04.730Z"
   },
   {
    "duration": 86,
    "start_time": "2023-11-17T12:58:58.365Z"
   },
   {
    "duration": 5,
    "start_time": "2023-11-17T12:59:00.627Z"
   },
   {
    "duration": 7,
    "start_time": "2023-11-17T12:59:01.257Z"
   },
   {
    "duration": 1079,
    "start_time": "2023-11-17T12:59:18.882Z"
   },
   {
    "duration": 5,
    "start_time": "2023-11-17T12:59:19.963Z"
   },
   {
    "duration": 60,
    "start_time": "2023-11-17T12:59:21.176Z"
   },
   {
    "duration": 2,
    "start_time": "2023-11-17T12:59:45.296Z"
   },
   {
    "duration": 6,
    "start_time": "2023-11-17T12:59:46.847Z"
   },
   {
    "duration": 11,
    "start_time": "2023-11-17T12:59:47.416Z"
   },
   {
    "duration": 822,
    "start_time": "2023-11-17T13:00:00.913Z"
   },
   {
    "duration": 2119,
    "start_time": "2023-11-17T13:00:01.737Z"
   },
   {
    "duration": 14,
    "start_time": "2023-11-17T13:00:03.859Z"
   },
   {
    "duration": 40,
    "start_time": "2023-11-17T13:00:03.875Z"
   },
   {
    "duration": 7,
    "start_time": "2023-11-17T13:00:03.917Z"
   },
   {
    "duration": 29,
    "start_time": "2023-11-17T13:00:03.925Z"
   },
   {
    "duration": 23,
    "start_time": "2023-11-17T13:00:03.956Z"
   },
   {
    "duration": 21,
    "start_time": "2023-11-17T13:00:03.981Z"
   },
   {
    "duration": 18,
    "start_time": "2023-11-17T13:00:04.005Z"
   },
   {
    "duration": 76,
    "start_time": "2023-11-17T13:00:04.027Z"
   },
   {
    "duration": 14,
    "start_time": "2023-11-17T13:00:04.106Z"
   },
   {
    "duration": 7,
    "start_time": "2023-11-17T13:00:04.123Z"
   },
   {
    "duration": 27,
    "start_time": "2023-11-17T13:00:04.132Z"
   },
   {
    "duration": 21,
    "start_time": "2023-11-17T13:00:04.161Z"
   },
   {
    "duration": 32,
    "start_time": "2023-11-17T13:00:04.183Z"
   },
   {
    "duration": 6,
    "start_time": "2023-11-17T13:00:04.217Z"
   },
   {
    "duration": 26,
    "start_time": "2023-11-17T13:00:04.225Z"
   },
   {
    "duration": 18,
    "start_time": "2023-11-17T13:00:04.253Z"
   },
   {
    "duration": 9,
    "start_time": "2023-11-17T13:00:04.273Z"
   },
   {
    "duration": 20,
    "start_time": "2023-11-17T13:00:04.283Z"
   },
   {
    "duration": 6,
    "start_time": "2023-11-17T13:00:04.312Z"
   },
   {
    "duration": 12,
    "start_time": "2023-11-17T13:00:04.320Z"
   },
   {
    "duration": 30,
    "start_time": "2023-11-17T13:00:04.334Z"
   },
   {
    "duration": 24,
    "start_time": "2023-11-17T13:00:04.366Z"
   },
   {
    "duration": 34,
    "start_time": "2023-11-17T13:00:04.391Z"
   },
   {
    "duration": 36,
    "start_time": "2023-11-17T13:00:04.427Z"
   },
   {
    "duration": 1813,
    "start_time": "2023-11-17T13:00:04.466Z"
   },
   {
    "duration": 1740,
    "start_time": "2023-11-17T13:00:06.283Z"
   },
   {
    "duration": 1752,
    "start_time": "2023-11-17T13:00:08.031Z"
   },
   {
    "duration": 921,
    "start_time": "2023-11-17T13:00:09.785Z"
   },
   {
    "duration": 1364,
    "start_time": "2023-11-17T13:00:10.709Z"
   },
   {
    "duration": 10,
    "start_time": "2023-11-17T13:00:12.075Z"
   },
   {
    "duration": 860,
    "start_time": "2023-11-17T13:00:12.087Z"
   },
   {
    "duration": 8,
    "start_time": "2023-11-17T13:00:12.949Z"
   },
   {
    "duration": 565,
    "start_time": "2023-11-17T13:00:12.959Z"
   },
   {
    "duration": 33,
    "start_time": "2023-11-17T13:00:13.527Z"
   },
   {
    "duration": 729,
    "start_time": "2023-11-17T13:00:13.562Z"
   },
   {
    "duration": 30,
    "start_time": "2023-11-17T13:00:14.293Z"
   },
   {
    "duration": 19,
    "start_time": "2023-11-17T13:00:14.324Z"
   },
   {
    "duration": 4,
    "start_time": "2023-11-17T13:00:14.345Z"
   },
   {
    "duration": 31,
    "start_time": "2023-11-17T13:00:14.351Z"
   },
   {
    "duration": 14,
    "start_time": "2023-11-17T13:00:14.384Z"
   },
   {
    "duration": 34,
    "start_time": "2023-11-17T13:00:14.400Z"
   },
   {
    "duration": 11,
    "start_time": "2023-11-17T13:00:14.436Z"
   },
   {
    "duration": 34,
    "start_time": "2023-11-17T13:00:14.449Z"
   },
   {
    "duration": 16,
    "start_time": "2023-11-17T13:00:14.486Z"
   },
   {
    "duration": 31,
    "start_time": "2023-11-17T13:00:14.504Z"
   },
   {
    "duration": 66,
    "start_time": "2023-11-17T13:00:14.537Z"
   },
   {
    "duration": 0,
    "start_time": "2023-11-17T13:00:14.606Z"
   },
   {
    "duration": 0,
    "start_time": "2023-11-17T13:00:14.607Z"
   },
   {
    "duration": 0,
    "start_time": "2023-11-17T13:00:14.608Z"
   },
   {
    "duration": 24,
    "start_time": "2023-11-17T13:03:56.917Z"
   },
   {
    "duration": 608,
    "start_time": "2023-11-17T13:04:03.123Z"
   },
   {
    "duration": 16,
    "start_time": "2023-11-17T13:04:06.116Z"
   },
   {
    "duration": 20,
    "start_time": "2023-11-17T13:04:07.912Z"
   },
   {
    "duration": 8,
    "start_time": "2023-11-17T13:04:13.865Z"
   },
   {
    "duration": 935,
    "start_time": "2023-11-17T13:04:14.747Z"
   },
   {
    "duration": 15,
    "start_time": "2023-11-17T13:04:15.685Z"
   },
   {
    "duration": 5,
    "start_time": "2023-11-17T13:04:15.768Z"
   },
   {
    "duration": 8,
    "start_time": "2023-11-17T13:04:15.820Z"
   },
   {
    "duration": 6,
    "start_time": "2023-11-17T13:04:15.890Z"
   },
   {
    "duration": 6,
    "start_time": "2023-11-17T13:04:15.955Z"
   },
   {
    "duration": 5,
    "start_time": "2023-11-17T13:04:16.199Z"
   },
   {
    "duration": 17,
    "start_time": "2023-11-17T13:04:16.309Z"
   },
   {
    "duration": 59,
    "start_time": "2023-11-17T13:04:16.438Z"
   },
   {
    "duration": 10,
    "start_time": "2023-11-17T13:04:16.618Z"
   },
   {
    "duration": 7,
    "start_time": "2023-11-17T13:04:16.667Z"
   },
   {
    "duration": 13,
    "start_time": "2023-11-17T13:04:17.299Z"
   },
   {
    "duration": 17,
    "start_time": "2023-11-17T13:04:17.851Z"
   },
   {
    "duration": 21,
    "start_time": "2023-11-17T13:04:17.930Z"
   },
   {
    "duration": 5,
    "start_time": "2023-11-17T13:04:18.027Z"
   },
   {
    "duration": 9,
    "start_time": "2023-11-17T13:04:18.517Z"
   },
   {
    "duration": 14,
    "start_time": "2023-11-17T13:04:18.763Z"
   },
   {
    "duration": 10,
    "start_time": "2023-11-17T13:04:19.227Z"
   },
   {
    "duration": 3,
    "start_time": "2023-11-17T13:04:19.938Z"
   },
   {
    "duration": 2,
    "start_time": "2023-11-17T13:04:20.162Z"
   },
   {
    "duration": 6,
    "start_time": "2023-11-17T13:04:20.763Z"
   },
   {
    "duration": 13,
    "start_time": "2023-11-17T13:04:20.818Z"
   },
   {
    "duration": 11,
    "start_time": "2023-11-17T13:04:20.867Z"
   },
   {
    "duration": 10,
    "start_time": "2023-11-17T13:04:20.942Z"
   },
   {
    "duration": 5,
    "start_time": "2023-11-17T13:04:22.257Z"
   },
   {
    "duration": 1686,
    "start_time": "2023-11-17T13:04:23.739Z"
   },
   {
    "duration": 1797,
    "start_time": "2023-11-17T13:04:25.427Z"
   },
   {
    "duration": 1828,
    "start_time": "2023-11-17T13:04:27.226Z"
   },
   {
    "duration": 707,
    "start_time": "2023-11-17T13:04:29.056Z"
   },
   {
    "duration": 1539,
    "start_time": "2023-11-17T13:04:29.765Z"
   },
   {
    "duration": 11,
    "start_time": "2023-11-17T13:04:31.305Z"
   },
   {
    "duration": 618,
    "start_time": "2023-11-17T13:04:31.318Z"
   },
   {
    "duration": 9,
    "start_time": "2023-11-17T13:04:31.938Z"
   },
   {
    "duration": 652,
    "start_time": "2023-11-17T13:04:32.443Z"
   },
   {
    "duration": 22,
    "start_time": "2023-11-17T13:04:34.274Z"
   },
   {
    "duration": 561,
    "start_time": "2023-11-17T13:04:35.321Z"
   },
   {
    "duration": 22,
    "start_time": "2023-11-17T13:04:39.606Z"
   },
   {
    "duration": 18,
    "start_time": "2023-11-17T13:04:40.848Z"
   },
   {
    "duration": 5,
    "start_time": "2023-11-17T13:04:50.008Z"
   },
   {
    "duration": 14,
    "start_time": "2023-11-17T13:04:50.914Z"
   },
   {
    "duration": 8,
    "start_time": "2023-11-17T13:04:51.806Z"
   },
   {
    "duration": 4,
    "start_time": "2023-11-17T13:04:52.235Z"
   },
   {
    "duration": 4,
    "start_time": "2023-11-17T13:04:52.763Z"
   },
   {
    "duration": 5,
    "start_time": "2023-11-17T13:05:06.155Z"
   },
   {
    "duration": 5,
    "start_time": "2023-11-17T13:05:06.563Z"
   },
   {
    "duration": 4,
    "start_time": "2023-11-17T13:05:06.979Z"
   },
   {
    "duration": 14,
    "start_time": "2023-11-17T13:05:34.324Z"
   },
   {
    "duration": 31,
    "start_time": "2023-11-17T13:05:41.252Z"
   },
   {
    "duration": 21,
    "start_time": "2023-11-17T13:05:41.619Z"
   },
   {
    "duration": 5,
    "start_time": "2023-11-17T13:05:41.917Z"
   },
   {
    "duration": 15,
    "start_time": "2023-11-17T13:05:42.213Z"
   },
   {
    "duration": 32,
    "start_time": "2023-11-17T13:05:42.676Z"
   },
   {
    "duration": 5,
    "start_time": "2023-11-17T13:05:43.587Z"
   },
   {
    "duration": 5,
    "start_time": "2023-11-17T13:05:44.016Z"
   },
   {
    "duration": 6,
    "start_time": "2023-11-17T13:05:44.379Z"
   },
   {
    "duration": 44,
    "start_time": "2023-11-17T13:05:55.112Z"
   },
   {
    "duration": 4,
    "start_time": "2023-11-17T13:05:55.484Z"
   },
   {
    "duration": 18,
    "start_time": "2023-11-17T13:05:55.759Z"
   },
   {
    "duration": 16,
    "start_time": "2023-11-17T13:05:56.008Z"
   },
   {
    "duration": 5,
    "start_time": "2023-11-17T13:05:56.291Z"
   },
   {
    "duration": 7,
    "start_time": "2023-11-17T13:05:57.214Z"
   },
   {
    "duration": 6,
    "start_time": "2023-11-17T13:06:01.614Z"
   },
   {
    "duration": 807,
    "start_time": "2023-11-17T13:06:02.163Z"
   },
   {
    "duration": 9,
    "start_time": "2023-11-17T13:06:02.972Z"
   },
   {
    "duration": 23,
    "start_time": "2023-11-17T13:06:02.982Z"
   },
   {
    "duration": 13,
    "start_time": "2023-11-17T13:06:03.007Z"
   },
   {
    "duration": 21,
    "start_time": "2023-11-17T13:06:03.022Z"
   },
   {
    "duration": 7,
    "start_time": "2023-11-17T13:06:03.045Z"
   },
   {
    "duration": 23,
    "start_time": "2023-11-17T13:06:03.054Z"
   },
   {
    "duration": 15,
    "start_time": "2023-11-17T13:06:03.079Z"
   },
   {
    "duration": 50,
    "start_time": "2023-11-17T13:06:03.096Z"
   },
   {
    "duration": 7,
    "start_time": "2023-11-17T13:06:03.148Z"
   },
   {
    "duration": 18,
    "start_time": "2023-11-17T13:06:03.157Z"
   },
   {
    "duration": 12,
    "start_time": "2023-11-17T13:06:03.191Z"
   },
   {
    "duration": 19,
    "start_time": "2023-11-17T13:06:03.289Z"
   },
   {
    "duration": 19,
    "start_time": "2023-11-17T13:06:03.354Z"
   },
   {
    "duration": 4,
    "start_time": "2023-11-17T13:06:03.449Z"
   },
   {
    "duration": 23,
    "start_time": "2023-11-17T13:06:03.499Z"
   },
   {
    "duration": 16,
    "start_time": "2023-11-17T13:06:03.549Z"
   },
   {
    "duration": 10,
    "start_time": "2023-11-17T13:06:03.676Z"
   },
   {
    "duration": 9,
    "start_time": "2023-11-17T13:06:03.808Z"
   },
   {
    "duration": 2,
    "start_time": "2023-11-17T13:06:03.858Z"
   },
   {
    "duration": 5,
    "start_time": "2023-11-17T13:06:03.991Z"
   },
   {
    "duration": 15,
    "start_time": "2023-11-17T13:06:04.046Z"
   },
   {
    "duration": 12,
    "start_time": "2023-11-17T13:06:04.105Z"
   },
   {
    "duration": 4,
    "start_time": "2023-11-17T13:06:04.157Z"
   },
   {
    "duration": 7,
    "start_time": "2023-11-17T13:06:04.331Z"
   },
   {
    "duration": 1801,
    "start_time": "2023-11-17T13:06:04.456Z"
   },
   {
    "duration": 1736,
    "start_time": "2023-11-17T13:06:06.260Z"
   },
   {
    "duration": 1782,
    "start_time": "2023-11-17T13:06:08.005Z"
   },
   {
    "duration": 705,
    "start_time": "2023-11-17T13:06:09.789Z"
   },
   {
    "duration": 1473,
    "start_time": "2023-11-17T13:06:10.496Z"
   },
   {
    "duration": 8,
    "start_time": "2023-11-17T13:06:11.971Z"
   },
   {
    "duration": 696,
    "start_time": "2023-11-17T13:06:11.981Z"
   },
   {
    "duration": 9,
    "start_time": "2023-11-17T13:06:12.679Z"
   },
   {
    "duration": 553,
    "start_time": "2023-11-17T13:06:12.705Z"
   },
   {
    "duration": 19,
    "start_time": "2023-11-17T13:06:13.260Z"
   },
   {
    "duration": 586,
    "start_time": "2023-11-17T13:06:13.280Z"
   },
   {
    "duration": 35,
    "start_time": "2023-11-17T13:06:13.868Z"
   },
   {
    "duration": 15,
    "start_time": "2023-11-17T13:06:13.913Z"
   },
   {
    "duration": 6,
    "start_time": "2023-11-17T13:06:13.930Z"
   },
   {
    "duration": 14,
    "start_time": "2023-11-17T13:06:13.938Z"
   },
   {
    "duration": 13,
    "start_time": "2023-11-17T13:06:13.954Z"
   },
   {
    "duration": 0,
    "start_time": "2023-11-17T13:06:13.969Z"
   },
   {
    "duration": 0,
    "start_time": "2023-11-17T13:06:13.970Z"
   },
   {
    "duration": 0,
    "start_time": "2023-11-17T13:06:13.972Z"
   },
   {
    "duration": 5,
    "start_time": "2023-11-17T13:06:32.165Z"
   },
   {
    "duration": 4,
    "start_time": "2023-11-17T13:06:37.214Z"
   },
   {
    "duration": 802,
    "start_time": "2023-11-17T13:07:06.839Z"
   },
   {
    "duration": 8,
    "start_time": "2023-11-17T13:07:07.643Z"
   },
   {
    "duration": 3,
    "start_time": "2023-11-17T13:07:07.653Z"
   },
   {
    "duration": 9,
    "start_time": "2023-11-17T13:07:07.658Z"
   },
   {
    "duration": 4,
    "start_time": "2023-11-17T13:07:20.155Z"
   },
   {
    "duration": 803,
    "start_time": "2023-11-17T13:07:20.161Z"
   },
   {
    "duration": 11,
    "start_time": "2023-11-17T13:07:20.966Z"
   },
   {
    "duration": 35,
    "start_time": "2023-11-17T13:07:20.978Z"
   },
   {
    "duration": 18,
    "start_time": "2023-11-17T13:07:21.018Z"
   },
   {
    "duration": 15,
    "start_time": "2023-11-17T13:07:21.038Z"
   },
   {
    "duration": 18,
    "start_time": "2023-11-17T13:07:21.055Z"
   },
   {
    "duration": 8,
    "start_time": "2023-11-17T13:07:21.074Z"
   },
   {
    "duration": 33,
    "start_time": "2023-11-17T13:07:21.084Z"
   },
   {
    "duration": 67,
    "start_time": "2023-11-17T13:07:21.118Z"
   },
   {
    "duration": 7,
    "start_time": "2023-11-17T13:07:21.189Z"
   },
   {
    "duration": 36,
    "start_time": "2023-11-17T13:07:21.198Z"
   },
   {
    "duration": 21,
    "start_time": "2023-11-17T13:07:21.236Z"
   },
   {
    "duration": 20,
    "start_time": "2023-11-17T13:07:21.260Z"
   },
   {
    "duration": 17,
    "start_time": "2023-11-17T13:07:21.282Z"
   },
   {
    "duration": 14,
    "start_time": "2023-11-17T13:07:21.307Z"
   },
   {
    "duration": 38,
    "start_time": "2023-11-17T13:07:21.322Z"
   },
   {
    "duration": 22,
    "start_time": "2023-11-17T13:07:21.363Z"
   },
   {
    "duration": 10,
    "start_time": "2023-11-17T13:07:21.388Z"
   },
   {
    "duration": 18,
    "start_time": "2023-11-17T13:07:21.400Z"
   },
   {
    "duration": 4,
    "start_time": "2023-11-17T13:07:21.426Z"
   },
   {
    "duration": 11,
    "start_time": "2023-11-17T13:07:21.433Z"
   },
   {
    "duration": 29,
    "start_time": "2023-11-17T13:07:21.446Z"
   },
   {
    "duration": 9,
    "start_time": "2023-11-17T13:07:21.477Z"
   },
   {
    "duration": 32,
    "start_time": "2023-11-17T13:07:21.487Z"
   },
   {
    "duration": 28,
    "start_time": "2023-11-17T13:07:21.522Z"
   },
   {
    "duration": 1688,
    "start_time": "2023-11-17T13:07:21.552Z"
   },
   {
    "duration": 1792,
    "start_time": "2023-11-17T13:07:23.243Z"
   },
   {
    "duration": 1975,
    "start_time": "2023-11-17T13:07:25.038Z"
   },
   {
    "duration": 877,
    "start_time": "2023-11-17T13:07:27.015Z"
   },
   {
    "duration": 1356,
    "start_time": "2023-11-17T13:07:27.894Z"
   },
   {
    "duration": 8,
    "start_time": "2023-11-17T13:07:29.252Z"
   },
   {
    "duration": 709,
    "start_time": "2023-11-17T13:07:29.262Z"
   },
   {
    "duration": 9,
    "start_time": "2023-11-17T13:07:29.973Z"
   },
   {
    "duration": 589,
    "start_time": "2023-11-17T13:07:29.984Z"
   },
   {
    "duration": 21,
    "start_time": "2023-11-17T13:07:30.575Z"
   },
   {
    "duration": 680,
    "start_time": "2023-11-17T13:07:30.598Z"
   },
   {
    "duration": 5,
    "start_time": "2023-11-17T13:07:45.179Z"
   },
   {
    "duration": 4,
    "start_time": "2023-11-17T13:07:48.640Z"
   },
   {
    "duration": 9,
    "start_time": "2023-11-17T13:07:49.106Z"
   },
   {
    "duration": 4,
    "start_time": "2023-11-17T13:07:49.532Z"
   },
   {
    "duration": 29,
    "start_time": "2023-11-17T13:08:05.186Z"
   },
   {
    "duration": 17,
    "start_time": "2023-11-17T13:08:05.691Z"
   },
   {
    "duration": 7,
    "start_time": "2023-11-17T13:08:06.096Z"
   },
   {
    "duration": 10,
    "start_time": "2023-11-17T13:08:06.536Z"
   },
   {
    "duration": 18,
    "start_time": "2023-11-17T13:08:07.200Z"
   },
   {
    "duration": 5,
    "start_time": "2023-11-17T13:08:10.418Z"
   },
   {
    "duration": 1666,
    "start_time": "2023-11-17T13:08:43.694Z"
   },
   {
    "duration": 8,
    "start_time": "2023-11-17T13:08:55.430Z"
   },
   {
    "duration": 906,
    "start_time": "2023-11-17T13:08:55.443Z"
   },
   {
    "duration": 18,
    "start_time": "2023-11-17T13:08:56.351Z"
   },
   {
    "duration": 3,
    "start_time": "2023-11-17T13:08:56.372Z"
   },
   {
    "duration": 31,
    "start_time": "2023-11-17T13:08:56.377Z"
   },
   {
    "duration": 9,
    "start_time": "2023-11-17T13:08:56.415Z"
   },
   {
    "duration": 6,
    "start_time": "2023-11-17T13:08:56.426Z"
   },
   {
    "duration": 9,
    "start_time": "2023-11-17T13:08:56.434Z"
   },
   {
    "duration": 8,
    "start_time": "2023-11-17T13:08:56.445Z"
   },
   {
    "duration": 70,
    "start_time": "2023-11-17T13:08:56.457Z"
   },
   {
    "duration": 10,
    "start_time": "2023-11-17T13:08:56.529Z"
   },
   {
    "duration": 14,
    "start_time": "2023-11-17T13:08:56.541Z"
   },
   {
    "duration": 16,
    "start_time": "2023-11-17T13:08:56.557Z"
   },
   {
    "duration": 33,
    "start_time": "2023-11-17T13:08:56.575Z"
   },
   {
    "duration": 21,
    "start_time": "2023-11-17T13:08:56.614Z"
   },
   {
    "duration": 5,
    "start_time": "2023-11-17T13:08:56.637Z"
   },
   {
    "duration": 14,
    "start_time": "2023-11-17T13:08:56.644Z"
   },
   {
    "duration": 16,
    "start_time": "2023-11-17T13:08:56.660Z"
   },
   {
    "duration": 37,
    "start_time": "2023-11-17T13:08:56.678Z"
   },
   {
    "duration": 4,
    "start_time": "2023-11-17T13:08:56.720Z"
   },
   {
    "duration": 7,
    "start_time": "2023-11-17T13:08:56.726Z"
   },
   {
    "duration": 4,
    "start_time": "2023-11-17T13:08:56.734Z"
   },
   {
    "duration": 13,
    "start_time": "2023-11-17T13:08:56.740Z"
   },
   {
    "duration": 9,
    "start_time": "2023-11-17T13:08:56.755Z"
   },
   {
    "duration": 5,
    "start_time": "2023-11-17T13:08:56.765Z"
   },
   {
    "duration": 47,
    "start_time": "2023-11-17T13:08:56.772Z"
   },
   {
    "duration": 1697,
    "start_time": "2023-11-17T13:08:56.821Z"
   },
   {
    "duration": 1767,
    "start_time": "2023-11-17T13:08:58.522Z"
   },
   {
    "duration": 1778,
    "start_time": "2023-11-17T13:09:00.291Z"
   },
   {
    "duration": 766,
    "start_time": "2023-11-17T13:09:02.071Z"
   },
   {
    "duration": 1512,
    "start_time": "2023-11-17T13:09:02.839Z"
   },
   {
    "duration": 12,
    "start_time": "2023-11-17T13:09:04.354Z"
   },
   {
    "duration": 756,
    "start_time": "2023-11-17T13:09:04.368Z"
   },
   {
    "duration": 11,
    "start_time": "2023-11-17T13:09:05.126Z"
   },
   {
    "duration": 611,
    "start_time": "2023-11-17T13:09:05.139Z"
   },
   {
    "duration": 27,
    "start_time": "2023-11-17T13:09:05.752Z"
   },
   {
    "duration": 567,
    "start_time": "2023-11-17T13:09:05.781Z"
   },
   {
    "duration": 26,
    "start_time": "2023-11-17T13:09:10.470Z"
   },
   {
    "duration": 18,
    "start_time": "2023-11-17T13:09:12.717Z"
   },
   {
    "duration": 5,
    "start_time": "2023-11-17T13:09:13.116Z"
   },
   {
    "duration": 13,
    "start_time": "2023-11-17T13:09:17.113Z"
   },
   {
    "duration": 154,
    "start_time": "2023-11-17T13:09:17.781Z"
   },
   {
    "duration": 4,
    "start_time": "2023-11-17T13:09:31.327Z"
   },
   {
    "duration": 4,
    "start_time": "2023-11-17T13:09:32.682Z"
   },
   {
    "duration": 4,
    "start_time": "2023-11-17T13:09:33.926Z"
   },
   {
    "duration": 17,
    "start_time": "2023-11-17T13:11:08.497Z"
   },
   {
    "duration": 11,
    "start_time": "2023-11-17T13:11:13.195Z"
   },
   {
    "duration": 811,
    "start_time": "2023-11-17T13:11:13.752Z"
   },
   {
    "duration": 12,
    "start_time": "2023-11-17T13:11:14.565Z"
   },
   {
    "duration": 4,
    "start_time": "2023-11-17T13:11:14.727Z"
   },
   {
    "duration": 10,
    "start_time": "2023-11-17T13:11:15.496Z"
   },
   {
    "duration": 5,
    "start_time": "2023-11-17T13:11:15.855Z"
   },
   {
    "duration": 3,
    "start_time": "2023-11-17T13:11:16.626Z"
   },
   {
    "duration": 10,
    "start_time": "2023-11-17T13:11:18.599Z"
   },
   {
    "duration": 6,
    "start_time": "2023-11-17T13:11:19.951Z"
   },
   {
    "duration": 49,
    "start_time": "2023-11-17T13:11:23.071Z"
   },
   {
    "duration": 9,
    "start_time": "2023-11-17T13:11:27.391Z"
   },
   {
    "duration": 6,
    "start_time": "2023-11-17T13:11:27.752Z"
   },
   {
    "duration": 8,
    "start_time": "2023-11-17T13:11:28.049Z"
   },
   {
    "duration": 24,
    "start_time": "2023-11-17T13:11:30.887Z"
   },
   {
    "duration": 13,
    "start_time": "2023-11-17T13:11:33.581Z"
   },
   {
    "duration": 5,
    "start_time": "2023-11-17T13:11:38.263Z"
   },
   {
    "duration": 9,
    "start_time": "2023-11-17T13:11:38.618Z"
   },
   {
    "duration": 16,
    "start_time": "2023-11-17T13:11:38.848Z"
   },
   {
    "duration": 8,
    "start_time": "2023-11-17T13:11:40.680Z"
   },
   {
    "duration": 17,
    "start_time": "2023-11-17T13:12:24.828Z"
   },
   {
    "duration": 35,
    "start_time": "2023-11-17T13:12:38.689Z"
   },
   {
    "duration": 21,
    "start_time": "2023-11-17T13:12:39.128Z"
   },
   {
    "duration": 6,
    "start_time": "2023-11-17T13:13:11.058Z"
   },
   {
    "duration": 7,
    "start_time": "2023-11-17T13:13:21.616Z"
   },
   {
    "duration": 28,
    "start_time": "2023-11-17T13:13:23.720Z"
   },
   {
    "duration": 5,
    "start_time": "2023-11-17T13:13:24.953Z"
   },
   {
    "duration": 4,
    "start_time": "2023-11-17T13:13:28.863Z"
   },
   {
    "duration": 807,
    "start_time": "2023-11-17T13:13:41.557Z"
   },
   {
    "duration": 9,
    "start_time": "2023-11-17T13:13:42.366Z"
   },
   {
    "duration": 4,
    "start_time": "2023-11-17T13:13:42.377Z"
   },
   {
    "duration": 20,
    "start_time": "2023-11-17T13:13:42.383Z"
   },
   {
    "duration": 9,
    "start_time": "2023-11-17T13:13:42.412Z"
   },
   {
    "duration": 8,
    "start_time": "2023-11-17T13:13:42.422Z"
   },
   {
    "duration": 12,
    "start_time": "2023-11-17T13:13:42.431Z"
   },
   {
    "duration": 10,
    "start_time": "2023-11-17T13:13:42.444Z"
   },
   {
    "duration": 62,
    "start_time": "2023-11-17T13:13:42.455Z"
   },
   {
    "duration": 10,
    "start_time": "2023-11-17T13:13:42.521Z"
   },
   {
    "duration": 7,
    "start_time": "2023-11-17T13:13:42.533Z"
   },
   {
    "duration": 15,
    "start_time": "2023-11-17T13:13:42.542Z"
   },
   {
    "duration": 27,
    "start_time": "2023-11-17T13:13:42.559Z"
   },
   {
    "duration": 20,
    "start_time": "2023-11-17T13:13:42.599Z"
   },
   {
    "duration": 4,
    "start_time": "2023-11-17T13:13:42.622Z"
   },
   {
    "duration": 14,
    "start_time": "2023-11-17T13:13:42.628Z"
   },
   {
    "duration": 11,
    "start_time": "2023-11-17T13:13:42.644Z"
   },
   {
    "duration": 10,
    "start_time": "2023-11-17T13:13:42.657Z"
   },
   {
    "duration": 6,
    "start_time": "2023-11-17T13:13:42.701Z"
   },
   {
    "duration": 7,
    "start_time": "2023-11-17T13:13:42.712Z"
   },
   {
    "duration": 8,
    "start_time": "2023-11-17T13:13:42.722Z"
   },
   {
    "duration": 15,
    "start_time": "2023-11-17T13:13:42.731Z"
   },
   {
    "duration": 8,
    "start_time": "2023-11-17T13:13:42.748Z"
   },
   {
    "duration": 11,
    "start_time": "2023-11-17T13:13:42.759Z"
   },
   {
    "duration": 11,
    "start_time": "2023-11-17T13:13:42.772Z"
   },
   {
    "duration": 1776,
    "start_time": "2023-11-17T13:13:42.785Z"
   },
   {
    "duration": 1844,
    "start_time": "2023-11-17T13:13:44.563Z"
   },
   {
    "duration": 1666,
    "start_time": "2023-11-17T13:13:46.414Z"
   },
   {
    "duration": 810,
    "start_time": "2023-11-17T13:13:48.082Z"
   },
   {
    "duration": 1324,
    "start_time": "2023-11-17T13:13:48.894Z"
   },
   {
    "duration": 9,
    "start_time": "2023-11-17T13:13:50.220Z"
   },
   {
    "duration": 619,
    "start_time": "2023-11-17T13:13:50.231Z"
   },
   {
    "duration": 7,
    "start_time": "2023-11-17T13:13:50.852Z"
   },
   {
    "duration": 522,
    "start_time": "2023-11-17T13:13:50.861Z"
   },
   {
    "duration": 32,
    "start_time": "2023-11-17T13:13:51.384Z"
   },
   {
    "duration": 627,
    "start_time": "2023-11-17T13:13:51.418Z"
   },
   {
    "duration": 4,
    "start_time": "2023-11-17T13:13:54.651Z"
   },
   {
    "duration": 25,
    "start_time": "2023-11-17T13:14:00.008Z"
   },
   {
    "duration": 7,
    "start_time": "2023-11-17T13:14:00.713Z"
   },
   {
    "duration": 29,
    "start_time": "2023-11-17T13:14:05.529Z"
   },
   {
    "duration": 3,
    "start_time": "2023-11-17T13:14:06.546Z"
   },
   {
    "duration": 16,
    "start_time": "2023-11-17T13:14:14.274Z"
   },
   {
    "duration": 4,
    "start_time": "2023-11-17T13:14:34.177Z"
   },
   {
    "duration": 11,
    "start_time": "2023-11-17T13:14:34.633Z"
   },
   {
    "duration": 4,
    "start_time": "2023-11-17T13:14:42.554Z"
   },
   {
    "duration": 4,
    "start_time": "2023-11-17T13:15:31.380Z"
   },
   {
    "duration": 9,
    "start_time": "2023-11-17T13:15:31.813Z"
   },
   {
    "duration": 4,
    "start_time": "2023-11-17T13:15:32.260Z"
   },
   {
    "duration": 28,
    "start_time": "2023-11-17T13:15:33.941Z"
   },
   {
    "duration": 3,
    "start_time": "2023-11-17T13:15:35.043Z"
   },
   {
    "duration": 17,
    "start_time": "2023-11-17T13:15:36.315Z"
   },
   {
    "duration": 3,
    "start_time": "2023-11-17T13:15:37.811Z"
   },
   {
    "duration": 13,
    "start_time": "2023-11-17T13:15:39.412Z"
   },
   {
    "duration": 478,
    "start_time": "2023-11-17T13:15:48.656Z"
   },
   {
    "duration": 3,
    "start_time": "2023-11-17T13:15:49.136Z"
   },
   {
    "duration": 20,
    "start_time": "2023-11-17T13:15:49.141Z"
   },
   {
    "duration": 4,
    "start_time": "2023-11-17T13:15:49.162Z"
   },
   {
    "duration": 80,
    "start_time": "2023-11-17T13:15:49.167Z"
   },
   {
    "duration": 4,
    "start_time": "2023-11-17T13:15:49.248Z"
   },
   {
    "duration": 32,
    "start_time": "2023-11-17T13:15:49.254Z"
   },
   {
    "duration": 3,
    "start_time": "2023-11-17T13:15:49.288Z"
   },
   {
    "duration": 82,
    "start_time": "2023-11-17T13:15:49.298Z"
   },
   {
    "duration": 4,
    "start_time": "2023-11-17T13:15:49.383Z"
   },
   {
    "duration": 5,
    "start_time": "2023-11-17T13:15:49.388Z"
   },
   {
    "duration": 15,
    "start_time": "2023-11-17T13:15:49.398Z"
   },
   {
    "duration": 4,
    "start_time": "2023-11-17T13:15:49.415Z"
   },
   {
    "duration": 3,
    "start_time": "2023-11-17T13:16:05.211Z"
   },
   {
    "duration": 4,
    "start_time": "2023-11-17T13:16:05.827Z"
   },
   {
    "duration": 4,
    "start_time": "2023-11-17T13:16:06.305Z"
   },
   {
    "duration": 5,
    "start_time": "2023-11-17T13:16:19.864Z"
   },
   {
    "duration": 795,
    "start_time": "2023-11-17T13:16:19.872Z"
   },
   {
    "duration": 8,
    "start_time": "2023-11-17T13:16:20.669Z"
   },
   {
    "duration": 3,
    "start_time": "2023-11-17T13:16:20.679Z"
   },
   {
    "duration": 32,
    "start_time": "2023-11-17T13:16:20.684Z"
   },
   {
    "duration": 47,
    "start_time": "2023-11-17T13:16:20.718Z"
   },
   {
    "duration": 6,
    "start_time": "2023-11-17T13:16:20.767Z"
   },
   {
    "duration": 33,
    "start_time": "2023-11-17T13:16:20.774Z"
   },
   {
    "duration": 7,
    "start_time": "2023-11-17T13:16:20.809Z"
   },
   {
    "duration": 60,
    "start_time": "2023-11-17T13:16:20.817Z"
   },
   {
    "duration": 8,
    "start_time": "2023-11-17T13:16:20.880Z"
   },
   {
    "duration": 25,
    "start_time": "2023-11-17T13:16:20.889Z"
   },
   {
    "duration": 29,
    "start_time": "2023-11-17T13:16:20.916Z"
   },
   {
    "duration": 22,
    "start_time": "2023-11-17T13:16:20.947Z"
   },
   {
    "duration": 14,
    "start_time": "2023-11-17T13:16:20.971Z"
   },
   {
    "duration": 8,
    "start_time": "2023-11-17T13:16:20.986Z"
   },
   {
    "duration": 19,
    "start_time": "2023-11-17T13:16:20.995Z"
   },
   {
    "duration": 44,
    "start_time": "2023-11-17T13:16:21.018Z"
   },
   {
    "duration": 16,
    "start_time": "2023-11-17T13:16:21.063Z"
   },
   {
    "duration": 3,
    "start_time": "2023-11-17T13:16:21.081Z"
   },
   {
    "duration": 7,
    "start_time": "2023-11-17T13:16:21.085Z"
   },
   {
    "duration": 24,
    "start_time": "2023-11-17T13:16:21.094Z"
   },
   {
    "duration": 31,
    "start_time": "2023-11-17T13:16:21.120Z"
   },
   {
    "duration": 30,
    "start_time": "2023-11-17T13:16:21.153Z"
   },
   {
    "duration": 29,
    "start_time": "2023-11-17T13:16:21.185Z"
   },
   {
    "duration": 7,
    "start_time": "2023-11-17T13:16:21.215Z"
   },
   {
    "duration": 1587,
    "start_time": "2023-11-17T13:16:21.223Z"
   },
   {
    "duration": 1611,
    "start_time": "2023-11-17T13:16:22.812Z"
   },
   {
    "duration": 1631,
    "start_time": "2023-11-17T13:16:24.426Z"
   },
   {
    "duration": 713,
    "start_time": "2023-11-17T13:16:26.058Z"
   },
   {
    "duration": 1381,
    "start_time": "2023-11-17T13:16:26.772Z"
   },
   {
    "duration": 8,
    "start_time": "2023-11-17T13:16:28.154Z"
   },
   {
    "duration": 519,
    "start_time": "2023-11-17T13:16:28.164Z"
   },
   {
    "duration": 27,
    "start_time": "2023-11-17T13:16:28.685Z"
   },
   {
    "duration": 634,
    "start_time": "2023-11-17T13:16:28.714Z"
   },
   {
    "duration": 17,
    "start_time": "2023-11-17T13:16:29.350Z"
   },
   {
    "duration": 499,
    "start_time": "2023-11-17T13:16:29.369Z"
   },
   {
    "duration": 4,
    "start_time": "2023-11-17T13:16:49.134Z"
   },
   {
    "duration": 4,
    "start_time": "2023-11-17T13:16:49.578Z"
   },
   {
    "duration": 4,
    "start_time": "2023-11-17T13:16:49.954Z"
   },
   {
    "duration": 4,
    "start_time": "2023-11-17T13:16:56.786Z"
   },
   {
    "duration": 9,
    "start_time": "2023-11-17T13:16:57.860Z"
   },
   {
    "duration": 4,
    "start_time": "2023-11-17T13:16:58.491Z"
   },
   {
    "duration": 17,
    "start_time": "2023-11-17T13:16:59.570Z"
   },
   {
    "duration": 4,
    "start_time": "2023-11-17T13:17:00.155Z"
   },
   {
    "duration": 15,
    "start_time": "2023-11-17T13:17:04.019Z"
   },
   {
    "duration": 4,
    "start_time": "2023-11-17T13:17:05.539Z"
   },
   {
    "duration": 14,
    "start_time": "2023-11-17T13:17:07.034Z"
   },
   {
    "duration": 4,
    "start_time": "2023-11-17T13:17:13.251Z"
   },
   {
    "duration": 748,
    "start_time": "2023-11-17T13:17:20.325Z"
   },
   {
    "duration": 4,
    "start_time": "2023-11-17T13:19:12.668Z"
   },
   {
    "duration": 455,
    "start_time": "2023-11-17T13:19:40.731Z"
   },
   {
    "duration": 4,
    "start_time": "2023-11-17T13:19:41.188Z"
   },
   {
    "duration": 33,
    "start_time": "2023-11-17T13:19:41.199Z"
   },
   {
    "duration": 13,
    "start_time": "2023-11-17T13:19:41.234Z"
   },
   {
    "duration": 9,
    "start_time": "2023-11-17T13:19:41.248Z"
   },
   {
    "duration": 42,
    "start_time": "2023-11-17T13:19:41.259Z"
   },
   {
    "duration": 4,
    "start_time": "2023-11-17T13:19:41.302Z"
   },
   {
    "duration": 44,
    "start_time": "2023-11-17T13:19:41.307Z"
   },
   {
    "duration": 4,
    "start_time": "2023-11-17T13:19:41.352Z"
   },
   {
    "duration": 31,
    "start_time": "2023-11-17T13:19:41.358Z"
   },
   {
    "duration": 0,
    "start_time": "2023-11-17T13:19:41.390Z"
   },
   {
    "duration": 0,
    "start_time": "2023-11-17T13:19:41.391Z"
   },
   {
    "duration": 0,
    "start_time": "2023-11-17T13:19:41.392Z"
   },
   {
    "duration": 0,
    "start_time": "2023-11-17T13:19:41.393Z"
   },
   {
    "duration": 5,
    "start_time": "2023-11-17T13:20:02.946Z"
   },
   {
    "duration": 713,
    "start_time": "2023-11-17T13:20:02.952Z"
   },
   {
    "duration": 13,
    "start_time": "2023-11-17T13:20:03.666Z"
   },
   {
    "duration": 4,
    "start_time": "2023-11-17T13:20:03.681Z"
   },
   {
    "duration": 19,
    "start_time": "2023-11-17T13:20:03.687Z"
   },
   {
    "duration": 5,
    "start_time": "2023-11-17T13:20:03.708Z"
   },
   {
    "duration": 14,
    "start_time": "2023-11-17T13:20:03.714Z"
   },
   {
    "duration": 10,
    "start_time": "2023-11-17T13:20:03.730Z"
   },
   {
    "duration": 6,
    "start_time": "2023-11-17T13:20:03.741Z"
   },
   {
    "duration": 152,
    "start_time": "2023-11-17T13:20:03.749Z"
   },
   {
    "duration": 6,
    "start_time": "2023-11-17T13:20:03.904Z"
   },
   {
    "duration": 8,
    "start_time": "2023-11-17T13:20:03.912Z"
   },
   {
    "duration": 14,
    "start_time": "2023-11-17T13:20:03.922Z"
   },
   {
    "duration": 12,
    "start_time": "2023-11-17T13:20:03.938Z"
   },
   {
    "duration": 11,
    "start_time": "2023-11-17T13:20:03.951Z"
   },
   {
    "duration": 24,
    "start_time": "2023-11-17T13:20:03.963Z"
   },
   {
    "duration": 11,
    "start_time": "2023-11-17T13:20:03.989Z"
   },
   {
    "duration": 10,
    "start_time": "2023-11-17T13:20:04.001Z"
   },
   {
    "duration": 8,
    "start_time": "2023-11-17T13:20:04.013Z"
   },
   {
    "duration": 3,
    "start_time": "2023-11-17T13:20:04.022Z"
   },
   {
    "duration": 4,
    "start_time": "2023-11-17T13:20:04.027Z"
   },
   {
    "duration": 6,
    "start_time": "2023-11-17T13:20:04.033Z"
   },
   {
    "duration": 13,
    "start_time": "2023-11-17T13:20:04.041Z"
   },
   {
    "duration": 6,
    "start_time": "2023-11-17T13:20:04.056Z"
   },
   {
    "duration": 38,
    "start_time": "2023-11-17T13:20:04.063Z"
   },
   {
    "duration": 5,
    "start_time": "2023-11-17T13:20:04.103Z"
   },
   {
    "duration": 1457,
    "start_time": "2023-11-17T13:20:04.110Z"
   },
   {
    "duration": 1529,
    "start_time": "2023-11-17T13:20:05.568Z"
   },
   {
    "duration": 1519,
    "start_time": "2023-11-17T13:20:07.101Z"
   },
   {
    "duration": 615,
    "start_time": "2023-11-17T13:20:08.621Z"
   },
   {
    "duration": 1363,
    "start_time": "2023-11-17T13:20:09.238Z"
   },
   {
    "duration": 8,
    "start_time": "2023-11-17T13:20:10.603Z"
   },
   {
    "duration": 467,
    "start_time": "2023-11-17T13:20:10.612Z"
   },
   {
    "duration": 8,
    "start_time": "2023-11-17T13:20:11.081Z"
   },
   {
    "duration": 509,
    "start_time": "2023-11-17T13:20:11.090Z"
   },
   {
    "duration": 16,
    "start_time": "2023-11-17T13:20:11.600Z"
   },
   {
    "duration": 600,
    "start_time": "2023-11-17T13:20:11.618Z"
   },
   {
    "duration": 5,
    "start_time": "2023-11-17T13:20:27.557Z"
   },
   {
    "duration": 5,
    "start_time": "2023-11-17T13:20:34.182Z"
   },
   {
    "duration": 4,
    "start_time": "2023-11-17T13:20:59.069Z"
   },
   {
    "duration": 3,
    "start_time": "2023-11-17T13:21:27.311Z"
   },
   {
    "duration": 5,
    "start_time": "2023-11-17T13:21:55.479Z"
   },
   {
    "duration": 4,
    "start_time": "2023-11-17T13:23:00.757Z"
   },
   {
    "duration": 663,
    "start_time": "2023-11-17T13:23:00.763Z"
   },
   {
    "duration": 11,
    "start_time": "2023-11-17T13:23:01.428Z"
   },
   {
    "duration": 59,
    "start_time": "2023-11-17T13:23:01.440Z"
   },
   {
    "duration": 51,
    "start_time": "2023-11-17T13:23:01.501Z"
   },
   {
    "duration": 53,
    "start_time": "2023-11-17T13:23:01.554Z"
   },
   {
    "duration": 75,
    "start_time": "2023-11-17T13:23:01.608Z"
   },
   {
    "duration": 75,
    "start_time": "2023-11-17T13:23:01.685Z"
   },
   {
    "duration": 65,
    "start_time": "2023-11-17T13:23:01.761Z"
   },
   {
    "duration": 72,
    "start_time": "2023-11-17T13:23:01.828Z"
   },
   {
    "duration": 7,
    "start_time": "2023-11-17T13:23:01.903Z"
   },
   {
    "duration": 35,
    "start_time": "2023-11-17T13:23:01.911Z"
   },
   {
    "duration": 21,
    "start_time": "2023-11-17T13:23:01.948Z"
   },
   {
    "duration": 34,
    "start_time": "2023-11-17T13:23:01.971Z"
   },
   {
    "duration": 30,
    "start_time": "2023-11-17T13:23:02.007Z"
   },
   {
    "duration": 13,
    "start_time": "2023-11-17T13:23:02.038Z"
   },
   {
    "duration": 23,
    "start_time": "2023-11-17T13:23:02.052Z"
   },
   {
    "duration": 33,
    "start_time": "2023-11-17T13:23:02.076Z"
   },
   {
    "duration": 12,
    "start_time": "2023-11-17T13:23:02.111Z"
   },
   {
    "duration": 11,
    "start_time": "2023-11-17T13:23:02.124Z"
   },
   {
    "duration": 18,
    "start_time": "2023-11-17T13:23:02.137Z"
   },
   {
    "duration": 12,
    "start_time": "2023-11-17T13:23:02.157Z"
   },
   {
    "duration": 47,
    "start_time": "2023-11-17T13:23:02.171Z"
   },
   {
    "duration": 35,
    "start_time": "2023-11-17T13:23:02.219Z"
   },
   {
    "duration": 15,
    "start_time": "2023-11-17T13:23:02.256Z"
   },
   {
    "duration": 6,
    "start_time": "2023-11-17T13:23:02.273Z"
   },
   {
    "duration": 1535,
    "start_time": "2023-11-17T13:23:02.280Z"
   },
   {
    "duration": 1575,
    "start_time": "2023-11-17T13:23:03.817Z"
   },
   {
    "duration": 1617,
    "start_time": "2023-11-17T13:23:05.402Z"
   },
   {
    "duration": 623,
    "start_time": "2023-11-17T13:23:07.021Z"
   },
   {
    "duration": 1316,
    "start_time": "2023-11-17T13:23:07.646Z"
   },
   {
    "duration": 8,
    "start_time": "2023-11-17T13:23:08.963Z"
   },
   {
    "duration": 477,
    "start_time": "2023-11-17T13:23:08.973Z"
   },
   {
    "duration": 9,
    "start_time": "2023-11-17T13:23:09.451Z"
   },
   {
    "duration": 645,
    "start_time": "2023-11-17T13:23:09.462Z"
   },
   {
    "duration": 16,
    "start_time": "2023-11-17T13:23:10.109Z"
   },
   {
    "duration": 479,
    "start_time": "2023-11-17T13:23:10.126Z"
   },
   {
    "duration": 5,
    "start_time": "2023-11-17T13:23:15.174Z"
   },
   {
    "duration": 4,
    "start_time": "2023-11-17T13:23:17.207Z"
   },
   {
    "duration": 9,
    "start_time": "2023-11-17T13:23:19.895Z"
   },
   {
    "duration": 5,
    "start_time": "2023-11-17T13:23:22.015Z"
   },
   {
    "duration": 4,
    "start_time": "2023-11-17T13:23:27.735Z"
   },
   {
    "duration": 5,
    "start_time": "2023-11-17T13:23:30.130Z"
   },
   {
    "duration": 19,
    "start_time": "2023-11-17T13:23:43.503Z"
   },
   {
    "duration": 16,
    "start_time": "2023-11-17T13:23:47.727Z"
   },
   {
    "duration": 4,
    "start_time": "2023-11-17T13:23:49.663Z"
   },
   {
    "duration": 4,
    "start_time": "2023-11-17T13:23:59.175Z"
   },
   {
    "duration": 3,
    "start_time": "2023-11-17T13:24:09.160Z"
   },
   {
    "duration": 4,
    "start_time": "2023-11-17T13:24:10.146Z"
   },
   {
    "duration": 3,
    "start_time": "2023-11-17T13:24:10.999Z"
   },
   {
    "duration": 5,
    "start_time": "2023-11-17T13:26:22.575Z"
   },
   {
    "duration": 698,
    "start_time": "2023-11-17T13:26:22.582Z"
   },
   {
    "duration": 8,
    "start_time": "2023-11-17T13:26:23.282Z"
   },
   {
    "duration": 9,
    "start_time": "2023-11-17T13:26:23.292Z"
   },
   {
    "duration": 11,
    "start_time": "2023-11-17T13:26:23.303Z"
   },
   {
    "duration": 11,
    "start_time": "2023-11-17T13:26:23.315Z"
   },
   {
    "duration": 14,
    "start_time": "2023-11-17T13:26:23.327Z"
   },
   {
    "duration": 11,
    "start_time": "2023-11-17T13:26:23.342Z"
   },
   {
    "duration": 13,
    "start_time": "2023-11-17T13:26:23.355Z"
   },
   {
    "duration": 44,
    "start_time": "2023-11-17T13:26:23.369Z"
   },
   {
    "duration": 6,
    "start_time": "2023-11-17T13:26:23.416Z"
   },
   {
    "duration": 7,
    "start_time": "2023-11-17T13:26:23.423Z"
   },
   {
    "duration": 10,
    "start_time": "2023-11-17T13:26:23.432Z"
   },
   {
    "duration": 21,
    "start_time": "2023-11-17T13:26:23.443Z"
   },
   {
    "duration": 15,
    "start_time": "2023-11-17T13:26:23.465Z"
   },
   {
    "duration": 20,
    "start_time": "2023-11-17T13:26:23.481Z"
   },
   {
    "duration": 31,
    "start_time": "2023-11-17T13:26:23.503Z"
   },
   {
    "duration": 10,
    "start_time": "2023-11-17T13:26:23.535Z"
   },
   {
    "duration": 7,
    "start_time": "2023-11-17T13:26:23.547Z"
   },
   {
    "duration": 5,
    "start_time": "2023-11-17T13:26:23.555Z"
   },
   {
    "duration": 6,
    "start_time": "2023-11-17T13:26:23.561Z"
   },
   {
    "duration": 7,
    "start_time": "2023-11-17T13:26:23.568Z"
   },
   {
    "duration": 13,
    "start_time": "2023-11-17T13:26:23.577Z"
   },
   {
    "duration": 11,
    "start_time": "2023-11-17T13:26:23.592Z"
   },
   {
    "duration": 5,
    "start_time": "2023-11-17T13:26:23.604Z"
   },
   {
    "duration": 5,
    "start_time": "2023-11-17T13:26:23.610Z"
   },
   {
    "duration": 1505,
    "start_time": "2023-11-17T13:26:23.617Z"
   },
   {
    "duration": 1543,
    "start_time": "2023-11-17T13:26:25.123Z"
   },
   {
    "duration": 1604,
    "start_time": "2023-11-17T13:26:26.669Z"
   },
   {
    "duration": 691,
    "start_time": "2023-11-17T13:26:28.275Z"
   },
   {
    "duration": 1383,
    "start_time": "2023-11-17T13:26:28.967Z"
   },
   {
    "duration": 8,
    "start_time": "2023-11-17T13:26:30.352Z"
   },
   {
    "duration": 517,
    "start_time": "2023-11-17T13:26:30.361Z"
   },
   {
    "duration": 21,
    "start_time": "2023-11-17T13:26:30.879Z"
   },
   {
    "duration": 672,
    "start_time": "2023-11-17T13:26:30.901Z"
   },
   {
    "duration": 27,
    "start_time": "2023-11-17T13:26:31.575Z"
   },
   {
    "duration": 505,
    "start_time": "2023-11-17T13:26:31.603Z"
   },
   {
    "duration": 3,
    "start_time": "2023-11-17T13:26:50.970Z"
   },
   {
    "duration": 5,
    "start_time": "2023-11-17T13:26:55.683Z"
   },
   {
    "duration": 8,
    "start_time": "2023-11-17T13:26:56.269Z"
   },
   {
    "duration": 4,
    "start_time": "2023-11-17T13:26:57.097Z"
   },
   {
    "duration": 4,
    "start_time": "2023-11-17T13:26:57.632Z"
   },
   {
    "duration": 5,
    "start_time": "2023-11-17T13:26:57.975Z"
   },
   {
    "duration": 4,
    "start_time": "2023-11-17T13:26:58.320Z"
   },
   {
    "duration": 4,
    "start_time": "2023-11-17T13:32:06.325Z"
   },
   {
    "duration": 4,
    "start_time": "2023-11-17T13:32:06.844Z"
   },
   {
    "duration": 4,
    "start_time": "2023-11-17T13:32:07.236Z"
   },
   {
    "duration": 6,
    "start_time": "2023-11-17T13:38:59.417Z"
   },
   {
    "duration": 768,
    "start_time": "2023-11-17T13:38:59.426Z"
   },
   {
    "duration": 9,
    "start_time": "2023-11-17T13:39:00.196Z"
   },
   {
    "duration": 19,
    "start_time": "2023-11-17T13:39:00.207Z"
   },
   {
    "duration": 20,
    "start_time": "2023-11-17T13:39:00.227Z"
   },
   {
    "duration": 12,
    "start_time": "2023-11-17T13:39:00.249Z"
   },
   {
    "duration": 23,
    "start_time": "2023-11-17T13:39:00.262Z"
   },
   {
    "duration": 17,
    "start_time": "2023-11-17T13:39:00.287Z"
   },
   {
    "duration": 24,
    "start_time": "2023-11-17T13:39:00.306Z"
   },
   {
    "duration": 60,
    "start_time": "2023-11-17T13:39:00.332Z"
   },
   {
    "duration": 8,
    "start_time": "2023-11-17T13:39:00.393Z"
   },
   {
    "duration": 30,
    "start_time": "2023-11-17T13:39:00.402Z"
   },
   {
    "duration": 28,
    "start_time": "2023-11-17T13:39:00.434Z"
   },
   {
    "duration": 29,
    "start_time": "2023-11-17T13:39:00.464Z"
   },
   {
    "duration": 25,
    "start_time": "2023-11-17T13:39:00.495Z"
   },
   {
    "duration": 29,
    "start_time": "2023-11-17T13:39:00.522Z"
   },
   {
    "duration": 24,
    "start_time": "2023-11-17T13:39:00.553Z"
   },
   {
    "duration": 29,
    "start_time": "2023-11-17T13:39:00.579Z"
   },
   {
    "duration": 67,
    "start_time": "2023-11-17T13:39:00.610Z"
   },
   {
    "duration": 42,
    "start_time": "2023-11-17T13:39:00.679Z"
   },
   {
    "duration": 77,
    "start_time": "2023-11-17T13:39:00.723Z"
   },
   {
    "duration": 37,
    "start_time": "2023-11-17T13:39:00.802Z"
   },
   {
    "duration": 69,
    "start_time": "2023-11-17T13:39:00.841Z"
   },
   {
    "duration": 100,
    "start_time": "2023-11-17T13:39:00.915Z"
   },
   {
    "duration": 73,
    "start_time": "2023-11-17T13:39:01.017Z"
   },
   {
    "duration": 68,
    "start_time": "2023-11-17T13:39:01.092Z"
   },
   {
    "duration": 1538,
    "start_time": "2023-11-17T13:39:01.161Z"
   },
   {
    "duration": 1550,
    "start_time": "2023-11-17T13:39:02.700Z"
   },
   {
    "duration": 1583,
    "start_time": "2023-11-17T13:39:04.252Z"
   },
   {
    "duration": 600,
    "start_time": "2023-11-17T13:39:05.836Z"
   },
   {
    "duration": 1276,
    "start_time": "2023-11-17T13:39:06.438Z"
   },
   {
    "duration": 8,
    "start_time": "2023-11-17T13:39:07.715Z"
   },
   {
    "duration": 595,
    "start_time": "2023-11-17T13:39:07.725Z"
   },
   {
    "duration": 8,
    "start_time": "2023-11-17T13:39:08.322Z"
   },
   {
    "duration": 474,
    "start_time": "2023-11-17T13:39:08.331Z"
   },
   {
    "duration": 18,
    "start_time": "2023-11-17T13:39:08.807Z"
   },
   {
    "duration": 472,
    "start_time": "2023-11-17T13:39:08.827Z"
   },
   {
    "duration": 5,
    "start_time": "2023-11-17T13:39:27.131Z"
   },
   {
    "duration": 9,
    "start_time": "2023-11-17T13:39:27.779Z"
   },
   {
    "duration": 6,
    "start_time": "2023-11-17T13:39:34.851Z"
   },
   {
    "duration": 5,
    "start_time": "2023-11-17T13:39:35.228Z"
   },
   {
    "duration": 4,
    "start_time": "2023-11-17T13:39:35.676Z"
   },
   {
    "duration": 3,
    "start_time": "2023-11-17T13:39:36.123Z"
   },
   {
    "duration": 4,
    "start_time": "2023-11-17T13:39:36.514Z"
   },
   {
    "duration": 11,
    "start_time": "2023-11-17T13:41:52.540Z"
   },
   {
    "duration": 10,
    "start_time": "2023-11-17T13:41:55.365Z"
   },
   {
    "duration": 5,
    "start_time": "2023-11-17T13:45:54.173Z"
   },
   {
    "duration": 719,
    "start_time": "2023-11-17T13:45:54.180Z"
   },
   {
    "duration": 8,
    "start_time": "2023-11-17T13:45:54.901Z"
   },
   {
    "duration": 6,
    "start_time": "2023-11-17T13:45:54.911Z"
   },
   {
    "duration": 16,
    "start_time": "2023-11-17T13:45:54.919Z"
   },
   {
    "duration": 8,
    "start_time": "2023-11-17T13:45:54.937Z"
   },
   {
    "duration": 9,
    "start_time": "2023-11-17T13:45:54.946Z"
   },
   {
    "duration": 31,
    "start_time": "2023-11-17T13:45:54.956Z"
   },
   {
    "duration": 7,
    "start_time": "2023-11-17T13:45:54.989Z"
   },
   {
    "duration": 49,
    "start_time": "2023-11-17T13:45:54.997Z"
   },
   {
    "duration": 7,
    "start_time": "2023-11-17T13:45:55.048Z"
   },
   {
    "duration": 12,
    "start_time": "2023-11-17T13:45:55.056Z"
   },
   {
    "duration": 11,
    "start_time": "2023-11-17T13:45:55.069Z"
   },
   {
    "duration": 20,
    "start_time": "2023-11-17T13:45:55.081Z"
   },
   {
    "duration": 18,
    "start_time": "2023-11-17T13:45:55.102Z"
   },
   {
    "duration": 28,
    "start_time": "2023-11-17T13:45:55.122Z"
   },
   {
    "duration": 13,
    "start_time": "2023-11-17T13:45:55.152Z"
   },
   {
    "duration": 15,
    "start_time": "2023-11-17T13:45:55.166Z"
   },
   {
    "duration": 13,
    "start_time": "2023-11-17T13:45:55.182Z"
   },
   {
    "duration": 8,
    "start_time": "2023-11-17T13:45:55.197Z"
   },
   {
    "duration": 18,
    "start_time": "2023-11-17T13:45:55.207Z"
   },
   {
    "duration": 14,
    "start_time": "2023-11-17T13:45:55.227Z"
   },
   {
    "duration": 20,
    "start_time": "2023-11-17T13:45:55.243Z"
   },
   {
    "duration": 9,
    "start_time": "2023-11-17T13:45:55.265Z"
   },
   {
    "duration": 8,
    "start_time": "2023-11-17T13:45:55.275Z"
   },
   {
    "duration": 4,
    "start_time": "2023-11-17T13:45:55.285Z"
   },
   {
    "duration": 1489,
    "start_time": "2023-11-17T13:45:55.291Z"
   },
   {
    "duration": 1536,
    "start_time": "2023-11-17T13:45:56.782Z"
   },
   {
    "duration": 1521,
    "start_time": "2023-11-17T13:45:58.321Z"
   },
   {
    "duration": 800,
    "start_time": "2023-11-17T13:45:59.843Z"
   },
   {
    "duration": 1245,
    "start_time": "2023-11-17T13:46:00.644Z"
   },
   {
    "duration": 12,
    "start_time": "2023-11-17T13:46:01.891Z"
   },
   {
    "duration": 611,
    "start_time": "2023-11-17T13:46:01.905Z"
   },
   {
    "duration": 8,
    "start_time": "2023-11-17T13:46:02.518Z"
   },
   {
    "duration": 494,
    "start_time": "2023-11-17T13:46:02.527Z"
   },
   {
    "duration": 17,
    "start_time": "2023-11-17T13:46:03.023Z"
   },
   {
    "duration": 600,
    "start_time": "2023-11-17T13:46:03.042Z"
   },
   {
    "duration": 4,
    "start_time": "2023-11-17T13:46:11.775Z"
   },
   {
    "duration": 9,
    "start_time": "2023-11-17T13:46:12.359Z"
   },
   {
    "duration": 11,
    "start_time": "2023-11-17T13:46:30.107Z"
   },
   {
    "duration": 11,
    "start_time": "2023-11-17T13:46:30.774Z"
   },
   {
    "duration": 9,
    "start_time": "2023-11-17T13:47:35.794Z"
   },
   {
    "duration": 9,
    "start_time": "2023-11-17T13:47:36.457Z"
   },
   {
    "duration": 10,
    "start_time": "2023-11-17T13:47:38.152Z"
   },
   {
    "duration": 10,
    "start_time": "2023-11-17T13:47:38.535Z"
   },
   {
    "duration": 7,
    "start_time": "2023-11-17T13:47:38.895Z"
   },
   {
    "duration": 1430,
    "start_time": "2023-11-17T13:48:01.332Z"
   },
   {
    "duration": 752,
    "start_time": "2023-11-17T13:48:02.764Z"
   },
   {
    "duration": 13,
    "start_time": "2023-11-17T13:48:03.518Z"
   },
   {
    "duration": 3,
    "start_time": "2023-11-17T13:48:03.534Z"
   },
   {
    "duration": 6,
    "start_time": "2023-11-17T13:48:03.539Z"
   },
   {
    "duration": 14,
    "start_time": "2023-11-17T13:48:03.546Z"
   },
   {
    "duration": 10,
    "start_time": "2023-11-17T13:48:03.562Z"
   },
   {
    "duration": 17,
    "start_time": "2023-11-17T13:48:03.574Z"
   },
   {
    "duration": 5,
    "start_time": "2023-11-17T13:48:03.599Z"
   },
   {
    "duration": 39,
    "start_time": "2023-11-17T13:48:03.608Z"
   },
   {
    "duration": 7,
    "start_time": "2023-11-17T13:48:03.649Z"
   },
   {
    "duration": 29,
    "start_time": "2023-11-17T13:48:03.657Z"
   },
   {
    "duration": 14,
    "start_time": "2023-11-17T13:48:03.687Z"
   },
   {
    "duration": 26,
    "start_time": "2023-11-17T13:48:03.703Z"
   },
   {
    "duration": 13,
    "start_time": "2023-11-17T13:48:03.730Z"
   },
   {
    "duration": 4,
    "start_time": "2023-11-17T13:48:03.745Z"
   },
   {
    "duration": 15,
    "start_time": "2023-11-17T13:48:03.750Z"
   },
   {
    "duration": 13,
    "start_time": "2023-11-17T13:48:03.767Z"
   },
   {
    "duration": 23,
    "start_time": "2023-11-17T13:48:03.782Z"
   },
   {
    "duration": 6,
    "start_time": "2023-11-17T13:48:03.806Z"
   },
   {
    "duration": 4,
    "start_time": "2023-11-17T13:48:03.814Z"
   },
   {
    "duration": 21,
    "start_time": "2023-11-17T13:48:03.820Z"
   },
   {
    "duration": 16,
    "start_time": "2023-11-17T13:48:03.842Z"
   },
   {
    "duration": 8,
    "start_time": "2023-11-17T13:48:03.859Z"
   },
   {
    "duration": 7,
    "start_time": "2023-11-17T13:48:03.868Z"
   },
   {
    "duration": 6,
    "start_time": "2023-11-17T13:48:03.876Z"
   },
   {
    "duration": 1489,
    "start_time": "2023-11-17T13:48:03.883Z"
   },
   {
    "duration": 1473,
    "start_time": "2023-11-17T13:48:05.376Z"
   },
   {
    "duration": 1475,
    "start_time": "2023-11-17T13:48:06.850Z"
   },
   {
    "duration": 601,
    "start_time": "2023-11-17T13:48:08.326Z"
   },
   {
    "duration": 1280,
    "start_time": "2023-11-17T13:48:08.928Z"
   },
   {
    "duration": 8,
    "start_time": "2023-11-17T13:48:10.210Z"
   },
   {
    "duration": 589,
    "start_time": "2023-11-17T13:48:10.220Z"
   },
   {
    "duration": 7,
    "start_time": "2023-11-17T13:48:10.811Z"
   },
   {
    "duration": 484,
    "start_time": "2023-11-17T13:48:10.819Z"
   },
   {
    "duration": 25,
    "start_time": "2023-11-17T13:48:11.304Z"
   },
   {
    "duration": 481,
    "start_time": "2023-11-17T13:48:11.331Z"
   },
   {
    "duration": 4,
    "start_time": "2023-11-17T13:48:15.978Z"
   },
   {
    "duration": 9,
    "start_time": "2023-11-17T13:48:16.582Z"
   },
   {
    "duration": 12,
    "start_time": "2023-11-17T13:48:17.707Z"
   },
   {
    "duration": 109,
    "start_time": "2023-11-17T13:48:18.573Z"
   },
   {
    "duration": 4,
    "start_time": "2023-11-17T13:48:51.248Z"
   },
   {
    "duration": 11,
    "start_time": "2023-11-17T13:48:51.759Z"
   },
   {
    "duration": 15,
    "start_time": "2023-11-17T13:48:52.118Z"
   },
   {
    "duration": 15,
    "start_time": "2023-11-17T13:48:52.374Z"
   },
   {
    "duration": 5,
    "start_time": "2023-11-17T13:49:28.040Z"
   },
   {
    "duration": 802,
    "start_time": "2023-11-17T13:49:28.046Z"
   },
   {
    "duration": 9,
    "start_time": "2023-11-17T13:49:28.850Z"
   },
   {
    "duration": 3,
    "start_time": "2023-11-17T13:49:28.861Z"
   },
   {
    "duration": 13,
    "start_time": "2023-11-17T13:49:28.865Z"
   },
   {
    "duration": 4,
    "start_time": "2023-11-17T13:49:28.880Z"
   },
   {
    "duration": 4,
    "start_time": "2023-11-17T13:49:28.898Z"
   },
   {
    "duration": 5,
    "start_time": "2023-11-17T13:49:28.904Z"
   },
   {
    "duration": 11,
    "start_time": "2023-11-17T13:49:28.910Z"
   },
   {
    "duration": 44,
    "start_time": "2023-11-17T13:49:28.923Z"
   },
   {
    "duration": 31,
    "start_time": "2023-11-17T13:49:28.970Z"
   },
   {
    "duration": 6,
    "start_time": "2023-11-17T13:49:29.003Z"
   },
   {
    "duration": 8,
    "start_time": "2023-11-17T13:49:29.011Z"
   },
   {
    "duration": 14,
    "start_time": "2023-11-17T13:49:29.021Z"
   },
   {
    "duration": 12,
    "start_time": "2023-11-17T13:49:29.037Z"
   },
   {
    "duration": 20,
    "start_time": "2023-11-17T13:49:29.051Z"
   },
   {
    "duration": 36,
    "start_time": "2023-11-17T13:49:29.073Z"
   },
   {
    "duration": 55,
    "start_time": "2023-11-17T13:49:29.111Z"
   },
   {
    "duration": 8,
    "start_time": "2023-11-17T13:49:29.168Z"
   },
   {
    "duration": 7,
    "start_time": "2023-11-17T13:49:29.178Z"
   },
   {
    "duration": 7,
    "start_time": "2023-11-17T13:49:29.187Z"
   },
   {
    "duration": 9,
    "start_time": "2023-11-17T13:49:29.196Z"
   },
   {
    "duration": 14,
    "start_time": "2023-11-17T13:49:29.207Z"
   },
   {
    "duration": 9,
    "start_time": "2023-11-17T13:49:29.223Z"
   },
   {
    "duration": 6,
    "start_time": "2023-11-17T13:49:29.233Z"
   },
   {
    "duration": 15,
    "start_time": "2023-11-17T13:49:29.241Z"
   },
   {
    "duration": 1563,
    "start_time": "2023-11-17T13:49:29.258Z"
   },
   {
    "duration": 1513,
    "start_time": "2023-11-17T13:49:30.823Z"
   },
   {
    "duration": 1568,
    "start_time": "2023-11-17T13:49:32.339Z"
   },
   {
    "duration": 719,
    "start_time": "2023-11-17T13:49:33.909Z"
   },
   {
    "duration": 1193,
    "start_time": "2023-11-17T13:49:34.629Z"
   },
   {
    "duration": 9,
    "start_time": "2023-11-17T13:49:35.824Z"
   },
   {
    "duration": 587,
    "start_time": "2023-11-17T13:49:35.835Z"
   },
   {
    "duration": 8,
    "start_time": "2023-11-17T13:49:36.424Z"
   },
   {
    "duration": 491,
    "start_time": "2023-11-17T13:49:36.434Z"
   },
   {
    "duration": 26,
    "start_time": "2023-11-17T13:49:36.927Z"
   },
   {
    "duration": 601,
    "start_time": "2023-11-17T13:49:36.954Z"
   },
   {
    "duration": 4,
    "start_time": "2023-11-17T13:49:41.884Z"
   },
   {
    "duration": 9,
    "start_time": "2023-11-17T13:49:42.553Z"
   },
   {
    "duration": 11,
    "start_time": "2023-11-17T13:49:43.113Z"
   },
   {
    "duration": 14,
    "start_time": "2023-11-17T13:49:43.521Z"
   },
   {
    "duration": 3,
    "start_time": "2023-11-17T13:51:52.980Z"
   },
   {
    "duration": 4,
    "start_time": "2023-11-17T13:51:53.245Z"
   },
   {
    "duration": 4,
    "start_time": "2023-11-17T13:51:53.539Z"
   },
   {
    "duration": 4,
    "start_time": "2023-11-17T13:52:32.763Z"
   },
   {
    "duration": 3,
    "start_time": "2023-11-17T13:52:33.091Z"
   },
   {
    "duration": 12,
    "start_time": "2023-11-17T13:52:38.596Z"
   },
   {
    "duration": 11,
    "start_time": "2023-11-17T13:52:39.596Z"
   },
   {
    "duration": 3,
    "start_time": "2023-11-17T13:52:40.067Z"
   },
   {
    "duration": 4,
    "start_time": "2023-11-17T13:52:53.878Z"
   },
   {
    "duration": 1525,
    "start_time": "2023-11-17T13:53:23.155Z"
   },
   {
    "duration": 799,
    "start_time": "2023-11-17T13:53:24.682Z"
   },
   {
    "duration": 17,
    "start_time": "2023-11-17T13:53:25.482Z"
   },
   {
    "duration": 4,
    "start_time": "2023-11-17T13:53:25.501Z"
   },
   {
    "duration": 21,
    "start_time": "2023-11-17T13:53:25.506Z"
   },
   {
    "duration": 6,
    "start_time": "2023-11-17T13:53:25.528Z"
   },
   {
    "duration": 12,
    "start_time": "2023-11-17T13:53:25.536Z"
   },
   {
    "duration": 5,
    "start_time": "2023-11-17T13:53:25.550Z"
   },
   {
    "duration": 6,
    "start_time": "2023-11-17T13:53:25.556Z"
   },
   {
    "duration": 65,
    "start_time": "2023-11-17T13:53:25.565Z"
   },
   {
    "duration": 6,
    "start_time": "2023-11-17T13:53:25.632Z"
   },
   {
    "duration": 14,
    "start_time": "2023-11-17T13:53:25.640Z"
   },
   {
    "duration": 9,
    "start_time": "2023-11-17T13:53:25.655Z"
   },
   {
    "duration": 19,
    "start_time": "2023-11-17T13:53:25.665Z"
   },
   {
    "duration": 21,
    "start_time": "2023-11-17T13:53:25.686Z"
   },
   {
    "duration": 4,
    "start_time": "2023-11-17T13:53:25.709Z"
   },
   {
    "duration": 12,
    "start_time": "2023-11-17T13:53:25.715Z"
   },
   {
    "duration": 13,
    "start_time": "2023-11-17T13:53:25.729Z"
   },
   {
    "duration": 8,
    "start_time": "2023-11-17T13:53:25.743Z"
   },
   {
    "duration": 3,
    "start_time": "2023-11-17T13:53:25.753Z"
   },
   {
    "duration": 7,
    "start_time": "2023-11-17T13:53:25.757Z"
   },
   {
    "duration": 33,
    "start_time": "2023-11-17T13:53:25.766Z"
   },
   {
    "duration": 12,
    "start_time": "2023-11-17T13:53:25.801Z"
   },
   {
    "duration": 7,
    "start_time": "2023-11-17T13:53:25.815Z"
   },
   {
    "duration": 5,
    "start_time": "2023-11-17T13:53:25.823Z"
   },
   {
    "duration": 5,
    "start_time": "2023-11-17T13:53:25.830Z"
   },
   {
    "duration": 1686,
    "start_time": "2023-11-17T13:53:25.837Z"
   },
   {
    "duration": 2242,
    "start_time": "2023-11-17T13:53:27.527Z"
   },
   {
    "duration": 1610,
    "start_time": "2023-11-17T13:53:29.770Z"
   },
   {
    "duration": 675,
    "start_time": "2023-11-17T13:53:31.382Z"
   },
   {
    "duration": 1384,
    "start_time": "2023-11-17T13:53:32.059Z"
   },
   {
    "duration": 11,
    "start_time": "2023-11-17T13:53:33.445Z"
   },
   {
    "duration": 650,
    "start_time": "2023-11-17T13:53:33.458Z"
   },
   {
    "duration": 9,
    "start_time": "2023-11-17T13:53:34.110Z"
   },
   {
    "duration": 516,
    "start_time": "2023-11-17T13:53:34.121Z"
   },
   {
    "duration": 25,
    "start_time": "2023-11-17T13:53:34.639Z"
   },
   {
    "duration": 509,
    "start_time": "2023-11-17T13:53:34.666Z"
   },
   {
    "duration": 4,
    "start_time": "2023-11-17T13:53:35.176Z"
   },
   {
    "duration": 21,
    "start_time": "2023-11-17T13:53:35.182Z"
   },
   {
    "duration": 16,
    "start_time": "2023-11-17T13:53:35.205Z"
   },
   {
    "duration": 131,
    "start_time": "2023-11-17T13:53:35.223Z"
   },
   {
    "duration": 0,
    "start_time": "2023-11-17T13:53:35.356Z"
   },
   {
    "duration": 0,
    "start_time": "2023-11-17T13:53:35.357Z"
   },
   {
    "duration": 0,
    "start_time": "2023-11-17T13:53:35.359Z"
   },
   {
    "duration": 0,
    "start_time": "2023-11-17T13:53:35.362Z"
   },
   {
    "duration": 0,
    "start_time": "2023-11-17T13:53:35.363Z"
   },
   {
    "duration": 0,
    "start_time": "2023-11-17T13:53:35.364Z"
   },
   {
    "duration": 0,
    "start_time": "2023-11-17T13:53:35.365Z"
   },
   {
    "duration": 0,
    "start_time": "2023-11-17T13:53:35.366Z"
   },
   {
    "duration": 0,
    "start_time": "2023-11-17T13:53:35.367Z"
   },
   {
    "duration": 0,
    "start_time": "2023-11-17T13:53:35.369Z"
   },
   {
    "duration": 0,
    "start_time": "2023-11-17T13:53:35.370Z"
   },
   {
    "duration": 0,
    "start_time": "2023-11-17T13:53:35.371Z"
   },
   {
    "duration": 0,
    "start_time": "2023-11-17T13:53:35.399Z"
   },
   {
    "duration": 0,
    "start_time": "2023-11-17T13:53:35.400Z"
   },
   {
    "duration": 0,
    "start_time": "2023-11-17T13:53:35.402Z"
   },
   {
    "duration": 0,
    "start_time": "2023-11-17T13:53:35.404Z"
   },
   {
    "duration": 0,
    "start_time": "2023-11-17T13:53:35.405Z"
   },
   {
    "duration": 0,
    "start_time": "2023-11-17T13:53:35.406Z"
   },
   {
    "duration": 0,
    "start_time": "2023-11-17T13:53:35.407Z"
   },
   {
    "duration": 0,
    "start_time": "2023-11-17T13:53:35.408Z"
   },
   {
    "duration": 0,
    "start_time": "2023-11-17T13:53:35.410Z"
   },
   {
    "duration": 0,
    "start_time": "2023-11-17T13:53:35.412Z"
   },
   {
    "duration": 0,
    "start_time": "2023-11-17T13:53:35.413Z"
   },
   {
    "duration": 0,
    "start_time": "2023-11-17T13:53:35.415Z"
   },
   {
    "duration": 0,
    "start_time": "2023-11-17T13:53:35.416Z"
   },
   {
    "duration": 0,
    "start_time": "2023-11-17T13:53:35.417Z"
   },
   {
    "duration": 0,
    "start_time": "2023-11-17T13:53:35.419Z"
   },
   {
    "duration": 0,
    "start_time": "2023-11-17T13:53:35.420Z"
   },
   {
    "duration": 0,
    "start_time": "2023-11-17T13:53:35.421Z"
   },
   {
    "duration": 0,
    "start_time": "2023-11-17T13:53:35.423Z"
   },
   {
    "duration": 0,
    "start_time": "2023-11-17T13:53:35.424Z"
   },
   {
    "duration": 0,
    "start_time": "2023-11-17T13:53:35.425Z"
   },
   {
    "duration": 0,
    "start_time": "2023-11-17T13:53:35.426Z"
   },
   {
    "duration": 5,
    "start_time": "2023-11-17T13:56:19.868Z"
   },
   {
    "duration": 4,
    "start_time": "2023-11-17T13:56:34.157Z"
   },
   {
    "duration": 12,
    "start_time": "2023-11-17T13:58:01.698Z"
   },
   {
    "duration": 15,
    "start_time": "2023-11-17T13:58:02.768Z"
   },
   {
    "duration": 4,
    "start_time": "2023-11-17T13:58:05.154Z"
   },
   {
    "duration": 4,
    "start_time": "2023-11-17T13:58:05.456Z"
   },
   {
    "duration": 4,
    "start_time": "2023-11-17T13:58:05.783Z"
   },
   {
    "duration": 5,
    "start_time": "2023-11-17T13:58:19.374Z"
   },
   {
    "duration": 790,
    "start_time": "2023-11-17T13:58:19.380Z"
   },
   {
    "duration": 9,
    "start_time": "2023-11-17T13:58:20.172Z"
   },
   {
    "duration": 31,
    "start_time": "2023-11-17T13:58:20.182Z"
   },
   {
    "duration": 22,
    "start_time": "2023-11-17T13:58:20.215Z"
   },
   {
    "duration": 37,
    "start_time": "2023-11-17T13:58:20.239Z"
   },
   {
    "duration": 34,
    "start_time": "2023-11-17T13:58:20.278Z"
   },
   {
    "duration": 35,
    "start_time": "2023-11-17T13:58:20.314Z"
   },
   {
    "duration": 37,
    "start_time": "2023-11-17T13:58:20.351Z"
   },
   {
    "duration": 49,
    "start_time": "2023-11-17T13:58:20.390Z"
   },
   {
    "duration": 7,
    "start_time": "2023-11-17T13:58:20.442Z"
   },
   {
    "duration": 29,
    "start_time": "2023-11-17T13:58:20.450Z"
   },
   {
    "duration": 29,
    "start_time": "2023-11-17T13:58:20.481Z"
   },
   {
    "duration": 39,
    "start_time": "2023-11-17T13:58:20.511Z"
   },
   {
    "duration": 20,
    "start_time": "2023-11-17T13:58:20.551Z"
   },
   {
    "duration": 34,
    "start_time": "2023-11-17T13:58:20.573Z"
   },
   {
    "duration": 26,
    "start_time": "2023-11-17T13:58:20.609Z"
   },
   {
    "duration": 42,
    "start_time": "2023-11-17T13:58:20.637Z"
   },
   {
    "duration": 20,
    "start_time": "2023-11-17T13:58:20.680Z"
   },
   {
    "duration": 14,
    "start_time": "2023-11-17T13:58:20.702Z"
   },
   {
    "duration": 19,
    "start_time": "2023-11-17T13:58:20.718Z"
   },
   {
    "duration": 24,
    "start_time": "2023-11-17T13:58:20.738Z"
   },
   {
    "duration": 32,
    "start_time": "2023-11-17T13:58:20.763Z"
   },
   {
    "duration": 25,
    "start_time": "2023-11-17T13:58:20.796Z"
   },
   {
    "duration": 27,
    "start_time": "2023-11-17T13:58:20.823Z"
   },
   {
    "duration": 31,
    "start_time": "2023-11-17T13:58:20.852Z"
   },
   {
    "duration": 1511,
    "start_time": "2023-11-17T13:58:20.885Z"
   },
   {
    "duration": 1588,
    "start_time": "2023-11-17T13:58:22.399Z"
   },
   {
    "duration": 1545,
    "start_time": "2023-11-17T13:58:23.990Z"
   },
   {
    "duration": 739,
    "start_time": "2023-11-17T13:58:25.537Z"
   },
   {
    "duration": 1190,
    "start_time": "2023-11-17T13:58:26.277Z"
   },
   {
    "duration": 8,
    "start_time": "2023-11-17T13:58:27.469Z"
   },
   {
    "duration": 628,
    "start_time": "2023-11-17T13:58:27.478Z"
   },
   {
    "duration": 8,
    "start_time": "2023-11-17T13:58:28.108Z"
   },
   {
    "duration": 547,
    "start_time": "2023-11-17T13:58:28.118Z"
   },
   {
    "duration": 20,
    "start_time": "2023-11-17T13:58:28.667Z"
   },
   {
    "duration": 584,
    "start_time": "2023-11-17T13:58:28.689Z"
   },
   {
    "duration": 4,
    "start_time": "2023-11-17T13:58:36.193Z"
   },
   {
    "duration": 10,
    "start_time": "2023-11-17T13:58:36.593Z"
   },
   {
    "duration": 8,
    "start_time": "2023-11-17T13:58:37.743Z"
   },
   {
    "duration": 4,
    "start_time": "2023-11-17T13:58:38.119Z"
   },
   {
    "duration": 3,
    "start_time": "2023-11-17T13:58:38.488Z"
   },
   {
    "duration": 3,
    "start_time": "2023-11-17T13:58:38.840Z"
   },
   {
    "duration": 4,
    "start_time": "2023-11-17T13:58:52.251Z"
   },
   {
    "duration": 4,
    "start_time": "2023-11-17T13:58:54.609Z"
   },
   {
    "duration": 4,
    "start_time": "2023-11-17T14:02:15.179Z"
   },
   {
    "duration": 4,
    "start_time": "2023-11-17T14:02:15.483Z"
   },
   {
    "duration": 4,
    "start_time": "2023-11-17T14:02:15.722Z"
   },
   {
    "duration": 5,
    "start_time": "2023-11-17T14:04:59.581Z"
   },
   {
    "duration": 11,
    "start_time": "2023-11-17T14:05:02.772Z"
   },
   {
    "duration": 4,
    "start_time": "2023-11-17T14:05:14.013Z"
   },
   {
    "duration": 10,
    "start_time": "2023-11-17T14:08:15.382Z"
   },
   {
    "duration": 5,
    "start_time": "2023-11-17T14:08:20.911Z"
   },
   {
    "duration": 783,
    "start_time": "2023-11-17T14:08:21.472Z"
   },
   {
    "duration": 10,
    "start_time": "2023-11-17T14:08:22.256Z"
   },
   {
    "duration": 13,
    "start_time": "2023-11-17T14:08:22.267Z"
   },
   {
    "duration": 17,
    "start_time": "2023-11-17T14:08:22.282Z"
   },
   {
    "duration": 5,
    "start_time": "2023-11-17T14:08:22.300Z"
   },
   {
    "duration": 17,
    "start_time": "2023-11-17T14:08:22.306Z"
   },
   {
    "duration": 6,
    "start_time": "2023-11-17T14:08:22.324Z"
   },
   {
    "duration": 10,
    "start_time": "2023-11-17T14:08:22.332Z"
   },
   {
    "duration": 37,
    "start_time": "2023-11-17T14:08:22.361Z"
   },
   {
    "duration": 7,
    "start_time": "2023-11-17T14:08:22.512Z"
   },
   {
    "duration": 5,
    "start_time": "2023-11-17T14:08:22.568Z"
   },
   {
    "duration": 7,
    "start_time": "2023-11-17T14:08:22.625Z"
   },
   {
    "duration": 12,
    "start_time": "2023-11-17T14:08:22.733Z"
   },
   {
    "duration": 11,
    "start_time": "2023-11-17T14:08:22.804Z"
   },
   {
    "duration": 3,
    "start_time": "2023-11-17T14:08:22.921Z"
   },
   {
    "duration": 9,
    "start_time": "2023-11-17T14:08:22.979Z"
   },
   {
    "duration": 9,
    "start_time": "2023-11-17T14:08:23.035Z"
   },
   {
    "duration": 8,
    "start_time": "2023-11-17T14:08:23.145Z"
   },
   {
    "duration": 3,
    "start_time": "2023-11-17T14:08:23.303Z"
   },
   {
    "duration": 3,
    "start_time": "2023-11-17T14:08:23.360Z"
   },
   {
    "duration": 3,
    "start_time": "2023-11-17T14:08:23.507Z"
   },
   {
    "duration": 12,
    "start_time": "2023-11-17T14:08:23.567Z"
   },
   {
    "duration": 9,
    "start_time": "2023-11-17T14:08:23.627Z"
   },
   {
    "duration": 3,
    "start_time": "2023-11-17T14:08:23.692Z"
   },
   {
    "duration": 5,
    "start_time": "2023-11-17T14:08:24.606Z"
   },
   {
    "duration": 1501,
    "start_time": "2023-11-17T14:08:26.299Z"
   },
   {
    "duration": 1610,
    "start_time": "2023-11-17T14:08:27.803Z"
   },
   {
    "duration": 1548,
    "start_time": "2023-11-17T14:08:29.414Z"
   },
   {
    "duration": 660,
    "start_time": "2023-11-17T14:08:30.964Z"
   },
   {
    "duration": 1320,
    "start_time": "2023-11-17T14:08:31.626Z"
   },
   {
    "duration": 8,
    "start_time": "2023-11-17T14:08:32.948Z"
   },
   {
    "duration": 512,
    "start_time": "2023-11-17T14:08:32.957Z"
   },
   {
    "duration": 8,
    "start_time": "2023-11-17T14:08:33.471Z"
   },
   {
    "duration": 526,
    "start_time": "2023-11-17T14:08:33.482Z"
   },
   {
    "duration": 16,
    "start_time": "2023-11-17T14:08:34.025Z"
   },
   {
    "duration": 606,
    "start_time": "2023-11-17T14:08:34.846Z"
   },
   {
    "duration": 3,
    "start_time": "2023-11-17T14:08:37.555Z"
   },
   {
    "duration": 8,
    "start_time": "2023-11-17T14:08:37.851Z"
   },
   {
    "duration": 9,
    "start_time": "2023-11-17T14:08:38.635Z"
   },
   {
    "duration": 5,
    "start_time": "2023-11-17T14:08:44.091Z"
   },
   {
    "duration": 8,
    "start_time": "2023-11-17T14:08:46.972Z"
   },
   {
    "duration": 4,
    "start_time": "2023-11-17T14:13:10.091Z"
   },
   {
    "duration": 772,
    "start_time": "2023-11-17T14:13:10.097Z"
   },
   {
    "duration": 8,
    "start_time": "2023-11-17T14:13:10.871Z"
   },
   {
    "duration": 18,
    "start_time": "2023-11-17T14:13:10.881Z"
   },
   {
    "duration": 19,
    "start_time": "2023-11-17T14:13:10.901Z"
   },
   {
    "duration": 7,
    "start_time": "2023-11-17T14:13:10.921Z"
   },
   {
    "duration": 13,
    "start_time": "2023-11-17T14:13:10.930Z"
   },
   {
    "duration": 18,
    "start_time": "2023-11-17T14:13:10.945Z"
   },
   {
    "duration": 25,
    "start_time": "2023-11-17T14:13:10.964Z"
   },
   {
    "duration": 41,
    "start_time": "2023-11-17T14:13:10.991Z"
   },
   {
    "duration": 6,
    "start_time": "2023-11-17T14:13:11.035Z"
   },
   {
    "duration": 16,
    "start_time": "2023-11-17T14:13:11.042Z"
   },
   {
    "duration": 11,
    "start_time": "2023-11-17T14:13:11.059Z"
   },
   {
    "duration": 21,
    "start_time": "2023-11-17T14:13:11.072Z"
   },
   {
    "duration": 11,
    "start_time": "2023-11-17T14:13:11.095Z"
   },
   {
    "duration": 10,
    "start_time": "2023-11-17T14:13:11.107Z"
   },
   {
    "duration": 9,
    "start_time": "2023-11-17T14:13:11.119Z"
   },
   {
    "duration": 14,
    "start_time": "2023-11-17T14:13:11.130Z"
   },
   {
    "duration": 7,
    "start_time": "2023-11-17T14:13:11.146Z"
   },
   {
    "duration": 4,
    "start_time": "2023-11-17T14:13:11.154Z"
   },
   {
    "duration": 7,
    "start_time": "2023-11-17T14:13:11.159Z"
   },
   {
    "duration": 9,
    "start_time": "2023-11-17T14:13:11.167Z"
   },
   {
    "duration": 28,
    "start_time": "2023-11-17T14:13:11.178Z"
   },
   {
    "duration": 7,
    "start_time": "2023-11-17T14:13:11.208Z"
   },
   {
    "duration": 13,
    "start_time": "2023-11-17T14:13:11.216Z"
   },
   {
    "duration": 13,
    "start_time": "2023-11-17T14:13:11.230Z"
   },
   {
    "duration": 1447,
    "start_time": "2023-11-17T14:13:11.244Z"
   },
   {
    "duration": 1684,
    "start_time": "2023-11-17T14:13:12.693Z"
   },
   {
    "duration": 1553,
    "start_time": "2023-11-17T14:13:14.380Z"
   },
   {
    "duration": 616,
    "start_time": "2023-11-17T14:13:15.935Z"
   },
   {
    "duration": 1310,
    "start_time": "2023-11-17T14:13:16.553Z"
   },
   {
    "duration": 8,
    "start_time": "2023-11-17T14:13:17.864Z"
   },
   {
    "duration": 491,
    "start_time": "2023-11-17T14:13:17.873Z"
   },
   {
    "duration": 8,
    "start_time": "2023-11-17T14:13:18.365Z"
   },
   {
    "duration": 624,
    "start_time": "2023-11-17T14:13:18.375Z"
   },
   {
    "duration": 20,
    "start_time": "2023-11-17T14:13:19.000Z"
   },
   {
    "duration": 465,
    "start_time": "2023-11-17T14:13:19.022Z"
   },
   {
    "duration": 11,
    "start_time": "2023-11-17T14:13:19.489Z"
   },
   {
    "duration": 9,
    "start_time": "2023-11-17T14:13:19.501Z"
   },
   {
    "duration": 8,
    "start_time": "2023-11-17T14:13:19.512Z"
   },
   {
    "duration": 5,
    "start_time": "2023-11-17T14:13:19.522Z"
   },
   {
    "duration": 16,
    "start_time": "2023-11-17T14:13:19.528Z"
   },
   {
    "duration": 4,
    "start_time": "2023-11-17T14:13:19.546Z"
   },
   {
    "duration": 21,
    "start_time": "2023-11-17T14:13:19.552Z"
   },
   {
    "duration": 9,
    "start_time": "2023-11-17T14:13:19.575Z"
   },
   {
    "duration": 20,
    "start_time": "2023-11-17T14:13:19.586Z"
   },
   {
    "duration": 4,
    "start_time": "2023-11-17T14:13:57.813Z"
   },
   {
    "duration": 749,
    "start_time": "2023-11-17T14:13:57.819Z"
   },
   {
    "duration": 8,
    "start_time": "2023-11-17T14:13:58.570Z"
   },
   {
    "duration": 23,
    "start_time": "2023-11-17T14:13:58.579Z"
   },
   {
    "duration": 8,
    "start_time": "2023-11-17T14:13:58.604Z"
   },
   {
    "duration": 8,
    "start_time": "2023-11-17T14:13:58.613Z"
   },
   {
    "duration": 4,
    "start_time": "2023-11-17T14:13:58.623Z"
   },
   {
    "duration": 6,
    "start_time": "2023-11-17T14:13:58.628Z"
   },
   {
    "duration": 10,
    "start_time": "2023-11-17T14:13:58.635Z"
   },
   {
    "duration": 59,
    "start_time": "2023-11-17T14:13:58.647Z"
   },
   {
    "duration": 7,
    "start_time": "2023-11-17T14:13:58.710Z"
   },
   {
    "duration": 10,
    "start_time": "2023-11-17T14:13:58.718Z"
   },
   {
    "duration": 15,
    "start_time": "2023-11-17T14:13:58.730Z"
   },
   {
    "duration": 15,
    "start_time": "2023-11-17T14:13:58.747Z"
   },
   {
    "duration": 12,
    "start_time": "2023-11-17T14:13:58.763Z"
   },
   {
    "duration": 5,
    "start_time": "2023-11-17T14:13:58.798Z"
   },
   {
    "duration": 9,
    "start_time": "2023-11-17T14:13:58.804Z"
   },
   {
    "duration": 11,
    "start_time": "2023-11-17T14:13:58.815Z"
   },
   {
    "duration": 8,
    "start_time": "2023-11-17T14:13:58.828Z"
   },
   {
    "duration": 16,
    "start_time": "2023-11-17T14:13:58.838Z"
   },
   {
    "duration": 9,
    "start_time": "2023-11-17T14:13:58.855Z"
   },
   {
    "duration": 11,
    "start_time": "2023-11-17T14:13:58.865Z"
   },
   {
    "duration": 27,
    "start_time": "2023-11-17T14:13:58.878Z"
   },
   {
    "duration": 7,
    "start_time": "2023-11-17T14:13:58.907Z"
   },
   {
    "duration": 8,
    "start_time": "2023-11-17T14:13:58.915Z"
   },
   {
    "duration": 6,
    "start_time": "2023-11-17T14:13:58.924Z"
   },
   {
    "duration": 1496,
    "start_time": "2023-11-17T14:13:58.931Z"
   },
   {
    "duration": 1581,
    "start_time": "2023-11-17T14:14:00.429Z"
   },
   {
    "duration": 1635,
    "start_time": "2023-11-17T14:14:02.014Z"
   },
   {
    "duration": 676,
    "start_time": "2023-11-17T14:14:03.651Z"
   },
   {
    "duration": 1409,
    "start_time": "2023-11-17T14:14:04.329Z"
   },
   {
    "duration": 8,
    "start_time": "2023-11-17T14:14:05.740Z"
   },
   {
    "duration": 499,
    "start_time": "2023-11-17T14:14:05.749Z"
   },
   {
    "duration": 9,
    "start_time": "2023-11-17T14:14:06.251Z"
   },
   {
    "duration": 625,
    "start_time": "2023-11-17T14:14:06.262Z"
   },
   {
    "duration": 11,
    "start_time": "2023-11-17T14:14:06.889Z"
   },
   {
    "duration": 5,
    "start_time": "2023-11-17T14:14:06.902Z"
   },
   {
    "duration": 5,
    "start_time": "2023-11-17T14:14:06.908Z"
   },
   {
    "duration": 20,
    "start_time": "2023-11-17T14:14:06.914Z"
   },
   {
    "duration": 486,
    "start_time": "2023-11-17T14:14:06.936Z"
   },
   {
    "duration": 4,
    "start_time": "2023-11-17T14:14:07.423Z"
   },
   {
    "duration": 11,
    "start_time": "2023-11-17T14:14:07.429Z"
   },
   {
    "duration": 9,
    "start_time": "2023-11-17T14:14:07.442Z"
   },
   {
    "duration": 10,
    "start_time": "2023-11-17T14:14:07.452Z"
   },
   {
    "duration": 14,
    "start_time": "2023-11-17T14:14:07.464Z"
   },
   {
    "duration": 10,
    "start_time": "2023-11-17T14:14:07.480Z"
   },
   {
    "duration": 8,
    "start_time": "2023-11-17T14:14:07.492Z"
   },
   {
    "duration": 5,
    "start_time": "2023-11-17T14:14:07.502Z"
   },
   {
    "duration": 9,
    "start_time": "2023-11-17T14:14:07.508Z"
   },
   {
    "duration": 4,
    "start_time": "2023-11-17T14:18:59.680Z"
   },
   {
    "duration": 4,
    "start_time": "2023-11-17T14:19:39.993Z"
   },
   {
    "duration": 4,
    "start_time": "2023-11-17T14:20:42.177Z"
   },
   {
    "duration": 763,
    "start_time": "2023-11-17T14:20:42.183Z"
   },
   {
    "duration": 8,
    "start_time": "2023-11-17T14:20:42.949Z"
   },
   {
    "duration": 4,
    "start_time": "2023-11-17T14:20:42.959Z"
   },
   {
    "duration": 5,
    "start_time": "2023-11-17T14:20:42.965Z"
   },
   {
    "duration": 6,
    "start_time": "2023-11-17T14:20:42.972Z"
   },
   {
    "duration": 20,
    "start_time": "2023-11-17T14:20:42.980Z"
   },
   {
    "duration": 5,
    "start_time": "2023-11-17T14:20:43.002Z"
   },
   {
    "duration": 11,
    "start_time": "2023-11-17T14:20:43.008Z"
   },
   {
    "duration": 43,
    "start_time": "2023-11-17T14:20:43.021Z"
   },
   {
    "duration": 7,
    "start_time": "2023-11-17T14:20:43.067Z"
   },
   {
    "duration": 5,
    "start_time": "2023-11-17T14:20:43.100Z"
   },
   {
    "duration": 12,
    "start_time": "2023-11-17T14:20:43.106Z"
   },
   {
    "duration": 14,
    "start_time": "2023-11-17T14:20:43.120Z"
   },
   {
    "duration": 11,
    "start_time": "2023-11-17T14:20:43.136Z"
   },
   {
    "duration": 4,
    "start_time": "2023-11-17T14:20:43.149Z"
   },
   {
    "duration": 43,
    "start_time": "2023-11-17T14:20:43.155Z"
   },
   {
    "duration": 9,
    "start_time": "2023-11-17T14:20:43.200Z"
   },
   {
    "duration": 18,
    "start_time": "2023-11-17T14:20:43.210Z"
   },
   {
    "duration": 16,
    "start_time": "2023-11-17T14:20:43.229Z"
   },
   {
    "duration": 21,
    "start_time": "2023-11-17T14:20:43.246Z"
   },
   {
    "duration": 38,
    "start_time": "2023-11-17T14:20:43.268Z"
   },
   {
    "duration": 23,
    "start_time": "2023-11-17T14:20:43.307Z"
   },
   {
    "duration": 8,
    "start_time": "2023-11-17T14:20:43.332Z"
   },
   {
    "duration": 4,
    "start_time": "2023-11-17T14:20:43.341Z"
   },
   {
    "duration": 6,
    "start_time": "2023-11-17T14:20:43.347Z"
   },
   {
    "duration": 1536,
    "start_time": "2023-11-17T14:20:43.355Z"
   },
   {
    "duration": 1562,
    "start_time": "2023-11-17T14:20:44.899Z"
   },
   {
    "duration": 1617,
    "start_time": "2023-11-17T14:20:46.464Z"
   },
   {
    "duration": 653,
    "start_time": "2023-11-17T14:20:48.082Z"
   },
   {
    "duration": 1313,
    "start_time": "2023-11-17T14:20:48.736Z"
   },
   {
    "duration": 9,
    "start_time": "2023-11-17T14:20:50.050Z"
   },
   {
    "duration": 600,
    "start_time": "2023-11-17T14:20:50.060Z"
   },
   {
    "duration": 9,
    "start_time": "2023-11-17T14:20:50.662Z"
   },
   {
    "duration": 495,
    "start_time": "2023-11-17T14:20:50.672Z"
   },
   {
    "duration": 6,
    "start_time": "2023-11-17T14:20:51.169Z"
   },
   {
    "duration": 11,
    "start_time": "2023-11-17T14:20:51.176Z"
   },
   {
    "duration": 13,
    "start_time": "2023-11-17T14:20:51.188Z"
   },
   {
    "duration": 23,
    "start_time": "2023-11-17T14:20:51.203Z"
   },
   {
    "duration": 453,
    "start_time": "2023-11-17T14:20:51.228Z"
   },
   {
    "duration": 18,
    "start_time": "2023-11-17T14:21:47.314Z"
   },
   {
    "duration": 21,
    "start_time": "2023-11-17T14:21:49.690Z"
   },
   {
    "duration": 4,
    "start_time": "2023-11-17T14:21:56.490Z"
   },
   {
    "duration": 3,
    "start_time": "2023-11-17T14:21:56.939Z"
   },
   {
    "duration": 5,
    "start_time": "2023-11-17T14:21:57.347Z"
   },
   {
    "duration": 6,
    "start_time": "2023-11-17T14:22:53.028Z"
   },
   {
    "duration": 4,
    "start_time": "2023-11-17T14:22:53.276Z"
   },
   {
    "duration": 4,
    "start_time": "2023-11-17T14:22:53.611Z"
   },
   {
    "duration": 4,
    "start_time": "2023-11-17T14:22:56.027Z"
   },
   {
    "duration": 4,
    "start_time": "2023-11-17T14:22:56.467Z"
   },
   {
    "duration": 4,
    "start_time": "2023-11-17T14:22:56.866Z"
   },
   {
    "duration": 4,
    "start_time": "2023-11-17T14:22:58.372Z"
   },
   {
    "duration": 30,
    "start_time": "2023-11-17T14:23:02.939Z"
   },
   {
    "duration": 4,
    "start_time": "2023-11-17T14:23:04.810Z"
   },
   {
    "duration": 5,
    "start_time": "2023-11-17T14:23:36.197Z"
   },
   {
    "duration": 798,
    "start_time": "2023-11-17T14:23:36.203Z"
   },
   {
    "duration": 8,
    "start_time": "2023-11-17T14:23:37.003Z"
   },
   {
    "duration": 12,
    "start_time": "2023-11-17T14:23:37.013Z"
   },
   {
    "duration": 12,
    "start_time": "2023-11-17T14:23:37.027Z"
   },
   {
    "duration": 29,
    "start_time": "2023-11-17T14:23:37.041Z"
   },
   {
    "duration": 16,
    "start_time": "2023-11-17T14:23:37.072Z"
   },
   {
    "duration": 11,
    "start_time": "2023-11-17T14:23:37.090Z"
   },
   {
    "duration": 18,
    "start_time": "2023-11-17T14:23:37.103Z"
   },
   {
    "duration": 72,
    "start_time": "2023-11-17T14:23:37.123Z"
   },
   {
    "duration": 6,
    "start_time": "2023-11-17T14:23:37.198Z"
   },
   {
    "duration": 24,
    "start_time": "2023-11-17T14:23:37.206Z"
   },
   {
    "duration": 18,
    "start_time": "2023-11-17T14:23:37.232Z"
   },
   {
    "duration": 32,
    "start_time": "2023-11-17T14:23:37.252Z"
   },
   {
    "duration": 14,
    "start_time": "2023-11-17T14:23:37.286Z"
   },
   {
    "duration": 19,
    "start_time": "2023-11-17T14:23:37.302Z"
   },
   {
    "duration": 18,
    "start_time": "2023-11-17T14:23:37.323Z"
   },
   {
    "duration": 30,
    "start_time": "2023-11-17T14:23:37.342Z"
   },
   {
    "duration": 15,
    "start_time": "2023-11-17T14:23:37.373Z"
   },
   {
    "duration": 24,
    "start_time": "2023-11-17T14:23:37.390Z"
   },
   {
    "duration": 17,
    "start_time": "2023-11-17T14:23:37.416Z"
   },
   {
    "duration": 7,
    "start_time": "2023-11-17T14:23:37.435Z"
   },
   {
    "duration": 15,
    "start_time": "2023-11-17T14:23:37.444Z"
   },
   {
    "duration": 13,
    "start_time": "2023-11-17T14:23:37.460Z"
   },
   {
    "duration": 5,
    "start_time": "2023-11-17T14:23:37.474Z"
   },
   {
    "duration": 5,
    "start_time": "2023-11-17T14:23:37.480Z"
   },
   {
    "duration": 1633,
    "start_time": "2023-11-17T14:23:37.487Z"
   },
   {
    "duration": 1585,
    "start_time": "2023-11-17T14:23:39.122Z"
   },
   {
    "duration": 1560,
    "start_time": "2023-11-17T14:23:40.710Z"
   },
   {
    "duration": 755,
    "start_time": "2023-11-17T14:23:42.272Z"
   },
   {
    "duration": 1202,
    "start_time": "2023-11-17T14:23:43.028Z"
   },
   {
    "duration": 9,
    "start_time": "2023-11-17T14:23:44.232Z"
   },
   {
    "duration": 590,
    "start_time": "2023-11-17T14:23:44.243Z"
   },
   {
    "duration": 8,
    "start_time": "2023-11-17T14:23:44.834Z"
   },
   {
    "duration": 507,
    "start_time": "2023-11-17T14:23:44.844Z"
   },
   {
    "duration": 5,
    "start_time": "2023-11-17T14:23:45.352Z"
   },
   {
    "duration": 4,
    "start_time": "2023-11-17T14:23:45.359Z"
   },
   {
    "duration": 25,
    "start_time": "2023-11-17T14:23:45.365Z"
   },
   {
    "duration": 25,
    "start_time": "2023-11-17T14:23:45.392Z"
   },
   {
    "duration": 606,
    "start_time": "2023-11-17T14:23:45.418Z"
   },
   {
    "duration": 5,
    "start_time": "2023-11-17T14:24:09.399Z"
   },
   {
    "duration": 4,
    "start_time": "2023-11-17T14:24:19.388Z"
   },
   {
    "duration": 14,
    "start_time": "2023-11-17T14:26:21.879Z"
   },
   {
    "duration": 13,
    "start_time": "2023-11-17T14:26:22.277Z"
   },
   {
    "duration": 4,
    "start_time": "2023-11-17T14:26:22.720Z"
   },
   {
    "duration": 4,
    "start_time": "2023-11-17T14:26:32.852Z"
   },
   {
    "duration": 736,
    "start_time": "2023-11-17T14:26:32.858Z"
   },
   {
    "duration": 9,
    "start_time": "2023-11-17T14:26:33.596Z"
   },
   {
    "duration": 7,
    "start_time": "2023-11-17T14:26:33.607Z"
   },
   {
    "duration": 8,
    "start_time": "2023-11-17T14:26:33.616Z"
   },
   {
    "duration": 8,
    "start_time": "2023-11-17T14:26:33.625Z"
   },
   {
    "duration": 25,
    "start_time": "2023-11-17T14:26:33.634Z"
   },
   {
    "duration": 7,
    "start_time": "2023-11-17T14:26:33.661Z"
   },
   {
    "duration": 24,
    "start_time": "2023-11-17T14:26:33.669Z"
   },
   {
    "duration": 49,
    "start_time": "2023-11-17T14:26:33.695Z"
   },
   {
    "duration": 8,
    "start_time": "2023-11-17T14:26:33.748Z"
   },
   {
    "duration": 5,
    "start_time": "2023-11-17T14:26:33.758Z"
   },
   {
    "duration": 12,
    "start_time": "2023-11-17T14:26:33.764Z"
   },
   {
    "duration": 30,
    "start_time": "2023-11-17T14:26:33.777Z"
   },
   {
    "duration": 13,
    "start_time": "2023-11-17T14:26:33.809Z"
   },
   {
    "duration": 9,
    "start_time": "2023-11-17T14:26:33.824Z"
   },
   {
    "duration": 7,
    "start_time": "2023-11-17T14:26:33.834Z"
   },
   {
    "duration": 8,
    "start_time": "2023-11-17T14:26:33.843Z"
   },
   {
    "duration": 7,
    "start_time": "2023-11-17T14:26:33.853Z"
   },
   {
    "duration": 7,
    "start_time": "2023-11-17T14:26:33.861Z"
   },
   {
    "duration": 22,
    "start_time": "2023-11-17T14:26:33.900Z"
   },
   {
    "duration": 5,
    "start_time": "2023-11-17T14:26:33.923Z"
   },
   {
    "duration": 13,
    "start_time": "2023-11-17T14:26:33.929Z"
   },
   {
    "duration": 7,
    "start_time": "2023-11-17T14:26:33.944Z"
   },
   {
    "duration": 4,
    "start_time": "2023-11-17T14:26:33.952Z"
   },
   {
    "duration": 7,
    "start_time": "2023-11-17T14:26:33.957Z"
   },
   {
    "duration": 1508,
    "start_time": "2023-11-17T14:26:33.965Z"
   },
   {
    "duration": 1586,
    "start_time": "2023-11-17T14:26:35.475Z"
   },
   {
    "duration": 1616,
    "start_time": "2023-11-17T14:26:37.064Z"
   },
   {
    "duration": 662,
    "start_time": "2023-11-17T14:26:38.682Z"
   },
   {
    "duration": 1343,
    "start_time": "2023-11-17T14:26:39.345Z"
   },
   {
    "duration": 10,
    "start_time": "2023-11-17T14:26:40.689Z"
   },
   {
    "duration": 472,
    "start_time": "2023-11-17T14:26:40.701Z"
   },
   {
    "duration": 8,
    "start_time": "2023-11-17T14:26:41.175Z"
   },
   {
    "duration": 509,
    "start_time": "2023-11-17T14:26:41.184Z"
   },
   {
    "duration": 4,
    "start_time": "2023-11-17T14:26:41.698Z"
   },
   {
    "duration": 20,
    "start_time": "2023-11-17T14:26:41.703Z"
   },
   {
    "duration": 15,
    "start_time": "2023-11-17T14:26:41.725Z"
   },
   {
    "duration": 19,
    "start_time": "2023-11-17T14:26:41.742Z"
   },
   {
    "duration": 639,
    "start_time": "2023-11-17T14:26:41.763Z"
   },
   {
    "duration": 14,
    "start_time": "2023-11-17T14:27:08.911Z"
   },
   {
    "duration": 11,
    "start_time": "2023-11-17T14:27:09.300Z"
   },
   {
    "duration": 4,
    "start_time": "2023-11-17T14:27:12.013Z"
   },
   {
    "duration": 4,
    "start_time": "2023-11-17T14:27:12.406Z"
   },
   {
    "duration": 4,
    "start_time": "2023-11-17T14:27:12.829Z"
   },
   {
    "duration": 4,
    "start_time": "2023-11-17T14:27:14.606Z"
   },
   {
    "duration": 4,
    "start_time": "2023-11-17T14:27:14.941Z"
   },
   {
    "duration": 4,
    "start_time": "2023-11-17T14:27:15.430Z"
   },
   {
    "duration": 4,
    "start_time": "2023-11-17T14:27:24.613Z"
   },
   {
    "duration": 12,
    "start_time": "2023-11-17T14:27:24.999Z"
   },
   {
    "duration": 11,
    "start_time": "2023-11-17T14:27:26.797Z"
   },
   {
    "duration": 4,
    "start_time": "2023-11-17T14:27:27.162Z"
   },
   {
    "duration": 4,
    "start_time": "2023-11-17T14:27:27.495Z"
   },
   {
    "duration": 4,
    "start_time": "2023-11-17T14:27:27.974Z"
   },
   {
    "duration": 713,
    "start_time": "2023-11-17T14:28:45.862Z"
   },
   {
    "duration": 5,
    "start_time": "2023-11-17T14:29:00.142Z"
   },
   {
    "duration": 5,
    "start_time": "2023-11-17T14:30:40.777Z"
   },
   {
    "duration": 20,
    "start_time": "2023-11-17T14:32:41.433Z"
   },
   {
    "duration": 5,
    "start_time": "2023-11-17T14:38:42.047Z"
   },
   {
    "duration": 4,
    "start_time": "2023-11-17T14:38:42.883Z"
   },
   {
    "duration": 4,
    "start_time": "2023-11-17T14:38:43.348Z"
   },
   {
    "duration": 24,
    "start_time": "2023-11-17T14:38:45.347Z"
   },
   {
    "duration": 1571,
    "start_time": "2023-11-17T14:38:46.236Z"
   },
   {
    "duration": 0,
    "start_time": "2023-11-17T14:38:47.808Z"
   },
   {
    "duration": 5,
    "start_time": "2023-11-17T14:39:11.773Z"
   },
   {
    "duration": 700,
    "start_time": "2023-11-17T14:39:12.943Z"
   },
   {
    "duration": 8,
    "start_time": "2023-11-17T14:39:15.084Z"
   },
   {
    "duration": 3,
    "start_time": "2023-11-17T14:39:15.148Z"
   },
   {
    "duration": 5,
    "start_time": "2023-11-17T14:39:15.202Z"
   },
   {
    "duration": 4,
    "start_time": "2023-11-17T14:39:15.256Z"
   },
   {
    "duration": 4,
    "start_time": "2023-11-17T14:39:15.315Z"
   },
   {
    "duration": 4,
    "start_time": "2023-11-17T14:39:15.561Z"
   },
   {
    "duration": 5,
    "start_time": "2023-11-17T14:39:15.660Z"
   },
   {
    "duration": 40,
    "start_time": "2023-11-17T14:39:15.794Z"
   },
   {
    "duration": 7,
    "start_time": "2023-11-17T14:39:15.936Z"
   },
   {
    "duration": 5,
    "start_time": "2023-11-17T14:39:15.987Z"
   },
   {
    "duration": 8,
    "start_time": "2023-11-17T14:39:16.042Z"
   },
   {
    "duration": 11,
    "start_time": "2023-11-17T14:39:16.171Z"
   },
   {
    "duration": 12,
    "start_time": "2023-11-17T14:39:16.240Z"
   },
   {
    "duration": 4,
    "start_time": "2023-11-17T14:39:16.336Z"
   },
   {
    "duration": 7,
    "start_time": "2023-11-17T14:39:16.388Z"
   },
   {
    "duration": 9,
    "start_time": "2023-11-17T14:39:16.440Z"
   },
   {
    "duration": 7,
    "start_time": "2023-11-17T14:39:16.534Z"
   },
   {
    "duration": 3,
    "start_time": "2023-11-17T14:39:16.666Z"
   },
   {
    "duration": 2,
    "start_time": "2023-11-17T14:39:16.722Z"
   },
   {
    "duration": 3,
    "start_time": "2023-11-17T14:39:16.857Z"
   },
   {
    "duration": 11,
    "start_time": "2023-11-17T14:39:17.416Z"
   },
   {
    "duration": 9,
    "start_time": "2023-11-17T14:39:17.692Z"
   },
   {
    "duration": 4,
    "start_time": "2023-11-17T14:39:17.884Z"
   },
   {
    "duration": 5,
    "start_time": "2023-11-17T14:39:18.708Z"
   },
   {
    "duration": 1558,
    "start_time": "2023-11-17T14:39:19.133Z"
   },
   {
    "duration": 1601,
    "start_time": "2023-11-17T14:39:20.699Z"
   },
   {
    "duration": 1601,
    "start_time": "2023-11-17T14:39:22.302Z"
   },
   {
    "duration": 663,
    "start_time": "2023-11-17T14:39:23.905Z"
   },
   {
    "duration": 1412,
    "start_time": "2023-11-17T14:39:24.570Z"
   },
   {
    "duration": 15,
    "start_time": "2023-11-17T14:39:25.984Z"
   },
   {
    "duration": 506,
    "start_time": "2023-11-17T14:39:26.001Z"
   },
   {
    "duration": 9,
    "start_time": "2023-11-17T14:39:26.508Z"
   },
   {
    "duration": 665,
    "start_time": "2023-11-17T14:39:26.518Z"
   },
   {
    "duration": 4,
    "start_time": "2023-11-17T14:39:27.780Z"
   },
   {
    "duration": 4,
    "start_time": "2023-11-17T14:39:28.182Z"
   },
   {
    "duration": 4,
    "start_time": "2023-11-17T14:39:28.581Z"
   },
   {
    "duration": 16,
    "start_time": "2023-11-17T14:39:31.565Z"
   },
   {
    "duration": 1434,
    "start_time": "2023-11-17T14:39:33.796Z"
   },
   {
    "duration": 681,
    "start_time": "2023-11-17T14:39:41.609Z"
   },
   {
    "duration": 4,
    "start_time": "2023-11-17T14:39:46.806Z"
   },
   {
    "duration": 5,
    "start_time": "2023-11-17T14:42:27.549Z"
   },
   {
    "duration": 14,
    "start_time": "2023-11-17T14:42:27.941Z"
   },
   {
    "duration": 1413,
    "start_time": "2023-11-17T14:43:02.816Z"
   },
   {
    "duration": 1276,
    "start_time": "2023-11-17T14:43:54.936Z"
   },
   {
    "duration": 1334,
    "start_time": "2023-11-17T14:44:00.520Z"
   },
   {
    "duration": 5,
    "start_time": "2023-11-17T14:44:10.567Z"
   },
   {
    "duration": 664,
    "start_time": "2023-11-17T14:44:11.312Z"
   },
   {
    "duration": 5,
    "start_time": "2023-11-17T14:44:15.175Z"
   },
   {
    "duration": 5,
    "start_time": "2023-11-17T14:45:27.101Z"
   },
   {
    "duration": 670,
    "start_time": "2023-11-17T14:45:27.434Z"
   },
   {
    "duration": 6,
    "start_time": "2023-11-17T14:45:28.106Z"
   },
   {
    "duration": 9,
    "start_time": "2023-11-17T14:45:30.192Z"
   },
   {
    "duration": 3,
    "start_time": "2023-11-17T14:45:30.424Z"
   },
   {
    "duration": 5,
    "start_time": "2023-11-17T14:45:30.592Z"
   },
   {
    "duration": 5,
    "start_time": "2023-11-17T14:45:30.776Z"
   },
   {
    "duration": 4,
    "start_time": "2023-11-17T14:45:30.943Z"
   },
   {
    "duration": 4,
    "start_time": "2023-11-17T14:45:32.792Z"
   },
   {
    "duration": 8,
    "start_time": "2023-11-17T14:45:33.520Z"
   },
   {
    "duration": 42,
    "start_time": "2023-11-17T14:45:35.434Z"
   },
   {
    "duration": 7,
    "start_time": "2023-11-17T14:45:37.816Z"
   },
   {
    "duration": 6,
    "start_time": "2023-11-17T14:45:38.023Z"
   },
   {
    "duration": 8,
    "start_time": "2023-11-17T14:45:38.232Z"
   },
   {
    "duration": 12,
    "start_time": "2023-11-17T14:45:39.201Z"
   },
   {
    "duration": 4,
    "start_time": "2023-11-17T14:45:40.915Z"
   },
   {
    "duration": 7,
    "start_time": "2023-11-17T14:45:41.104Z"
   },
   {
    "duration": 9,
    "start_time": "2023-11-17T14:45:41.290Z"
   },
   {
    "duration": 4,
    "start_time": "2023-11-17T14:45:47.312Z"
   },
   {
    "duration": 12,
    "start_time": "2023-11-17T14:45:47.784Z"
   },
   {
    "duration": 18,
    "start_time": "2023-11-17T14:50:05.909Z"
   },
   {
    "duration": 15,
    "start_time": "2023-11-17T14:50:15.876Z"
   },
   {
    "duration": 5,
    "start_time": "2023-11-17T14:50:27.857Z"
   },
   {
    "duration": 716,
    "start_time": "2023-11-17T14:50:27.863Z"
   },
   {
    "duration": 4,
    "start_time": "2023-11-17T14:50:28.581Z"
   },
   {
    "duration": 17,
    "start_time": "2023-11-17T14:50:28.587Z"
   },
   {
    "duration": 3,
    "start_time": "2023-11-17T14:50:28.606Z"
   },
   {
    "duration": 21,
    "start_time": "2023-11-17T14:50:28.611Z"
   },
   {
    "duration": 40,
    "start_time": "2023-11-17T14:50:28.635Z"
   },
   {
    "duration": 26,
    "start_time": "2023-11-17T14:50:28.677Z"
   },
   {
    "duration": 5,
    "start_time": "2023-11-17T14:50:28.706Z"
   },
   {
    "duration": 13,
    "start_time": "2023-11-17T14:50:28.713Z"
   },
   {
    "duration": 44,
    "start_time": "2023-11-17T14:50:28.728Z"
   },
   {
    "duration": 27,
    "start_time": "2023-11-17T14:50:28.773Z"
   },
   {
    "duration": 8,
    "start_time": "2023-11-17T14:50:28.802Z"
   },
   {
    "duration": 11,
    "start_time": "2023-11-17T14:50:28.812Z"
   },
   {
    "duration": 14,
    "start_time": "2023-11-17T14:50:28.825Z"
   },
   {
    "duration": 12,
    "start_time": "2023-11-17T14:50:28.840Z"
   },
   {
    "duration": 16,
    "start_time": "2023-11-17T14:50:28.853Z"
   },
   {
    "duration": 28,
    "start_time": "2023-11-17T14:50:28.871Z"
   },
   {
    "duration": 9,
    "start_time": "2023-11-17T14:50:28.901Z"
   },
   {
    "duration": 7,
    "start_time": "2023-11-17T14:50:28.912Z"
   },
   {
    "duration": 4,
    "start_time": "2023-11-17T14:50:28.921Z"
   },
   {
    "duration": 10,
    "start_time": "2023-11-17T14:50:28.926Z"
   },
   {
    "duration": 3,
    "start_time": "2023-11-17T14:50:28.937Z"
   },
   {
    "duration": 14,
    "start_time": "2023-11-17T14:50:28.943Z"
   },
   {
    "duration": 42,
    "start_time": "2023-11-17T14:50:28.958Z"
   },
   {
    "duration": 4,
    "start_time": "2023-11-17T14:50:29.002Z"
   },
   {
    "duration": 14,
    "start_time": "2023-11-17T14:50:29.007Z"
   },
   {
    "duration": 1615,
    "start_time": "2023-11-17T14:50:29.023Z"
   },
   {
    "duration": 1647,
    "start_time": "2023-11-17T14:50:30.640Z"
   },
   {
    "duration": 1678,
    "start_time": "2023-11-17T14:50:32.289Z"
   },
   {
    "duration": 758,
    "start_time": "2023-11-17T14:50:33.969Z"
   },
   {
    "duration": 1259,
    "start_time": "2023-11-17T14:50:34.729Z"
   },
   {
    "duration": 17,
    "start_time": "2023-11-17T14:50:35.990Z"
   },
   {
    "duration": 633,
    "start_time": "2023-11-17T14:50:36.009Z"
   },
   {
    "duration": 9,
    "start_time": "2023-11-17T14:50:36.644Z"
   },
   {
    "duration": 527,
    "start_time": "2023-11-17T14:50:36.656Z"
   },
   {
    "duration": 4,
    "start_time": "2023-11-17T14:50:37.185Z"
   },
   {
    "duration": 11,
    "start_time": "2023-11-17T14:50:37.190Z"
   },
   {
    "duration": 16,
    "start_time": "2023-11-17T14:50:37.202Z"
   },
   {
    "duration": 19,
    "start_time": "2023-11-17T14:50:37.220Z"
   },
   {
    "duration": 1482,
    "start_time": "2023-11-17T14:50:37.241Z"
   },
   {
    "duration": 0,
    "start_time": "2023-11-17T14:50:38.725Z"
   },
   {
    "duration": 0,
    "start_time": "2023-11-17T14:50:38.726Z"
   },
   {
    "duration": 564,
    "start_time": "2023-11-17T14:51:10.278Z"
   },
   {
    "duration": 17,
    "start_time": "2023-11-17T14:51:14.138Z"
   },
   {
    "duration": 14,
    "start_time": "2023-11-17T14:51:14.157Z"
   },
   {
    "duration": 4,
    "start_time": "2023-11-17T14:51:16.381Z"
   },
   {
    "duration": 4,
    "start_time": "2023-11-17T14:51:16.915Z"
   },
   {
    "duration": 4,
    "start_time": "2023-11-17T14:51:17.356Z"
   },
   {
    "duration": 12,
    "start_time": "2023-11-17T14:51:31.988Z"
   },
   {
    "duration": 468,
    "start_time": "2023-11-17T14:58:08.351Z"
   },
   {
    "duration": 22,
    "start_time": "2023-11-17T14:58:19.848Z"
   },
   {
    "duration": 4,
    "start_time": "2023-11-17T14:58:26.888Z"
   },
   {
    "duration": 5,
    "start_time": "2023-11-17T14:58:51.158Z"
   },
   {
    "duration": 800,
    "start_time": "2023-11-17T14:58:51.165Z"
   },
   {
    "duration": 4,
    "start_time": "2023-11-17T14:58:51.967Z"
   },
   {
    "duration": 11,
    "start_time": "2023-11-17T14:58:51.973Z"
   },
   {
    "duration": 4,
    "start_time": "2023-11-17T14:58:51.998Z"
   },
   {
    "duration": 31,
    "start_time": "2023-11-17T14:58:52.004Z"
   },
   {
    "duration": 20,
    "start_time": "2023-11-17T14:58:52.036Z"
   },
   {
    "duration": 8,
    "start_time": "2023-11-17T14:58:52.057Z"
   },
   {
    "duration": 5,
    "start_time": "2023-11-17T14:58:52.067Z"
   },
   {
    "duration": 14,
    "start_time": "2023-11-17T14:58:52.073Z"
   },
   {
    "duration": 37,
    "start_time": "2023-11-17T14:58:52.089Z"
   },
   {
    "duration": 6,
    "start_time": "2023-11-17T14:58:52.127Z"
   },
   {
    "duration": 24,
    "start_time": "2023-11-17T14:58:52.135Z"
   },
   {
    "duration": 12,
    "start_time": "2023-11-17T14:58:52.161Z"
   },
   {
    "duration": 24,
    "start_time": "2023-11-17T14:58:52.175Z"
   },
   {
    "duration": 11,
    "start_time": "2023-11-17T14:58:52.200Z"
   },
   {
    "duration": 7,
    "start_time": "2023-11-17T14:58:52.213Z"
   },
   {
    "duration": 10,
    "start_time": "2023-11-17T14:58:52.221Z"
   },
   {
    "duration": 13,
    "start_time": "2023-11-17T14:58:52.233Z"
   },
   {
    "duration": 14,
    "start_time": "2023-11-17T14:58:52.247Z"
   },
   {
    "duration": 20,
    "start_time": "2023-11-17T14:58:52.262Z"
   },
   {
    "duration": 20,
    "start_time": "2023-11-17T14:58:52.283Z"
   },
   {
    "duration": 2,
    "start_time": "2023-11-17T14:58:52.305Z"
   },
   {
    "duration": 29,
    "start_time": "2023-11-17T14:58:52.309Z"
   },
   {
    "duration": 6,
    "start_time": "2023-11-17T14:58:52.340Z"
   },
   {
    "duration": 6,
    "start_time": "2023-11-17T14:58:52.347Z"
   },
   {
    "duration": 12,
    "start_time": "2023-11-17T14:58:52.354Z"
   },
   {
    "duration": 1601,
    "start_time": "2023-11-17T14:58:52.368Z"
   },
   {
    "duration": 1622,
    "start_time": "2023-11-17T14:58:53.973Z"
   },
   {
    "duration": 1563,
    "start_time": "2023-11-17T14:58:55.596Z"
   },
   {
    "duration": 695,
    "start_time": "2023-11-17T14:58:57.161Z"
   },
   {
    "duration": 1359,
    "start_time": "2023-11-17T14:58:57.857Z"
   },
   {
    "duration": 9,
    "start_time": "2023-11-17T14:58:59.217Z"
   },
   {
    "duration": 510,
    "start_time": "2023-11-17T14:58:59.228Z"
   },
   {
    "duration": 8,
    "start_time": "2023-11-17T14:58:59.740Z"
   },
   {
    "duration": 635,
    "start_time": "2023-11-17T14:58:59.750Z"
   },
   {
    "duration": 13,
    "start_time": "2023-11-17T14:59:00.387Z"
   },
   {
    "duration": 17,
    "start_time": "2023-11-17T14:59:00.401Z"
   },
   {
    "duration": 31,
    "start_time": "2023-11-17T14:59:00.419Z"
   },
   {
    "duration": 38,
    "start_time": "2023-11-17T14:59:00.452Z"
   },
   {
    "duration": 516,
    "start_time": "2023-11-17T14:59:00.492Z"
   },
   {
    "duration": 11,
    "start_time": "2023-11-17T14:59:03.784Z"
   },
   {
    "duration": 4,
    "start_time": "2023-11-17T14:59:04.488Z"
   },
   {
    "duration": 5,
    "start_time": "2023-11-17T14:59:16.617Z"
   },
   {
    "duration": 65,
    "start_time": "2023-11-17T14:59:33.890Z"
   },
   {
    "duration": 122,
    "start_time": "2023-11-17T14:59:38.579Z"
   },
   {
    "duration": 13,
    "start_time": "2023-11-17T14:59:46.489Z"
   },
   {
    "duration": 3,
    "start_time": "2023-11-17T14:59:49.250Z"
   },
   {
    "duration": 85,
    "start_time": "2023-11-17T14:59:53.297Z"
   },
   {
    "duration": 6,
    "start_time": "2023-11-17T15:00:01.906Z"
   },
   {
    "duration": 13,
    "start_time": "2023-11-17T15:25:03.106Z"
   },
   {
    "duration": 5,
    "start_time": "2023-11-17T15:25:22.376Z"
   },
   {
    "duration": 4,
    "start_time": "2023-11-17T15:25:25.136Z"
   },
   {
    "duration": 5,
    "start_time": "2023-11-17T15:25:25.656Z"
   },
   {
    "duration": 3,
    "start_time": "2023-11-17T15:25:26.352Z"
   },
   {
    "duration": 10,
    "start_time": "2023-11-17T15:26:43.497Z"
   },
   {
    "duration": 9,
    "start_time": "2023-11-17T15:26:56.963Z"
   },
   {
    "duration": 8,
    "start_time": "2023-11-17T15:27:00.121Z"
   },
   {
    "duration": 4,
    "start_time": "2023-11-17T15:32:29.943Z"
   },
   {
    "duration": 760,
    "start_time": "2023-11-17T15:32:29.949Z"
   },
   {
    "duration": 4,
    "start_time": "2023-11-17T15:32:30.711Z"
   },
   {
    "duration": 63,
    "start_time": "2023-11-17T15:32:30.717Z"
   },
   {
    "duration": 28,
    "start_time": "2023-11-17T15:32:30.783Z"
   },
   {
    "duration": 43,
    "start_time": "2023-11-17T15:32:30.813Z"
   },
   {
    "duration": 37,
    "start_time": "2023-11-17T15:32:30.858Z"
   },
   {
    "duration": 81,
    "start_time": "2023-11-17T15:32:30.897Z"
   },
   {
    "duration": 77,
    "start_time": "2023-11-17T15:32:30.980Z"
   },
   {
    "duration": 55,
    "start_time": "2023-11-17T15:32:31.059Z"
   },
   {
    "duration": 81,
    "start_time": "2023-11-17T15:32:31.118Z"
   },
   {
    "duration": 19,
    "start_time": "2023-11-17T15:32:31.202Z"
   },
   {
    "duration": 35,
    "start_time": "2023-11-17T15:32:31.223Z"
   },
   {
    "duration": 62,
    "start_time": "2023-11-17T15:32:31.261Z"
   },
   {
    "duration": 51,
    "start_time": "2023-11-17T15:32:31.325Z"
   },
   {
    "duration": 28,
    "start_time": "2023-11-17T15:32:31.378Z"
   },
   {
    "duration": 43,
    "start_time": "2023-11-17T15:32:31.408Z"
   },
   {
    "duration": 27,
    "start_time": "2023-11-17T15:32:31.453Z"
   },
   {
    "duration": 43,
    "start_time": "2023-11-17T15:32:31.482Z"
   },
   {
    "duration": 52,
    "start_time": "2023-11-17T15:32:31.527Z"
   },
   {
    "duration": 38,
    "start_time": "2023-11-17T15:32:31.581Z"
   },
   {
    "duration": 52,
    "start_time": "2023-11-17T15:32:31.621Z"
   },
   {
    "duration": 31,
    "start_time": "2023-11-17T15:32:31.675Z"
   },
   {
    "duration": 31,
    "start_time": "2023-11-17T15:32:31.708Z"
   },
   {
    "duration": 53,
    "start_time": "2023-11-17T15:32:31.740Z"
   },
   {
    "duration": 75,
    "start_time": "2023-11-17T15:32:31.794Z"
   },
   {
    "duration": 45,
    "start_time": "2023-11-17T15:32:31.872Z"
   },
   {
    "duration": 1597,
    "start_time": "2023-11-17T15:32:31.919Z"
   },
   {
    "duration": 1679,
    "start_time": "2023-11-17T15:32:33.521Z"
   },
   {
    "duration": 1612,
    "start_time": "2023-11-17T15:32:35.209Z"
   },
   {
    "duration": 630,
    "start_time": "2023-11-17T15:32:36.823Z"
   },
   {
    "duration": 1389,
    "start_time": "2023-11-17T15:32:37.454Z"
   },
   {
    "duration": 9,
    "start_time": "2023-11-17T15:32:38.845Z"
   },
   {
    "duration": 610,
    "start_time": "2023-11-17T15:32:38.856Z"
   },
   {
    "duration": 8,
    "start_time": "2023-11-17T15:32:39.468Z"
   },
   {
    "duration": 530,
    "start_time": "2023-11-17T15:32:39.477Z"
   },
   {
    "duration": 3,
    "start_time": "2023-11-17T15:32:40.009Z"
   },
   {
    "duration": 16,
    "start_time": "2023-11-17T15:32:40.014Z"
   },
   {
    "duration": 19,
    "start_time": "2023-11-17T15:32:40.031Z"
   },
   {
    "duration": 26,
    "start_time": "2023-11-17T15:32:40.051Z"
   },
   {
    "duration": 481,
    "start_time": "2023-11-17T15:32:40.079Z"
   },
   {
    "duration": 12,
    "start_time": "2023-11-17T15:32:40.561Z"
   },
   {
    "duration": 25,
    "start_time": "2023-11-17T15:32:40.574Z"
   },
   {
    "duration": 6,
    "start_time": "2023-11-17T15:32:40.600Z"
   },
   {
    "duration": 5,
    "start_time": "2023-11-17T15:32:40.607Z"
   },
   {
    "duration": 11,
    "start_time": "2023-11-17T15:32:57.048Z"
   },
   {
    "duration": 4,
    "start_time": "2023-11-17T15:33:26.501Z"
   },
   {
    "duration": 4,
    "start_time": "2023-11-17T15:33:27.266Z"
   },
   {
    "duration": 4,
    "start_time": "2023-11-17T15:33:27.977Z"
   },
   {
    "duration": 5,
    "start_time": "2023-11-17T15:37:38.697Z"
   },
   {
    "duration": 6,
    "start_time": "2023-11-17T15:37:39.151Z"
   },
   {
    "duration": 5,
    "start_time": "2023-11-17T15:37:39.535Z"
   },
   {
    "duration": 5,
    "start_time": "2023-11-17T15:37:39.871Z"
   },
   {
    "duration": 12,
    "start_time": "2023-11-17T15:48:27.660Z"
   },
   {
    "duration": 100,
    "start_time": "2023-11-17T15:49:12.540Z"
   },
   {
    "duration": 5,
    "start_time": "2023-11-17T15:49:15.989Z"
   },
   {
    "duration": 3,
    "start_time": "2023-11-17T15:49:16.290Z"
   },
   {
    "duration": 113,
    "start_time": "2023-11-17T15:49:16.901Z"
   },
   {
    "duration": 15,
    "start_time": "2023-11-17T15:49:40.515Z"
   },
   {
    "duration": 6,
    "start_time": "2023-11-17T15:49:45.066Z"
   },
   {
    "duration": 1669,
    "start_time": "2023-11-17T15:53:22.122Z"
   },
   {
    "duration": 1683,
    "start_time": "2023-11-17T15:53:27.281Z"
   },
   {
    "duration": 19,
    "start_time": "2023-11-17T16:02:55.306Z"
   },
   {
    "duration": 16,
    "start_time": "2023-11-17T16:03:08.776Z"
   },
   {
    "duration": 1771,
    "start_time": "2023-11-17T16:03:27.240Z"
   },
   {
    "duration": 6530,
    "start_time": "2023-11-17T16:04:40.473Z"
   },
   {
    "duration": 5,
    "start_time": "2023-11-17T16:10:04.469Z"
   },
   {
    "duration": 823,
    "start_time": "2023-11-17T16:10:04.476Z"
   },
   {
    "duration": 5,
    "start_time": "2023-11-17T16:10:05.301Z"
   },
   {
    "duration": 12,
    "start_time": "2023-11-17T16:10:05.309Z"
   },
   {
    "duration": 17,
    "start_time": "2023-11-17T16:10:05.325Z"
   },
   {
    "duration": 11,
    "start_time": "2023-11-17T16:10:05.344Z"
   },
   {
    "duration": 6,
    "start_time": "2023-11-17T16:10:05.357Z"
   },
   {
    "duration": 8,
    "start_time": "2023-11-17T16:10:05.365Z"
   },
   {
    "duration": 6,
    "start_time": "2023-11-17T16:10:05.376Z"
   },
   {
    "duration": 19,
    "start_time": "2023-11-17T16:10:05.384Z"
   },
   {
    "duration": 48,
    "start_time": "2023-11-17T16:10:05.405Z"
   },
   {
    "duration": 7,
    "start_time": "2023-11-17T16:10:05.454Z"
   },
   {
    "duration": 8,
    "start_time": "2023-11-17T16:10:05.463Z"
   },
   {
    "duration": 30,
    "start_time": "2023-11-17T16:10:05.472Z"
   },
   {
    "duration": 25,
    "start_time": "2023-11-17T16:10:05.503Z"
   },
   {
    "duration": 26,
    "start_time": "2023-11-17T16:10:05.529Z"
   },
   {
    "duration": 7,
    "start_time": "2023-11-17T16:10:05.557Z"
   },
   {
    "duration": 17,
    "start_time": "2023-11-17T16:10:05.566Z"
   },
   {
    "duration": 19,
    "start_time": "2023-11-17T16:10:05.584Z"
   },
   {
    "duration": 7,
    "start_time": "2023-11-17T16:10:05.605Z"
   },
   {
    "duration": 14,
    "start_time": "2023-11-17T16:10:05.613Z"
   },
   {
    "duration": 20,
    "start_time": "2023-11-17T16:10:05.629Z"
   },
   {
    "duration": 3,
    "start_time": "2023-11-17T16:10:05.650Z"
   },
   {
    "duration": 20,
    "start_time": "2023-11-17T16:10:05.656Z"
   },
   {
    "duration": 9,
    "start_time": "2023-11-17T16:10:05.678Z"
   },
   {
    "duration": 12,
    "start_time": "2023-11-17T16:10:05.688Z"
   },
   {
    "duration": 10,
    "start_time": "2023-11-17T16:10:05.702Z"
   },
   {
    "duration": 1536,
    "start_time": "2023-11-17T16:10:05.713Z"
   },
   {
    "duration": 1599,
    "start_time": "2023-11-17T16:10:07.251Z"
   },
   {
    "duration": 1611,
    "start_time": "2023-11-17T16:10:08.852Z"
   },
   {
    "duration": 788,
    "start_time": "2023-11-17T16:10:10.464Z"
   },
   {
    "duration": 1227,
    "start_time": "2023-11-17T16:10:11.253Z"
   },
   {
    "duration": 18,
    "start_time": "2023-11-17T16:10:12.482Z"
   },
   {
    "duration": 605,
    "start_time": "2023-11-17T16:10:12.501Z"
   },
   {
    "duration": 8,
    "start_time": "2023-11-17T16:10:13.108Z"
   },
   {
    "duration": 564,
    "start_time": "2023-11-17T16:10:13.117Z"
   },
   {
    "duration": 4,
    "start_time": "2023-11-17T16:10:13.683Z"
   },
   {
    "duration": 4,
    "start_time": "2023-11-17T16:10:13.700Z"
   },
   {
    "duration": 25,
    "start_time": "2023-11-17T16:10:13.706Z"
   },
   {
    "duration": 24,
    "start_time": "2023-11-17T16:10:13.733Z"
   },
   {
    "duration": 622,
    "start_time": "2023-11-17T16:10:13.759Z"
   },
   {
    "duration": 22,
    "start_time": "2023-11-17T16:10:14.382Z"
   },
   {
    "duration": 8,
    "start_time": "2023-11-17T16:10:14.406Z"
   },
   {
    "duration": 14,
    "start_time": "2023-11-17T16:10:14.416Z"
   },
   {
    "duration": 13,
    "start_time": "2023-11-17T16:10:14.432Z"
   },
   {
    "duration": 10,
    "start_time": "2023-11-17T16:10:14.446Z"
   },
   {
    "duration": 4,
    "start_time": "2023-11-17T16:10:14.458Z"
   },
   {
    "duration": 5,
    "start_time": "2023-11-17T16:10:17.801Z"
   },
   {
    "duration": 6,
    "start_time": "2023-11-17T16:10:19.312Z"
   },
   {
    "duration": 5,
    "start_time": "2023-11-17T16:10:19.695Z"
   },
   {
    "duration": 5,
    "start_time": "2023-11-17T16:10:20.111Z"
   },
   {
    "duration": 3,
    "start_time": "2023-11-17T16:10:39.896Z"
   },
   {
    "duration": 3,
    "start_time": "2023-11-17T16:10:40.384Z"
   },
   {
    "duration": 10,
    "start_time": "2023-11-17T16:10:41.215Z"
   },
   {
    "duration": 9,
    "start_time": "2023-11-17T16:11:14.136Z"
   },
   {
    "duration": 11,
    "start_time": "2023-11-17T16:11:36.210Z"
   },
   {
    "duration": 9,
    "start_time": "2023-11-17T16:12:09.568Z"
   },
   {
    "duration": 4,
    "start_time": "2023-11-17T16:12:12.960Z"
   },
   {
    "duration": 4,
    "start_time": "2023-11-17T16:12:13.441Z"
   },
   {
    "duration": 11,
    "start_time": "2023-11-17T16:12:13.656Z"
   },
   {
    "duration": 11,
    "start_time": "2023-11-17T16:12:19.880Z"
   },
   {
    "duration": 3,
    "start_time": "2023-11-17T16:12:25.786Z"
   },
   {
    "duration": 1222,
    "start_time": "2023-11-17T16:12:27.881Z"
   },
   {
    "duration": 11,
    "start_time": "2023-11-17T16:13:02.354Z"
   },
   {
    "duration": 1572,
    "start_time": "2023-11-17T16:13:13.034Z"
   },
   {
    "duration": 17,
    "start_time": "2023-11-17T17:03:34.051Z"
   },
   {
    "duration": 11,
    "start_time": "2023-11-17T17:03:55.603Z"
   },
   {
    "duration": 30574,
    "start_time": "2023-11-17T17:04:10.143Z"
   },
   {
    "duration": 16491,
    "start_time": "2023-11-17T17:04:57.216Z"
   },
   {
    "duration": 17037,
    "start_time": "2023-11-17T17:06:15.701Z"
   },
   {
    "duration": 33415,
    "start_time": "2023-11-17T17:06:39.822Z"
   },
   {
    "duration": 34279,
    "start_time": "2023-11-17T17:07:16.524Z"
   },
   {
    "duration": 36906,
    "start_time": "2023-11-17T17:07:52.534Z"
   },
   {
    "duration": 399228,
    "start_time": "2023-11-17T17:08:35.457Z"
   },
   {
    "duration": 2,
    "start_time": "2023-11-17T17:15:14.688Z"
   },
   {
    "duration": 417996,
    "start_time": "2023-11-17T17:19:17.756Z"
   },
   {
    "duration": 72,
    "start_time": "2023-11-17T17:26:19.503Z"
   },
   {
    "duration": 12,
    "start_time": "2023-11-17T17:26:33.647Z"
   },
   {
    "duration": 1280,
    "start_time": "2023-11-17T17:26:40.719Z"
   },
   {
    "duration": 1407,
    "start_time": "2023-11-17T17:26:42.002Z"
   },
   {
    "duration": 983,
    "start_time": "2023-11-17T17:26:55.527Z"
   },
   {
    "duration": 33866,
    "start_time": "2023-11-17T17:26:58.705Z"
   },
   {
    "duration": 34263,
    "start_time": "2023-11-17T17:27:48.808Z"
   },
   {
    "duration": 34681,
    "start_time": "2023-11-17T17:28:25.280Z"
   },
   {
    "duration": 34511,
    "start_time": "2023-11-17T17:29:02.881Z"
   },
   {
    "duration": 3812,
    "start_time": "2023-11-17T17:29:58.098Z"
   },
   {
    "duration": 5833,
    "start_time": "2023-11-17T17:30:05.018Z"
   },
   {
    "duration": 67548,
    "start_time": "2023-11-17T17:30:20.395Z"
   },
   {
    "duration": 69411,
    "start_time": "2023-11-17T17:31:35.331Z"
   },
   {
    "duration": 10,
    "start_time": "2023-11-17T17:32:49.707Z"
   },
   {
    "duration": 104,
    "start_time": "2023-11-17T17:35:23.942Z"
   },
   {
    "duration": 64,
    "start_time": "2023-11-17T17:35:36.980Z"
   },
   {
    "duration": 5,
    "start_time": "2023-11-17T17:35:43.252Z"
   },
   {
    "duration": 7,
    "start_time": "2023-11-17T17:35:48.216Z"
   },
   {
    "duration": 11,
    "start_time": "2023-11-17T17:36:05.253Z"
   },
   {
    "duration": 14,
    "start_time": "2023-11-17T17:37:11.952Z"
   },
   {
    "duration": 56,
    "start_time": "2023-11-17T17:37:15.391Z"
   },
   {
    "duration": 11,
    "start_time": "2023-11-17T17:37:18.749Z"
   },
   {
    "duration": 11,
    "start_time": "2023-11-17T17:37:24.870Z"
   },
   {
    "duration": 13,
    "start_time": "2023-11-17T17:37:31.886Z"
   },
   {
    "duration": 11,
    "start_time": "2023-11-17T17:37:53.790Z"
   },
   {
    "duration": 13,
    "start_time": "2023-11-17T17:37:59.486Z"
   },
   {
    "duration": 13,
    "start_time": "2023-11-17T17:38:06.355Z"
   },
   {
    "duration": 22,
    "start_time": "2023-11-17T17:38:35.639Z"
   },
   {
    "duration": 12,
    "start_time": "2023-11-17T17:39:52.104Z"
   },
   {
    "duration": 13,
    "start_time": "2023-11-17T17:40:54.816Z"
   },
   {
    "duration": 11,
    "start_time": "2023-11-17T17:42:01.737Z"
   },
   {
    "duration": 8,
    "start_time": "2023-11-17T17:42:17.162Z"
   },
   {
    "duration": 12,
    "start_time": "2023-11-17T17:42:44.658Z"
   },
   {
    "duration": 5,
    "start_time": "2023-11-17T17:43:38.986Z"
   },
   {
    "duration": 7,
    "start_time": "2023-11-17T17:43:50.962Z"
   },
   {
    "duration": 58,
    "start_time": "2023-11-17T17:44:12.316Z"
   },
   {
    "duration": 12,
    "start_time": "2023-11-17T17:44:13.899Z"
   },
   {
    "duration": 7,
    "start_time": "2023-11-17T17:44:18.211Z"
   },
   {
    "duration": 4,
    "start_time": "2023-11-17T17:44:52.968Z"
   },
   {
    "duration": 5,
    "start_time": "2023-11-17T17:45:02.624Z"
   },
   {
    "duration": 5,
    "start_time": "2023-11-17T17:45:05.159Z"
   },
   {
    "duration": 9,
    "start_time": "2023-11-17T17:45:13.335Z"
   },
   {
    "duration": 6,
    "start_time": "2023-11-17T17:45:19.103Z"
   },
   {
    "duration": 4,
    "start_time": "2023-11-17T17:45:21.846Z"
   },
   {
    "duration": 5,
    "start_time": "2023-11-17T17:46:14.711Z"
   },
   {
    "duration": 14,
    "start_time": "2023-11-17T17:46:21.790Z"
   },
   {
    "duration": 15,
    "start_time": "2023-11-17T17:46:52.344Z"
   },
   {
    "duration": 11,
    "start_time": "2023-11-17T17:46:58.392Z"
   },
   {
    "duration": 15,
    "start_time": "2023-11-17T17:47:05.040Z"
   },
   {
    "duration": 14,
    "start_time": "2023-11-17T17:47:10.264Z"
   },
   {
    "duration": 14,
    "start_time": "2023-11-17T17:47:15.353Z"
   },
   {
    "duration": 10,
    "start_time": "2023-11-17T17:47:49.162Z"
   },
   {
    "duration": 15,
    "start_time": "2023-11-17T17:48:01.864Z"
   },
   {
    "duration": 13,
    "start_time": "2023-11-17T17:48:46.539Z"
   },
   {
    "duration": 16,
    "start_time": "2023-11-17T17:49:40.961Z"
   },
   {
    "duration": 14,
    "start_time": "2023-11-17T17:49:50.236Z"
   },
   {
    "duration": 15,
    "start_time": "2023-11-17T17:50:11.259Z"
   },
   {
    "duration": 14,
    "start_time": "2023-11-17T17:53:09.463Z"
   },
   {
    "duration": 23,
    "start_time": "2023-11-17T17:53:18.793Z"
   },
   {
    "duration": 19,
    "start_time": "2023-11-17T17:53:29.558Z"
   },
   {
    "duration": 7,
    "start_time": "2023-11-17T17:54:00.728Z"
   },
   {
    "duration": 4,
    "start_time": "2023-11-17T17:54:10.053Z"
   },
   {
    "duration": 12,
    "start_time": "2023-11-17T17:54:13.901Z"
   },
   {
    "duration": 6,
    "start_time": "2023-11-17T17:54:50.198Z"
   },
   {
    "duration": 10,
    "start_time": "2023-11-17T17:54:51.184Z"
   },
   {
    "duration": 9,
    "start_time": "2023-11-17T17:55:18.054Z"
   },
   {
    "duration": 11,
    "start_time": "2023-11-17T17:55:18.941Z"
   },
   {
    "duration": 7,
    "start_time": "2023-11-17T17:56:13.231Z"
   },
   {
    "duration": 10,
    "start_time": "2023-11-17T17:56:14.478Z"
   },
   {
    "duration": 7,
    "start_time": "2023-11-17T17:56:37.455Z"
   },
   {
    "duration": 10,
    "start_time": "2023-11-17T17:56:38.393Z"
   },
   {
    "duration": 8,
    "start_time": "2023-11-17T17:56:45.614Z"
   },
   {
    "duration": 10,
    "start_time": "2023-11-17T17:56:46.750Z"
   },
   {
    "duration": 4,
    "start_time": "2023-11-17T17:58:18.544Z"
   },
   {
    "duration": 4,
    "start_time": "2023-11-17T17:58:33.439Z"
   },
   {
    "duration": 5,
    "start_time": "2023-11-17T17:59:16.622Z"
   },
   {
    "duration": 763,
    "start_time": "2023-11-17T17:59:16.629Z"
   },
   {
    "duration": 7,
    "start_time": "2023-11-17T17:59:17.394Z"
   },
   {
    "duration": 12,
    "start_time": "2023-11-17T17:59:17.402Z"
   },
   {
    "duration": 11,
    "start_time": "2023-11-17T17:59:17.416Z"
   },
   {
    "duration": 22,
    "start_time": "2023-11-17T17:59:17.428Z"
   },
   {
    "duration": 8,
    "start_time": "2023-11-17T17:59:17.452Z"
   },
   {
    "duration": 26,
    "start_time": "2023-11-17T17:59:17.462Z"
   },
   {
    "duration": 4,
    "start_time": "2023-11-17T17:59:17.489Z"
   },
   {
    "duration": 12,
    "start_time": "2023-11-17T17:59:17.494Z"
   },
   {
    "duration": 45,
    "start_time": "2023-11-17T17:59:17.508Z"
   },
   {
    "duration": 7,
    "start_time": "2023-11-17T17:59:17.555Z"
   },
   {
    "duration": 24,
    "start_time": "2023-11-17T17:59:17.564Z"
   },
   {
    "duration": 18,
    "start_time": "2023-11-17T17:59:17.589Z"
   },
   {
    "duration": 19,
    "start_time": "2023-11-17T17:59:17.608Z"
   },
   {
    "duration": 12,
    "start_time": "2023-11-17T17:59:17.628Z"
   },
   {
    "duration": 7,
    "start_time": "2023-11-17T17:59:17.641Z"
   },
   {
    "duration": 11,
    "start_time": "2023-11-17T17:59:17.649Z"
   },
   {
    "duration": 10,
    "start_time": "2023-11-17T17:59:17.662Z"
   },
   {
    "duration": 14,
    "start_time": "2023-11-17T17:59:17.673Z"
   },
   {
    "duration": 14,
    "start_time": "2023-11-17T17:59:17.689Z"
   },
   {
    "duration": 17,
    "start_time": "2023-11-17T17:59:17.705Z"
   },
   {
    "duration": 15,
    "start_time": "2023-11-17T17:59:17.724Z"
   },
   {
    "duration": 15,
    "start_time": "2023-11-17T17:59:17.740Z"
   },
   {
    "duration": 7,
    "start_time": "2023-11-17T17:59:17.756Z"
   },
   {
    "duration": 9,
    "start_time": "2023-11-17T17:59:17.764Z"
   },
   {
    "duration": 18,
    "start_time": "2023-11-17T17:59:17.775Z"
   },
   {
    "duration": 1562,
    "start_time": "2023-11-17T17:59:17.795Z"
   },
   {
    "duration": 1539,
    "start_time": "2023-11-17T17:59:19.361Z"
   },
   {
    "duration": 1555,
    "start_time": "2023-11-17T17:59:20.902Z"
   },
   {
    "duration": 672,
    "start_time": "2023-11-17T17:59:22.459Z"
   },
   {
    "duration": 1383,
    "start_time": "2023-11-17T17:59:23.132Z"
   },
   {
    "duration": 8,
    "start_time": "2023-11-17T17:59:24.516Z"
   },
   {
    "duration": 476,
    "start_time": "2023-11-17T17:59:24.526Z"
   },
   {
    "duration": 8,
    "start_time": "2023-11-17T17:59:25.004Z"
   },
   {
    "duration": 656,
    "start_time": "2023-11-17T17:59:25.014Z"
   },
   {
    "duration": 3,
    "start_time": "2023-11-17T17:59:25.672Z"
   },
   {
    "duration": 51,
    "start_time": "2023-11-17T17:59:25.677Z"
   },
   {
    "duration": 16,
    "start_time": "2023-11-17T17:59:25.730Z"
   },
   {
    "duration": 17,
    "start_time": "2023-11-17T17:59:25.748Z"
   },
   {
    "duration": 467,
    "start_time": "2023-11-17T17:59:25.767Z"
   },
   {
    "duration": 11,
    "start_time": "2023-11-17T17:59:26.236Z"
   },
   {
    "duration": 8,
    "start_time": "2023-11-17T17:59:26.249Z"
   },
   {
    "duration": 5,
    "start_time": "2023-11-17T17:59:26.258Z"
   },
   {
    "duration": 5,
    "start_time": "2023-11-17T17:59:26.264Z"
   },
   {
    "duration": 30,
    "start_time": "2023-11-17T17:59:26.271Z"
   },
   {
    "duration": 6,
    "start_time": "2023-11-17T17:59:26.303Z"
   },
   {
    "duration": 5,
    "start_time": "2023-11-17T17:59:26.311Z"
   },
   {
    "duration": 8,
    "start_time": "2023-11-17T17:59:26.317Z"
   },
   {
    "duration": 7,
    "start_time": "2023-11-17T17:59:26.326Z"
   },
   {
    "duration": 4,
    "start_time": "2023-11-17T17:59:26.335Z"
   },
   {
    "duration": 6,
    "start_time": "2023-11-17T17:59:26.340Z"
   },
   {
    "duration": 5,
    "start_time": "2023-11-17T17:59:26.347Z"
   },
   {
    "duration": 45,
    "start_time": "2023-11-17T17:59:26.354Z"
   },
   {
    "duration": 1402,
    "start_time": "2023-11-17T17:59:26.401Z"
   },
   {
    "duration": 1695,
    "start_time": "2023-11-17T17:59:27.806Z"
   },
   {
    "duration": 16710,
    "start_time": "2023-11-17T17:59:29.502Z"
   },
   {
    "duration": 17124,
    "start_time": "2023-11-17T17:59:46.214Z"
   },
   {
    "duration": 181200,
    "start_time": "2023-11-17T18:00:03.340Z"
   },
   {
    "duration": 0,
    "start_time": "2023-11-17T18:03:04.541Z"
   },
   {
    "duration": 0,
    "start_time": "2023-11-17T18:03:04.542Z"
   },
   {
    "duration": 0,
    "start_time": "2023-11-17T18:03:04.543Z"
   },
   {
    "duration": 0,
    "start_time": "2023-11-17T18:03:04.545Z"
   },
   {
    "duration": 0,
    "start_time": "2023-11-17T18:03:04.546Z"
   },
   {
    "duration": 3314,
    "start_time": "2023-11-17T18:03:11.842Z"
   },
   {
    "duration": 9075,
    "start_time": "2023-11-17T18:03:18.669Z"
   },
   {
    "duration": 2277,
    "start_time": "2023-11-17T18:06:44.517Z"
   },
   {
    "duration": 726,
    "start_time": "2023-11-17T18:06:51.076Z"
   },
   {
    "duration": 57,
    "start_time": "2023-11-17T18:07:28.668Z"
   },
   {
    "duration": 741,
    "start_time": "2023-11-17T18:07:34.018Z"
   },
   {
    "duration": 714,
    "start_time": "2023-11-17T18:07:44.062Z"
   },
   {
    "duration": 3259,
    "start_time": "2023-11-17T18:07:49.163Z"
   },
   {
    "duration": 14529,
    "start_time": "2023-11-17T18:07:56.819Z"
   },
   {
    "duration": 16759,
    "start_time": "2023-11-17T18:09:59.526Z"
   },
   {
    "duration": 51444,
    "start_time": "2023-11-17T18:10:29.783Z"
   },
   {
    "duration": 6,
    "start_time": "2023-11-17T18:13:30.286Z"
   },
   {
    "duration": 778,
    "start_time": "2023-11-17T18:13:30.294Z"
   },
   {
    "duration": 4,
    "start_time": "2023-11-17T18:13:31.074Z"
   },
   {
    "duration": 50,
    "start_time": "2023-11-17T18:13:31.080Z"
   },
   {
    "duration": 63,
    "start_time": "2023-11-17T18:13:31.131Z"
   },
   {
    "duration": 76,
    "start_time": "2023-11-17T18:13:31.196Z"
   },
   {
    "duration": 71,
    "start_time": "2023-11-17T18:13:31.273Z"
   },
   {
    "duration": 61,
    "start_time": "2023-11-17T18:13:31.346Z"
   },
   {
    "duration": 46,
    "start_time": "2023-11-17T18:13:31.410Z"
   },
   {
    "duration": 34,
    "start_time": "2023-11-17T18:13:31.458Z"
   },
   {
    "duration": 77,
    "start_time": "2023-11-17T18:13:31.494Z"
   },
   {
    "duration": 24,
    "start_time": "2023-11-17T18:13:31.573Z"
   },
   {
    "duration": 31,
    "start_time": "2023-11-17T18:13:31.599Z"
   },
   {
    "duration": 39,
    "start_time": "2023-11-17T18:13:31.632Z"
   },
   {
    "duration": 44,
    "start_time": "2023-11-17T18:13:31.672Z"
   },
   {
    "duration": 13,
    "start_time": "2023-11-17T18:13:31.718Z"
   },
   {
    "duration": 11,
    "start_time": "2023-11-17T18:13:31.733Z"
   },
   {
    "duration": 21,
    "start_time": "2023-11-17T18:13:31.746Z"
   },
   {
    "duration": 32,
    "start_time": "2023-11-17T18:13:31.769Z"
   },
   {
    "duration": 15,
    "start_time": "2023-11-17T18:13:31.803Z"
   },
   {
    "duration": 19,
    "start_time": "2023-11-17T18:13:31.820Z"
   },
   {
    "duration": 28,
    "start_time": "2023-11-17T18:13:31.841Z"
   },
   {
    "duration": 6,
    "start_time": "2023-11-17T18:13:31.871Z"
   },
   {
    "duration": 19,
    "start_time": "2023-11-17T18:13:31.882Z"
   },
   {
    "duration": 37,
    "start_time": "2023-11-17T18:13:31.903Z"
   },
   {
    "duration": 23,
    "start_time": "2023-11-17T18:13:31.942Z"
   },
   {
    "duration": 15,
    "start_time": "2023-11-17T18:13:31.966Z"
   },
   {
    "duration": 1561,
    "start_time": "2023-11-17T18:13:31.983Z"
   },
   {
    "duration": 1579,
    "start_time": "2023-11-17T18:13:33.545Z"
   },
   {
    "duration": 1525,
    "start_time": "2023-11-17T18:13:35.125Z"
   },
   {
    "duration": 779,
    "start_time": "2023-11-17T18:13:36.651Z"
   },
   {
    "duration": 1185,
    "start_time": "2023-11-17T18:13:37.432Z"
   },
   {
    "duration": 8,
    "start_time": "2023-11-17T18:13:38.619Z"
   },
   {
    "duration": 628,
    "start_time": "2023-11-17T18:13:38.628Z"
   },
   {
    "duration": 10,
    "start_time": "2023-11-17T18:13:39.258Z"
   },
   {
    "duration": 507,
    "start_time": "2023-11-17T18:13:39.269Z"
   },
   {
    "duration": 4,
    "start_time": "2023-11-17T18:13:39.777Z"
   },
   {
    "duration": 18,
    "start_time": "2023-11-17T18:13:39.782Z"
   },
   {
    "duration": 3,
    "start_time": "2023-11-17T18:13:39.801Z"
   },
   {
    "duration": 28,
    "start_time": "2023-11-17T18:13:39.806Z"
   },
   {
    "duration": 571,
    "start_time": "2023-11-17T18:13:39.836Z"
   },
   {
    "duration": 10,
    "start_time": "2023-11-17T18:13:40.409Z"
   },
   {
    "duration": 10,
    "start_time": "2023-11-17T18:13:40.420Z"
   },
   {
    "duration": 6,
    "start_time": "2023-11-17T18:13:40.431Z"
   },
   {
    "duration": 5,
    "start_time": "2023-11-17T18:13:40.438Z"
   },
   {
    "duration": 4,
    "start_time": "2023-11-17T18:13:40.445Z"
   },
   {
    "duration": 4,
    "start_time": "2023-11-17T18:13:40.450Z"
   },
   {
    "duration": 6,
    "start_time": "2023-11-17T18:13:40.455Z"
   },
   {
    "duration": 37,
    "start_time": "2023-11-17T18:13:40.462Z"
   },
   {
    "duration": 4,
    "start_time": "2023-11-17T18:13:40.501Z"
   },
   {
    "duration": 7,
    "start_time": "2023-11-17T18:13:40.507Z"
   },
   {
    "duration": 6,
    "start_time": "2023-11-17T18:13:40.515Z"
   },
   {
    "duration": 6,
    "start_time": "2023-11-17T18:13:40.522Z"
   },
   {
    "duration": 8,
    "start_time": "2023-11-17T18:13:40.529Z"
   },
   {
    "duration": 1764,
    "start_time": "2023-11-17T18:13:40.539Z"
   },
   {
    "duration": 1692,
    "start_time": "2023-11-17T18:13:42.308Z"
   },
   {
    "duration": 14987,
    "start_time": "2023-11-17T18:13:44.002Z"
   },
   {
    "duration": 52126,
    "start_time": "2023-11-17T18:13:58.990Z"
   },
   {
    "duration": 936120,
    "start_time": "2023-11-17T18:14:51.117Z"
   },
   {
    "duration": 963240,
    "start_time": "2023-11-17T18:30:27.239Z"
   },
   {
    "duration": 23,
    "start_time": "2023-11-17T18:46:30.481Z"
   },
   {
    "duration": 41,
    "start_time": "2023-11-17T18:46:30.505Z"
   },
   {
    "duration": 42,
    "start_time": "2023-11-17T18:46:30.548Z"
   },
   {
    "duration": 14249,
    "start_time": "2023-11-17T22:26:31.328Z"
   },
   {
    "duration": 14451,
    "start_time": "2023-11-17T22:27:30.543Z"
   },
   {
    "duration": 14036,
    "start_time": "2023-11-17T22:28:05.920Z"
   },
   {
    "duration": 50130,
    "start_time": "2023-11-17T22:28:49.312Z"
   },
   {
    "duration": 33884,
    "start_time": "2023-11-17T22:30:45.178Z"
   },
   {
    "duration": 121442,
    "start_time": "2023-11-17T22:31:22.864Z"
   },
   {
    "duration": 176352,
    "start_time": "2023-11-17T22:33:24.308Z"
   },
   {
    "duration": 25436,
    "start_time": "2023-11-17T22:36:21.457Z"
   },
   {
    "duration": 25347,
    "start_time": "2023-11-17T22:37:01.989Z"
   },
   {
    "duration": 7,
    "start_time": "2023-11-17T22:37:29.534Z"
   },
   {
    "duration": 10,
    "start_time": "2023-11-17T22:37:29.972Z"
   },
   {
    "duration": 3,
    "start_time": "2023-11-17T22:37:43.967Z"
   },
   {
    "duration": 1006,
    "start_time": "2023-11-17T22:41:52.794Z"
   },
   {
    "duration": 977,
    "start_time": "2023-11-17T22:41:58.121Z"
   },
   {
    "duration": 9,
    "start_time": "2023-11-17T22:42:23.169Z"
   },
   {
    "duration": 9,
    "start_time": "2023-11-17T22:42:29.659Z"
   },
   {
    "duration": 843,
    "start_time": "2023-11-17T22:42:53.058Z"
   },
   {
    "duration": 5127,
    "start_time": "2023-11-17T22:43:20.314Z"
   },
   {
    "duration": 18601,
    "start_time": "2023-11-17T22:43:42.272Z"
   },
   {
    "duration": 7,
    "start_time": "2023-11-17T22:44:51.840Z"
   },
   {
    "duration": 10,
    "start_time": "2023-11-17T22:44:57.178Z"
   },
   {
    "duration": 13,
    "start_time": "2023-11-17T22:45:08.413Z"
   },
   {
    "duration": 7,
    "start_time": "2023-11-17T22:45:14.212Z"
   },
   {
    "duration": 9,
    "start_time": "2023-11-17T22:45:16.672Z"
   },
   {
    "duration": 7,
    "start_time": "2023-11-17T22:45:26.864Z"
   },
   {
    "duration": 12,
    "start_time": "2023-11-17T22:45:27.889Z"
   },
   {
    "duration": 7,
    "start_time": "2023-11-17T22:45:47.050Z"
   },
   {
    "duration": 9,
    "start_time": "2023-11-17T22:45:47.848Z"
   },
   {
    "duration": 8,
    "start_time": "2023-11-17T22:45:55.704Z"
   },
   {
    "duration": 9,
    "start_time": "2023-11-17T22:45:56.344Z"
   },
   {
    "duration": 8,
    "start_time": "2023-11-17T22:46:01.496Z"
   },
   {
    "duration": 9,
    "start_time": "2023-11-17T22:46:02.128Z"
   },
   {
    "duration": 7,
    "start_time": "2023-11-17T22:46:08.281Z"
   },
   {
    "duration": 9,
    "start_time": "2023-11-17T22:46:09.160Z"
   },
   {
    "duration": 8,
    "start_time": "2023-11-17T22:46:13.208Z"
   },
   {
    "duration": 9,
    "start_time": "2023-11-17T22:46:14.168Z"
   },
   {
    "duration": 7,
    "start_time": "2023-11-17T22:46:24.433Z"
   },
   {
    "duration": 9,
    "start_time": "2023-11-17T22:46:25.273Z"
   },
   {
    "duration": 8,
    "start_time": "2023-11-17T22:46:41.649Z"
   },
   {
    "duration": 9,
    "start_time": "2023-11-17T22:46:42.274Z"
   },
   {
    "duration": 8,
    "start_time": "2023-11-17T22:47:11.634Z"
   },
   {
    "duration": 11,
    "start_time": "2023-11-17T22:47:12.433Z"
   },
   {
    "duration": 9,
    "start_time": "2023-11-17T22:49:12.588Z"
   },
   {
    "duration": 3,
    "start_time": "2023-11-17T22:49:16.020Z"
   },
   {
    "duration": 14,
    "start_time": "2023-11-17T22:50:26.880Z"
   },
   {
    "duration": 20,
    "start_time": "2023-11-17T22:50:46.584Z"
   },
   {
    "duration": 20,
    "start_time": "2023-11-17T22:50:56.984Z"
   },
   {
    "duration": 21,
    "start_time": "2023-11-17T22:51:34.184Z"
   },
   {
    "duration": 12,
    "start_time": "2023-11-17T22:52:45.129Z"
   },
   {
    "duration": 16,
    "start_time": "2023-11-17T22:52:52.744Z"
   },
   {
    "duration": 16,
    "start_time": "2023-11-17T22:53:29.546Z"
   },
   {
    "duration": 16,
    "start_time": "2023-11-17T22:53:51.172Z"
   },
   {
    "duration": 3,
    "start_time": "2023-11-17T22:54:09.203Z"
   },
   {
    "duration": 3,
    "start_time": "2023-11-17T22:54:14.978Z"
   },
   {
    "duration": 16,
    "start_time": "2023-11-17T22:54:17.313Z"
   },
   {
    "duration": 8,
    "start_time": "2023-11-17T22:55:00.044Z"
   },
   {
    "duration": 10,
    "start_time": "2023-11-17T22:55:00.889Z"
   },
   {
    "duration": 7,
    "start_time": "2023-11-17T22:55:16.642Z"
   },
   {
    "duration": 10,
    "start_time": "2023-11-17T22:55:17.178Z"
   },
   {
    "duration": 9,
    "start_time": "2023-11-17T22:55:59.035Z"
   },
   {
    "duration": 9,
    "start_time": "2023-11-17T22:56:13.870Z"
   },
   {
    "duration": 14,
    "start_time": "2023-11-17T23:00:12.769Z"
   },
   {
    "duration": 6,
    "start_time": "2023-11-17T23:00:53.718Z"
   },
   {
    "duration": 7,
    "start_time": "2023-11-17T23:00:55.589Z"
   },
   {
    "duration": 4,
    "start_time": "2023-11-17T23:02:31.158Z"
   },
   {
    "duration": 7,
    "start_time": "2023-11-17T23:02:51.016Z"
   },
   {
    "duration": 7,
    "start_time": "2023-11-17T23:03:00.986Z"
   },
   {
    "duration": 9,
    "start_time": "2023-11-17T23:04:34.241Z"
   },
   {
    "duration": 6,
    "start_time": "2023-11-17T23:04:38.425Z"
   },
   {
    "duration": 3,
    "start_time": "2023-11-17T23:04:39.976Z"
   },
   {
    "duration": 71,
    "start_time": "2023-11-17T23:05:55.805Z"
   },
   {
    "duration": 1456,
    "start_time": "2023-11-17T23:07:13.302Z"
   },
   {
    "duration": 770,
    "start_time": "2023-11-17T23:07:14.760Z"
   },
   {
    "duration": 6,
    "start_time": "2023-11-17T23:07:15.531Z"
   },
   {
    "duration": 14,
    "start_time": "2023-11-17T23:07:15.538Z"
   },
   {
    "duration": 10,
    "start_time": "2023-11-17T23:07:15.554Z"
   },
   {
    "duration": 10,
    "start_time": "2023-11-17T23:07:15.565Z"
   },
   {
    "duration": 18,
    "start_time": "2023-11-17T23:07:15.577Z"
   },
   {
    "duration": 6,
    "start_time": "2023-11-17T23:07:15.596Z"
   },
   {
    "duration": 5,
    "start_time": "2023-11-17T23:07:15.603Z"
   },
   {
    "duration": 11,
    "start_time": "2023-11-17T23:07:15.611Z"
   },
   {
    "duration": 41,
    "start_time": "2023-11-17T23:07:15.624Z"
   },
   {
    "duration": 7,
    "start_time": "2023-11-17T23:07:15.666Z"
   },
   {
    "duration": 30,
    "start_time": "2023-11-17T23:07:15.675Z"
   },
   {
    "duration": 9,
    "start_time": "2023-11-17T23:07:15.707Z"
   },
   {
    "duration": 13,
    "start_time": "2023-11-17T23:07:15.718Z"
   },
   {
    "duration": 12,
    "start_time": "2023-11-17T23:07:15.732Z"
   },
   {
    "duration": 3,
    "start_time": "2023-11-17T23:07:15.746Z"
   },
   {
    "duration": 18,
    "start_time": "2023-11-17T23:07:15.750Z"
   },
   {
    "duration": 31,
    "start_time": "2023-11-17T23:07:15.770Z"
   },
   {
    "duration": 8,
    "start_time": "2023-11-17T23:07:15.803Z"
   },
   {
    "duration": 12,
    "start_time": "2023-11-17T23:07:15.812Z"
   },
   {
    "duration": 8,
    "start_time": "2023-11-17T23:07:15.826Z"
   },
   {
    "duration": 9,
    "start_time": "2023-11-17T23:07:15.835Z"
   },
   {
    "duration": 33,
    "start_time": "2023-11-17T23:07:15.845Z"
   },
   {
    "duration": 7,
    "start_time": "2023-11-17T23:07:15.879Z"
   },
   {
    "duration": 4,
    "start_time": "2023-11-17T23:07:15.887Z"
   },
   {
    "duration": 9,
    "start_time": "2023-11-17T23:07:15.892Z"
   },
   {
    "duration": 1411,
    "start_time": "2023-11-17T23:07:15.905Z"
   },
   {
    "duration": 1455,
    "start_time": "2023-11-17T23:07:17.317Z"
   },
   {
    "duration": 1448,
    "start_time": "2023-11-17T23:07:18.773Z"
   },
   {
    "duration": 596,
    "start_time": "2023-11-17T23:07:20.222Z"
   },
   {
    "duration": 1232,
    "start_time": "2023-11-17T23:07:20.820Z"
   },
   {
    "duration": 8,
    "start_time": "2023-11-17T23:07:22.054Z"
   },
   {
    "duration": 586,
    "start_time": "2023-11-17T23:07:22.063Z"
   },
   {
    "duration": 7,
    "start_time": "2023-11-17T23:07:22.651Z"
   },
   {
    "duration": 472,
    "start_time": "2023-11-17T23:07:22.659Z"
   },
   {
    "duration": 4,
    "start_time": "2023-11-17T23:07:23.133Z"
   },
   {
    "duration": 22,
    "start_time": "2023-11-17T23:07:23.138Z"
   },
   {
    "duration": 25,
    "start_time": "2023-11-17T23:07:23.161Z"
   },
   {
    "duration": 33,
    "start_time": "2023-11-17T23:07:23.187Z"
   },
   {
    "duration": 465,
    "start_time": "2023-11-17T23:07:23.221Z"
   },
   {
    "duration": 18,
    "start_time": "2023-11-17T23:07:23.688Z"
   },
   {
    "duration": 9,
    "start_time": "2023-11-17T23:07:23.708Z"
   },
   {
    "duration": 10,
    "start_time": "2023-11-17T23:07:23.719Z"
   },
   {
    "duration": 5,
    "start_time": "2023-11-17T23:07:23.731Z"
   },
   {
    "duration": 8,
    "start_time": "2023-11-17T23:07:23.738Z"
   },
   {
    "duration": 5,
    "start_time": "2023-11-17T23:07:23.748Z"
   },
   {
    "duration": 6,
    "start_time": "2023-11-17T23:07:23.754Z"
   },
   {
    "duration": 8,
    "start_time": "2023-11-17T23:07:23.762Z"
   },
   {
    "duration": 32,
    "start_time": "2023-11-17T23:07:23.771Z"
   },
   {
    "duration": 5,
    "start_time": "2023-11-17T23:07:23.805Z"
   },
   {
    "duration": 33,
    "start_time": "2023-11-17T23:07:23.812Z"
   },
   {
    "duration": 5,
    "start_time": "2023-11-17T23:07:23.847Z"
   },
   {
    "duration": 103,
    "start_time": "2023-11-17T23:07:23.854Z"
   },
   {
    "duration": 0,
    "start_time": "2023-11-17T23:07:23.959Z"
   },
   {
    "duration": 0,
    "start_time": "2023-11-17T23:07:23.960Z"
   },
   {
    "duration": 0,
    "start_time": "2023-11-17T23:07:23.962Z"
   },
   {
    "duration": 0,
    "start_time": "2023-11-17T23:07:23.963Z"
   },
   {
    "duration": 0,
    "start_time": "2023-11-17T23:07:23.964Z"
   },
   {
    "duration": 0,
    "start_time": "2023-11-17T23:07:23.966Z"
   },
   {
    "duration": 0,
    "start_time": "2023-11-17T23:07:23.967Z"
   },
   {
    "duration": 0,
    "start_time": "2023-11-17T23:07:23.969Z"
   },
   {
    "duration": 0,
    "start_time": "2023-11-17T23:07:23.971Z"
   },
   {
    "duration": 0,
    "start_time": "2023-11-17T23:07:23.972Z"
   },
   {
    "duration": 0,
    "start_time": "2023-11-17T23:07:23.974Z"
   },
   {
    "duration": 0,
    "start_time": "2023-11-17T23:07:23.998Z"
   },
   {
    "duration": 0,
    "start_time": "2023-11-17T23:07:24.000Z"
   },
   {
    "duration": 0,
    "start_time": "2023-11-17T23:07:24.002Z"
   },
   {
    "duration": 0,
    "start_time": "2023-11-17T23:07:24.003Z"
   },
   {
    "duration": 0,
    "start_time": "2023-11-17T23:07:24.004Z"
   },
   {
    "duration": 0,
    "start_time": "2023-11-17T23:07:24.006Z"
   },
   {
    "duration": 0,
    "start_time": "2023-11-17T23:07:24.007Z"
   },
   {
    "duration": 1402,
    "start_time": "2023-11-17T23:08:32.112Z"
   },
   {
    "duration": 731,
    "start_time": "2023-11-17T23:08:33.516Z"
   },
   {
    "duration": 5,
    "start_time": "2023-11-17T23:08:34.249Z"
   },
   {
    "duration": 21,
    "start_time": "2023-11-17T23:08:34.256Z"
   },
   {
    "duration": 4,
    "start_time": "2023-11-17T23:08:34.279Z"
   },
   {
    "duration": 16,
    "start_time": "2023-11-17T23:08:34.285Z"
   },
   {
    "duration": 110,
    "start_time": "2023-11-17T23:08:34.303Z"
   },
   {
    "duration": 0,
    "start_time": "2023-11-17T23:08:34.416Z"
   },
   {
    "duration": 0,
    "start_time": "2023-11-17T23:08:34.417Z"
   },
   {
    "duration": 0,
    "start_time": "2023-11-17T23:08:34.418Z"
   },
   {
    "duration": 0,
    "start_time": "2023-11-17T23:08:34.419Z"
   },
   {
    "duration": 0,
    "start_time": "2023-11-17T23:08:34.420Z"
   },
   {
    "duration": 0,
    "start_time": "2023-11-17T23:08:34.421Z"
   },
   {
    "duration": 0,
    "start_time": "2023-11-17T23:08:34.422Z"
   },
   {
    "duration": 0,
    "start_time": "2023-11-17T23:08:34.422Z"
   },
   {
    "duration": 1,
    "start_time": "2023-11-17T23:08:34.423Z"
   },
   {
    "duration": 0,
    "start_time": "2023-11-17T23:08:34.424Z"
   },
   {
    "duration": 0,
    "start_time": "2023-11-17T23:08:34.425Z"
   },
   {
    "duration": 0,
    "start_time": "2023-11-17T23:08:34.426Z"
   },
   {
    "duration": 0,
    "start_time": "2023-11-17T23:08:34.426Z"
   },
   {
    "duration": 0,
    "start_time": "2023-11-17T23:08:34.427Z"
   },
   {
    "duration": 0,
    "start_time": "2023-11-17T23:08:34.428Z"
   },
   {
    "duration": 0,
    "start_time": "2023-11-17T23:08:34.429Z"
   },
   {
    "duration": 0,
    "start_time": "2023-11-17T23:08:34.429Z"
   },
   {
    "duration": 0,
    "start_time": "2023-11-17T23:08:34.430Z"
   },
   {
    "duration": 0,
    "start_time": "2023-11-17T23:08:34.431Z"
   },
   {
    "duration": 0,
    "start_time": "2023-11-17T23:08:34.432Z"
   },
   {
    "duration": 0,
    "start_time": "2023-11-17T23:08:34.433Z"
   },
   {
    "duration": 0,
    "start_time": "2023-11-17T23:08:34.434Z"
   },
   {
    "duration": 0,
    "start_time": "2023-11-17T23:08:34.435Z"
   },
   {
    "duration": 0,
    "start_time": "2023-11-17T23:08:34.436Z"
   },
   {
    "duration": 0,
    "start_time": "2023-11-17T23:08:34.437Z"
   },
   {
    "duration": 0,
    "start_time": "2023-11-17T23:08:34.438Z"
   },
   {
    "duration": 0,
    "start_time": "2023-11-17T23:08:34.438Z"
   },
   {
    "duration": 0,
    "start_time": "2023-11-17T23:08:34.439Z"
   },
   {
    "duration": 0,
    "start_time": "2023-11-17T23:08:34.440Z"
   },
   {
    "duration": 0,
    "start_time": "2023-11-17T23:08:34.441Z"
   },
   {
    "duration": 0,
    "start_time": "2023-11-17T23:08:34.442Z"
   },
   {
    "duration": 0,
    "start_time": "2023-11-17T23:08:34.443Z"
   },
   {
    "duration": 0,
    "start_time": "2023-11-17T23:08:34.444Z"
   },
   {
    "duration": 0,
    "start_time": "2023-11-17T23:08:34.445Z"
   },
   {
    "duration": 0,
    "start_time": "2023-11-17T23:08:34.446Z"
   },
   {
    "duration": 0,
    "start_time": "2023-11-17T23:08:34.447Z"
   },
   {
    "duration": 0,
    "start_time": "2023-11-17T23:08:34.447Z"
   },
   {
    "duration": 0,
    "start_time": "2023-11-17T23:08:34.448Z"
   },
   {
    "duration": 0,
    "start_time": "2023-11-17T23:08:34.449Z"
   },
   {
    "duration": 0,
    "start_time": "2023-11-17T23:08:34.449Z"
   },
   {
    "duration": 0,
    "start_time": "2023-11-17T23:08:34.450Z"
   },
   {
    "duration": 0,
    "start_time": "2023-11-17T23:08:34.450Z"
   },
   {
    "duration": 0,
    "start_time": "2023-11-17T23:08:34.451Z"
   },
   {
    "duration": 0,
    "start_time": "2023-11-17T23:08:34.499Z"
   },
   {
    "duration": 0,
    "start_time": "2023-11-17T23:08:34.500Z"
   },
   {
    "duration": 0,
    "start_time": "2023-11-17T23:08:34.501Z"
   },
   {
    "duration": 0,
    "start_time": "2023-11-17T23:08:34.502Z"
   },
   {
    "duration": 0,
    "start_time": "2023-11-17T23:08:34.503Z"
   },
   {
    "duration": 0,
    "start_time": "2023-11-17T23:08:34.504Z"
   },
   {
    "duration": 0,
    "start_time": "2023-11-17T23:08:34.505Z"
   },
   {
    "duration": 0,
    "start_time": "2023-11-17T23:08:34.506Z"
   },
   {
    "duration": 0,
    "start_time": "2023-11-17T23:08:34.507Z"
   },
   {
    "duration": 0,
    "start_time": "2023-11-17T23:08:34.508Z"
   },
   {
    "duration": 0,
    "start_time": "2023-11-17T23:08:34.508Z"
   },
   {
    "duration": 0,
    "start_time": "2023-11-17T23:08:34.509Z"
   },
   {
    "duration": 0,
    "start_time": "2023-11-17T23:08:34.510Z"
   },
   {
    "duration": 0,
    "start_time": "2023-11-17T23:08:34.511Z"
   },
   {
    "duration": 0,
    "start_time": "2023-11-17T23:08:34.512Z"
   },
   {
    "duration": 0,
    "start_time": "2023-11-17T23:08:34.513Z"
   },
   {
    "duration": 0,
    "start_time": "2023-11-17T23:08:34.515Z"
   },
   {
    "duration": 0,
    "start_time": "2023-11-17T23:08:34.515Z"
   },
   {
    "duration": 0,
    "start_time": "2023-11-17T23:08:34.516Z"
   },
   {
    "duration": 0,
    "start_time": "2023-11-17T23:08:34.517Z"
   },
   {
    "duration": 0,
    "start_time": "2023-11-17T23:08:34.518Z"
   },
   {
    "duration": 0,
    "start_time": "2023-11-17T23:08:34.519Z"
   },
   {
    "duration": 1541,
    "start_time": "2023-11-17T23:08:44.978Z"
   },
   {
    "duration": 736,
    "start_time": "2023-11-17T23:08:46.521Z"
   },
   {
    "duration": 6,
    "start_time": "2023-11-17T23:08:47.259Z"
   },
   {
    "duration": 34,
    "start_time": "2023-11-17T23:08:47.267Z"
   },
   {
    "duration": 4,
    "start_time": "2023-11-17T23:08:47.303Z"
   },
   {
    "duration": 11,
    "start_time": "2023-11-17T23:08:47.308Z"
   },
   {
    "duration": 124,
    "start_time": "2023-11-17T23:08:47.320Z"
   },
   {
    "duration": 0,
    "start_time": "2023-11-17T23:08:47.447Z"
   },
   {
    "duration": 0,
    "start_time": "2023-11-17T23:08:47.448Z"
   },
   {
    "duration": 0,
    "start_time": "2023-11-17T23:08:47.449Z"
   },
   {
    "duration": 0,
    "start_time": "2023-11-17T23:08:47.449Z"
   },
   {
    "duration": 0,
    "start_time": "2023-11-17T23:08:47.450Z"
   },
   {
    "duration": 0,
    "start_time": "2023-11-17T23:08:47.451Z"
   },
   {
    "duration": 0,
    "start_time": "2023-11-17T23:08:47.452Z"
   },
   {
    "duration": 0,
    "start_time": "2023-11-17T23:08:47.453Z"
   },
   {
    "duration": 0,
    "start_time": "2023-11-17T23:08:47.454Z"
   },
   {
    "duration": 0,
    "start_time": "2023-11-17T23:08:47.455Z"
   },
   {
    "duration": 0,
    "start_time": "2023-11-17T23:08:47.456Z"
   },
   {
    "duration": 0,
    "start_time": "2023-11-17T23:08:47.457Z"
   },
   {
    "duration": 0,
    "start_time": "2023-11-17T23:08:47.458Z"
   },
   {
    "duration": 0,
    "start_time": "2023-11-17T23:08:47.459Z"
   },
   {
    "duration": 0,
    "start_time": "2023-11-17T23:08:47.460Z"
   },
   {
    "duration": 0,
    "start_time": "2023-11-17T23:08:47.461Z"
   },
   {
    "duration": 0,
    "start_time": "2023-11-17T23:08:47.462Z"
   },
   {
    "duration": 0,
    "start_time": "2023-11-17T23:08:47.462Z"
   },
   {
    "duration": 0,
    "start_time": "2023-11-17T23:08:47.464Z"
   },
   {
    "duration": 0,
    "start_time": "2023-11-17T23:08:47.465Z"
   },
   {
    "duration": 0,
    "start_time": "2023-11-17T23:08:47.466Z"
   },
   {
    "duration": 0,
    "start_time": "2023-11-17T23:08:47.466Z"
   },
   {
    "duration": 0,
    "start_time": "2023-11-17T23:08:47.499Z"
   },
   {
    "duration": 0,
    "start_time": "2023-11-17T23:08:47.501Z"
   },
   {
    "duration": 0,
    "start_time": "2023-11-17T23:08:47.501Z"
   },
   {
    "duration": 0,
    "start_time": "2023-11-17T23:08:47.502Z"
   },
   {
    "duration": 0,
    "start_time": "2023-11-17T23:08:47.504Z"
   },
   {
    "duration": 0,
    "start_time": "2023-11-17T23:08:47.505Z"
   },
   {
    "duration": 0,
    "start_time": "2023-11-17T23:08:47.506Z"
   },
   {
    "duration": 0,
    "start_time": "2023-11-17T23:08:47.507Z"
   },
   {
    "duration": 0,
    "start_time": "2023-11-17T23:08:47.508Z"
   },
   {
    "duration": 0,
    "start_time": "2023-11-17T23:08:47.509Z"
   },
   {
    "duration": 0,
    "start_time": "2023-11-17T23:08:47.510Z"
   },
   {
    "duration": 0,
    "start_time": "2023-11-17T23:08:47.511Z"
   },
   {
    "duration": 0,
    "start_time": "2023-11-17T23:08:47.512Z"
   },
   {
    "duration": 0,
    "start_time": "2023-11-17T23:08:47.513Z"
   },
   {
    "duration": 0,
    "start_time": "2023-11-17T23:08:47.514Z"
   },
   {
    "duration": 0,
    "start_time": "2023-11-17T23:08:47.515Z"
   },
   {
    "duration": 0,
    "start_time": "2023-11-17T23:08:47.516Z"
   },
   {
    "duration": 0,
    "start_time": "2023-11-17T23:08:47.517Z"
   },
   {
    "duration": 0,
    "start_time": "2023-11-17T23:08:47.518Z"
   },
   {
    "duration": 0,
    "start_time": "2023-11-17T23:08:47.519Z"
   },
   {
    "duration": 0,
    "start_time": "2023-11-17T23:08:47.520Z"
   },
   {
    "duration": 0,
    "start_time": "2023-11-17T23:08:47.521Z"
   },
   {
    "duration": 0,
    "start_time": "2023-11-17T23:08:47.522Z"
   },
   {
    "duration": 0,
    "start_time": "2023-11-17T23:08:47.523Z"
   },
   {
    "duration": 0,
    "start_time": "2023-11-17T23:08:47.524Z"
   },
   {
    "duration": 0,
    "start_time": "2023-11-17T23:08:47.525Z"
   },
   {
    "duration": 0,
    "start_time": "2023-11-17T23:08:47.526Z"
   },
   {
    "duration": 0,
    "start_time": "2023-11-17T23:08:47.527Z"
   },
   {
    "duration": 0,
    "start_time": "2023-11-17T23:08:47.528Z"
   },
   {
    "duration": 0,
    "start_time": "2023-11-17T23:08:47.529Z"
   },
   {
    "duration": 0,
    "start_time": "2023-11-17T23:08:47.530Z"
   },
   {
    "duration": 0,
    "start_time": "2023-11-17T23:08:47.531Z"
   },
   {
    "duration": 0,
    "start_time": "2023-11-17T23:08:47.532Z"
   },
   {
    "duration": 0,
    "start_time": "2023-11-17T23:08:47.533Z"
   },
   {
    "duration": 0,
    "start_time": "2023-11-17T23:08:47.534Z"
   },
   {
    "duration": 0,
    "start_time": "2023-11-17T23:08:47.535Z"
   },
   {
    "duration": 0,
    "start_time": "2023-11-17T23:08:47.599Z"
   },
   {
    "duration": 0,
    "start_time": "2023-11-17T23:08:47.600Z"
   },
   {
    "duration": 0,
    "start_time": "2023-11-17T23:08:47.601Z"
   },
   {
    "duration": 0,
    "start_time": "2023-11-17T23:08:47.602Z"
   },
   {
    "duration": 0,
    "start_time": "2023-11-17T23:08:47.603Z"
   },
   {
    "duration": 0,
    "start_time": "2023-11-17T23:08:47.604Z"
   },
   {
    "duration": 0,
    "start_time": "2023-11-17T23:08:47.605Z"
   },
   {
    "duration": 4,
    "start_time": "2023-11-17T23:09:06.908Z"
   },
   {
    "duration": 788,
    "start_time": "2023-11-17T23:09:06.914Z"
   },
   {
    "duration": 5,
    "start_time": "2023-11-17T23:09:07.704Z"
   },
   {
    "duration": 12,
    "start_time": "2023-11-17T23:09:07.711Z"
   },
   {
    "duration": 4,
    "start_time": "2023-11-17T23:09:07.725Z"
   },
   {
    "duration": 11,
    "start_time": "2023-11-17T23:09:07.730Z"
   },
   {
    "duration": 9,
    "start_time": "2023-11-17T23:09:07.743Z"
   },
   {
    "duration": 0,
    "start_time": "2023-11-17T23:09:07.757Z"
   },
   {
    "duration": 0,
    "start_time": "2023-11-17T23:09:07.759Z"
   },
   {
    "duration": 0,
    "start_time": "2023-11-17T23:09:07.760Z"
   },
   {
    "duration": 0,
    "start_time": "2023-11-17T23:09:07.762Z"
   },
   {
    "duration": 0,
    "start_time": "2023-11-17T23:09:07.763Z"
   },
   {
    "duration": 0,
    "start_time": "2023-11-17T23:09:07.765Z"
   },
   {
    "duration": 0,
    "start_time": "2023-11-17T23:09:07.766Z"
   },
   {
    "duration": 0,
    "start_time": "2023-11-17T23:09:07.799Z"
   },
   {
    "duration": 0,
    "start_time": "2023-11-17T23:09:07.800Z"
   },
   {
    "duration": 0,
    "start_time": "2023-11-17T23:09:07.802Z"
   },
   {
    "duration": 0,
    "start_time": "2023-11-17T23:09:07.803Z"
   },
   {
    "duration": 0,
    "start_time": "2023-11-17T23:09:07.804Z"
   },
   {
    "duration": 0,
    "start_time": "2023-11-17T23:09:07.805Z"
   },
   {
    "duration": 0,
    "start_time": "2023-11-17T23:09:07.806Z"
   },
   {
    "duration": 0,
    "start_time": "2023-11-17T23:09:07.807Z"
   },
   {
    "duration": 0,
    "start_time": "2023-11-17T23:09:07.808Z"
   },
   {
    "duration": 0,
    "start_time": "2023-11-17T23:09:07.809Z"
   },
   {
    "duration": 0,
    "start_time": "2023-11-17T23:09:07.810Z"
   },
   {
    "duration": 0,
    "start_time": "2023-11-17T23:09:07.811Z"
   },
   {
    "duration": 0,
    "start_time": "2023-11-17T23:09:07.812Z"
   },
   {
    "duration": 0,
    "start_time": "2023-11-17T23:09:07.813Z"
   },
   {
    "duration": 0,
    "start_time": "2023-11-17T23:09:07.814Z"
   },
   {
    "duration": 0,
    "start_time": "2023-11-17T23:09:07.815Z"
   },
   {
    "duration": 0,
    "start_time": "2023-11-17T23:09:07.816Z"
   },
   {
    "duration": 0,
    "start_time": "2023-11-17T23:09:07.817Z"
   },
   {
    "duration": 0,
    "start_time": "2023-11-17T23:09:07.818Z"
   },
   {
    "duration": 0,
    "start_time": "2023-11-17T23:09:07.818Z"
   },
   {
    "duration": 0,
    "start_time": "2023-11-17T23:09:07.820Z"
   },
   {
    "duration": 0,
    "start_time": "2023-11-17T23:09:07.820Z"
   },
   {
    "duration": 0,
    "start_time": "2023-11-17T23:09:07.821Z"
   },
   {
    "duration": 0,
    "start_time": "2023-11-17T23:09:07.822Z"
   },
   {
    "duration": 0,
    "start_time": "2023-11-17T23:09:07.823Z"
   },
   {
    "duration": 0,
    "start_time": "2023-11-17T23:09:07.824Z"
   },
   {
    "duration": 0,
    "start_time": "2023-11-17T23:09:07.825Z"
   },
   {
    "duration": 0,
    "start_time": "2023-11-17T23:09:07.826Z"
   },
   {
    "duration": 0,
    "start_time": "2023-11-17T23:09:07.826Z"
   },
   {
    "duration": 0,
    "start_time": "2023-11-17T23:09:07.827Z"
   },
   {
    "duration": 0,
    "start_time": "2023-11-17T23:09:07.828Z"
   },
   {
    "duration": 0,
    "start_time": "2023-11-17T23:09:07.829Z"
   },
   {
    "duration": 0,
    "start_time": "2023-11-17T23:09:07.830Z"
   },
   {
    "duration": 0,
    "start_time": "2023-11-17T23:09:07.831Z"
   },
   {
    "duration": 0,
    "start_time": "2023-11-17T23:09:07.831Z"
   },
   {
    "duration": 0,
    "start_time": "2023-11-17T23:09:07.833Z"
   },
   {
    "duration": 0,
    "start_time": "2023-11-17T23:09:07.834Z"
   },
   {
    "duration": 0,
    "start_time": "2023-11-17T23:09:07.834Z"
   },
   {
    "duration": 0,
    "start_time": "2023-11-17T23:09:07.899Z"
   },
   {
    "duration": 0,
    "start_time": "2023-11-17T23:09:07.900Z"
   },
   {
    "duration": 0,
    "start_time": "2023-11-17T23:09:07.901Z"
   },
   {
    "duration": 0,
    "start_time": "2023-11-17T23:09:07.902Z"
   },
   {
    "duration": 0,
    "start_time": "2023-11-17T23:09:07.903Z"
   },
   {
    "duration": 0,
    "start_time": "2023-11-17T23:09:07.903Z"
   },
   {
    "duration": 0,
    "start_time": "2023-11-17T23:09:07.904Z"
   },
   {
    "duration": 0,
    "start_time": "2023-11-17T23:09:07.905Z"
   },
   {
    "duration": 0,
    "start_time": "2023-11-17T23:09:07.906Z"
   },
   {
    "duration": 0,
    "start_time": "2023-11-17T23:09:07.907Z"
   },
   {
    "duration": 0,
    "start_time": "2023-11-17T23:09:07.908Z"
   },
   {
    "duration": 0,
    "start_time": "2023-11-17T23:09:07.909Z"
   },
   {
    "duration": 0,
    "start_time": "2023-11-17T23:09:07.910Z"
   },
   {
    "duration": 0,
    "start_time": "2023-11-17T23:09:07.911Z"
   },
   {
    "duration": 0,
    "start_time": "2023-11-17T23:09:07.912Z"
   },
   {
    "duration": 1,
    "start_time": "2023-11-17T23:09:07.912Z"
   },
   {
    "duration": 0,
    "start_time": "2023-11-17T23:09:07.913Z"
   },
   {
    "duration": 0,
    "start_time": "2023-11-17T23:09:07.914Z"
   },
   {
    "duration": 0,
    "start_time": "2023-11-17T23:09:07.915Z"
   },
   {
    "duration": 0,
    "start_time": "2023-11-17T23:09:07.916Z"
   },
   {
    "duration": 5,
    "start_time": "2023-11-17T23:09:38.543Z"
   },
   {
    "duration": 779,
    "start_time": "2023-11-17T23:09:38.549Z"
   },
   {
    "duration": 4,
    "start_time": "2023-11-17T23:09:39.330Z"
   },
   {
    "duration": 25,
    "start_time": "2023-11-17T23:09:39.335Z"
   },
   {
    "duration": 8,
    "start_time": "2023-11-17T23:09:39.362Z"
   },
   {
    "duration": 7,
    "start_time": "2023-11-17T23:09:39.371Z"
   },
   {
    "duration": 22,
    "start_time": "2023-11-17T23:09:39.379Z"
   },
   {
    "duration": 12,
    "start_time": "2023-11-17T23:09:39.402Z"
   },
   {
    "duration": 8,
    "start_time": "2023-11-17T23:09:39.416Z"
   },
   {
    "duration": 26,
    "start_time": "2023-11-17T23:09:39.425Z"
   },
   {
    "duration": 49,
    "start_time": "2023-11-17T23:09:39.453Z"
   },
   {
    "duration": 7,
    "start_time": "2023-11-17T23:09:39.503Z"
   },
   {
    "duration": 40,
    "start_time": "2023-11-17T23:09:39.511Z"
   },
   {
    "duration": 22,
    "start_time": "2023-11-17T23:09:39.552Z"
   },
   {
    "duration": 23,
    "start_time": "2023-11-17T23:09:39.576Z"
   },
   {
    "duration": 21,
    "start_time": "2023-11-17T23:09:39.600Z"
   },
   {
    "duration": 13,
    "start_time": "2023-11-17T23:09:39.622Z"
   },
   {
    "duration": 27,
    "start_time": "2023-11-17T23:09:39.637Z"
   },
   {
    "duration": 15,
    "start_time": "2023-11-17T23:09:39.665Z"
   },
   {
    "duration": 21,
    "start_time": "2023-11-17T23:09:39.682Z"
   },
   {
    "duration": 15,
    "start_time": "2023-11-17T23:09:39.705Z"
   },
   {
    "duration": 23,
    "start_time": "2023-11-17T23:09:39.721Z"
   },
   {
    "duration": 17,
    "start_time": "2023-11-17T23:09:39.746Z"
   },
   {
    "duration": 27,
    "start_time": "2023-11-17T23:09:39.765Z"
   },
   {
    "duration": 17,
    "start_time": "2023-11-17T23:09:39.794Z"
   },
   {
    "duration": 12,
    "start_time": "2023-11-17T23:09:39.812Z"
   },
   {
    "duration": 14,
    "start_time": "2023-11-17T23:09:39.826Z"
   },
   {
    "duration": 1472,
    "start_time": "2023-11-17T23:09:39.842Z"
   },
   {
    "duration": 1727,
    "start_time": "2023-11-17T23:09:41.318Z"
   },
   {
    "duration": 1955,
    "start_time": "2023-11-17T23:09:43.047Z"
   },
   {
    "duration": 638,
    "start_time": "2023-11-17T23:09:45.004Z"
   },
   {
    "duration": 1326,
    "start_time": "2023-11-17T23:09:45.643Z"
   },
   {
    "duration": 7,
    "start_time": "2023-11-17T23:09:46.971Z"
   },
   {
    "duration": 569,
    "start_time": "2023-11-17T23:09:46.980Z"
   },
   {
    "duration": 8,
    "start_time": "2023-11-17T23:09:47.551Z"
   },
   {
    "duration": 490,
    "start_time": "2023-11-17T23:09:47.560Z"
   },
   {
    "duration": 5,
    "start_time": "2023-11-17T23:09:48.051Z"
   },
   {
    "duration": 10,
    "start_time": "2023-11-17T23:09:48.057Z"
   },
   {
    "duration": 5,
    "start_time": "2023-11-17T23:09:48.069Z"
   },
   {
    "duration": 39,
    "start_time": "2023-11-17T23:09:48.075Z"
   },
   {
    "duration": 463,
    "start_time": "2023-11-17T23:09:48.116Z"
   },
   {
    "duration": 18,
    "start_time": "2023-11-17T23:09:48.581Z"
   },
   {
    "duration": 8,
    "start_time": "2023-11-17T23:09:48.600Z"
   },
   {
    "duration": 4,
    "start_time": "2023-11-17T23:09:48.610Z"
   },
   {
    "duration": 4,
    "start_time": "2023-11-17T23:09:48.616Z"
   },
   {
    "duration": 4,
    "start_time": "2023-11-17T23:09:48.622Z"
   },
   {
    "duration": 3,
    "start_time": "2023-11-17T23:09:48.628Z"
   },
   {
    "duration": 5,
    "start_time": "2023-11-17T23:09:48.633Z"
   },
   {
    "duration": 6,
    "start_time": "2023-11-17T23:09:48.640Z"
   },
   {
    "duration": 6,
    "start_time": "2023-11-17T23:09:48.648Z"
   },
   {
    "duration": 4,
    "start_time": "2023-11-17T23:09:48.655Z"
   },
   {
    "duration": 39,
    "start_time": "2023-11-17T23:09:48.660Z"
   },
   {
    "duration": 14,
    "start_time": "2023-11-17T23:09:48.701Z"
   },
   {
    "duration": 16,
    "start_time": "2023-11-17T23:09:48.717Z"
   },
   {
    "duration": 0,
    "start_time": "2023-11-17T23:09:48.735Z"
   },
   {
    "duration": 0,
    "start_time": "2023-11-17T23:09:48.736Z"
   },
   {
    "duration": 0,
    "start_time": "2023-11-17T23:09:48.737Z"
   },
   {
    "duration": 0,
    "start_time": "2023-11-17T23:09:48.739Z"
   },
   {
    "duration": 0,
    "start_time": "2023-11-17T23:09:48.740Z"
   },
   {
    "duration": 0,
    "start_time": "2023-11-17T23:09:48.741Z"
   },
   {
    "duration": 0,
    "start_time": "2023-11-17T23:09:48.742Z"
   },
   {
    "duration": 0,
    "start_time": "2023-11-17T23:09:48.743Z"
   },
   {
    "duration": 0,
    "start_time": "2023-11-17T23:09:48.744Z"
   },
   {
    "duration": 0,
    "start_time": "2023-11-17T23:09:48.746Z"
   },
   {
    "duration": 0,
    "start_time": "2023-11-17T23:09:48.747Z"
   },
   {
    "duration": 0,
    "start_time": "2023-11-17T23:09:48.747Z"
   },
   {
    "duration": 1,
    "start_time": "2023-11-17T23:09:48.748Z"
   },
   {
    "duration": 0,
    "start_time": "2023-11-17T23:09:48.750Z"
   },
   {
    "duration": 0,
    "start_time": "2023-11-17T23:09:48.751Z"
   },
   {
    "duration": 0,
    "start_time": "2023-11-17T23:09:48.752Z"
   },
   {
    "duration": 0,
    "start_time": "2023-11-17T23:09:48.753Z"
   },
   {
    "duration": 0,
    "start_time": "2023-11-17T23:09:48.754Z"
   },
   {
    "duration": 6,
    "start_time": "2023-11-17T23:10:41.612Z"
   },
   {
    "duration": 1387,
    "start_time": "2023-11-17T23:10:46.731Z"
   },
   {
    "duration": 741,
    "start_time": "2023-11-17T23:10:48.120Z"
   },
   {
    "duration": 37,
    "start_time": "2023-11-17T23:10:48.863Z"
   },
   {
    "duration": 14,
    "start_time": "2023-11-17T23:10:48.902Z"
   },
   {
    "duration": 19,
    "start_time": "2023-11-17T23:10:48.917Z"
   },
   {
    "duration": 6,
    "start_time": "2023-11-17T23:10:48.938Z"
   },
   {
    "duration": 4,
    "start_time": "2023-11-17T23:10:48.946Z"
   },
   {
    "duration": 55,
    "start_time": "2023-11-17T23:10:48.952Z"
   },
   {
    "duration": 6,
    "start_time": "2023-11-17T23:10:49.009Z"
   },
   {
    "duration": 6,
    "start_time": "2023-11-17T23:10:49.017Z"
   },
   {
    "duration": 104,
    "start_time": "2023-11-17T23:10:49.025Z"
   },
   {
    "duration": 10,
    "start_time": "2023-11-17T23:10:49.131Z"
   },
   {
    "duration": 68,
    "start_time": "2023-11-17T23:10:49.143Z"
   },
   {
    "duration": 8,
    "start_time": "2023-11-17T23:10:49.213Z"
   },
   {
    "duration": 14,
    "start_time": "2023-11-17T23:10:49.222Z"
   },
   {
    "duration": 65,
    "start_time": "2023-11-17T23:10:49.237Z"
   },
   {
    "duration": 4,
    "start_time": "2023-11-17T23:10:49.303Z"
   },
   {
    "duration": 11,
    "start_time": "2023-11-17T23:10:49.308Z"
   },
   {
    "duration": 13,
    "start_time": "2023-11-17T23:10:49.321Z"
   },
   {
    "duration": 7,
    "start_time": "2023-11-17T23:10:49.336Z"
   },
   {
    "duration": 3,
    "start_time": "2023-11-17T23:10:49.400Z"
   },
   {
    "duration": 14,
    "start_time": "2023-11-17T23:10:49.405Z"
   },
   {
    "duration": 2,
    "start_time": "2023-11-17T23:10:49.421Z"
   },
   {
    "duration": 12,
    "start_time": "2023-11-17T23:10:49.425Z"
   },
   {
    "duration": 7,
    "start_time": "2023-11-17T23:10:49.439Z"
   },
   {
    "duration": 53,
    "start_time": "2023-11-17T23:10:49.447Z"
   },
   {
    "duration": 4,
    "start_time": "2023-11-17T23:10:49.502Z"
   },
   {
    "duration": 1877,
    "start_time": "2023-11-17T23:10:49.510Z"
   },
   {
    "duration": 1418,
    "start_time": "2023-11-17T23:10:51.388Z"
   },
   {
    "duration": 1474,
    "start_time": "2023-11-17T23:10:52.807Z"
   },
   {
    "duration": 638,
    "start_time": "2023-11-17T23:10:54.283Z"
   },
   {
    "duration": 1247,
    "start_time": "2023-11-17T23:10:54.922Z"
   },
   {
    "duration": 7,
    "start_time": "2023-11-17T23:10:56.171Z"
   },
   {
    "duration": 586,
    "start_time": "2023-11-17T23:10:56.180Z"
   },
   {
    "duration": 8,
    "start_time": "2023-11-17T23:10:56.768Z"
   },
   {
    "duration": 460,
    "start_time": "2023-11-17T23:10:56.777Z"
   },
   {
    "duration": 4,
    "start_time": "2023-11-17T23:10:57.238Z"
   },
   {
    "duration": 4,
    "start_time": "2023-11-17T23:10:57.243Z"
   },
   {
    "duration": 5,
    "start_time": "2023-11-17T23:10:57.248Z"
   },
   {
    "duration": 23,
    "start_time": "2023-11-17T23:10:57.254Z"
   },
   {
    "duration": 457,
    "start_time": "2023-11-17T23:10:57.278Z"
   },
   {
    "duration": 11,
    "start_time": "2023-11-17T23:10:57.737Z"
   },
   {
    "duration": 9,
    "start_time": "2023-11-17T23:10:57.750Z"
   },
   {
    "duration": 6,
    "start_time": "2023-11-17T23:10:57.761Z"
   },
   {
    "duration": 4,
    "start_time": "2023-11-17T23:10:57.769Z"
   },
   {
    "duration": 29,
    "start_time": "2023-11-17T23:10:57.774Z"
   },
   {
    "duration": 4,
    "start_time": "2023-11-17T23:10:57.805Z"
   },
   {
    "duration": 21,
    "start_time": "2023-11-17T23:10:57.810Z"
   },
   {
    "duration": 6,
    "start_time": "2023-11-17T23:10:57.833Z"
   },
   {
    "duration": 17,
    "start_time": "2023-11-17T23:10:57.840Z"
   },
   {
    "duration": 7,
    "start_time": "2023-11-17T23:10:57.858Z"
   },
   {
    "duration": 4,
    "start_time": "2023-11-17T23:10:57.867Z"
   },
   {
    "duration": 5,
    "start_time": "2023-11-17T23:10:57.872Z"
   },
   {
    "duration": 4,
    "start_time": "2023-11-17T23:10:57.878Z"
   },
   {
    "duration": 111,
    "start_time": "2023-11-17T23:10:57.883Z"
   },
   {
    "duration": 0,
    "start_time": "2023-11-17T23:10:57.995Z"
   },
   {
    "duration": 0,
    "start_time": "2023-11-17T23:10:57.998Z"
   },
   {
    "duration": 0,
    "start_time": "2023-11-17T23:10:58.000Z"
   },
   {
    "duration": 0,
    "start_time": "2023-11-17T23:10:58.001Z"
   },
   {
    "duration": 0,
    "start_time": "2023-11-17T23:10:58.002Z"
   },
   {
    "duration": 0,
    "start_time": "2023-11-17T23:10:58.003Z"
   },
   {
    "duration": 0,
    "start_time": "2023-11-17T23:10:58.004Z"
   },
   {
    "duration": 0,
    "start_time": "2023-11-17T23:10:58.005Z"
   },
   {
    "duration": 0,
    "start_time": "2023-11-17T23:10:58.006Z"
   },
   {
    "duration": 0,
    "start_time": "2023-11-17T23:10:58.006Z"
   },
   {
    "duration": 0,
    "start_time": "2023-11-17T23:10:58.007Z"
   },
   {
    "duration": 0,
    "start_time": "2023-11-17T23:10:58.008Z"
   },
   {
    "duration": 0,
    "start_time": "2023-11-17T23:10:58.009Z"
   },
   {
    "duration": 0,
    "start_time": "2023-11-17T23:10:58.010Z"
   },
   {
    "duration": 0,
    "start_time": "2023-11-17T23:10:58.011Z"
   },
   {
    "duration": 0,
    "start_time": "2023-11-17T23:10:58.012Z"
   },
   {
    "duration": 0,
    "start_time": "2023-11-17T23:10:58.013Z"
   },
   {
    "duration": 1465,
    "start_time": "2023-11-17T23:11:31.029Z"
   },
   {
    "duration": 731,
    "start_time": "2023-11-17T23:11:32.496Z"
   },
   {
    "duration": 5,
    "start_time": "2023-11-17T23:11:33.229Z"
   },
   {
    "duration": 18,
    "start_time": "2023-11-17T23:11:33.236Z"
   },
   {
    "duration": 2,
    "start_time": "2023-11-17T23:11:33.256Z"
   },
   {
    "duration": 7,
    "start_time": "2023-11-17T23:11:33.260Z"
   },
   {
    "duration": 4,
    "start_time": "2023-11-17T23:11:33.268Z"
   },
   {
    "duration": 26,
    "start_time": "2023-11-17T23:11:33.274Z"
   },
   {
    "duration": 6,
    "start_time": "2023-11-17T23:11:33.302Z"
   },
   {
    "duration": 16,
    "start_time": "2023-11-17T23:11:33.311Z"
   },
   {
    "duration": 42,
    "start_time": "2023-11-17T23:11:33.328Z"
   },
   {
    "duration": 7,
    "start_time": "2023-11-17T23:11:33.371Z"
   },
   {
    "duration": 24,
    "start_time": "2023-11-17T23:11:33.379Z"
   },
   {
    "duration": 11,
    "start_time": "2023-11-17T23:11:33.405Z"
   },
   {
    "duration": 26,
    "start_time": "2023-11-17T23:11:33.418Z"
   },
   {
    "duration": 20,
    "start_time": "2023-11-17T23:11:33.446Z"
   },
   {
    "duration": 4,
    "start_time": "2023-11-17T23:11:33.467Z"
   },
   {
    "duration": 13,
    "start_time": "2023-11-17T23:11:33.472Z"
   },
   {
    "duration": 17,
    "start_time": "2023-11-17T23:11:33.487Z"
   },
   {
    "duration": 11,
    "start_time": "2023-11-17T23:11:33.506Z"
   },
   {
    "duration": 4,
    "start_time": "2023-11-17T23:11:33.519Z"
   },
   {
    "duration": 13,
    "start_time": "2023-11-17T23:11:33.525Z"
   },
   {
    "duration": 8,
    "start_time": "2023-11-17T23:11:33.540Z"
   },
   {
    "duration": 15,
    "start_time": "2023-11-17T23:11:33.552Z"
   },
   {
    "duration": 32,
    "start_time": "2023-11-17T23:11:33.568Z"
   },
   {
    "duration": 3,
    "start_time": "2023-11-17T23:11:33.601Z"
   },
   {
    "duration": 12,
    "start_time": "2023-11-17T23:11:33.605Z"
   },
   {
    "duration": 2147,
    "start_time": "2023-11-17T23:11:33.621Z"
   },
   {
    "duration": 2132,
    "start_time": "2023-11-17T23:11:35.770Z"
   },
   {
    "duration": 1582,
    "start_time": "2023-11-17T23:11:37.904Z"
   },
   {
    "duration": 645,
    "start_time": "2023-11-17T23:11:39.487Z"
   },
   {
    "duration": 1271,
    "start_time": "2023-11-17T23:11:40.133Z"
   },
   {
    "duration": 8,
    "start_time": "2023-11-17T23:11:41.406Z"
   },
   {
    "duration": 577,
    "start_time": "2023-11-17T23:11:41.415Z"
   },
   {
    "duration": 11,
    "start_time": "2023-11-17T23:11:41.994Z"
   },
   {
    "duration": 471,
    "start_time": "2023-11-17T23:11:42.006Z"
   },
   {
    "duration": 4,
    "start_time": "2023-11-17T23:11:42.479Z"
   },
   {
    "duration": 17,
    "start_time": "2023-11-17T23:11:42.484Z"
   },
   {
    "duration": 4,
    "start_time": "2023-11-17T23:11:42.502Z"
   },
   {
    "duration": 23,
    "start_time": "2023-11-17T23:11:42.507Z"
   },
   {
    "duration": 455,
    "start_time": "2023-11-17T23:11:42.532Z"
   },
   {
    "duration": 18,
    "start_time": "2023-11-17T23:11:42.989Z"
   },
   {
    "duration": 10,
    "start_time": "2023-11-17T23:11:43.009Z"
   },
   {
    "duration": 8,
    "start_time": "2023-11-17T23:11:43.020Z"
   },
   {
    "duration": 5,
    "start_time": "2023-11-17T23:11:43.030Z"
   },
   {
    "duration": 6,
    "start_time": "2023-11-17T23:11:43.036Z"
   },
   {
    "duration": 4,
    "start_time": "2023-11-17T23:11:43.044Z"
   },
   {
    "duration": 5,
    "start_time": "2023-11-17T23:11:43.050Z"
   },
   {
    "duration": 42,
    "start_time": "2023-11-17T23:11:43.057Z"
   },
   {
    "duration": 7,
    "start_time": "2023-11-17T23:11:43.101Z"
   },
   {
    "duration": 5,
    "start_time": "2023-11-17T23:11:43.109Z"
   },
   {
    "duration": 4,
    "start_time": "2023-11-17T23:11:43.116Z"
   },
   {
    "duration": 3,
    "start_time": "2023-11-17T23:11:43.121Z"
   },
   {
    "duration": 12,
    "start_time": "2023-11-17T23:11:43.126Z"
   },
   {
    "duration": 1460,
    "start_time": "2023-11-17T23:11:43.140Z"
   },
   {
    "duration": 1304,
    "start_time": "2023-11-17T23:11:44.602Z"
   },
   {
    "duration": 14502,
    "start_time": "2023-11-17T23:11:45.908Z"
   },
   {
    "duration": 49965,
    "start_time": "2023-11-17T23:12:00.412Z"
   },
   {
    "duration": 60430,
    "start_time": "2023-11-17T23:12:50.379Z"
   },
   {
    "duration": 0,
    "start_time": "2023-11-17T23:13:50.812Z"
   },
   {
    "duration": 0,
    "start_time": "2023-11-17T23:13:50.813Z"
   },
   {
    "duration": 0,
    "start_time": "2023-11-17T23:13:50.814Z"
   },
   {
    "duration": 0,
    "start_time": "2023-11-17T23:13:50.815Z"
   },
   {
    "duration": 0,
    "start_time": "2023-11-17T23:13:50.816Z"
   },
   {
    "duration": 0,
    "start_time": "2023-11-17T23:13:50.817Z"
   },
   {
    "duration": 0,
    "start_time": "2023-11-17T23:13:50.818Z"
   },
   {
    "duration": 0,
    "start_time": "2023-11-17T23:13:50.819Z"
   },
   {
    "duration": 0,
    "start_time": "2023-11-17T23:13:50.820Z"
   },
   {
    "duration": 0,
    "start_time": "2023-11-17T23:13:50.821Z"
   },
   {
    "duration": 0,
    "start_time": "2023-11-17T23:13:50.822Z"
   },
   {
    "duration": 0,
    "start_time": "2023-11-17T23:13:50.823Z"
   },
   {
    "duration": 0,
    "start_time": "2023-11-17T23:13:50.824Z"
   },
   {
    "duration": 1380,
    "start_time": "2023-11-17T23:17:07.619Z"
   },
   {
    "duration": 1302,
    "start_time": "2023-11-17T23:17:09.001Z"
   },
   {
    "duration": 14119,
    "start_time": "2023-11-17T23:17:10.305Z"
   },
   {
    "duration": 6457,
    "start_time": "2023-11-17T23:17:24.426Z"
   },
   {
    "duration": 24984,
    "start_time": "2023-11-17T23:17:30.885Z"
   },
   {
    "duration": 25378,
    "start_time": "2023-11-17T23:17:55.871Z"
   },
   {
    "duration": 8,
    "start_time": "2023-11-17T23:18:27.197Z"
   },
   {
    "duration": 9,
    "start_time": "2023-11-17T23:18:27.870Z"
   },
   {
    "duration": 9,
    "start_time": "2023-11-17T23:18:33.157Z"
   },
   {
    "duration": 10,
    "start_time": "2023-11-17T23:18:55.670Z"
   },
   {
    "duration": 5,
    "start_time": "2023-11-17T23:19:23.190Z"
   },
   {
    "duration": 1106,
    "start_time": "2023-11-17T23:19:31.294Z"
   },
   {
    "duration": 997,
    "start_time": "2023-11-17T23:19:32.402Z"
   },
   {
    "duration": 5241,
    "start_time": "2023-11-17T23:19:34.584Z"
   },
   {
    "duration": 18864,
    "start_time": "2023-11-17T23:19:41.366Z"
   },
   {
    "duration": 3,
    "start_time": "2023-11-17T23:20:01.599Z"
   },
   {
    "duration": 15,
    "start_time": "2023-11-17T23:20:02.789Z"
   },
   {
    "duration": 17,
    "start_time": "2023-11-17T23:20:26.735Z"
   },
   {
    "duration": 9,
    "start_time": "2023-11-17T23:20:32.752Z"
   },
   {
    "duration": 4,
    "start_time": "2023-11-17T23:20:41.756Z"
   },
   {
    "duration": 8,
    "start_time": "2023-11-17T23:20:43.863Z"
   },
   {
    "duration": 10,
    "start_time": "2023-11-17T23:20:45.237Z"
   },
   {
    "duration": 12,
    "start_time": "2023-11-17T23:20:47.230Z"
   },
   {
    "duration": 5,
    "start_time": "2023-11-17T23:21:11.756Z"
   },
   {
    "duration": 11,
    "start_time": "2023-11-17T23:21:14.503Z"
   },
   {
    "duration": 6,
    "start_time": "2023-11-17T23:21:29.920Z"
   },
   {
    "duration": 6,
    "start_time": "2023-11-17T23:21:31.479Z"
   },
   {
    "duration": 3,
    "start_time": "2023-11-17T23:21:33.045Z"
   },
   {
    "duration": 38711,
    "start_time": "2023-11-17T23:22:17.197Z"
   },
   {
    "duration": 1535,
    "start_time": "2023-11-17T23:23:01.235Z"
   },
   {
    "duration": 782,
    "start_time": "2023-11-17T23:23:02.772Z"
   },
   {
    "duration": 6,
    "start_time": "2023-11-17T23:23:03.555Z"
   },
   {
    "duration": 16,
    "start_time": "2023-11-17T23:23:03.563Z"
   },
   {
    "duration": 2,
    "start_time": "2023-11-17T23:23:03.581Z"
   },
   {
    "duration": 16,
    "start_time": "2023-11-17T23:23:03.585Z"
   },
   {
    "duration": 10,
    "start_time": "2023-11-17T23:23:03.602Z"
   },
   {
    "duration": 19,
    "start_time": "2023-11-17T23:23:03.614Z"
   },
   {
    "duration": 8,
    "start_time": "2023-11-17T23:23:03.635Z"
   },
   {
    "duration": 6,
    "start_time": "2023-11-17T23:23:03.646Z"
   },
   {
    "duration": 45,
    "start_time": "2023-11-17T23:23:03.654Z"
   },
   {
    "duration": 9,
    "start_time": "2023-11-17T23:23:03.701Z"
   },
   {
    "duration": 6,
    "start_time": "2023-11-17T23:23:03.711Z"
   },
   {
    "duration": 20,
    "start_time": "2023-11-17T23:23:03.719Z"
   },
   {
    "duration": 14,
    "start_time": "2023-11-17T23:23:03.740Z"
   },
   {
    "duration": 14,
    "start_time": "2023-11-17T23:23:03.756Z"
   },
   {
    "duration": 29,
    "start_time": "2023-11-17T23:23:03.772Z"
   },
   {
    "duration": 10,
    "start_time": "2023-11-17T23:23:03.803Z"
   },
   {
    "duration": 23,
    "start_time": "2023-11-17T23:23:03.814Z"
   },
   {
    "duration": 9,
    "start_time": "2023-11-17T23:23:03.838Z"
   },
   {
    "duration": 6,
    "start_time": "2023-11-17T23:23:03.848Z"
   },
   {
    "duration": 19,
    "start_time": "2023-11-17T23:23:03.856Z"
   },
   {
    "duration": 2,
    "start_time": "2023-11-17T23:23:03.877Z"
   },
   {
    "duration": 27,
    "start_time": "2023-11-17T23:23:03.881Z"
   },
   {
    "duration": 7,
    "start_time": "2023-11-17T23:23:03.909Z"
   },
   {
    "duration": 22,
    "start_time": "2023-11-17T23:23:03.918Z"
   },
   {
    "duration": 6,
    "start_time": "2023-11-17T23:23:03.941Z"
   },
   {
    "duration": 1516,
    "start_time": "2023-11-17T23:23:03.952Z"
   },
   {
    "duration": 1511,
    "start_time": "2023-11-17T23:23:05.470Z"
   },
   {
    "duration": 1494,
    "start_time": "2023-11-17T23:23:06.983Z"
   },
   {
    "duration": 678,
    "start_time": "2023-11-17T23:23:08.479Z"
   },
   {
    "duration": 1334,
    "start_time": "2023-11-17T23:23:09.159Z"
   },
   {
    "duration": 9,
    "start_time": "2023-11-17T23:23:10.498Z"
   },
   {
    "duration": 604,
    "start_time": "2023-11-17T23:23:10.508Z"
   },
   {
    "duration": 9,
    "start_time": "2023-11-17T23:23:11.113Z"
   },
   {
    "duration": 502,
    "start_time": "2023-11-17T23:23:11.123Z"
   },
   {
    "duration": 4,
    "start_time": "2023-11-17T23:23:11.626Z"
   },
   {
    "duration": 4,
    "start_time": "2023-11-17T23:23:11.631Z"
   },
   {
    "duration": 4,
    "start_time": "2023-11-17T23:23:11.637Z"
   },
   {
    "duration": 23,
    "start_time": "2023-11-17T23:23:11.643Z"
   },
   {
    "duration": 505,
    "start_time": "2023-11-17T23:23:11.668Z"
   },
   {
    "duration": 11,
    "start_time": "2023-11-17T23:23:12.174Z"
   },
   {
    "duration": 18,
    "start_time": "2023-11-17T23:23:12.186Z"
   },
   {
    "duration": 6,
    "start_time": "2023-11-17T23:23:12.205Z"
   },
   {
    "duration": 8,
    "start_time": "2023-11-17T23:23:12.213Z"
   },
   {
    "duration": 11,
    "start_time": "2023-11-17T23:23:12.223Z"
   },
   {
    "duration": 13,
    "start_time": "2023-11-17T23:23:12.235Z"
   },
   {
    "duration": 7,
    "start_time": "2023-11-17T23:23:12.249Z"
   },
   {
    "duration": 17,
    "start_time": "2023-11-17T23:23:12.257Z"
   },
   {
    "duration": 10,
    "start_time": "2023-11-17T23:23:12.275Z"
   },
   {
    "duration": 5,
    "start_time": "2023-11-17T23:23:12.287Z"
   },
   {
    "duration": 6,
    "start_time": "2023-11-17T23:23:12.293Z"
   },
   {
    "duration": 4,
    "start_time": "2023-11-17T23:23:12.301Z"
   },
   {
    "duration": 6,
    "start_time": "2023-11-17T23:23:12.306Z"
   },
   {
    "duration": 1389,
    "start_time": "2023-11-17T23:23:12.313Z"
   },
   {
    "duration": 1896,
    "start_time": "2023-11-17T23:23:13.704Z"
   },
   {
    "duration": 15309,
    "start_time": "2023-11-17T23:23:15.603Z"
   },
   {
    "duration": 44262,
    "start_time": "2023-11-17T23:23:30.913Z"
   },
   {
    "duration": 559136,
    "start_time": "2023-11-17T23:24:15.177Z"
   },
   {
    "duration": 0,
    "start_time": "2023-11-17T23:33:34.315Z"
   },
   {
    "duration": 0,
    "start_time": "2023-11-17T23:33:34.317Z"
   },
   {
    "duration": 0,
    "start_time": "2023-11-17T23:33:34.318Z"
   },
   {
    "duration": 0,
    "start_time": "2023-11-17T23:33:34.319Z"
   },
   {
    "duration": 0,
    "start_time": "2023-11-17T23:33:34.320Z"
   },
   {
    "duration": 0,
    "start_time": "2023-11-17T23:33:34.321Z"
   },
   {
    "duration": 0,
    "start_time": "2023-11-17T23:33:34.322Z"
   },
   {
    "duration": 0,
    "start_time": "2023-11-17T23:33:34.323Z"
   },
   {
    "duration": 0,
    "start_time": "2023-11-17T23:33:34.324Z"
   },
   {
    "duration": 0,
    "start_time": "2023-11-17T23:33:34.325Z"
   },
   {
    "duration": 0,
    "start_time": "2023-11-17T23:33:34.326Z"
   },
   {
    "duration": 0,
    "start_time": "2023-11-17T23:33:34.327Z"
   },
   {
    "duration": 0,
    "start_time": "2023-11-17T23:33:34.328Z"
   },
   {
    "duration": 1426,
    "start_time": "2023-11-17T23:33:46.065Z"
   },
   {
    "duration": 740,
    "start_time": "2023-11-17T23:33:47.493Z"
   },
   {
    "duration": 6,
    "start_time": "2023-11-17T23:33:48.234Z"
   },
   {
    "duration": 25,
    "start_time": "2023-11-17T23:33:48.242Z"
   },
   {
    "duration": 3,
    "start_time": "2023-11-17T23:33:48.269Z"
   },
   {
    "duration": 17,
    "start_time": "2023-11-17T23:33:48.274Z"
   },
   {
    "duration": 16,
    "start_time": "2023-11-17T23:33:48.293Z"
   },
   {
    "duration": 10,
    "start_time": "2023-11-17T23:33:48.311Z"
   },
   {
    "duration": 5,
    "start_time": "2023-11-17T23:33:48.322Z"
   },
   {
    "duration": 33,
    "start_time": "2023-11-17T23:33:48.329Z"
   },
   {
    "duration": 42,
    "start_time": "2023-11-17T23:33:48.364Z"
   },
   {
    "duration": 7,
    "start_time": "2023-11-17T23:33:48.407Z"
   },
   {
    "duration": 10,
    "start_time": "2023-11-17T23:33:48.415Z"
   },
   {
    "duration": 13,
    "start_time": "2023-11-17T23:33:48.426Z"
   },
   {
    "duration": 24,
    "start_time": "2023-11-17T23:33:48.441Z"
   },
   {
    "duration": 28,
    "start_time": "2023-11-17T23:33:48.467Z"
   },
   {
    "duration": 4,
    "start_time": "2023-11-17T23:33:48.497Z"
   },
   {
    "duration": 22,
    "start_time": "2023-11-17T23:33:48.502Z"
   },
   {
    "duration": 13,
    "start_time": "2023-11-17T23:33:48.526Z"
   },
   {
    "duration": 8,
    "start_time": "2023-11-17T23:33:48.540Z"
   },
   {
    "duration": 7,
    "start_time": "2023-11-17T23:33:48.550Z"
   },
   {
    "duration": 14,
    "start_time": "2023-11-17T23:33:48.559Z"
   },
   {
    "duration": 4,
    "start_time": "2023-11-17T23:33:48.574Z"
   },
   {
    "duration": 28,
    "start_time": "2023-11-17T23:33:48.580Z"
   },
   {
    "duration": 7,
    "start_time": "2023-11-17T23:33:48.610Z"
   },
   {
    "duration": 6,
    "start_time": "2023-11-17T23:33:48.619Z"
   },
   {
    "duration": 6,
    "start_time": "2023-11-17T23:33:48.626Z"
   },
   {
    "duration": 1492,
    "start_time": "2023-11-17T23:33:48.636Z"
   },
   {
    "duration": 1476,
    "start_time": "2023-11-17T23:33:50.130Z"
   },
   {
    "duration": 1492,
    "start_time": "2023-11-17T23:33:51.607Z"
   },
   {
    "duration": 643,
    "start_time": "2023-11-17T23:33:53.100Z"
   },
   {
    "duration": 1793,
    "start_time": "2023-11-17T23:33:53.745Z"
   },
   {
    "duration": 60,
    "start_time": "2023-11-17T23:33:55.540Z"
   },
   {
    "duration": 803,
    "start_time": "2023-11-17T23:33:55.601Z"
   },
   {
    "duration": 7,
    "start_time": "2023-11-17T23:33:56.406Z"
   },
   {
    "duration": 620,
    "start_time": "2023-11-17T23:33:56.415Z"
   },
   {
    "duration": 3,
    "start_time": "2023-11-17T23:33:57.037Z"
   },
   {
    "duration": 5,
    "start_time": "2023-11-17T23:33:57.042Z"
   },
   {
    "duration": 18,
    "start_time": "2023-11-17T23:33:57.048Z"
   },
   {
    "duration": 31,
    "start_time": "2023-11-17T23:33:57.068Z"
   },
   {
    "duration": 455,
    "start_time": "2023-11-17T23:33:57.100Z"
   },
   {
    "duration": 11,
    "start_time": "2023-11-17T23:33:57.556Z"
   },
   {
    "duration": 8,
    "start_time": "2023-11-17T23:33:57.568Z"
   },
   {
    "duration": 14,
    "start_time": "2023-11-17T23:33:57.577Z"
   },
   {
    "duration": 4,
    "start_time": "2023-11-17T23:33:57.599Z"
   },
   {
    "duration": 22,
    "start_time": "2023-11-17T23:33:57.604Z"
   },
   {
    "duration": 10,
    "start_time": "2023-11-17T23:33:57.628Z"
   },
   {
    "duration": 7,
    "start_time": "2023-11-17T23:33:57.639Z"
   },
   {
    "duration": 6,
    "start_time": "2023-11-17T23:33:57.647Z"
   },
   {
    "duration": 28,
    "start_time": "2023-11-17T23:33:57.655Z"
   },
   {
    "duration": 28,
    "start_time": "2023-11-17T23:33:57.685Z"
   },
   {
    "duration": 16,
    "start_time": "2023-11-17T23:33:57.716Z"
   },
   {
    "duration": 7,
    "start_time": "2023-11-17T23:33:57.733Z"
   },
   {
    "duration": 23,
    "start_time": "2023-11-17T23:33:57.741Z"
   },
   {
    "duration": 1438,
    "start_time": "2023-11-17T23:33:57.766Z"
   },
   {
    "duration": 1493,
    "start_time": "2023-11-17T23:33:59.207Z"
   },
   {
    "duration": 15044,
    "start_time": "2023-11-17T23:34:00.702Z"
   },
   {
    "duration": 43055,
    "start_time": "2023-11-17T23:34:15.748Z"
   },
   {
    "duration": 14844,
    "start_time": "2023-11-17T23:34:58.804Z"
   },
   {
    "duration": 15919,
    "start_time": "2023-11-17T23:35:13.650Z"
   },
   {
    "duration": 118,
    "start_time": "2023-11-17T23:35:29.570Z"
   },
   {
    "duration": 0,
    "start_time": "2023-11-17T23:35:29.689Z"
   },
   {
    "duration": 0,
    "start_time": "2023-11-17T23:35:29.691Z"
   },
   {
    "duration": 0,
    "start_time": "2023-11-17T23:35:29.692Z"
   },
   {
    "duration": 0,
    "start_time": "2023-11-17T23:35:29.693Z"
   },
   {
    "duration": 0,
    "start_time": "2023-11-17T23:35:29.698Z"
   },
   {
    "duration": 0,
    "start_time": "2023-11-17T23:35:29.699Z"
   },
   {
    "duration": 0,
    "start_time": "2023-11-17T23:35:29.701Z"
   },
   {
    "duration": 0,
    "start_time": "2023-11-17T23:35:29.701Z"
   },
   {
    "duration": 0,
    "start_time": "2023-11-17T23:35:29.702Z"
   },
   {
    "duration": 0,
    "start_time": "2023-11-17T23:35:29.703Z"
   },
   {
    "duration": 0,
    "start_time": "2023-11-17T23:35:29.704Z"
   },
   {
    "duration": 7,
    "start_time": "2023-11-17T23:35:51.169Z"
   },
   {
    "duration": 9,
    "start_time": "2023-11-17T23:35:52.857Z"
   },
   {
    "duration": 4,
    "start_time": "2023-11-17T23:36:00.855Z"
   },
   {
    "duration": 1133,
    "start_time": "2023-11-17T23:36:00.866Z"
   },
   {
    "duration": 999,
    "start_time": "2023-11-17T23:36:02.001Z"
   },
   {
    "duration": 5250,
    "start_time": "2023-11-17T23:36:03.003Z"
   },
   {
    "duration": 18349,
    "start_time": "2023-11-17T23:36:08.254Z"
   },
   {
    "duration": 3,
    "start_time": "2023-11-17T23:36:26.604Z"
   },
   {
    "duration": 16,
    "start_time": "2023-11-17T23:36:26.609Z"
   },
   {
    "duration": 15,
    "start_time": "2023-11-17T23:36:26.626Z"
   },
   {
    "duration": 6,
    "start_time": "2023-11-17T23:36:26.642Z"
   },
   {
    "duration": 8,
    "start_time": "2023-11-17T23:36:26.649Z"
   },
   {
    "duration": 1386,
    "start_time": "2023-11-17T23:36:53.403Z"
   },
   {
    "duration": 743,
    "start_time": "2023-11-17T23:36:54.792Z"
   },
   {
    "duration": 6,
    "start_time": "2023-11-17T23:36:55.537Z"
   },
   {
    "duration": 13,
    "start_time": "2023-11-17T23:36:55.545Z"
   },
   {
    "duration": 4,
    "start_time": "2023-11-17T23:36:55.559Z"
   },
   {
    "duration": 8,
    "start_time": "2023-11-17T23:36:55.565Z"
   },
   {
    "duration": 26,
    "start_time": "2023-11-17T23:36:55.575Z"
   },
   {
    "duration": 5,
    "start_time": "2023-11-17T23:36:55.603Z"
   },
   {
    "duration": 5,
    "start_time": "2023-11-17T23:36:55.610Z"
   },
   {
    "duration": 5,
    "start_time": "2023-11-17T23:36:55.618Z"
   },
   {
    "duration": 43,
    "start_time": "2023-11-17T23:36:55.624Z"
   },
   {
    "duration": 7,
    "start_time": "2023-11-17T23:36:55.668Z"
   },
   {
    "duration": 6,
    "start_time": "2023-11-17T23:36:55.699Z"
   },
   {
    "duration": 10,
    "start_time": "2023-11-17T23:36:55.706Z"
   },
   {
    "duration": 13,
    "start_time": "2023-11-17T23:36:55.717Z"
   },
   {
    "duration": 12,
    "start_time": "2023-11-17T23:36:55.731Z"
   },
   {
    "duration": 3,
    "start_time": "2023-11-17T23:36:55.745Z"
   },
   {
    "duration": 11,
    "start_time": "2023-11-17T23:36:55.749Z"
   },
   {
    "duration": 40,
    "start_time": "2023-11-17T23:36:55.762Z"
   },
   {
    "duration": 7,
    "start_time": "2023-11-17T23:36:55.804Z"
   },
   {
    "duration": 7,
    "start_time": "2023-11-17T23:36:55.812Z"
   },
   {
    "duration": 12,
    "start_time": "2023-11-17T23:36:55.821Z"
   },
   {
    "duration": 2,
    "start_time": "2023-11-17T23:36:55.835Z"
   },
   {
    "duration": 13,
    "start_time": "2023-11-17T23:36:55.838Z"
   },
   {
    "duration": 8,
    "start_time": "2023-11-17T23:36:55.852Z"
   },
   {
    "duration": 6,
    "start_time": "2023-11-17T23:36:55.861Z"
   },
   {
    "duration": 5,
    "start_time": "2023-11-17T23:36:55.899Z"
   },
   {
    "duration": 1422,
    "start_time": "2023-11-17T23:36:55.907Z"
   },
   {
    "duration": 1454,
    "start_time": "2023-11-17T23:36:57.331Z"
   },
   {
    "duration": 1494,
    "start_time": "2023-11-17T23:36:58.787Z"
   },
   {
    "duration": 640,
    "start_time": "2023-11-17T23:37:00.283Z"
   },
   {
    "duration": 1265,
    "start_time": "2023-11-17T23:37:00.924Z"
   },
   {
    "duration": 13,
    "start_time": "2023-11-17T23:37:02.191Z"
   },
   {
    "duration": 586,
    "start_time": "2023-11-17T23:37:02.206Z"
   },
   {
    "duration": 10,
    "start_time": "2023-11-17T23:37:02.794Z"
   },
   {
    "duration": 470,
    "start_time": "2023-11-17T23:37:02.805Z"
   },
   {
    "duration": 4,
    "start_time": "2023-11-17T23:37:03.276Z"
   },
   {
    "duration": 14,
    "start_time": "2023-11-17T23:37:03.281Z"
   },
   {
    "duration": 3,
    "start_time": "2023-11-17T23:37:03.298Z"
   },
   {
    "duration": 24,
    "start_time": "2023-11-17T23:37:03.303Z"
   },
   {
    "duration": 472,
    "start_time": "2023-11-17T23:37:03.329Z"
   },
   {
    "duration": 10,
    "start_time": "2023-11-17T23:37:03.803Z"
   },
   {
    "duration": 9,
    "start_time": "2023-11-17T23:37:03.814Z"
   },
   {
    "duration": 8,
    "start_time": "2023-11-17T23:37:03.824Z"
   },
   {
    "duration": 5,
    "start_time": "2023-11-17T23:37:03.834Z"
   },
   {
    "duration": 5,
    "start_time": "2023-11-17T23:37:03.840Z"
   },
   {
    "duration": 5,
    "start_time": "2023-11-17T23:37:03.846Z"
   },
   {
    "duration": 7,
    "start_time": "2023-11-17T23:37:03.852Z"
   },
   {
    "duration": 7,
    "start_time": "2023-11-17T23:37:03.860Z"
   },
   {
    "duration": 35,
    "start_time": "2023-11-17T23:37:03.868Z"
   },
   {
    "duration": 7,
    "start_time": "2023-11-17T23:37:03.904Z"
   },
   {
    "duration": 5,
    "start_time": "2023-11-17T23:37:03.912Z"
   },
   {
    "duration": 6,
    "start_time": "2023-11-17T23:37:03.918Z"
   },
   {
    "duration": 4,
    "start_time": "2023-11-17T23:37:03.925Z"
   },
   {
    "duration": 1469,
    "start_time": "2023-11-17T23:37:03.930Z"
   },
   {
    "duration": 1502,
    "start_time": "2023-11-17T23:37:05.400Z"
   },
   {
    "duration": 14156,
    "start_time": "2023-11-17T23:37:06.904Z"
   },
   {
    "duration": 43577,
    "start_time": "2023-11-17T23:37:21.062Z"
   },
   {
    "duration": 14839,
    "start_time": "2023-11-17T23:38:04.641Z"
   },
   {
    "duration": 15310,
    "start_time": "2023-11-17T23:38:19.482Z"
   },
   {
    "duration": 8,
    "start_time": "2023-11-17T23:38:34.799Z"
   },
   {
    "duration": 25,
    "start_time": "2023-11-17T23:38:34.808Z"
   },
   {
    "duration": 15,
    "start_time": "2023-11-17T23:38:34.834Z"
   },
   {
    "duration": 958,
    "start_time": "2023-11-17T23:38:34.850Z"
   },
   {
    "duration": 1105,
    "start_time": "2023-11-17T23:38:35.900Z"
   },
   {
    "duration": 5297,
    "start_time": "2023-11-17T23:38:37.009Z"
   },
   {
    "duration": 18465,
    "start_time": "2023-11-17T23:38:42.307Z"
   },
   {
    "duration": 4,
    "start_time": "2023-11-17T23:39:00.774Z"
   },
   {
    "duration": 66,
    "start_time": "2023-11-17T23:39:00.780Z"
   },
   {
    "duration": 51,
    "start_time": "2023-11-17T23:39:00.848Z"
   },
   {
    "duration": 44,
    "start_time": "2023-11-17T23:39:00.901Z"
   },
   {
    "duration": 55,
    "start_time": "2023-11-17T23:39:00.946Z"
   },
   {
    "duration": 1657,
    "start_time": "2023-11-19T22:17:14.891Z"
   },
   {
    "duration": 2931,
    "start_time": "2023-11-19T22:17:16.549Z"
   },
   {
    "duration": 6,
    "start_time": "2023-11-19T22:17:19.481Z"
   },
   {
    "duration": 14,
    "start_time": "2023-11-19T22:17:19.489Z"
   },
   {
    "duration": 3,
    "start_time": "2023-11-19T22:17:19.504Z"
   },
   {
    "duration": 6,
    "start_time": "2023-11-19T22:17:19.508Z"
   },
   {
    "duration": 4,
    "start_time": "2023-11-19T22:17:19.515Z"
   },
   {
    "duration": 5,
    "start_time": "2023-11-19T22:17:19.521Z"
   },
   {
    "duration": 3,
    "start_time": "2023-11-19T22:17:19.528Z"
   },
   {
    "duration": 5,
    "start_time": "2023-11-19T22:17:19.551Z"
   },
   {
    "duration": 37,
    "start_time": "2023-11-19T22:17:19.558Z"
   },
   {
    "duration": 6,
    "start_time": "2023-11-19T22:17:19.597Z"
   },
   {
    "duration": 6,
    "start_time": "2023-11-19T22:17:19.604Z"
   },
   {
    "duration": 8,
    "start_time": "2023-11-19T22:17:19.611Z"
   },
   {
    "duration": 34,
    "start_time": "2023-11-19T22:17:19.620Z"
   },
   {
    "duration": 11,
    "start_time": "2023-11-19T22:17:19.656Z"
   },
   {
    "duration": 3,
    "start_time": "2023-11-19T22:17:19.668Z"
   },
   {
    "duration": 12,
    "start_time": "2023-11-19T22:17:19.673Z"
   },
   {
    "duration": 12,
    "start_time": "2023-11-19T22:17:19.687Z"
   },
   {
    "duration": 7,
    "start_time": "2023-11-19T22:17:19.700Z"
   },
   {
    "duration": 4,
    "start_time": "2023-11-19T22:17:19.708Z"
   },
   {
    "duration": 39,
    "start_time": "2023-11-19T22:17:19.713Z"
   },
   {
    "duration": 3,
    "start_time": "2023-11-19T22:17:19.753Z"
   },
   {
    "duration": 13,
    "start_time": "2023-11-19T22:17:19.757Z"
   },
   {
    "duration": 6,
    "start_time": "2023-11-19T22:17:19.771Z"
   },
   {
    "duration": 4,
    "start_time": "2023-11-19T22:17:19.778Z"
   },
   {
    "duration": 4,
    "start_time": "2023-11-19T22:17:19.783Z"
   },
   {
    "duration": 1339,
    "start_time": "2023-11-19T22:17:19.790Z"
   },
   {
    "duration": 1315,
    "start_time": "2023-11-19T22:17:21.130Z"
   },
   {
    "duration": 1360,
    "start_time": "2023-11-19T22:17:22.446Z"
   },
   {
    "duration": 647,
    "start_time": "2023-11-19T22:17:23.807Z"
   },
   {
    "duration": 1166,
    "start_time": "2023-11-19T22:17:24.455Z"
   },
   {
    "duration": 6,
    "start_time": "2023-11-19T22:17:25.623Z"
   },
   {
    "duration": 523,
    "start_time": "2023-11-19T22:17:25.631Z"
   },
   {
    "duration": 9,
    "start_time": "2023-11-19T22:17:26.155Z"
   },
   {
    "duration": 445,
    "start_time": "2023-11-19T22:17:26.166Z"
   },
   {
    "duration": 4,
    "start_time": "2023-11-19T22:17:26.612Z"
   },
   {
    "duration": 4,
    "start_time": "2023-11-19T22:17:26.617Z"
   },
   {
    "duration": 9,
    "start_time": "2023-11-19T22:17:26.622Z"
   },
   {
    "duration": 33,
    "start_time": "2023-11-19T22:17:26.632Z"
   },
   {
    "duration": 412,
    "start_time": "2023-11-19T22:17:26.666Z"
   },
   {
    "duration": 9,
    "start_time": "2023-11-19T22:17:27.079Z"
   },
   {
    "duration": 7,
    "start_time": "2023-11-19T22:17:27.090Z"
   },
   {
    "duration": 6,
    "start_time": "2023-11-19T22:17:27.099Z"
   },
   {
    "duration": 3,
    "start_time": "2023-11-19T22:17:27.107Z"
   },
   {
    "duration": 5,
    "start_time": "2023-11-19T22:17:27.111Z"
   },
   {
    "duration": 4,
    "start_time": "2023-11-19T22:17:27.117Z"
   },
   {
    "duration": 30,
    "start_time": "2023-11-19T22:17:27.122Z"
   },
   {
    "duration": 5,
    "start_time": "2023-11-19T22:17:27.153Z"
   },
   {
    "duration": 9,
    "start_time": "2023-11-19T22:17:27.159Z"
   },
   {
    "duration": 3,
    "start_time": "2023-11-19T22:17:27.170Z"
   },
   {
    "duration": 3,
    "start_time": "2023-11-19T22:17:27.175Z"
   },
   {
    "duration": 3,
    "start_time": "2023-11-19T22:17:27.179Z"
   },
   {
    "duration": 5,
    "start_time": "2023-11-19T22:17:27.183Z"
   },
   {
    "duration": 3,
    "start_time": "2023-11-19T22:17:27.189Z"
   },
   {
    "duration": 1262,
    "start_time": "2023-11-19T22:17:27.193Z"
   },
   {
    "duration": 1296,
    "start_time": "2023-11-19T22:17:28.456Z"
   },
   {
    "duration": 99,
    "start_time": "2023-11-19T22:17:32.049Z"
   },
   {
    "duration": 10023,
    "start_time": "2023-11-19T22:18:18.003Z"
   },
   {
    "duration": 10975,
    "start_time": "2023-11-19T22:18:35.784Z"
   },
   {
    "duration": 11189,
    "start_time": "2023-11-19T22:24:13.410Z"
   },
   {
    "duration": 11225,
    "start_time": "2023-11-19T22:27:43.962Z"
   },
   {
    "duration": 10963,
    "start_time": "2023-11-19T22:30:47.966Z"
   },
   {
    "duration": 11006,
    "start_time": "2023-11-19T22:33:40.860Z"
   },
   {
    "duration": 80,
    "start_time": "2023-11-19T22:34:17.647Z"
   },
   {
    "duration": 10958,
    "start_time": "2023-11-19T22:34:26.248Z"
   },
   {
    "duration": 11133,
    "start_time": "2023-11-19T22:36:26.287Z"
   },
   {
    "duration": 86,
    "start_time": "2023-11-19T22:36:37.422Z"
   },
   {
    "duration": 10986,
    "start_time": "2023-11-19T22:37:21.530Z"
   },
   {
    "duration": 2,
    "start_time": "2023-11-19T22:38:37.891Z"
   },
   {
    "duration": 2,
    "start_time": "2023-11-19T22:38:52.698Z"
   },
   {
    "duration": 28,
    "start_time": "2023-11-19T22:41:10.452Z"
   },
   {
    "duration": 87,
    "start_time": "2023-11-19T22:41:25.051Z"
   },
   {
    "duration": 79,
    "start_time": "2023-11-19T22:41:43.167Z"
   },
   {
    "duration": 83,
    "start_time": "2023-11-19T22:41:54.604Z"
   },
   {
    "duration": 292,
    "start_time": "2023-11-19T22:42:08.708Z"
   },
   {
    "duration": 22,
    "start_time": "2023-11-19T22:42:26.628Z"
   },
   {
    "duration": 21,
    "start_time": "2023-11-19T22:42:55.198Z"
   },
   {
    "duration": 102,
    "start_time": "2023-11-19T22:43:03.726Z"
   },
   {
    "duration": 107676,
    "start_time": "2023-11-19T22:43:56.643Z"
   },
   {
    "duration": 17742,
    "start_time": "2023-11-19T22:45:47.899Z"
   },
   {
    "duration": 10,
    "start_time": "2023-11-19T22:46:09.292Z"
   },
   {
    "duration": 9,
    "start_time": "2023-11-19T22:46:12.330Z"
   },
   {
    "duration": 27,
    "start_time": "2023-11-19T22:46:24.148Z"
   },
   {
    "duration": 30325,
    "start_time": "2023-11-19T22:46:47.665Z"
   },
   {
    "duration": 4680,
    "start_time": "2023-11-19T22:47:24.398Z"
   },
   {
    "duration": 2879,
    "start_time": "2023-11-19T22:47:32.382Z"
   },
   {
    "duration": 196,
    "start_time": "2023-11-19T22:47:38.133Z"
   },
   {
    "duration": 170,
    "start_time": "2023-11-19T22:47:45.683Z"
   },
   {
    "duration": 352,
    "start_time": "2023-11-19T22:47:51.492Z"
   },
   {
    "duration": 1133,
    "start_time": "2023-11-19T22:47:58.555Z"
   },
   {
    "duration": 1168,
    "start_time": "2023-11-19T22:48:57.085Z"
   },
   {
    "duration": 1144,
    "start_time": "2023-11-19T22:50:07.153Z"
   },
   {
    "duration": 8122,
    "start_time": "2023-11-19T22:50:24.367Z"
   },
   {
    "duration": 256,
    "start_time": "2023-11-19T22:50:36.638Z"
   },
   {
    "duration": 13100,
    "start_time": "2023-11-19T22:50:48.605Z"
   },
   {
    "duration": 88309,
    "start_time": "2023-11-19T22:51:07.982Z"
   },
   {
    "duration": 73673,
    "start_time": "2023-11-19T22:52:39.790Z"
   },
   {
    "duration": 11117,
    "start_time": "2023-11-19T22:54:04.971Z"
   },
   {
    "duration": 11120,
    "start_time": "2023-11-19T22:54:16.089Z"
   },
   {
    "duration": 254,
    "start_time": "2023-11-19T22:54:40.927Z"
   },
   {
    "duration": 73051,
    "start_time": "2023-11-19T22:54:42.007Z"
   },
   {
    "duration": 11321,
    "start_time": "2023-11-19T22:55:55.060Z"
   },
   {
    "duration": 11119,
    "start_time": "2023-11-19T22:56:06.382Z"
   },
   {
    "duration": 276,
    "start_time": "2023-11-19T22:56:17.502Z"
   },
   {
    "duration": 62826,
    "start_time": "2023-11-19T22:56:20.293Z"
   },
   {
    "duration": 0,
    "start_time": "2023-11-19T22:57:23.121Z"
   },
   {
    "duration": 262,
    "start_time": "2023-11-19T22:57:24.065Z"
   },
   {
    "duration": 12,
    "start_time": "2023-11-19T22:57:26.149Z"
   },
   {
    "duration": 6,
    "start_time": "2023-11-19T22:57:58.522Z"
   },
   {
    "duration": 8,
    "start_time": "2023-11-19T22:58:00.555Z"
   },
   {
    "duration": 7,
    "start_time": "2023-11-19T22:58:31.126Z"
   },
   {
    "duration": 8,
    "start_time": "2023-11-19T22:58:31.750Z"
   },
   {
    "duration": 7,
    "start_time": "2023-11-19T22:58:38.590Z"
   },
   {
    "duration": 10,
    "start_time": "2023-11-19T22:58:38.964Z"
   },
   {
    "duration": 83,
    "start_time": "2023-11-19T23:02:18.631Z"
   },
   {
    "duration": 94,
    "start_time": "2023-11-19T23:02:22.471Z"
   },
   {
    "duration": 99,
    "start_time": "2023-11-19T23:02:51.898Z"
   },
   {
    "duration": 93,
    "start_time": "2023-11-19T23:02:57.793Z"
   },
   {
    "duration": 4,
    "start_time": "2023-11-19T23:03:52.289Z"
   },
   {
    "duration": 4,
    "start_time": "2023-11-19T23:05:11.266Z"
   },
   {
    "duration": 5,
    "start_time": "2023-11-19T23:06:04.261Z"
   },
   {
    "duration": 10,
    "start_time": "2023-11-19T23:06:25.067Z"
   },
   {
    "duration": 1002,
    "start_time": "2023-11-19T23:06:29.459Z"
   },
   {
    "duration": 5,
    "start_time": "2023-11-19T23:07:38.277Z"
   },
   {
    "duration": 151,
    "start_time": "2023-11-19T23:11:03.282Z"
   },
   {
    "duration": 103,
    "start_time": "2023-11-19T23:11:08.241Z"
   },
   {
    "duration": 68,
    "start_time": "2023-11-19T23:11:14.600Z"
   },
   {
    "duration": 266,
    "start_time": "2023-11-19T23:11:47.633Z"
   },
   {
    "duration": 258,
    "start_time": "2023-11-19T23:12:00.122Z"
   },
   {
    "duration": 263,
    "start_time": "2023-11-19T23:12:03.185Z"
   },
   {
    "duration": 282,
    "start_time": "2023-11-19T23:12:32.418Z"
   },
   {
    "duration": 1259,
    "start_time": "2023-11-19T23:14:34.093Z"
   },
   {
    "duration": 1197,
    "start_time": "2023-11-19T23:14:35.355Z"
   },
   {
    "duration": 10945,
    "start_time": "2023-11-19T23:14:45.475Z"
   },
   {
    "duration": 11075,
    "start_time": "2023-11-19T23:14:58.229Z"
   },
   {
    "duration": 261,
    "start_time": "2023-11-19T23:15:16.355Z"
   },
   {
    "duration": 272,
    "start_time": "2023-11-19T23:15:18.267Z"
   },
   {
    "duration": 8,
    "start_time": "2023-11-19T23:15:33.140Z"
   },
   {
    "duration": 9,
    "start_time": "2023-11-19T23:15:33.615Z"
   },
   {
    "duration": 8,
    "start_time": "2023-11-19T23:15:35.291Z"
   },
   {
    "duration": 1099,
    "start_time": "2023-11-19T23:15:44.556Z"
   },
   {
    "duration": 133,
    "start_time": "2023-11-19T23:15:48.003Z"
   },
   {
    "duration": 118,
    "start_time": "2023-11-19T23:15:54.604Z"
   },
   {
    "duration": 84,
    "start_time": "2023-11-19T23:16:27.966Z"
   },
   {
    "duration": 78,
    "start_time": "2023-11-19T23:16:31.776Z"
   },
   {
    "duration": 101,
    "start_time": "2023-11-19T23:17:05.566Z"
   },
   {
    "duration": 120,
    "start_time": "2023-11-19T23:17:09.653Z"
   },
   {
    "duration": 113,
    "start_time": "2023-11-19T23:17:15.796Z"
   },
   {
    "duration": 12229,
    "start_time": "2023-11-19T23:17:26.708Z"
   },
   {
    "duration": 203752,
    "start_time": "2023-11-19T23:18:34.918Z"
   },
   {
    "duration": 0,
    "start_time": "2023-11-19T23:21:58.673Z"
   },
   {
    "duration": 0,
    "start_time": "2023-11-19T23:21:58.674Z"
   },
   {
    "duration": 24620,
    "start_time": "2023-11-19T23:21:59.298Z"
   },
   {
    "duration": 280,
    "start_time": "2023-11-19T23:22:28.461Z"
   },
   {
    "duration": 12543,
    "start_time": "2023-11-19T23:22:36.535Z"
   },
   {
    "duration": 11769,
    "start_time": "2023-11-19T23:22:49.080Z"
   },
   {
    "duration": 295,
    "start_time": "2023-11-19T23:23:00.851Z"
   },
   {
    "duration": 283,
    "start_time": "2023-11-19T23:23:01.149Z"
   },
   {
    "duration": 7,
    "start_time": "2023-11-19T23:23:08.672Z"
   },
   {
    "duration": 9,
    "start_time": "2023-11-19T23:23:09.125Z"
   },
   {
    "duration": 8,
    "start_time": "2023-11-19T23:23:12.448Z"
   },
   {
    "duration": 863,
    "start_time": "2023-11-19T23:23:18.392Z"
   },
   {
    "duration": 4204,
    "start_time": "2023-11-19T23:23:19.257Z"
   },
   {
    "duration": 3,
    "start_time": "2023-11-19T23:23:29.337Z"
   },
   {
    "duration": 19741,
    "start_time": "2023-11-19T23:26:32.306Z"
   },
   {
    "duration": 5155,
    "start_time": "2023-11-19T23:26:56.995Z"
   },
   {
    "duration": 5006,
    "start_time": "2023-11-19T23:27:11.843Z"
   },
   {
    "duration": 0,
    "start_time": "2023-11-19T23:27:16.850Z"
   },
   {
    "duration": 1398,
    "start_time": "2023-11-19T23:30:27.319Z"
   },
   {
    "duration": 687,
    "start_time": "2023-11-19T23:30:28.719Z"
   },
   {
    "duration": 5,
    "start_time": "2023-11-19T23:30:29.408Z"
   },
   {
    "duration": 22,
    "start_time": "2023-11-19T23:30:29.415Z"
   },
   {
    "duration": 3,
    "start_time": "2023-11-19T23:30:29.438Z"
   },
   {
    "duration": 10,
    "start_time": "2023-11-19T23:30:29.442Z"
   },
   {
    "duration": 4,
    "start_time": "2023-11-19T23:30:29.453Z"
   },
   {
    "duration": 7,
    "start_time": "2023-11-19T23:30:29.458Z"
   },
   {
    "duration": 5,
    "start_time": "2023-11-19T23:30:29.466Z"
   },
   {
    "duration": 7,
    "start_time": "2023-11-19T23:30:29.473Z"
   },
   {
    "duration": 38,
    "start_time": "2023-11-19T23:30:29.481Z"
   },
   {
    "duration": 6,
    "start_time": "2023-11-19T23:30:29.520Z"
   },
   {
    "duration": 26,
    "start_time": "2023-11-19T23:30:29.527Z"
   },
   {
    "duration": 7,
    "start_time": "2023-11-19T23:30:29.554Z"
   },
   {
    "duration": 18,
    "start_time": "2023-11-19T23:30:29.562Z"
   },
   {
    "duration": 11,
    "start_time": "2023-11-19T23:30:29.581Z"
   },
   {
    "duration": 3,
    "start_time": "2023-11-19T23:30:29.593Z"
   },
   {
    "duration": 12,
    "start_time": "2023-11-19T23:30:29.597Z"
   },
   {
    "duration": 18,
    "start_time": "2023-11-19T23:30:29.610Z"
   },
   {
    "duration": 27,
    "start_time": "2023-11-19T23:30:29.629Z"
   },
   {
    "duration": 12,
    "start_time": "2023-11-19T23:30:29.657Z"
   },
   {
    "duration": 9,
    "start_time": "2023-11-19T23:30:29.670Z"
   },
   {
    "duration": 4,
    "start_time": "2023-11-19T23:30:29.680Z"
   },
   {
    "duration": 15,
    "start_time": "2023-11-19T23:30:29.685Z"
   },
   {
    "duration": 7,
    "start_time": "2023-11-19T23:30:29.702Z"
   },
   {
    "duration": 10,
    "start_time": "2023-11-19T23:30:29.711Z"
   },
   {
    "duration": 11,
    "start_time": "2023-11-19T23:30:29.722Z"
   },
   {
    "duration": 1313,
    "start_time": "2023-11-19T23:30:29.753Z"
   },
   {
    "duration": 1367,
    "start_time": "2023-11-19T23:30:31.067Z"
   },
   {
    "duration": 1361,
    "start_time": "2023-11-19T23:30:32.436Z"
   },
   {
    "duration": 677,
    "start_time": "2023-11-19T23:30:33.799Z"
   },
   {
    "duration": 1175,
    "start_time": "2023-11-19T23:30:34.477Z"
   },
   {
    "duration": 7,
    "start_time": "2023-11-19T23:30:35.653Z"
   },
   {
    "duration": 546,
    "start_time": "2023-11-19T23:30:35.661Z"
   },
   {
    "duration": 8,
    "start_time": "2023-11-19T23:30:36.209Z"
   },
   {
    "duration": 538,
    "start_time": "2023-11-19T23:30:36.218Z"
   },
   {
    "duration": 5,
    "start_time": "2023-11-19T23:30:36.758Z"
   },
   {
    "duration": 3,
    "start_time": "2023-11-19T23:30:36.765Z"
   },
   {
    "duration": 6,
    "start_time": "2023-11-19T23:30:36.770Z"
   },
   {
    "duration": 23,
    "start_time": "2023-11-19T23:30:36.777Z"
   },
   {
    "duration": 505,
    "start_time": "2023-11-19T23:30:36.802Z"
   },
   {
    "duration": 9,
    "start_time": "2023-11-19T23:30:37.309Z"
   },
   {
    "duration": 8,
    "start_time": "2023-11-19T23:30:37.319Z"
   },
   {
    "duration": 5,
    "start_time": "2023-11-19T23:30:37.328Z"
   },
   {
    "duration": 20,
    "start_time": "2023-11-19T23:30:37.334Z"
   },
   {
    "duration": 8,
    "start_time": "2023-11-19T23:30:37.355Z"
   },
   {
    "duration": 7,
    "start_time": "2023-11-19T23:30:37.364Z"
   },
   {
    "duration": 7,
    "start_time": "2023-11-19T23:30:37.372Z"
   },
   {
    "duration": 7,
    "start_time": "2023-11-19T23:30:37.381Z"
   },
   {
    "duration": 11,
    "start_time": "2023-11-19T23:30:37.389Z"
   },
   {
    "duration": 5,
    "start_time": "2023-11-19T23:30:37.401Z"
   },
   {
    "duration": 4,
    "start_time": "2023-11-19T23:30:37.408Z"
   },
   {
    "duration": 5,
    "start_time": "2023-11-19T23:30:37.413Z"
   },
   {
    "duration": 33,
    "start_time": "2023-11-19T23:30:37.419Z"
   },
   {
    "duration": 931,
    "start_time": "2023-11-19T23:30:42.322Z"
   },
   {
    "duration": 1076,
    "start_time": "2023-11-19T23:30:43.977Z"
   },
   {
    "duration": 55140,
    "start_time": "2023-11-19T23:30:46.082Z"
   },
   {
    "duration": 58526,
    "start_time": "2023-11-19T23:31:41.224Z"
   },
   {
    "duration": 25463234,
    "start_time": "2023-11-19T23:32:39.752Z"
   },
   {
    "duration": 0,
    "start_time": "2023-11-20T06:37:02.988Z"
   },
   {
    "duration": 0,
    "start_time": "2023-11-20T06:37:02.989Z"
   },
   {
    "duration": 0,
    "start_time": "2023-11-20T06:37:02.991Z"
   },
   {
    "duration": 2848,
    "start_time": "2023-11-20T06:37:20.813Z"
   },
   {
    "duration": 11037,
    "start_time": "2023-11-20T06:37:42.809Z"
   },
   {
    "duration": 23304,
    "start_time": "2023-11-20T06:38:11.938Z"
   },
   {
    "duration": 47723,
    "start_time": "2023-11-20T06:38:35.979Z"
   },
   {
    "duration": 47552,
    "start_time": "2023-11-20T06:41:56.588Z"
   },
   {
    "duration": 47459,
    "start_time": "2023-11-20T06:42:52.618Z"
   },
   {
    "duration": 48009,
    "start_time": "2023-11-20T06:44:46.308Z"
   },
   {
    "duration": 242424,
    "start_time": "2023-11-20T06:45:46.607Z"
   },
   {
    "duration": 3,
    "start_time": "2023-11-20T06:49:49.032Z"
   },
   {
    "duration": 3,
    "start_time": "2023-11-20T06:50:07.462Z"
   },
   {
    "duration": 176326,
    "start_time": "2023-11-20T06:50:16.199Z"
   },
   {
    "duration": 3,
    "start_time": "2023-11-20T07:00:11.868Z"
   },
   {
    "duration": 931,
    "start_time": "2023-11-20T07:00:13.523Z"
   },
   {
    "duration": 1401,
    "start_time": "2023-11-20T07:00:14.456Z"
   },
   {
    "duration": 58759,
    "start_time": "2023-11-20T07:00:20.244Z"
   },
   {
    "duration": 61498,
    "start_time": "2023-11-20T07:01:19.005Z"
   },
   {
    "duration": 1218053,
    "start_time": "2023-11-20T07:02:20.505Z"
   },
   {
    "duration": 34624,
    "start_time": "2023-11-20T07:22:38.560Z"
   },
   {
    "duration": 0,
    "start_time": "2023-11-20T07:23:13.187Z"
   },
   {
    "duration": 2,
    "start_time": "2023-11-20T07:23:16.602Z"
   },
   {
    "duration": 56441,
    "start_time": "2023-11-20T07:23:28.678Z"
   },
   {
    "duration": 16722,
    "start_time": "2023-11-20T07:24:25.121Z"
   },
   {
    "duration": 13,
    "start_time": "2023-11-20T07:24:41.845Z"
   },
   {
    "duration": 0,
    "start_time": "2023-11-20T07:24:41.861Z"
   },
   {
    "duration": 3,
    "start_time": "2023-11-20T07:24:43.160Z"
   },
   {
    "duration": 58242,
    "start_time": "2023-11-20T07:24:45.288Z"
   },
   {
    "duration": 63245,
    "start_time": "2023-11-20T07:25:43.531Z"
   },
   {
    "duration": 679276,
    "start_time": "2023-11-20T07:26:46.778Z"
   },
   {
    "duration": 684176,
    "start_time": "2023-11-20T07:38:06.055Z"
   },
   {
    "duration": 7,
    "start_time": "2023-11-20T08:00:12.914Z"
   },
   {
    "duration": 9,
    "start_time": "2023-11-20T08:00:14.223Z"
   },
   {
    "duration": 3,
    "start_time": "2023-11-20T08:01:29.545Z"
   },
   {
    "duration": 980,
    "start_time": "2023-11-20T08:01:57.572Z"
   },
   {
    "duration": 23295,
    "start_time": "2023-11-20T08:01:58.554Z"
   },
   {
    "duration": 22956,
    "start_time": "2023-11-20T08:06:09.198Z"
   },
   {
    "duration": 22890,
    "start_time": "2023-11-20T08:07:15.423Z"
   },
   {
    "duration": 10,
    "start_time": "2023-11-20T08:09:03.295Z"
   },
   {
    "duration": 3,
    "start_time": "2023-11-20T08:09:26.577Z"
   },
   {
    "duration": 4,
    "start_time": "2023-11-20T08:12:38.439Z"
   },
   {
    "duration": 4,
    "start_time": "2023-11-20T08:13:01.874Z"
   },
   {
    "duration": 22,
    "start_time": "2023-11-20T08:13:23.339Z"
   },
   {
    "duration": 19,
    "start_time": "2023-11-20T08:16:02.647Z"
   },
   {
    "duration": 4,
    "start_time": "2023-11-20T08:16:18.939Z"
   },
   {
    "duration": 7,
    "start_time": "2023-11-20T08:16:25.876Z"
   },
   {
    "duration": 11,
    "start_time": "2023-11-20T08:16:27.144Z"
   },
   {
    "duration": 4,
    "start_time": "2023-11-20T08:17:48.300Z"
   },
   {
    "duration": 19,
    "start_time": "2023-11-20T08:18:03.648Z"
   },
   {
    "duration": 20,
    "start_time": "2023-11-20T08:18:26.006Z"
   },
   {
    "duration": 19,
    "start_time": "2023-11-20T08:18:38.589Z"
   },
   {
    "duration": 19,
    "start_time": "2023-11-20T08:19:07.255Z"
   },
   {
    "duration": 21,
    "start_time": "2023-11-20T08:19:30.119Z"
   },
   {
    "duration": 19,
    "start_time": "2023-11-20T08:20:54.455Z"
   },
   {
    "duration": 9,
    "start_time": "2023-11-20T08:21:49.298Z"
   },
   {
    "duration": 19,
    "start_time": "2023-11-20T08:23:15.776Z"
   },
   {
    "duration": 14,
    "start_time": "2023-11-20T08:23:46.441Z"
   },
   {
    "duration": 13,
    "start_time": "2023-11-20T08:24:34.738Z"
   },
   {
    "duration": 13,
    "start_time": "2023-11-20T08:24:53.514Z"
   },
   {
    "duration": 14,
    "start_time": "2023-11-20T08:25:27.593Z"
   },
   {
    "duration": 16,
    "start_time": "2023-11-20T08:25:32.777Z"
   },
   {
    "duration": 15,
    "start_time": "2023-11-20T08:25:49.322Z"
   },
   {
    "duration": 15,
    "start_time": "2023-11-20T08:26:09.834Z"
   },
   {
    "duration": 20,
    "start_time": "2023-11-20T08:27:39.711Z"
   },
   {
    "duration": 17,
    "start_time": "2023-11-20T08:27:44.275Z"
   },
   {
    "duration": 15,
    "start_time": "2023-11-20T08:29:06.287Z"
   },
   {
    "duration": 15,
    "start_time": "2023-11-20T08:29:40.625Z"
   },
   {
    "duration": 18,
    "start_time": "2023-11-20T08:29:54.033Z"
   },
   {
    "duration": 17,
    "start_time": "2023-11-20T08:30:03.433Z"
   },
   {
    "duration": 16,
    "start_time": "2023-11-20T08:30:10.767Z"
   },
   {
    "duration": 15,
    "start_time": "2023-11-20T08:30:15.728Z"
   },
   {
    "duration": 8,
    "start_time": "2023-11-20T08:30:57.201Z"
   },
   {
    "duration": 10,
    "start_time": "2023-11-20T08:31:08.256Z"
   },
   {
    "duration": 16,
    "start_time": "2023-11-20T08:31:16.272Z"
   },
   {
    "duration": 13,
    "start_time": "2023-11-20T08:31:27.941Z"
   },
   {
    "duration": 6,
    "start_time": "2023-11-20T08:31:41.192Z"
   },
   {
    "duration": 6,
    "start_time": "2023-11-20T08:31:41.792Z"
   },
   {
    "duration": 3,
    "start_time": "2023-11-20T08:31:42.784Z"
   },
   {
    "duration": 3,
    "start_time": "2023-11-20T08:35:14.883Z"
   },
   {
    "duration": 6,
    "start_time": "2023-11-20T08:35:23.891Z"
   },
   {
    "duration": 6,
    "start_time": "2023-11-20T08:35:24.410Z"
   },
   {
    "duration": 3,
    "start_time": "2023-11-20T08:35:24.737Z"
   },
   {
    "duration": 48,
    "start_time": "2023-11-20T22:07:36.004Z"
   },
   {
    "duration": 1517,
    "start_time": "2023-11-20T22:08:01.985Z"
   },
   {
    "duration": 1853,
    "start_time": "2023-11-20T22:08:03.504Z"
   },
   {
    "duration": 6,
    "start_time": "2023-11-20T22:08:05.358Z"
   },
   {
    "duration": 19,
    "start_time": "2023-11-20T22:08:05.365Z"
   },
   {
    "duration": 3,
    "start_time": "2023-11-20T22:08:05.385Z"
   },
   {
    "duration": 9,
    "start_time": "2023-11-20T22:08:05.389Z"
   },
   {
    "duration": 7,
    "start_time": "2023-11-20T22:08:05.399Z"
   },
   {
    "duration": 5,
    "start_time": "2023-11-20T22:08:05.408Z"
   },
   {
    "duration": 6,
    "start_time": "2023-11-20T22:08:05.414Z"
   },
   {
    "duration": 10,
    "start_time": "2023-11-20T22:08:05.422Z"
   },
   {
    "duration": 44,
    "start_time": "2023-11-20T22:08:05.434Z"
   },
   {
    "duration": 7,
    "start_time": "2023-11-20T22:08:05.480Z"
   },
   {
    "duration": 22,
    "start_time": "2023-11-20T22:08:05.489Z"
   },
   {
    "duration": 22,
    "start_time": "2023-11-20T22:08:05.512Z"
   },
   {
    "duration": 37,
    "start_time": "2023-11-20T22:08:05.536Z"
   },
   {
    "duration": 12,
    "start_time": "2023-11-20T22:08:05.575Z"
   },
   {
    "duration": 20,
    "start_time": "2023-11-20T22:08:05.589Z"
   },
   {
    "duration": 23,
    "start_time": "2023-11-20T22:08:05.610Z"
   },
   {
    "duration": 25,
    "start_time": "2023-11-20T22:08:05.634Z"
   },
   {
    "duration": 33,
    "start_time": "2023-11-20T22:08:05.661Z"
   },
   {
    "duration": 18,
    "start_time": "2023-11-20T22:08:05.695Z"
   },
   {
    "duration": 12,
    "start_time": "2023-11-20T22:08:05.714Z"
   },
   {
    "duration": 13,
    "start_time": "2023-11-20T22:08:05.728Z"
   },
   {
    "duration": 20,
    "start_time": "2023-11-20T22:08:05.743Z"
   },
   {
    "duration": 8,
    "start_time": "2023-11-20T22:08:05.764Z"
   },
   {
    "duration": 19,
    "start_time": "2023-11-20T22:08:05.773Z"
   },
   {
    "duration": 12,
    "start_time": "2023-11-20T22:08:05.793Z"
   },
   {
    "duration": 1355,
    "start_time": "2023-11-20T22:08:05.810Z"
   },
   {
    "duration": 1449,
    "start_time": "2023-11-20T22:08:07.167Z"
   },
   {
    "duration": 1439,
    "start_time": "2023-11-20T22:08:08.618Z"
   },
   {
    "duration": 575,
    "start_time": "2023-11-20T22:08:10.059Z"
   },
   {
    "duration": 1276,
    "start_time": "2023-11-20T22:08:10.636Z"
   },
   {
    "duration": 8,
    "start_time": "2023-11-20T22:08:11.914Z"
   },
   {
    "duration": 735,
    "start_time": "2023-11-20T22:08:11.930Z"
   },
   {
    "duration": 8,
    "start_time": "2023-11-20T22:08:12.667Z"
   },
   {
    "duration": 511,
    "start_time": "2023-11-20T22:08:12.677Z"
   },
   {
    "duration": 4,
    "start_time": "2023-11-20T22:08:13.190Z"
   },
   {
    "duration": 5,
    "start_time": "2023-11-20T22:08:13.195Z"
   },
   {
    "duration": 4,
    "start_time": "2023-11-20T22:08:13.202Z"
   },
   {
    "duration": 44,
    "start_time": "2023-11-20T22:08:13.208Z"
   },
   {
    "duration": 484,
    "start_time": "2023-11-20T22:08:13.254Z"
   },
   {
    "duration": 10,
    "start_time": "2023-11-20T22:08:13.740Z"
   },
   {
    "duration": 13,
    "start_time": "2023-11-20T22:08:13.752Z"
   },
   {
    "duration": 7,
    "start_time": "2023-11-20T22:08:13.767Z"
   },
   {
    "duration": 8,
    "start_time": "2023-11-20T22:08:13.776Z"
   },
   {
    "duration": 6,
    "start_time": "2023-11-20T22:08:13.786Z"
   },
   {
    "duration": 9,
    "start_time": "2023-11-20T22:08:13.794Z"
   },
   {
    "duration": 26,
    "start_time": "2023-11-20T22:08:13.805Z"
   },
   {
    "duration": 7,
    "start_time": "2023-11-20T22:08:13.832Z"
   },
   {
    "duration": 14,
    "start_time": "2023-11-20T22:08:13.841Z"
   },
   {
    "duration": 16,
    "start_time": "2023-11-20T22:08:13.857Z"
   },
   {
    "duration": 5,
    "start_time": "2023-11-20T22:08:13.874Z"
   },
   {
    "duration": 4,
    "start_time": "2023-11-20T22:08:13.881Z"
   },
   {
    "duration": 4,
    "start_time": "2023-11-20T22:08:13.887Z"
   },
   {
    "duration": 75,
    "start_time": "2023-11-20T22:08:24.516Z"
   },
   {
    "duration": 9,
    "start_time": "2023-11-20T22:08:44.768Z"
   },
   {
    "duration": 267,
    "start_time": "2023-11-20T22:10:05.368Z"
   },
   {
    "duration": 33,
    "start_time": "2023-11-20T22:10:31.401Z"
   },
   {
    "duration": 51,
    "start_time": "2023-11-20T22:16:18.484Z"
   },
   {
    "duration": 10,
    "start_time": "2023-11-20T22:16:19.627Z"
   },
   {
    "duration": 57461,
    "start_time": "2023-11-20T22:16:26.371Z"
   },
   {
    "duration": 62403,
    "start_time": "2023-11-20T22:17:23.834Z"
   },
   {
    "duration": 156,
    "start_time": "2023-11-20T22:18:33.676Z"
   },
   {
    "duration": 22292,
    "start_time": "2023-11-20T22:18:35.236Z"
   },
   {
    "duration": 11,
    "start_time": "2023-11-20T22:19:20.964Z"
   },
   {
    "duration": 206,
    "start_time": "2023-11-20T22:20:08.927Z"
   },
   {
    "duration": 28,
    "start_time": "2023-11-20T22:20:17.613Z"
   },
   {
    "duration": 100,
    "start_time": "2023-11-20T22:20:29.039Z"
   },
   {
    "duration": 222,
    "start_time": "2023-11-20T22:20:35.911Z"
   },
   {
    "duration": 10,
    "start_time": "2023-11-20T22:21:52.112Z"
   },
   {
    "duration": 11,
    "start_time": "2023-11-20T22:22:22.184Z"
   },
   {
    "duration": 11,
    "start_time": "2023-11-20T22:22:26.047Z"
   },
   {
    "duration": 220,
    "start_time": "2023-11-20T22:22:28.415Z"
   },
   {
    "duration": 148,
    "start_time": "2023-11-20T22:22:59.384Z"
   },
   {
    "duration": 6,
    "start_time": "2023-11-20T22:23:09.767Z"
   },
   {
    "duration": 18,
    "start_time": "2023-11-20T22:23:11.544Z"
   },
   {
    "duration": 1172,
    "start_time": "2023-11-20T22:23:22.663Z"
   },
   {
    "duration": 942,
    "start_time": "2023-11-20T22:23:24.090Z"
   },
   {
    "duration": 13,
    "start_time": "2023-11-20T22:23:28.456Z"
   },
   {
    "duration": 17,
    "start_time": "2023-11-20T22:23:41.467Z"
   }
  ],
  "kernelspec": {
   "display_name": "Python 3 (ipykernel)",
   "language": "python",
   "name": "python3"
  },
  "language_info": {
   "codemirror_mode": {
    "name": "ipython",
    "version": 3
   },
   "file_extension": ".py",
   "mimetype": "text/x-python",
   "name": "python",
   "nbconvert_exporter": "python",
   "pygments_lexer": "ipython3",
   "version": "3.11.0"
  },
  "toc": {
   "base_numbering": 1,
   "nav_menu": {},
   "number_sections": true,
   "sideBar": true,
   "skip_h1_title": true,
   "title_cell": "Содержание",
   "title_sidebar": "Contents",
   "toc_cell": true,
   "toc_position": {
    "height": "calc(100% - 180px)",
    "left": "10px",
    "top": "150px",
    "width": "345.188px"
   },
   "toc_section_display": true,
   "toc_window_display": true
  }
 },
 "nbformat": 4,
 "nbformat_minor": 2
}
